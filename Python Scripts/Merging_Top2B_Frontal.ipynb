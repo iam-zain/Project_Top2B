{
 "cells": [
  {
   "cell_type": "code",
   "execution_count": 1,
   "id": "8d011ef6",
   "metadata": {
    "ExecuteTime": {
     "end_time": "2023-07-03T07:11:21.699218Z",
     "start_time": "2023-07-03T07:11:19.420998Z"
    }
   },
   "outputs": [
    {
     "name": "stdout",
     "output_type": "stream",
     "text": [
      "Z:\\Project_Top2B\\April_2023\\regionwise\\frontal_lobe\\Healthy\n"
     ]
    }
   ],
   "source": [
    "import pandas as pd\n",
    "\n",
    "%cd Z:\\Project_Top2B\\April_2023\\regionwise\\frontal_lobe\\Healthy\n",
    "\n",
    "df1 = pd.read_csv('GSE40360_Top2b_fl.csv')\n",
    "df2 = pd.read_csv('GSE53162_Top2b_fl.csv')\n",
    "df3 = pd.read_csv('GSE59457_Top2b_fl.csv')\n",
    "df4 = pd.read_csv('GSE61380_Top2b_fl.csv')\n",
    "df5 = pd.read_csv('GSE61431_Top2b_fl.csv')\n",
    "df6 = pd.read_csv('GSE64509_Top2b_fl.csv')\n",
    "df7 = pd.read_csv('GSE66351_Top2b_fl.csv')\n",
    "df8 = pd.read_csv('GSE67749_Top2b_fl.csv')\n",
    "df9 = pd.read_csv('GSE74193_Top2b_fl.csv')\n",
    "df10 = pd.read_csv('GSE80970_Top2b_fl.csv')\n",
    "df11 = pd.read_csv('GSE125895_Top2b_fl.csv')\n"
   ]
  },
  {
   "cell_type": "code",
   "execution_count": 2,
   "id": "b7bc9c93",
   "metadata": {
    "ExecuteTime": {
     "end_time": "2023-07-03T07:11:21.856395Z",
     "start_time": "2023-07-03T07:11:21.699218Z"
    }
   },
   "outputs": [],
   "source": [
    "df1 = df1.transpose()\n",
    "df1.columns = df1.iloc[0]\n",
    "df1 = df1.iloc [1:, :]\n",
    "\n",
    "df2 = df2.transpose()\n",
    "df2.columns = df2.iloc[0]\n",
    "df2 = df2.iloc [1:, :]\n",
    "\n",
    "df3 = df3.transpose()\n",
    "df3.columns = df3.iloc[0]\n",
    "df3 = df3.iloc [1:, :]\n",
    "\n",
    "df4 = df4.transpose()\n",
    "df4.columns = df4.iloc[0]\n",
    "df4 = df4.iloc [1:, :]\n",
    "\n",
    "df5 = df5.transpose()\n",
    "df5.columns = df5.iloc[0]\n",
    "df5 = df5.iloc [1:, :]\n",
    "\n",
    "df6 = df6.transpose()\n",
    "df6.columns = df6.iloc[0]\n",
    "df6 = df6.iloc [1:, :]\n",
    "\n",
    "df7 = df7.transpose()\n",
    "df7.columns = df7.iloc[0]\n",
    "df7 = df7.iloc [1:, :]\n",
    "\n",
    "df8 = df8.transpose()\n",
    "df8.columns = df8.iloc[0]\n",
    "df8 = df8.iloc [1:, :]\n",
    "\n",
    "df9 = df9.transpose()\n",
    "df9.columns = df9.iloc[0]\n",
    "df9 = df9.iloc [1:, :]\n",
    "\n",
    "df10 = df10.transpose()\n",
    "df10.columns = df10.iloc[0]\n",
    "df10 = df10.iloc [1:, :]\n",
    "\n",
    "df11 = df11.transpose()\n",
    "df11.columns = df11.iloc[0]\n",
    "df11 = df11.iloc [1:, :]"
   ]
  },
  {
   "cell_type": "code",
   "execution_count": 3,
   "id": "9ed087aa",
   "metadata": {
    "ExecuteTime": {
     "end_time": "2023-07-03T07:11:21.903260Z",
     "start_time": "2023-07-03T07:11:21.856395Z"
    },
    "scrolled": true
   },
   "outputs": [
    {
     "data": {
      "text/html": [
       "<div>\n",
       "<style scoped>\n",
       "    .dataframe tbody tr th:only-of-type {\n",
       "        vertical-align: middle;\n",
       "    }\n",
       "\n",
       "    .dataframe tbody tr th {\n",
       "        vertical-align: top;\n",
       "    }\n",
       "\n",
       "    .dataframe thead th {\n",
       "        text-align: right;\n",
       "    }\n",
       "</style>\n",
       "<table border=\"1\" class=\"dataframe\">\n",
       "  <thead>\n",
       "    <tr style=\"text-align: right;\">\n",
       "      <th>Sample_ID</th>\n",
       "      <th>1-C03</th>\n",
       "      <th>1-C04</th>\n",
       "      <th>1-C06</th>\n",
       "      <th>1-C10</th>\n",
       "      <th>1-C11</th>\n",
       "      <th>1-D02</th>\n",
       "      <th>1-D03</th>\n",
       "      <th>1-D06</th>\n",
       "      <th>1-D09</th>\n",
       "      <th>1-D11</th>\n",
       "      <th>...</th>\n",
       "      <th>4-D03</th>\n",
       "      <th>4-D06</th>\n",
       "      <th>4-D10</th>\n",
       "      <th>4-D11</th>\n",
       "      <th>4-E02</th>\n",
       "      <th>5-B05</th>\n",
       "      <th>5-B07</th>\n",
       "      <th>5-B09</th>\n",
       "      <th>5-B12</th>\n",
       "      <th>5-C01</th>\n",
       "    </tr>\n",
       "  </thead>\n",
       "  <tbody>\n",
       "    <tr>\n",
       "      <th>Age</th>\n",
       "      <td>54.42</td>\n",
       "      <td>56.09</td>\n",
       "      <td>65.62</td>\n",
       "      <td>60.74</td>\n",
       "      <td>62.31</td>\n",
       "      <td>51.83</td>\n",
       "      <td>64.56</td>\n",
       "      <td>53.39</td>\n",
       "      <td>60.76</td>\n",
       "      <td>57.87</td>\n",
       "      <td>...</td>\n",
       "      <td>71.11</td>\n",
       "      <td>53.6</td>\n",
       "      <td>61.17</td>\n",
       "      <td>62.78</td>\n",
       "      <td>55.44</td>\n",
       "      <td>83.64</td>\n",
       "      <td>73.28</td>\n",
       "      <td>57.93</td>\n",
       "      <td>59.25</td>\n",
       "      <td>68.59</td>\n",
       "    </tr>\n",
       "    <tr>\n",
       "      <th>cg00005072</th>\n",
       "      <td>0.651923</td>\n",
       "      <td>0.731278</td>\n",
       "      <td>0.637366</td>\n",
       "      <td>0.708196</td>\n",
       "      <td>0.686672</td>\n",
       "      <td>0.650175</td>\n",
       "      <td>0.633112</td>\n",
       "      <td>0.629137</td>\n",
       "      <td>0.658349</td>\n",
       "      <td>0.710338</td>\n",
       "      <td>...</td>\n",
       "      <td>0.727293</td>\n",
       "      <td>0.634794</td>\n",
       "      <td>0.6542</td>\n",
       "      <td>0.634759</td>\n",
       "      <td>0.641502</td>\n",
       "      <td>0.687862</td>\n",
       "      <td>0.712376</td>\n",
       "      <td>0.703993</td>\n",
       "      <td>0.686849</td>\n",
       "      <td>0.622531</td>\n",
       "    </tr>\n",
       "  </tbody>\n",
       "</table>\n",
       "<p>2 rows × 47 columns</p>\n",
       "</div>"
      ],
      "text/plain": [
       "Sample_ID      1-C03     1-C04     1-C06     1-C10     1-C11     1-D02  \\\n",
       "Age            54.42     56.09     65.62     60.74     62.31     51.83   \n",
       "cg00005072  0.651923  0.731278  0.637366  0.708196  0.686672  0.650175   \n",
       "\n",
       "Sample_ID      1-D03     1-D06     1-D09     1-D11  ...     4-D03     4-D06  \\\n",
       "Age            64.56     53.39     60.76     57.87  ...     71.11      53.6   \n",
       "cg00005072  0.633112  0.629137  0.658349  0.710338  ...  0.727293  0.634794   \n",
       "\n",
       "Sample_ID    4-D10     4-D11     4-E02     5-B05     5-B07     5-B09  \\\n",
       "Age          61.17     62.78     55.44     83.64     73.28     57.93   \n",
       "cg00005072  0.6542  0.634759  0.641502  0.687862  0.712376  0.703993   \n",
       "\n",
       "Sample_ID      5-B12     5-C01  \n",
       "Age            59.25     68.59  \n",
       "cg00005072  0.686849  0.622531  \n",
       "\n",
       "[2 rows x 47 columns]"
      ]
     },
     "execution_count": 3,
     "metadata": {},
     "output_type": "execute_result"
    }
   ],
   "source": [
    "df11.head(2)"
   ]
  },
  {
   "cell_type": "code",
   "execution_count": 4,
   "id": "44e83028",
   "metadata": {
    "ExecuteTime": {
     "end_time": "2023-07-03T07:11:23.109836Z",
     "start_time": "2023-07-03T07:11:21.903260Z"
    }
   },
   "outputs": [
    {
     "name": "stdout",
     "output_type": "stream",
     "text": [
      "(4074, 657)\n"
     ]
    },
    {
     "data": {
      "text/html": [
       "<div>\n",
       "<style scoped>\n",
       "    .dataframe tbody tr th:only-of-type {\n",
       "        vertical-align: middle;\n",
       "    }\n",
       "\n",
       "    .dataframe tbody tr th {\n",
       "        vertical-align: top;\n",
       "    }\n",
       "\n",
       "    .dataframe thead th {\n",
       "        text-align: right;\n",
       "    }\n",
       "</style>\n",
       "<table border=\"1\" class=\"dataframe\">\n",
       "  <thead>\n",
       "    <tr style=\"text-align: right;\">\n",
       "      <th>Sample_ID</th>\n",
       "      <th>GSM992014</th>\n",
       "      <th>GSM992015</th>\n",
       "      <th>GSM992016</th>\n",
       "      <th>GSM992017</th>\n",
       "      <th>GSM992018</th>\n",
       "      <th>GSM992019</th>\n",
       "      <th>GSM992020</th>\n",
       "      <th>GSM992021</th>\n",
       "      <th>GSM992022</th>\n",
       "      <th>GSM992023</th>\n",
       "      <th>...</th>\n",
       "      <th>4-D03</th>\n",
       "      <th>4-D06</th>\n",
       "      <th>4-D10</th>\n",
       "      <th>4-D11</th>\n",
       "      <th>4-E02</th>\n",
       "      <th>5-B05</th>\n",
       "      <th>5-B07</th>\n",
       "      <th>5-B09</th>\n",
       "      <th>5-B12</th>\n",
       "      <th>5-C01</th>\n",
       "    </tr>\n",
       "  </thead>\n",
       "  <tbody>\n",
       "    <tr>\n",
       "      <th>Age</th>\n",
       "      <td>54</td>\n",
       "      <td>76</td>\n",
       "      <td>71</td>\n",
       "      <td>72</td>\n",
       "      <td>79</td>\n",
       "      <td>59</td>\n",
       "      <td>73</td>\n",
       "      <td>64</td>\n",
       "      <td>58</td>\n",
       "      <td>68</td>\n",
       "      <td>...</td>\n",
       "      <td>71.110000</td>\n",
       "      <td>53.600000</td>\n",
       "      <td>61.1700</td>\n",
       "      <td>62.780000</td>\n",
       "      <td>55.440000</td>\n",
       "      <td>83.640000</td>\n",
       "      <td>73.280000</td>\n",
       "      <td>57.930000</td>\n",
       "      <td>59.250000</td>\n",
       "      <td>68.590000</td>\n",
       "    </tr>\n",
       "    <tr>\n",
       "      <th>cg00005072</th>\n",
       "      <td>0.860223</td>\n",
       "      <td>0.85491</td>\n",
       "      <td>0.881988</td>\n",
       "      <td>0.88346</td>\n",
       "      <td>0.847931</td>\n",
       "      <td>0.867228</td>\n",
       "      <td>0.860535</td>\n",
       "      <td>0.820649</td>\n",
       "      <td>0.825024</td>\n",
       "      <td>0.857707</td>\n",
       "      <td>...</td>\n",
       "      <td>0.727293</td>\n",
       "      <td>0.634794</td>\n",
       "      <td>0.6542</td>\n",
       "      <td>0.634759</td>\n",
       "      <td>0.641502</td>\n",
       "      <td>0.687862</td>\n",
       "      <td>0.712376</td>\n",
       "      <td>0.703993</td>\n",
       "      <td>0.686849</td>\n",
       "      <td>0.622531</td>\n",
       "    </tr>\n",
       "  </tbody>\n",
       "</table>\n",
       "<p>2 rows × 657 columns</p>\n",
       "</div>"
      ],
      "text/plain": [
       "Sample_ID  GSM992014 GSM992015 GSM992016 GSM992017 GSM992018 GSM992019  \\\n",
       "Age               54        76        71        72        79        59   \n",
       "cg00005072  0.860223   0.85491  0.881988   0.88346  0.847931  0.867228   \n",
       "\n",
       "Sample_ID  GSM992020 GSM992021 GSM992022 GSM992023  ...      4-D03      4-D06  \\\n",
       "Age               73        64        58        68  ...  71.110000  53.600000   \n",
       "cg00005072  0.860535  0.820649  0.825024  0.857707  ...   0.727293   0.634794   \n",
       "\n",
       "Sample_ID     4-D10      4-D11      4-E02      5-B05      5-B07      5-B09  \\\n",
       "Age         61.1700  62.780000  55.440000  83.640000  73.280000  57.930000   \n",
       "cg00005072   0.6542   0.634759   0.641502   0.687862   0.712376   0.703993   \n",
       "\n",
       "Sample_ID       5-B12      5-C01  \n",
       "Age         59.250000  68.590000  \n",
       "cg00005072   0.686849   0.622531  \n",
       "\n",
       "[2 rows x 657 columns]"
      ]
     },
     "execution_count": 4,
     "metadata": {},
     "output_type": "execute_result"
    }
   ],
   "source": [
    "from functools import reduce\n",
    "\n",
    "df_list = [df1, df2, df3, df4, df5, df6, df7, df8, df9, df10, df11]\n",
    "\n",
    "#df_merged = reduce(lambda left, right: pd.merge(left, right, on=['Sample_ID'], how='inner'), df_list)\n",
    "df_merged = reduce(lambda left, right: pd.merge(left, right, left_index=True, right_index=True, how='inner'), df_list)\n",
    "df_merged.fillna('void', inplace=True)\n",
    "\n",
    "# Drop columns containing ':' in their names\n",
    "#df_merged.drop([col for col in df_merged.columns if ':' in col], axis=1, inplace=True)\n",
    "print(df_merged.shape)\n",
    "df_merged.head(2)"
   ]
  },
  {
   "cell_type": "code",
   "execution_count": 5,
   "id": "a58a776b",
   "metadata": {
    "ExecuteTime": {
     "end_time": "2023-07-03T07:11:25.989720Z",
     "start_time": "2023-07-03T07:11:23.109836Z"
    }
   },
   "outputs": [],
   "source": [
    "df_merged.to_csv('Merged_Top2B_Frontal.csv')"
   ]
  }
 ],
 "metadata": {
  "kernelspec": {
   "display_name": "Python 3 (ipykernel)",
   "language": "python",
   "name": "python3"
  },
  "language_info": {
   "codemirror_mode": {
    "name": "ipython",
    "version": 3
   },
   "file_extension": ".py",
   "mimetype": "text/x-python",
   "name": "python",
   "nbconvert_exporter": "python",
   "pygments_lexer": "ipython3",
   "version": "3.9.16"
  },
  "toc": {
   "base_numbering": 1,
   "nav_menu": {},
   "number_sections": true,
   "sideBar": true,
   "skip_h1_title": false,
   "title_cell": "Table of Contents",
   "title_sidebar": "Contents",
   "toc_cell": false,
   "toc_position": {},
   "toc_section_display": true,
   "toc_window_display": false
  },
  "varInspector": {
   "cols": {
    "lenName": 16,
    "lenType": 16,
    "lenVar": 40
   },
   "kernels_config": {
    "python": {
     "delete_cmd_postfix": "",
     "delete_cmd_prefix": "del ",
     "library": "var_list.py",
     "varRefreshCmd": "print(var_dic_list())"
    },
    "r": {
     "delete_cmd_postfix": ") ",
     "delete_cmd_prefix": "rm(",
     "library": "var_list.r",
     "varRefreshCmd": "cat(var_dic_list()) "
    }
   },
   "types_to_exclude": [
    "module",
    "function",
    "builtin_function_or_method",
    "instance",
    "_Feature"
   ],
   "window_display": false
  }
 },
 "nbformat": 4,
 "nbformat_minor": 5
}
