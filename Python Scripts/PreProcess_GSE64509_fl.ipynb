{
 "cells": [
  {
   "cell_type": "markdown",
   "id": "ae816d23",
   "metadata": {},
   "source": [
    "## Healthy"
   ]
  },
  {
   "cell_type": "code",
   "execution_count": 1,
   "id": "c9f38931",
   "metadata": {
    "ExecuteTime": {
     "end_time": "2023-07-02T09:56:35.828137Z",
     "start_time": "2023-07-02T09:56:35.056958Z"
    }
   },
   "outputs": [
    {
     "name": "stdout",
     "output_type": "stream",
     "text": [
      "Z:\\Project_Top2B\\April_2023\\regionwise\\frontal_lobe\\GSE64509\n"
     ]
    },
    {
     "data": {
      "text/html": [
       "<div>\n",
       "<style scoped>\n",
       "    .dataframe tbody tr th:only-of-type {\n",
       "        vertical-align: middle;\n",
       "    }\n",
       "\n",
       "    .dataframe tbody tr th {\n",
       "        vertical-align: top;\n",
       "    }\n",
       "\n",
       "    .dataframe thead th {\n",
       "        text-align: right;\n",
       "    }\n",
       "</style>\n",
       "<table border=\"1\" class=\"dataframe\">\n",
       "  <thead>\n",
       "    <tr style=\"text-align: right;\">\n",
       "      <th></th>\n",
       "      <th>Sample_ID</th>\n",
       "      <th>Age</th>\n",
       "      <th>cg00005072</th>\n",
       "      <th>cg00010266</th>\n",
       "      <th>cg00017203</th>\n",
       "      <th>cg00017489</th>\n",
       "      <th>cg00018024</th>\n",
       "      <th>cg00018539</th>\n",
       "      <th>cg00019511</th>\n",
       "      <th>cg00021539</th>\n",
       "      <th>...</th>\n",
       "      <th>cg27597926</th>\n",
       "      <th>cg27598168</th>\n",
       "      <th>cg27601855</th>\n",
       "      <th>cg27624319</th>\n",
       "      <th>cg27629898</th>\n",
       "      <th>cg27633533</th>\n",
       "      <th>cg27635069</th>\n",
       "      <th>cg27658416</th>\n",
       "      <th>cg27658967</th>\n",
       "      <th>cg27664120</th>\n",
       "    </tr>\n",
       "  </thead>\n",
       "  <tbody>\n",
       "    <tr>\n",
       "      <th>0</th>\n",
       "      <td>GSM1572841</td>\n",
       "      <td>45</td>\n",
       "      <td>0.80549</td>\n",
       "      <td>0.042526</td>\n",
       "      <td>0.862396</td>\n",
       "      <td>0.132809</td>\n",
       "      <td>0.038080</td>\n",
       "      <td>0.856947</td>\n",
       "      <td>0.810340</td>\n",
       "      <td>0.043421</td>\n",
       "      <td>...</td>\n",
       "      <td>0.084771</td>\n",
       "      <td>0.898666</td>\n",
       "      <td>0.149871</td>\n",
       "      <td>0.393865</td>\n",
       "      <td>0.630922</td>\n",
       "      <td>0.919783</td>\n",
       "      <td>0.199083</td>\n",
       "      <td>0.117043</td>\n",
       "      <td>0.070164</td>\n",
       "      <td>0.884359</td>\n",
       "    </tr>\n",
       "    <tr>\n",
       "      <th>1</th>\n",
       "      <td>GSM1572842</td>\n",
       "      <td>114</td>\n",
       "      <td>0.63977</td>\n",
       "      <td>0.029472</td>\n",
       "      <td>0.818143</td>\n",
       "      <td>0.198384</td>\n",
       "      <td>0.037925</td>\n",
       "      <td>0.814532</td>\n",
       "      <td>0.850983</td>\n",
       "      <td>0.060111</td>\n",
       "      <td>...</td>\n",
       "      <td>0.116251</td>\n",
       "      <td>0.853980</td>\n",
       "      <td>0.110446</td>\n",
       "      <td>0.324142</td>\n",
       "      <td>0.752613</td>\n",
       "      <td>0.892101</td>\n",
       "      <td>0.213209</td>\n",
       "      <td>0.154490</td>\n",
       "      <td>0.077418</td>\n",
       "      <td>0.875166</td>\n",
       "    </tr>\n",
       "  </tbody>\n",
       "</table>\n",
       "<p>2 rows × 4606 columns</p>\n",
       "</div>"
      ],
      "text/plain": [
       "    Sample_ID  Age  cg00005072  cg00010266  cg00017203  cg00017489  \\\n",
       "0  GSM1572841   45     0.80549    0.042526    0.862396    0.132809   \n",
       "1  GSM1572842  114     0.63977    0.029472    0.818143    0.198384   \n",
       "\n",
       "   cg00018024  cg00018539  cg00019511  cg00021539  ...  cg27597926  \\\n",
       "0    0.038080    0.856947    0.810340    0.043421  ...    0.084771   \n",
       "1    0.037925    0.814532    0.850983    0.060111  ...    0.116251   \n",
       "\n",
       "   cg27598168  cg27601855  cg27624319  cg27629898  cg27633533  cg27635069  \\\n",
       "0    0.898666    0.149871    0.393865    0.630922    0.919783    0.199083   \n",
       "1    0.853980    0.110446    0.324142    0.752613    0.892101    0.213209   \n",
       "\n",
       "   cg27658416  cg27658967  cg27664120  \n",
       "0    0.117043    0.070164    0.884359  \n",
       "1    0.154490    0.077418    0.875166  \n",
       "\n",
       "[2 rows x 4606 columns]"
      ]
     },
     "execution_count": 1,
     "metadata": {},
     "output_type": "execute_result"
    }
   ],
   "source": [
    "import csv\n",
    "import pandas as pd\n",
    "\n",
    "%cd Z:\\Project_Top2B\\April_2023\\regionwise\\frontal_lobe\\GSE64509\n",
    "\n",
    "df1 = pd.read_csv('GSE64509_Age_fl.csv')\n",
    "df2 = pd.read_csv('GSE64509_Top2b_Age.csv')\n",
    "df2.head(2)\n"
   ]
  },
  {
   "cell_type": "code",
   "execution_count": 2,
   "id": "1264ca3c",
   "metadata": {
    "ExecuteTime": {
     "end_time": "2023-07-02T09:56:47.748896Z",
     "start_time": "2023-07-02T09:56:47.494920Z"
    },
    "scrolled": true
   },
   "outputs": [
    {
     "name": "stdout",
     "output_type": "stream",
     "text": [
      "(41, 4607)\n"
     ]
    },
    {
     "data": {
      "text/html": [
       "<div>\n",
       "<style scoped>\n",
       "    .dataframe tbody tr th:only-of-type {\n",
       "        vertical-align: middle;\n",
       "    }\n",
       "\n",
       "    .dataframe tbody tr th {\n",
       "        vertical-align: top;\n",
       "    }\n",
       "\n",
       "    .dataframe thead th {\n",
       "        text-align: right;\n",
       "    }\n",
       "</style>\n",
       "<table border=\"1\" class=\"dataframe\">\n",
       "  <thead>\n",
       "    <tr style=\"text-align: right;\">\n",
       "      <th></th>\n",
       "      <th>Sample_ID</th>\n",
       "      <th>Age_x</th>\n",
       "      <th>Age_y</th>\n",
       "      <th>cg00005072</th>\n",
       "      <th>cg00010266</th>\n",
       "      <th>cg00017203</th>\n",
       "      <th>cg00017489</th>\n",
       "      <th>cg00018024</th>\n",
       "      <th>cg00018539</th>\n",
       "      <th>cg00019511</th>\n",
       "      <th>...</th>\n",
       "      <th>cg27597926</th>\n",
       "      <th>cg27598168</th>\n",
       "      <th>cg27601855</th>\n",
       "      <th>cg27624319</th>\n",
       "      <th>cg27629898</th>\n",
       "      <th>cg27633533</th>\n",
       "      <th>cg27635069</th>\n",
       "      <th>cg27658416</th>\n",
       "      <th>cg27658967</th>\n",
       "      <th>cg27664120</th>\n",
       "    </tr>\n",
       "  </thead>\n",
       "  <tbody>\n",
       "    <tr>\n",
       "      <th>0</th>\n",
       "      <td>GSM1572859</td>\n",
       "      <td>64</td>\n",
       "      <td>64</td>\n",
       "      <td>0.739734</td>\n",
       "      <td>0.065326</td>\n",
       "      <td>0.836851</td>\n",
       "      <td>0.135542</td>\n",
       "      <td>0.044676</td>\n",
       "      <td>0.879064</td>\n",
       "      <td>0.865409</td>\n",
       "      <td>...</td>\n",
       "      <td>0.113825</td>\n",
       "      <td>0.880235</td>\n",
       "      <td>0.097153</td>\n",
       "      <td>0.299934</td>\n",
       "      <td>0.788921</td>\n",
       "      <td>0.911795</td>\n",
       "      <td>0.245991</td>\n",
       "      <td>0.086933</td>\n",
       "      <td>0.077837</td>\n",
       "      <td>0.882980</td>\n",
       "    </tr>\n",
       "    <tr>\n",
       "      <th>1</th>\n",
       "      <td>GSM1572861</td>\n",
       "      <td>41</td>\n",
       "      <td>41</td>\n",
       "      <td>0.733346</td>\n",
       "      <td>0.057878</td>\n",
       "      <td>0.861610</td>\n",
       "      <td>0.127756</td>\n",
       "      <td>0.033553</td>\n",
       "      <td>0.819208</td>\n",
       "      <td>0.848103</td>\n",
       "      <td>...</td>\n",
       "      <td>0.108896</td>\n",
       "      <td>0.854765</td>\n",
       "      <td>0.140406</td>\n",
       "      <td>0.242802</td>\n",
       "      <td>0.749280</td>\n",
       "      <td>0.872028</td>\n",
       "      <td>0.192718</td>\n",
       "      <td>0.036449</td>\n",
       "      <td>0.100605</td>\n",
       "      <td>0.880921</td>\n",
       "    </tr>\n",
       "  </tbody>\n",
       "</table>\n",
       "<p>2 rows × 4607 columns</p>\n",
       "</div>"
      ],
      "text/plain": [
       "    Sample_ID  Age_x  Age_y  cg00005072  cg00010266  cg00017203  cg00017489  \\\n",
       "0  GSM1572859     64     64    0.739734    0.065326    0.836851    0.135542   \n",
       "1  GSM1572861     41     41    0.733346    0.057878    0.861610    0.127756   \n",
       "\n",
       "   cg00018024  cg00018539  cg00019511  ...  cg27597926  cg27598168  \\\n",
       "0    0.044676    0.879064    0.865409  ...    0.113825    0.880235   \n",
       "1    0.033553    0.819208    0.848103  ...    0.108896    0.854765   \n",
       "\n",
       "   cg27601855  cg27624319  cg27629898  cg27633533  cg27635069  cg27658416  \\\n",
       "0    0.097153    0.299934    0.788921    0.911795    0.245991    0.086933   \n",
       "1    0.140406    0.242802    0.749280    0.872028    0.192718    0.036449   \n",
       "\n",
       "   cg27658967  cg27664120  \n",
       "0    0.077837    0.882980  \n",
       "1    0.100605    0.880921  \n",
       "\n",
       "[2 rows x 4607 columns]"
      ]
     },
     "execution_count": 2,
     "metadata": {},
     "output_type": "execute_result"
    }
   ],
   "source": [
    "merged_df = pd.merge(df1, df2, how ='inner', on = df1.columns[0])\n",
    "merged_df.to_csv('GSE64509_Top2b_fl_Age.csv', index = 'False')\n",
    "print(merged_df.shape)\n",
    "merged_df.head(2)"
   ]
  }
 ],
 "metadata": {
  "kernelspec": {
   "display_name": "Python 3 (ipykernel)",
   "language": "python",
   "name": "python3"
  },
  "language_info": {
   "codemirror_mode": {
    "name": "ipython",
    "version": 3
   },
   "file_extension": ".py",
   "mimetype": "text/x-python",
   "name": "python",
   "nbconvert_exporter": "python",
   "pygments_lexer": "ipython3",
   "version": "3.9.16"
  },
  "toc": {
   "base_numbering": 1,
   "nav_menu": {},
   "number_sections": true,
   "sideBar": true,
   "skip_h1_title": false,
   "title_cell": "Table of Contents",
   "title_sidebar": "Contents",
   "toc_cell": false,
   "toc_position": {},
   "toc_section_display": true,
   "toc_window_display": false
  },
  "varInspector": {
   "cols": {
    "lenName": 16,
    "lenType": 16,
    "lenVar": 40
   },
   "kernels_config": {
    "python": {
     "delete_cmd_postfix": "",
     "delete_cmd_prefix": "del ",
     "library": "var_list.py",
     "varRefreshCmd": "print(var_dic_list())"
    },
    "r": {
     "delete_cmd_postfix": ") ",
     "delete_cmd_prefix": "rm(",
     "library": "var_list.r",
     "varRefreshCmd": "cat(var_dic_list()) "
    }
   },
   "types_to_exclude": [
    "module",
    "function",
    "builtin_function_or_method",
    "instance",
    "_Feature"
   ],
   "window_display": false
  }
 },
 "nbformat": 4,
 "nbformat_minor": 5
}
