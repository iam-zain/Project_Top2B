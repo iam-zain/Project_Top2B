{
 "cells": [
  {
   "cell_type": "code",
   "execution_count": 1,
   "id": "eef602c7",
   "metadata": {
    "ExecuteTime": {
     "end_time": "2023-06-23T14:50:04.219465Z",
     "start_time": "2023-06-23T14:50:03.636394Z"
    }
   },
   "outputs": [
    {
     "name": "stdout",
     "output_type": "stream",
     "text": [
      "Z:\\Project_Top2B\\April_2023\\regionwise\\cerebellum\\GSE61431\n"
     ]
    }
   ],
   "source": [
    "%cd Z:\\Project_Top2B\\April_2023\\regionwise\\cerebellum\\GSE61431\n",
    "import pandas as pd"
   ]
  },
  {
   "cell_type": "code",
   "execution_count": 2,
   "id": "1264ca3c",
   "metadata": {
    "ExecuteTime": {
     "end_time": "2023-06-23T14:50:04.251393Z",
     "start_time": "2023-06-23T14:50:04.221394Z"
    }
   },
   "outputs": [
    {
     "data": {
      "text/html": [
       "<div>\n",
       "<style scoped>\n",
       "    .dataframe tbody tr th:only-of-type {\n",
       "        vertical-align: middle;\n",
       "    }\n",
       "\n",
       "    .dataframe tbody tr th {\n",
       "        vertical-align: top;\n",
       "    }\n",
       "\n",
       "    .dataframe thead th {\n",
       "        text-align: right;\n",
       "    }\n",
       "</style>\n",
       "<table border=\"1\" class=\"dataframe\">\n",
       "  <thead>\n",
       "    <tr style=\"text-align: right;\">\n",
       "      <th></th>\n",
       "      <th>Sample_ID</th>\n",
       "      <th>Age</th>\n",
       "    </tr>\n",
       "  </thead>\n",
       "  <tbody>\n",
       "    <tr>\n",
       "      <th>0</th>\n",
       "      <td>6042316024_R01C01</td>\n",
       "      <td>31</td>\n",
       "    </tr>\n",
       "    <tr>\n",
       "      <th>1</th>\n",
       "      <td>6042316024_R02C01</td>\n",
       "      <td>62</td>\n",
       "    </tr>\n",
       "  </tbody>\n",
       "</table>\n",
       "</div>"
      ],
      "text/plain": [
       "           Sample_ID  Age\n",
       "0  6042316024_R01C01   31\n",
       "1  6042316024_R02C01   62"
      ]
     },
     "execution_count": 2,
     "metadata": {},
     "output_type": "execute_result"
    }
   ],
   "source": [
    "df1 = pd.read_csv('GSE61431_Age_Diseased_cb.csv')\n",
    "df1.head(2)"
   ]
  },
  {
   "cell_type": "code",
   "execution_count": 3,
   "id": "4af18fcc",
   "metadata": {
    "ExecuteTime": {
     "end_time": "2023-06-23T14:50:04.519394Z",
     "start_time": "2023-06-23T14:50:04.254394Z"
    }
   },
   "outputs": [
    {
     "name": "stdout",
     "output_type": "stream",
     "text": [
      "           Sample_ID  Age\n",
      "0  6042316024_R01C01   31\n",
      "1  6042316024_R02C01   62\n"
     ]
    },
    {
     "data": {
      "text/html": [
       "<div>\n",
       "<style scoped>\n",
       "    .dataframe tbody tr th:only-of-type {\n",
       "        vertical-align: middle;\n",
       "    }\n",
       "\n",
       "    .dataframe tbody tr th {\n",
       "        vertical-align: top;\n",
       "    }\n",
       "\n",
       "    .dataframe thead th {\n",
       "        text-align: right;\n",
       "    }\n",
       "</style>\n",
       "<table border=\"1\" class=\"dataframe\">\n",
       "  <thead>\n",
       "    <tr style=\"text-align: right;\">\n",
       "      <th></th>\n",
       "      <th>Sample_ID</th>\n",
       "      <th>Age</th>\n",
       "      <th>cg00005072</th>\n",
       "      <th>cg00010266</th>\n",
       "      <th>cg00017203</th>\n",
       "      <th>cg00017489</th>\n",
       "      <th>cg00018024</th>\n",
       "      <th>cg00018539</th>\n",
       "      <th>cg00019511</th>\n",
       "      <th>cg00021539</th>\n",
       "      <th>...</th>\n",
       "      <th>cg27597926</th>\n",
       "      <th>cg27598168</th>\n",
       "      <th>cg27601855</th>\n",
       "      <th>cg27624319</th>\n",
       "      <th>cg27629898</th>\n",
       "      <th>cg27633533</th>\n",
       "      <th>cg27635069</th>\n",
       "      <th>cg27658416</th>\n",
       "      <th>cg27658967</th>\n",
       "      <th>cg27664120</th>\n",
       "    </tr>\n",
       "  </thead>\n",
       "  <tbody>\n",
       "    <tr>\n",
       "      <th>0</th>\n",
       "      <td>6042316024_R01C01</td>\n",
       "      <td>31</td>\n",
       "      <td>0.769095</td>\n",
       "      <td>0.085676</td>\n",
       "      <td>0.839425</td>\n",
       "      <td>0.117947</td>\n",
       "      <td>0.047253</td>\n",
       "      <td>0.813559</td>\n",
       "      <td>0.851394</td>\n",
       "      <td>0.06690</td>\n",
       "      <td>...</td>\n",
       "      <td>0.101188</td>\n",
       "      <td>0.817182</td>\n",
       "      <td>0.144323</td>\n",
       "      <td>0.168576</td>\n",
       "      <td>0.839959</td>\n",
       "      <td>0.885931</td>\n",
       "      <td>0.265224</td>\n",
       "      <td>0.116023</td>\n",
       "      <td>0.116966</td>\n",
       "      <td>0.841233</td>\n",
       "    </tr>\n",
       "    <tr>\n",
       "      <th>1</th>\n",
       "      <td>6042316024_R02C01</td>\n",
       "      <td>62</td>\n",
       "      <td>0.798984</td>\n",
       "      <td>0.055825</td>\n",
       "      <td>0.863604</td>\n",
       "      <td>0.130488</td>\n",
       "      <td>0.055747</td>\n",
       "      <td>0.833906</td>\n",
       "      <td>0.874162</td>\n",
       "      <td>0.06462</td>\n",
       "      <td>...</td>\n",
       "      <td>0.122815</td>\n",
       "      <td>0.890151</td>\n",
       "      <td>0.131679</td>\n",
       "      <td>0.106851</td>\n",
       "      <td>0.869276</td>\n",
       "      <td>0.904589</td>\n",
       "      <td>0.238887</td>\n",
       "      <td>0.094300</td>\n",
       "      <td>0.103286</td>\n",
       "      <td>0.880248</td>\n",
       "    </tr>\n",
       "  </tbody>\n",
       "</table>\n",
       "<p>2 rows × 4351 columns</p>\n",
       "</div>"
      ],
      "text/plain": [
       "           Sample_ID  Age  cg00005072  cg00010266  cg00017203  cg00017489  \\\n",
       "0  6042316024_R01C01   31    0.769095    0.085676    0.839425    0.117947   \n",
       "1  6042316024_R02C01   62    0.798984    0.055825    0.863604    0.130488   \n",
       "\n",
       "   cg00018024  cg00018539  cg00019511  cg00021539  ...  cg27597926  \\\n",
       "0    0.047253    0.813559    0.851394     0.06690  ...    0.101188   \n",
       "1    0.055747    0.833906    0.874162     0.06462  ...    0.122815   \n",
       "\n",
       "   cg27598168  cg27601855  cg27624319  cg27629898  cg27633533  cg27635069  \\\n",
       "0    0.817182    0.144323    0.168576    0.839959    0.885931    0.265224   \n",
       "1    0.890151    0.131679    0.106851    0.869276    0.904589    0.238887   \n",
       "\n",
       "   cg27658416  cg27658967  cg27664120  \n",
       "0    0.116023    0.116966    0.841233  \n",
       "1    0.094300    0.103286    0.880248  \n",
       "\n",
       "[2 rows x 4351 columns]"
      ]
     },
     "execution_count": 3,
     "metadata": {},
     "output_type": "execute_result"
    }
   ],
   "source": [
    "\n",
    "df2 = pd.read_csv('GSE61431_Schiz_Top2b.csv')\n",
    "\n",
    "print(df1.head(2))\n",
    "df2.head(2)"
   ]
  },
  {
   "cell_type": "code",
   "execution_count": null,
   "id": "2f4fd858",
   "metadata": {},
   "outputs": [],
   "source": []
  },
  {
   "cell_type": "code",
   "execution_count": 5,
   "id": "4017c135",
   "metadata": {
    "ExecuteTime": {
     "end_time": "2023-06-23T14:50:22.975594Z",
     "start_time": "2023-06-23T14:50:22.809601Z"
    }
   },
   "outputs": [
    {
     "name": "stdout",
     "output_type": "stream",
     "text": [
      "(21, 4352)\n"
     ]
    },
    {
     "data": {
      "text/html": [
       "<div>\n",
       "<style scoped>\n",
       "    .dataframe tbody tr th:only-of-type {\n",
       "        vertical-align: middle;\n",
       "    }\n",
       "\n",
       "    .dataframe tbody tr th {\n",
       "        vertical-align: top;\n",
       "    }\n",
       "\n",
       "    .dataframe thead th {\n",
       "        text-align: right;\n",
       "    }\n",
       "</style>\n",
       "<table border=\"1\" class=\"dataframe\">\n",
       "  <thead>\n",
       "    <tr style=\"text-align: right;\">\n",
       "      <th></th>\n",
       "      <th>Sample_ID</th>\n",
       "      <th>Age_x</th>\n",
       "      <th>Age_y</th>\n",
       "      <th>cg00005072</th>\n",
       "      <th>cg00010266</th>\n",
       "      <th>cg00017203</th>\n",
       "      <th>cg00017489</th>\n",
       "      <th>cg00018024</th>\n",
       "      <th>cg00018539</th>\n",
       "      <th>cg00019511</th>\n",
       "      <th>...</th>\n",
       "      <th>cg27597926</th>\n",
       "      <th>cg27598168</th>\n",
       "      <th>cg27601855</th>\n",
       "      <th>cg27624319</th>\n",
       "      <th>cg27629898</th>\n",
       "      <th>cg27633533</th>\n",
       "      <th>cg27635069</th>\n",
       "      <th>cg27658416</th>\n",
       "      <th>cg27658967</th>\n",
       "      <th>cg27664120</th>\n",
       "    </tr>\n",
       "  </thead>\n",
       "  <tbody>\n",
       "    <tr>\n",
       "      <th>0</th>\n",
       "      <td>6042316024_R01C01</td>\n",
       "      <td>31</td>\n",
       "      <td>31</td>\n",
       "      <td>0.769095</td>\n",
       "      <td>0.085676</td>\n",
       "      <td>0.839425</td>\n",
       "      <td>0.117947</td>\n",
       "      <td>0.047253</td>\n",
       "      <td>0.813559</td>\n",
       "      <td>0.851394</td>\n",
       "      <td>...</td>\n",
       "      <td>0.101188</td>\n",
       "      <td>0.817182</td>\n",
       "      <td>0.144323</td>\n",
       "      <td>0.168576</td>\n",
       "      <td>0.839959</td>\n",
       "      <td>0.885931</td>\n",
       "      <td>0.265224</td>\n",
       "      <td>0.116023</td>\n",
       "      <td>0.116966</td>\n",
       "      <td>0.841233</td>\n",
       "    </tr>\n",
       "    <tr>\n",
       "      <th>1</th>\n",
       "      <td>6042316024_R02C01</td>\n",
       "      <td>62</td>\n",
       "      <td>62</td>\n",
       "      <td>0.798984</td>\n",
       "      <td>0.055825</td>\n",
       "      <td>0.863604</td>\n",
       "      <td>0.130488</td>\n",
       "      <td>0.055747</td>\n",
       "      <td>0.833906</td>\n",
       "      <td>0.874162</td>\n",
       "      <td>...</td>\n",
       "      <td>0.122815</td>\n",
       "      <td>0.890151</td>\n",
       "      <td>0.131679</td>\n",
       "      <td>0.106851</td>\n",
       "      <td>0.869276</td>\n",
       "      <td>0.904589</td>\n",
       "      <td>0.238887</td>\n",
       "      <td>0.094300</td>\n",
       "      <td>0.103286</td>\n",
       "      <td>0.880248</td>\n",
       "    </tr>\n",
       "  </tbody>\n",
       "</table>\n",
       "<p>2 rows × 4352 columns</p>\n",
       "</div>"
      ],
      "text/plain": [
       "           Sample_ID  Age_x  Age_y  cg00005072  cg00010266  cg00017203  \\\n",
       "0  6042316024_R01C01     31     31    0.769095    0.085676    0.839425   \n",
       "1  6042316024_R02C01     62     62    0.798984    0.055825    0.863604   \n",
       "\n",
       "   cg00017489  cg00018024  cg00018539  cg00019511  ...  cg27597926  \\\n",
       "0    0.117947    0.047253    0.813559    0.851394  ...    0.101188   \n",
       "1    0.130488    0.055747    0.833906    0.874162  ...    0.122815   \n",
       "\n",
       "   cg27598168  cg27601855  cg27624319  cg27629898  cg27633533  cg27635069  \\\n",
       "0    0.817182    0.144323    0.168576    0.839959    0.885931    0.265224   \n",
       "1    0.890151    0.131679    0.106851    0.869276    0.904589    0.238887   \n",
       "\n",
       "   cg27658416  cg27658967  cg27664120  \n",
       "0    0.116023    0.116966    0.841233  \n",
       "1    0.094300    0.103286    0.880248  \n",
       "\n",
       "[2 rows x 4352 columns]"
      ]
     },
     "execution_count": 5,
     "metadata": {},
     "output_type": "execute_result"
    }
   ],
   "source": [
    "# Merge df1 and df2 on the common column 'col1'\n",
    "merged_df = pd.merge(df1, df2, how ='inner', on='Sample_ID')\n",
    "\n",
    "# Drop the common column 'ID_REF'\n",
    "#merged_df.drop('ID_REF', axis=1, inplace=True)\n",
    "merged_df.to_csv('GSE61431_Schiz_Top2b_cb.csv', index = 'False')\n",
    "print(merged_df.shape)\n",
    "merged_df.head(2)"
   ]
  }
 ],
 "metadata": {
  "kernelspec": {
   "display_name": "Python 3 (ipykernel)",
   "language": "python",
   "name": "python3"
  },
  "language_info": {
   "codemirror_mode": {
    "name": "ipython",
    "version": 3
   },
   "file_extension": ".py",
   "mimetype": "text/x-python",
   "name": "python",
   "nbconvert_exporter": "python",
   "pygments_lexer": "ipython3",
   "version": "3.9.16"
  },
  "toc": {
   "base_numbering": 1,
   "nav_menu": {},
   "number_sections": true,
   "sideBar": true,
   "skip_h1_title": false,
   "title_cell": "Table of Contents",
   "title_sidebar": "Contents",
   "toc_cell": false,
   "toc_position": {},
   "toc_section_display": true,
   "toc_window_display": false
  },
  "varInspector": {
   "cols": {
    "lenName": 16,
    "lenType": 16,
    "lenVar": 40
   },
   "kernels_config": {
    "python": {
     "delete_cmd_postfix": "",
     "delete_cmd_prefix": "del ",
     "library": "var_list.py",
     "varRefreshCmd": "print(var_dic_list())"
    },
    "r": {
     "delete_cmd_postfix": ") ",
     "delete_cmd_prefix": "rm(",
     "library": "var_list.r",
     "varRefreshCmd": "cat(var_dic_list()) "
    }
   },
   "types_to_exclude": [
    "module",
    "function",
    "builtin_function_or_method",
    "instance",
    "_Feature"
   ],
   "window_display": false
  }
 },
 "nbformat": 4,
 "nbformat_minor": 5
}
