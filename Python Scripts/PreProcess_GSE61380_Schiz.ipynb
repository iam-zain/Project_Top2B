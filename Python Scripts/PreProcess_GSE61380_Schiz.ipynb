{
 "cells": [
  {
   "cell_type": "code",
   "execution_count": 1,
   "id": "eef602c7",
   "metadata": {
    "ExecuteTime": {
     "end_time": "2023-05-23T09:11:54.442479Z",
     "start_time": "2023-05-23T09:11:53.872039Z"
    }
   },
   "outputs": [
    {
     "name": "stdout",
     "output_type": "stream",
     "text": [
      "Z:\\Project_Top2B\\April_2023\\GSE61380\n"
     ]
    }
   ],
   "source": [
    "%cd Z:\\Project_Top2B\\April_2023\\GSE61380\n",
    "import pandas as pd"
   ]
  },
  {
   "cell_type": "code",
   "execution_count": 2,
   "id": "1264ca3c",
   "metadata": {
    "ExecuteTime": {
     "end_time": "2023-05-23T09:11:54.473671Z",
     "start_time": "2023-05-23T09:11:54.442479Z"
    }
   },
   "outputs": [
    {
     "data": {
      "text/html": [
       "<div>\n",
       "<style scoped>\n",
       "    .dataframe tbody tr th:only-of-type {\n",
       "        vertical-align: middle;\n",
       "    }\n",
       "\n",
       "    .dataframe tbody tr th {\n",
       "        vertical-align: top;\n",
       "    }\n",
       "\n",
       "    .dataframe thead th {\n",
       "        text-align: right;\n",
       "    }\n",
       "</style>\n",
       "<table border=\"1\" class=\"dataframe\">\n",
       "  <thead>\n",
       "    <tr style=\"text-align: right;\">\n",
       "      <th></th>\n",
       "      <th>Sample_ID</th>\n",
       "      <th>Age</th>\n",
       "    </tr>\n",
       "  </thead>\n",
       "  <tbody>\n",
       "    <tr>\n",
       "      <th>0</th>\n",
       "      <td>GSM1503514</td>\n",
       "      <td>24</td>\n",
       "    </tr>\n",
       "    <tr>\n",
       "      <th>1</th>\n",
       "      <td>GSM1503515</td>\n",
       "      <td>26</td>\n",
       "    </tr>\n",
       "  </tbody>\n",
       "</table>\n",
       "</div>"
      ],
      "text/plain": [
       "    Sample_ID  Age\n",
       "0  GSM1503514   24\n",
       "1  GSM1503515   26"
      ]
     },
     "execution_count": 2,
     "metadata": {},
     "output_type": "execute_result"
    }
   ],
   "source": [
    "df2 = pd.read_csv('GSE61380_Age_Schiz.csv')\n",
    "df2.head(2)"
   ]
  },
  {
   "cell_type": "code",
   "execution_count": 3,
   "id": "270f8185",
   "metadata": {
    "ExecuteTime": {
     "end_time": "2023-05-23T09:12:01.710356Z",
     "start_time": "2023-05-23T09:11:54.473671Z"
    }
   },
   "outputs": [
    {
     "name": "stdout",
     "output_type": "stream",
     "text": [
      "(447273, 34)\n"
     ]
    },
    {
     "data": {
      "text/html": [
       "<div>\n",
       "<style scoped>\n",
       "    .dataframe tbody tr th:only-of-type {\n",
       "        vertical-align: middle;\n",
       "    }\n",
       "\n",
       "    .dataframe tbody tr th {\n",
       "        vertical-align: top;\n",
       "    }\n",
       "\n",
       "    .dataframe thead th {\n",
       "        text-align: right;\n",
       "    }\n",
       "</style>\n",
       "<table border=\"1\" class=\"dataframe\">\n",
       "  <thead>\n",
       "    <tr style=\"text-align: right;\">\n",
       "      <th></th>\n",
       "      <th>ID_REF</th>\n",
       "      <th>GSM1503499</th>\n",
       "      <th>GSM1503500</th>\n",
       "      <th>GSM1503501</th>\n",
       "      <th>GSM1503502</th>\n",
       "      <th>GSM1503503</th>\n",
       "      <th>GSM1503504</th>\n",
       "      <th>GSM1503505</th>\n",
       "      <th>GSM1503506</th>\n",
       "      <th>GSM1503507</th>\n",
       "      <th>...</th>\n",
       "      <th>GSM1503522</th>\n",
       "      <th>GSM1503523</th>\n",
       "      <th>GSM1503524</th>\n",
       "      <th>GSM1503525</th>\n",
       "      <th>GSM1503526</th>\n",
       "      <th>GSM1503527</th>\n",
       "      <th>GSM1503528</th>\n",
       "      <th>GSM1503529</th>\n",
       "      <th>GSM1503530</th>\n",
       "      <th>GSM1503531</th>\n",
       "    </tr>\n",
       "  </thead>\n",
       "  <tbody>\n",
       "    <tr>\n",
       "      <th>0</th>\n",
       "      <td>cg00000029</td>\n",
       "      <td>0.383060</td>\n",
       "      <td>0.360163</td>\n",
       "      <td>0.386180</td>\n",
       "      <td>0.392195</td>\n",
       "      <td>0.424361</td>\n",
       "      <td>0.417636</td>\n",
       "      <td>0.448036</td>\n",
       "      <td>0.400095</td>\n",
       "      <td>0.388156</td>\n",
       "      <td>...</td>\n",
       "      <td>0.433246</td>\n",
       "      <td>0.464406</td>\n",
       "      <td>0.345492</td>\n",
       "      <td>0.468714</td>\n",
       "      <td>0.371849</td>\n",
       "      <td>0.418599</td>\n",
       "      <td>0.480720</td>\n",
       "      <td>0.447356</td>\n",
       "      <td>0.445130</td>\n",
       "      <td>0.378626</td>\n",
       "    </tr>\n",
       "    <tr>\n",
       "      <th>1</th>\n",
       "      <td>cg00000108</td>\n",
       "      <td>0.868987</td>\n",
       "      <td>0.875735</td>\n",
       "      <td>0.888495</td>\n",
       "      <td>0.926971</td>\n",
       "      <td>0.883882</td>\n",
       "      <td>0.878253</td>\n",
       "      <td>0.871476</td>\n",
       "      <td>0.900130</td>\n",
       "      <td>0.892411</td>\n",
       "      <td>...</td>\n",
       "      <td>0.882807</td>\n",
       "      <td>0.940102</td>\n",
       "      <td>0.880168</td>\n",
       "      <td>0.881164</td>\n",
       "      <td>0.880885</td>\n",
       "      <td>0.886446</td>\n",
       "      <td>0.803787</td>\n",
       "      <td>0.867505</td>\n",
       "      <td>0.873862</td>\n",
       "      <td>0.846739</td>\n",
       "    </tr>\n",
       "  </tbody>\n",
       "</table>\n",
       "<p>2 rows × 34 columns</p>\n",
       "</div>"
      ],
      "text/plain": [
       "       ID_REF  GSM1503499  GSM1503500  GSM1503501  GSM1503502  GSM1503503  \\\n",
       "0  cg00000029    0.383060    0.360163    0.386180    0.392195    0.424361   \n",
       "1  cg00000108    0.868987    0.875735    0.888495    0.926971    0.883882   \n",
       "\n",
       "   GSM1503504  GSM1503505  GSM1503506  GSM1503507  ...  GSM1503522  \\\n",
       "0    0.417636    0.448036    0.400095    0.388156  ...    0.433246   \n",
       "1    0.878253    0.871476    0.900130    0.892411  ...    0.882807   \n",
       "\n",
       "   GSM1503523  GSM1503524  GSM1503525  GSM1503526  GSM1503527  GSM1503528  \\\n",
       "0    0.464406    0.345492    0.468714    0.371849    0.418599    0.480720   \n",
       "1    0.940102    0.880168    0.881164    0.880885    0.886446    0.803787   \n",
       "\n",
       "   GSM1503529  GSM1503530  GSM1503531  \n",
       "0    0.447356    0.445130    0.378626  \n",
       "1    0.867505    0.873862    0.846739  \n",
       "\n",
       "[2 rows x 34 columns]"
      ]
     },
     "execution_count": 3,
     "metadata": {},
     "output_type": "execute_result"
    }
   ],
   "source": [
    "df = pd.read_csv('GSE61380.csv')\n",
    "\n",
    "# remove quotes from column names\n",
    "df.columns = df.columns.str.replace('\"', '')\n",
    "\n",
    "# remove quotes from cell values\n",
    "df = df.applymap(lambda x: x.replace('\"', '') if isinstance(x, str) else x)\n",
    "\n",
    "# print updated DataFrame\n",
    "print(df.shape)\n",
    "df.head(2)"
   ]
  },
  {
   "cell_type": "code",
   "execution_count": 4,
   "id": "73b7767f",
   "metadata": {
    "ExecuteTime": {
     "end_time": "2023-05-23T09:12:09.852582Z",
     "start_time": "2023-05-23T09:12:01.710356Z"
    },
    "scrolled": true
   },
   "outputs": [
    {
     "name": "stdout",
     "output_type": "stream",
     "text": [
      "(447273, 18)\n"
     ]
    },
    {
     "data": {
      "text/html": [
       "<div>\n",
       "<style scoped>\n",
       "    .dataframe tbody tr th:only-of-type {\n",
       "        vertical-align: middle;\n",
       "    }\n",
       "\n",
       "    .dataframe tbody tr th {\n",
       "        vertical-align: top;\n",
       "    }\n",
       "\n",
       "    .dataframe thead th {\n",
       "        text-align: right;\n",
       "    }\n",
       "</style>\n",
       "<table border=\"1\" class=\"dataframe\">\n",
       "  <thead>\n",
       "    <tr style=\"text-align: right;\">\n",
       "      <th></th>\n",
       "      <th>ID_REF</th>\n",
       "      <th>GSM1503520</th>\n",
       "      <th>GSM1503516</th>\n",
       "      <th>GSM1503517</th>\n",
       "      <th>GSM1503522</th>\n",
       "      <th>GSM1503518</th>\n",
       "      <th>GSM1503523</th>\n",
       "      <th>GSM1503525</th>\n",
       "      <th>GSM1503519</th>\n",
       "      <th>GSM1503514</th>\n",
       "      <th>GSM1503527</th>\n",
       "      <th>GSM1503526</th>\n",
       "      <th>GSM1503515</th>\n",
       "      <th>GSM1503528</th>\n",
       "      <th>GSM1503521</th>\n",
       "      <th>GSM1503530</th>\n",
       "      <th>GSM1503529</th>\n",
       "      <th>GSM1503524</th>\n",
       "    </tr>\n",
       "  </thead>\n",
       "  <tbody>\n",
       "    <tr>\n",
       "      <th>0</th>\n",
       "      <td>cg00000029</td>\n",
       "      <td>0.444118</td>\n",
       "      <td>0.392507</td>\n",
       "      <td>0.425686</td>\n",
       "      <td>0.433246</td>\n",
       "      <td>0.442146</td>\n",
       "      <td>0.464406</td>\n",
       "      <td>0.468714</td>\n",
       "      <td>0.417250</td>\n",
       "      <td>0.439145</td>\n",
       "      <td>0.418599</td>\n",
       "      <td>0.371849</td>\n",
       "      <td>0.388835</td>\n",
       "      <td>0.480720</td>\n",
       "      <td>0.389928</td>\n",
       "      <td>0.445130</td>\n",
       "      <td>0.447356</td>\n",
       "      <td>0.345492</td>\n",
       "    </tr>\n",
       "    <tr>\n",
       "      <th>1</th>\n",
       "      <td>cg00000108</td>\n",
       "      <td>0.901789</td>\n",
       "      <td>0.870694</td>\n",
       "      <td>0.893349</td>\n",
       "      <td>0.882807</td>\n",
       "      <td>0.851250</td>\n",
       "      <td>0.940102</td>\n",
       "      <td>0.881164</td>\n",
       "      <td>0.844728</td>\n",
       "      <td>0.913647</td>\n",
       "      <td>0.886446</td>\n",
       "      <td>0.880885</td>\n",
       "      <td>0.872607</td>\n",
       "      <td>0.803787</td>\n",
       "      <td>0.873710</td>\n",
       "      <td>0.873862</td>\n",
       "      <td>0.867505</td>\n",
       "      <td>0.880168</td>\n",
       "    </tr>\n",
       "  </tbody>\n",
       "</table>\n",
       "</div>"
      ],
      "text/plain": [
       "       ID_REF  GSM1503520  GSM1503516  GSM1503517  GSM1503522  GSM1503518  \\\n",
       "0  cg00000029    0.444118    0.392507    0.425686    0.433246    0.442146   \n",
       "1  cg00000108    0.901789    0.870694    0.893349    0.882807    0.851250   \n",
       "\n",
       "   GSM1503523  GSM1503525  GSM1503519  GSM1503514  GSM1503527  GSM1503526  \\\n",
       "0    0.464406    0.468714    0.417250    0.439145    0.418599    0.371849   \n",
       "1    0.940102    0.881164    0.844728    0.913647    0.886446    0.880885   \n",
       "\n",
       "   GSM1503515  GSM1503528  GSM1503521  GSM1503530  GSM1503529  GSM1503524  \n",
       "0    0.388835    0.480720    0.389928    0.445130    0.447356    0.345492  \n",
       "1    0.872607    0.803787    0.873710    0.873862    0.867505    0.880168  "
      ]
     },
     "execution_count": 4,
     "metadata": {},
     "output_type": "execute_result"
    }
   ],
   "source": [
    "# Extract the names which are present in both df2 and df\n",
    "names = list(set(df2['Sample_ID']).intersection(set(df.columns)))\n",
    "\n",
    "# Subset df using the names extracted from df2\n",
    "df_subset = df[names]\n",
    "\n",
    "# Adding CpG column from df\n",
    "df_subset.insert(loc=0, column='ID_REF', value=df.iloc[:, 0])\n",
    "\n",
    "df_subset.to_csv('GSE61380_Schiz.csv', index=False)\n",
    "\n",
    "print(df_subset.shape)\n",
    "df_subset.head(2)\n"
   ]
  },
  {
   "cell_type": "code",
   "execution_count": null,
   "id": "0b63ea55",
   "metadata": {},
   "outputs": [],
   "source": []
  },
  {
   "cell_type": "code",
   "execution_count": 5,
   "id": "1b191d0e",
   "metadata": {
    "ExecuteTime": {
     "end_time": "2023-05-23T09:12:11.187427Z",
     "start_time": "2023-05-23T09:12:09.852582Z"
    }
   },
   "outputs": [
    {
     "name": "stdout",
     "output_type": "stream",
     "text": [
      "Z:\\Project_Top2B\n",
      "Z:\\Project_Top2B\\April_2023\\GSE61380\n",
      "          CpG\n",
      "0  cg00005072\n",
      "1  cg00010266\n"
     ]
    },
    {
     "data": {
      "text/html": [
       "<div>\n",
       "<style scoped>\n",
       "    .dataframe tbody tr th:only-of-type {\n",
       "        vertical-align: middle;\n",
       "    }\n",
       "\n",
       "    .dataframe tbody tr th {\n",
       "        vertical-align: top;\n",
       "    }\n",
       "\n",
       "    .dataframe thead th {\n",
       "        text-align: right;\n",
       "    }\n",
       "</style>\n",
       "<table border=\"1\" class=\"dataframe\">\n",
       "  <thead>\n",
       "    <tr style=\"text-align: right;\">\n",
       "      <th></th>\n",
       "      <th>ID_REF</th>\n",
       "      <th>GSM1503520</th>\n",
       "      <th>GSM1503516</th>\n",
       "      <th>GSM1503517</th>\n",
       "      <th>GSM1503522</th>\n",
       "      <th>GSM1503518</th>\n",
       "      <th>GSM1503523</th>\n",
       "      <th>GSM1503525</th>\n",
       "      <th>GSM1503519</th>\n",
       "      <th>GSM1503514</th>\n",
       "      <th>GSM1503527</th>\n",
       "      <th>GSM1503526</th>\n",
       "      <th>GSM1503515</th>\n",
       "      <th>GSM1503528</th>\n",
       "      <th>GSM1503521</th>\n",
       "      <th>GSM1503530</th>\n",
       "      <th>GSM1503529</th>\n",
       "      <th>GSM1503524</th>\n",
       "    </tr>\n",
       "  </thead>\n",
       "  <tbody>\n",
       "    <tr>\n",
       "      <th>0</th>\n",
       "      <td>cg00000029</td>\n",
       "      <td>0.444118</td>\n",
       "      <td>0.392507</td>\n",
       "      <td>0.425686</td>\n",
       "      <td>0.433246</td>\n",
       "      <td>0.442146</td>\n",
       "      <td>0.464406</td>\n",
       "      <td>0.468714</td>\n",
       "      <td>0.417250</td>\n",
       "      <td>0.439145</td>\n",
       "      <td>0.418599</td>\n",
       "      <td>0.371849</td>\n",
       "      <td>0.388835</td>\n",
       "      <td>0.480720</td>\n",
       "      <td>0.389928</td>\n",
       "      <td>0.445130</td>\n",
       "      <td>0.447356</td>\n",
       "      <td>0.345492</td>\n",
       "    </tr>\n",
       "    <tr>\n",
       "      <th>1</th>\n",
       "      <td>cg00000108</td>\n",
       "      <td>0.901789</td>\n",
       "      <td>0.870694</td>\n",
       "      <td>0.893349</td>\n",
       "      <td>0.882807</td>\n",
       "      <td>0.851250</td>\n",
       "      <td>0.940102</td>\n",
       "      <td>0.881164</td>\n",
       "      <td>0.844728</td>\n",
       "      <td>0.913647</td>\n",
       "      <td>0.886446</td>\n",
       "      <td>0.880885</td>\n",
       "      <td>0.872607</td>\n",
       "      <td>0.803787</td>\n",
       "      <td>0.873710</td>\n",
       "      <td>0.873862</td>\n",
       "      <td>0.867505</td>\n",
       "      <td>0.880168</td>\n",
       "    </tr>\n",
       "  </tbody>\n",
       "</table>\n",
       "</div>"
      ],
      "text/plain": [
       "       ID_REF  GSM1503520  GSM1503516  GSM1503517  GSM1503522  GSM1503518  \\\n",
       "0  cg00000029    0.444118    0.392507    0.425686    0.433246    0.442146   \n",
       "1  cg00000108    0.901789    0.870694    0.893349    0.882807    0.851250   \n",
       "\n",
       "   GSM1503523  GSM1503525  GSM1503519  GSM1503514  GSM1503527  GSM1503526  \\\n",
       "0    0.464406    0.468714    0.417250    0.439145    0.418599    0.371849   \n",
       "1    0.940102    0.881164    0.844728    0.913647    0.886446    0.880885   \n",
       "\n",
       "   GSM1503515  GSM1503528  GSM1503521  GSM1503530  GSM1503529  GSM1503524  \n",
       "0    0.388835    0.480720    0.389928    0.445130    0.447356    0.345492  \n",
       "1    0.872607    0.803787    0.873710    0.873862    0.867505    0.880168  "
      ]
     },
     "execution_count": 5,
     "metadata": {},
     "output_type": "execute_result"
    }
   ],
   "source": [
    "import pandas as pd\n",
    "\n",
    "%cd Z:\\Project_Top2B\n",
    "df1 = pd.read_csv('CpGLists_Top2B.csv')\n",
    "\n",
    "%cd Z:\\Project_Top2B\\April_2023\\GSE61380\n",
    "df2 = pd.read_csv('GSE61380_Schiz.csv')\n",
    "\n",
    "print(df1.head(2))\n",
    "df2.head(2)"
   ]
  },
  {
   "cell_type": "code",
   "execution_count": 6,
   "id": "4017c135",
   "metadata": {
    "ExecuteTime": {
     "end_time": "2023-05-23T09:12:11.472668Z",
     "start_time": "2023-05-23T09:12:11.187427Z"
    }
   },
   "outputs": [
    {
     "name": "stdout",
     "output_type": "stream",
     "text": [
      "(4342, 18)\n"
     ]
    },
    {
     "data": {
      "text/html": [
       "<div>\n",
       "<style scoped>\n",
       "    .dataframe tbody tr th:only-of-type {\n",
       "        vertical-align: middle;\n",
       "    }\n",
       "\n",
       "    .dataframe tbody tr th {\n",
       "        vertical-align: top;\n",
       "    }\n",
       "\n",
       "    .dataframe thead th {\n",
       "        text-align: right;\n",
       "    }\n",
       "</style>\n",
       "<table border=\"1\" class=\"dataframe\">\n",
       "  <thead>\n",
       "    <tr style=\"text-align: right;\">\n",
       "      <th></th>\n",
       "      <th>CpG</th>\n",
       "      <th>GSM1503520</th>\n",
       "      <th>GSM1503516</th>\n",
       "      <th>GSM1503517</th>\n",
       "      <th>GSM1503522</th>\n",
       "      <th>GSM1503518</th>\n",
       "      <th>GSM1503523</th>\n",
       "      <th>GSM1503525</th>\n",
       "      <th>GSM1503519</th>\n",
       "      <th>GSM1503514</th>\n",
       "      <th>GSM1503527</th>\n",
       "      <th>GSM1503526</th>\n",
       "      <th>GSM1503515</th>\n",
       "      <th>GSM1503528</th>\n",
       "      <th>GSM1503521</th>\n",
       "      <th>GSM1503530</th>\n",
       "      <th>GSM1503529</th>\n",
       "      <th>GSM1503524</th>\n",
       "    </tr>\n",
       "  </thead>\n",
       "  <tbody>\n",
       "    <tr>\n",
       "      <th>0</th>\n",
       "      <td>cg00005072</td>\n",
       "      <td>0.727525</td>\n",
       "      <td>0.709357</td>\n",
       "      <td>0.671921</td>\n",
       "      <td>0.689505</td>\n",
       "      <td>0.645406</td>\n",
       "      <td>0.740533</td>\n",
       "      <td>0.634371</td>\n",
       "      <td>0.668023</td>\n",
       "      <td>0.649323</td>\n",
       "      <td>0.695718</td>\n",
       "      <td>0.661457</td>\n",
       "      <td>0.675431</td>\n",
       "      <td>0.638531</td>\n",
       "      <td>0.637411</td>\n",
       "      <td>0.632243</td>\n",
       "      <td>0.655843</td>\n",
       "      <td>0.653360</td>\n",
       "    </tr>\n",
       "    <tr>\n",
       "      <th>1</th>\n",
       "      <td>cg00010266</td>\n",
       "      <td>0.051425</td>\n",
       "      <td>0.051003</td>\n",
       "      <td>0.037140</td>\n",
       "      <td>0.062424</td>\n",
       "      <td>0.076150</td>\n",
       "      <td>0.066427</td>\n",
       "      <td>0.051796</td>\n",
       "      <td>0.057749</td>\n",
       "      <td>0.047078</td>\n",
       "      <td>0.048932</td>\n",
       "      <td>0.042175</td>\n",
       "      <td>0.054330</td>\n",
       "      <td>0.060692</td>\n",
       "      <td>0.045814</td>\n",
       "      <td>0.040800</td>\n",
       "      <td>0.054468</td>\n",
       "      <td>0.067704</td>\n",
       "    </tr>\n",
       "  </tbody>\n",
       "</table>\n",
       "</div>"
      ],
      "text/plain": [
       "          CpG  GSM1503520  GSM1503516  GSM1503517  GSM1503522  GSM1503518  \\\n",
       "0  cg00005072    0.727525    0.709357    0.671921    0.689505    0.645406   \n",
       "1  cg00010266    0.051425    0.051003    0.037140    0.062424    0.076150   \n",
       "\n",
       "   GSM1503523  GSM1503525  GSM1503519  GSM1503514  GSM1503527  GSM1503526  \\\n",
       "0    0.740533    0.634371    0.668023    0.649323    0.695718    0.661457   \n",
       "1    0.066427    0.051796    0.057749    0.047078    0.048932    0.042175   \n",
       "\n",
       "   GSM1503515  GSM1503528  GSM1503521  GSM1503530  GSM1503529  GSM1503524  \n",
       "0    0.675431    0.638531    0.637411    0.632243    0.655843    0.653360  \n",
       "1    0.054330    0.060692    0.045814    0.040800    0.054468    0.067704  "
      ]
     },
     "execution_count": 6,
     "metadata": {},
     "output_type": "execute_result"
    }
   ],
   "source": [
    "# Merge df1 and df2 on the common column 'col1'\n",
    "merged_df = pd.merge(df1, df2, how ='inner', left_on='CpG', right_on='ID_REF')\n",
    "\n",
    "# Drop the common column 'ID_REF'\n",
    "merged_df.drop('ID_REF', axis=1, inplace=True)\n",
    "merged_df.to_csv('GSE61380_Schiz_Top2b.csv', index = 'False')\n",
    "print(merged_df.shape)\n",
    "merged_df.head(2)"
   ]
  },
  {
   "cell_type": "code",
   "execution_count": null,
   "id": "319decf6",
   "metadata": {},
   "outputs": [],
   "source": []
  }
 ],
 "metadata": {
  "kernelspec": {
   "display_name": "Python 3 (ipykernel)",
   "language": "python",
   "name": "python3"
  },
  "language_info": {
   "codemirror_mode": {
    "name": "ipython",
    "version": 3
   },
   "file_extension": ".py",
   "mimetype": "text/x-python",
   "name": "python",
   "nbconvert_exporter": "python",
   "pygments_lexer": "ipython3",
   "version": "3.9.16"
  },
  "toc": {
   "base_numbering": 1,
   "nav_menu": {},
   "number_sections": true,
   "sideBar": true,
   "skip_h1_title": false,
   "title_cell": "Table of Contents",
   "title_sidebar": "Contents",
   "toc_cell": false,
   "toc_position": {},
   "toc_section_display": true,
   "toc_window_display": false
  },
  "varInspector": {
   "cols": {
    "lenName": 16,
    "lenType": 16,
    "lenVar": 40
   },
   "kernels_config": {
    "python": {
     "delete_cmd_postfix": "",
     "delete_cmd_prefix": "del ",
     "library": "var_list.py",
     "varRefreshCmd": "print(var_dic_list())"
    },
    "r": {
     "delete_cmd_postfix": ") ",
     "delete_cmd_prefix": "rm(",
     "library": "var_list.r",
     "varRefreshCmd": "cat(var_dic_list()) "
    }
   },
   "types_to_exclude": [
    "module",
    "function",
    "builtin_function_or_method",
    "instance",
    "_Feature"
   ],
   "window_display": false
  }
 },
 "nbformat": 4,
 "nbformat_minor": 5
}
