{
 "cells": [
  {
   "cell_type": "code",
   "execution_count": 1,
   "id": "8d011ef6",
   "metadata": {
    "ExecuteTime": {
     "end_time": "2023-06-23T15:55:21.498544Z",
     "start_time": "2023-06-23T15:55:20.619487Z"
    }
   },
   "outputs": [
    {
     "name": "stdout",
     "output_type": "stream",
     "text": [
      "Z:\\Project_Top2B\\April_2023\\regionwise\\cerebellum\\Diseased\n"
     ]
    }
   ],
   "source": [
    "import pandas as pd\n",
    "\n",
    "%cd Z:\\Project_Top2B\\April_2023\\regionwise\\cerebellum\\Diseased\n",
    "\n",
    "df1 = pd.read_csv('GSE53162_Top2b_cb_Auti1.csv')\n",
    "df2 = pd.read_csv('GSE134379_Top2b_cb_AD1.csv')\n",
    "df3 = pd.read_csv('GSE67748_Top2b_cb_HIV1.csv')\n",
    "df4 = pd.read_csv('GSE59457_Top2b_cb_HIV1.csv')\n",
    "df5 = pd.read_csv('GSE61431_Top2b_cb_Schiz1.csv')\n",
    "df6 = pd.read_csv('GSE105109_Top2b_cb_AD1.csv')\n",
    "df7 = pd.read_csv('GSE125895_Top2b_cb_AD1.csv')\n"
   ]
  },
  {
   "cell_type": "code",
   "execution_count": 2,
   "id": "a530b7dc",
   "metadata": {
    "ExecuteTime": {
     "end_time": "2023-06-23T15:55:21.593486Z",
     "start_time": "2023-06-23T15:55:21.501486Z"
    }
   },
   "outputs": [
    {
     "data": {
      "text/html": [
       "<div>\n",
       "<style scoped>\n",
       "    .dataframe tbody tr th:only-of-type {\n",
       "        vertical-align: middle;\n",
       "    }\n",
       "\n",
       "    .dataframe tbody tr th {\n",
       "        vertical-align: top;\n",
       "    }\n",
       "\n",
       "    .dataframe thead th {\n",
       "        text-align: right;\n",
       "    }\n",
       "</style>\n",
       "<table border=\"1\" class=\"dataframe\">\n",
       "  <thead>\n",
       "    <tr style=\"text-align: right;\">\n",
       "      <th></th>\n",
       "      <th>Sample_ID</th>\n",
       "      <th>GSM1283261</th>\n",
       "      <th>GSM1283262</th>\n",
       "      <th>GSM1283263</th>\n",
       "      <th>GSM1283264</th>\n",
       "      <th>GSM1283265</th>\n",
       "      <th>GSM1283266</th>\n",
       "      <th>GSM1283267</th>\n",
       "      <th>CBL_0004</th>\n",
       "      <th>CBL_0008</th>\n",
       "      <th>...</th>\n",
       "      <th>5-A06</th>\n",
       "      <th>1-A08</th>\n",
       "      <th>3-A09</th>\n",
       "      <th>4-B04</th>\n",
       "      <th>4-A06</th>\n",
       "      <th>1-B08</th>\n",
       "      <th>1-A06</th>\n",
       "      <th>1-A07</th>\n",
       "      <th>1-A05</th>\n",
       "      <th>2-B09</th>\n",
       "    </tr>\n",
       "  </thead>\n",
       "  <tbody>\n",
       "    <tr>\n",
       "      <th>0</th>\n",
       "      <td>Age</td>\n",
       "      <td>5.000000</td>\n",
       "      <td>14.000000</td>\n",
       "      <td>20.000000</td>\n",
       "      <td>8.000000</td>\n",
       "      <td>8.000000</td>\n",
       "      <td>39.000000</td>\n",
       "      <td>4.000000</td>\n",
       "      <td>79.000000</td>\n",
       "      <td>84.000000</td>\n",
       "      <td>...</td>\n",
       "      <td>84.110000</td>\n",
       "      <td>85.050000</td>\n",
       "      <td>86.850000</td>\n",
       "      <td>86.850000</td>\n",
       "      <td>87.38000</td>\n",
       "      <td>87.520000</td>\n",
       "      <td>88.520000</td>\n",
       "      <td>91.150000</td>\n",
       "      <td>91.86000</td>\n",
       "      <td>92.290000</td>\n",
       "    </tr>\n",
       "    <tr>\n",
       "      <th>1</th>\n",
       "      <td>cg00010266</td>\n",
       "      <td>0.079044</td>\n",
       "      <td>0.061192</td>\n",
       "      <td>0.058496</td>\n",
       "      <td>0.055641</td>\n",
       "      <td>0.064612</td>\n",
       "      <td>0.071116</td>\n",
       "      <td>0.069084</td>\n",
       "      <td>0.038422</td>\n",
       "      <td>0.040941</td>\n",
       "      <td>...</td>\n",
       "      <td>0.070045</td>\n",
       "      <td>0.069484</td>\n",
       "      <td>0.060639</td>\n",
       "      <td>0.072512</td>\n",
       "      <td>0.06507</td>\n",
       "      <td>0.052445</td>\n",
       "      <td>0.058908</td>\n",
       "      <td>0.054362</td>\n",
       "      <td>0.06956</td>\n",
       "      <td>0.057205</td>\n",
       "    </tr>\n",
       "  </tbody>\n",
       "</table>\n",
       "<p>2 rows × 426 columns</p>\n",
       "</div>"
      ],
      "text/plain": [
       "    Sample_ID  GSM1283261  GSM1283262  GSM1283263  GSM1283264  GSM1283265  \\\n",
       "0         Age    5.000000   14.000000   20.000000    8.000000    8.000000   \n",
       "1  cg00010266    0.079044    0.061192    0.058496    0.055641    0.064612   \n",
       "\n",
       "   GSM1283266  GSM1283267   CBL_0004   CBL_0008  ...      5-A06      1-A08  \\\n",
       "0   39.000000    4.000000  79.000000  84.000000  ...  84.110000  85.050000   \n",
       "1    0.071116    0.069084   0.038422   0.040941  ...   0.070045   0.069484   \n",
       "\n",
       "       3-A09      4-B04     4-A06      1-B08      1-A06      1-A07     1-A05  \\\n",
       "0  86.850000  86.850000  87.38000  87.520000  88.520000  91.150000  91.86000   \n",
       "1   0.060639   0.072512   0.06507   0.052445   0.058908   0.054362   0.06956   \n",
       "\n",
       "       2-B09  \n",
       "0  92.290000  \n",
       "1   0.057205  \n",
       "\n",
       "[2 rows x 426 columns]"
      ]
     },
     "execution_count": 2,
     "metadata": {},
     "output_type": "execute_result"
    }
   ],
   "source": [
    "# Create a list of dataframe names\n",
    "dfs = [df1, df2, df3, df4, df5, df6, df7]\n",
    "\n",
    "# Merge the dataframes based on the common names in the first column\n",
    "merged_df = dfs[0]  # Start with the first dataframe\n",
    "for df in dfs[1:]:\n",
    "    merged_df = merged_df.merge(df, on=merged_df.columns[0])\n",
    "\n",
    "# Print the merged dataframe\n",
    "merged_df.head(2)\n"
   ]
  },
  {
   "cell_type": "code",
   "execution_count": 3,
   "id": "cd358f62",
   "metadata": {
    "ExecuteTime": {
     "end_time": "2023-06-23T15:55:21.608514Z",
     "start_time": "2023-06-23T15:55:21.595485Z"
    }
   },
   "outputs": [
    {
     "data": {
      "text/plain": [
       "(3315, 426)"
      ]
     },
     "execution_count": 3,
     "metadata": {},
     "output_type": "execute_result"
    }
   ],
   "source": [
    "merged_df.shape"
   ]
  },
  {
   "cell_type": "code",
   "execution_count": 4,
   "id": "a58a776b",
   "metadata": {
    "ExecuteTime": {
     "end_time": "2023-06-23T15:55:23.181554Z",
     "start_time": "2023-06-23T15:55:21.610486Z"
    }
   },
   "outputs": [],
   "source": [
    "merged_df.to_csv('Merged_Top2B_Cerebellum_Diseased.csv')"
   ]
  }
 ],
 "metadata": {
  "kernelspec": {
   "display_name": "Python 3 (ipykernel)",
   "language": "python",
   "name": "python3"
  },
  "language_info": {
   "codemirror_mode": {
    "name": "ipython",
    "version": 3
   },
   "file_extension": ".py",
   "mimetype": "text/x-python",
   "name": "python",
   "nbconvert_exporter": "python",
   "pygments_lexer": "ipython3",
   "version": "3.9.16"
  },
  "toc": {
   "base_numbering": 1,
   "nav_menu": {},
   "number_sections": true,
   "sideBar": true,
   "skip_h1_title": false,
   "title_cell": "Table of Contents",
   "title_sidebar": "Contents",
   "toc_cell": false,
   "toc_position": {},
   "toc_section_display": true,
   "toc_window_display": false
  },
  "varInspector": {
   "cols": {
    "lenName": 16,
    "lenType": 16,
    "lenVar": 40
   },
   "kernels_config": {
    "python": {
     "delete_cmd_postfix": "",
     "delete_cmd_prefix": "del ",
     "library": "var_list.py",
     "varRefreshCmd": "print(var_dic_list())"
    },
    "r": {
     "delete_cmd_postfix": ") ",
     "delete_cmd_prefix": "rm(",
     "library": "var_list.r",
     "varRefreshCmd": "cat(var_dic_list()) "
    }
   },
   "types_to_exclude": [
    "module",
    "function",
    "builtin_function_or_method",
    "instance",
    "_Feature"
   ],
   "window_display": false
  }
 },
 "nbformat": 4,
 "nbformat_minor": 5
}
