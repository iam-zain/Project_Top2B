{
 "cells": [
  {
   "cell_type": "code",
   "execution_count": 3,
   "id": "8d011ef6",
   "metadata": {
    "ExecuteTime": {
     "end_time": "2023-05-22T10:20:29.264164Z",
     "start_time": "2023-05-22T10:20:17.707827Z"
    }
   },
   "outputs": [
    {
     "name": "stdout",
     "output_type": "stream",
     "text": [
      "Z:\\Project_Top2B\\April_2023\\Files_Top2B\\CpG_inRow\n"
     ]
    }
   ],
   "source": [
    "import pandas as pd\n",
    "\n",
    "%cd Z:\\Project_Top2B\\April_2023\\Files_Top2B\\CpG_inRow\n",
    "\n",
    "df1 = pd.read_csv('GSE40360_Top2b_Age.csv')\n",
    "df2 = pd.read_csv('GSE53162_Top2b_Age.csv')\n",
    "df3 = pd.read_csv('GSE59457_Top2b_Age.csv')\n",
    "df4 = pd.read_csv('GSE61380_Top2b_Age.csv')\n",
    "df5 = pd.read_csv('GSE61431_Top2b_Age.csv')\n",
    "df6 = pd.read_csv('GSE64509_Top2b_Age.csv')\n",
    "df7 = pd.read_csv('GSE66351_Top2b_Age.csv')\n",
    "df8 = pd.read_csv('GSE67748_Top2b_Age.csv')\n",
    "df9 = pd.read_csv('GSE67749_Top2b_Age.csv')\n",
    "df10 = pd.read_csv('GSE74193_Top2b_Age.csv')\n",
    "df11 = pd.read_csv('GSE76105_Top2b_Age.csv')\n",
    "df12 = pd.read_csv('GSE80970_Top2b_Age.csv')\n",
    "df13 = pd.read_csv('GSE89702_Top2b_Age.csv')\n",
    "df14 = pd.read_csv('GSE105109_Top2b_Age.csv')\n",
    "df15 = pd.read_csv('GSE109627_Top2b_Age.csv')\n",
    "df16 = pd.read_csv('GSE125895_Top2b_Age.csv')\n",
    "df17 = pd.read_csv('GSE134379_mtg_Top2b_Age.csv')\n",
    "df18 = pd.read_csv('GSE134379_cb_Top2b_Age.csv')\n"
   ]
  },
  {
   "cell_type": "code",
   "execution_count": 4,
   "id": "3fc91e9d",
   "metadata": {
    "ExecuteTime": {
     "end_time": "2023-05-22T10:20:45.803110Z",
     "start_time": "2023-05-22T10:20:30.229243Z"
    },
    "scrolled": true
   },
   "outputs": [
    {
     "name": "stderr",
     "output_type": "stream",
     "text": [
      "C:\\Users\\system 4\\AppData\\Local\\Temp\\ipykernel_10772\\2750079087.py:5: FutureWarning: Passing 'suffixes' which cause duplicate columns {'Unnamed: 1147_x', 'Unnamed: 1807_x', 'Unnamed: 566_x', 'Unnamed: 877_x', 'Unnamed: 304_x', 'Unnamed: 2526_x', 'Unnamed: 2777_x', 'Unnamed: 2696_x', 'Unnamed: 1993_x', 'Unnamed: 1587_x', 'Unnamed: 1042_x', 'Unnamed: 2226_x', 'Unnamed: 150_x', 'Unnamed: 666_x', 'Unnamed: 188_x', 'Unnamed: 292_x', 'Unnamed: 155_x', 'Unnamed: 545_x', 'Unnamed: 705_x', 'Unnamed: 1260_x', 'Unnamed: 611_x', 'Unnamed: 2138_x', 'Unnamed: 2087_x', 'Unnamed: 362_x', 'Unnamed: 166_x', 'Unnamed: 2008_x', 'Unnamed: 2122_x', 'Unnamed: 508_x', 'Unnamed: 2119_x', 'Unnamed: 1701_x', 'Unnamed: 2278_x', 'Unnamed: 244_x', 'Unnamed: 834_x', 'Unnamed: 1592_x', 'Unnamed: 1711_x', 'Unnamed: 1413_x', 'Unnamed: 1496_x', 'Unnamed: 1913_x', 'Unnamed: 971_x', 'Unnamed: 1834_x', 'Unnamed: 2440_x', 'Unnamed: 176_x', 'Unnamed: 239_x', 'Unnamed: 1153_x', 'Unnamed: 2394_x', 'Unnamed: 1440_x', 'Unnamed: 822_x', 'Unnamed: 1513_x', 'Unnamed: 1966_x', 'Unnamed: 584_x', 'Unnamed: 2195_x', 'Unnamed: 341_x', 'Unnamed: 1845_x', 'Unnamed: 2381_x', 'Unnamed: 718_x', 'Unnamed: 769_x', 'Unnamed: 2091_x', 'Unnamed: 419_x', 'Unnamed: 2198_x', 'Unnamed: 1239_x', 'Unnamed: 1249_x', 'Unnamed: 1702_x', 'Unnamed: 432_x', 'Unnamed: 777_x', 'Unnamed: 1570_x', 'Unnamed: 2011_x', 'Unnamed: 1521_x', 'Unnamed: 261_x', 'Unnamed: 1425_x', 'Unnamed: 256_x', 'Unnamed: 2107_x', 'Unnamed: 2625_x', 'Unnamed: 396_x', 'Unnamed: 1320_x', 'Unnamed: 145_x', 'Unnamed: 1880_x', 'Unnamed: 2614_x', 'Unnamed: 854_x', 'Unnamed: 2039_x', 'Unnamed: 1036_x', 'Unnamed: 1919_x', 'Unnamed: 294_x', 'Unnamed: 1021_x', 'Unnamed: 2077_x', 'Unnamed: 1865_x', 'Unnamed: 1398_x', 'Unnamed: 1745_x', 'Unnamed: 1161_x', 'Unnamed: 1759_x', 'Unnamed: 2564_x', 'Unnamed: 1987_x', 'Unnamed: 236_x', 'Unnamed: 546_x', 'Unnamed: 185_x', 'Unnamed: 2108_x', 'Unnamed: 131_x', 'Unnamed: 1829_x', 'Unnamed: 811_x', 'Unnamed: 1414_x', 'Unnamed: 867_x', 'Unnamed: 1677_x', 'Unnamed: 1953_x', 'Unnamed: 1956_x', 'Unnamed: 1132_x', 'Unnamed: 2002_x', 'Unnamed: 452_x', 'Unnamed: 847_x', 'Unnamed: 156_x', 'Unnamed: 493_x', 'Unnamed: 1200_x', 'Unnamed: 2137_x', 'Unnamed: 2486_x', 'Unnamed: 2106_x', 'Unnamed: 880_x', 'Unnamed: 552_x', 'Unnamed: 1011_x', 'Unnamed: 216_x', 'Unnamed: 2667_x', 'Unnamed: 2085_x', 'Unnamed: 2579_x', 'Unnamed: 2082_x', 'Unnamed: 1904_x', 'Unnamed: 521_x', 'Unnamed: 2464_x', 'Unnamed: 2282_x', 'Unnamed: 855_x', 'Unnamed: 999_x', 'Unnamed: 2738_x', 'Unnamed: 989_x', 'Unnamed: 569_x', 'Unnamed: 1341_x', 'Unnamed: 204_x', 'Unnamed: 1860_x', 'Unnamed: 471_x', 'Unnamed: 1718_x', 'Unnamed: 1969_x', 'Unnamed: 2274_x', 'Unnamed: 428_x', 'Unnamed: 2253_x', 'Unnamed: 664_x', 'Unnamed: 249_x', 'Unnamed: 2429_x', 'Unnamed: 108_x', 'Unnamed: 2157_x', 'Unnamed: 182_x', 'Unnamed: 2441_x', 'Unnamed: 1881_x', 'Unnamed: 320_x', 'Unnamed: 2146_x', 'Unnamed: 2327_x', 'Unnamed: 2558_x', 'Unnamed: 1202_x', 'Unnamed: 1387_x', 'Unnamed: 2541_x', 'Unnamed: 326_x', 'Unnamed: 2713_x', 'Unnamed: 2773_x', 'Unnamed: 1417_x', 'Unnamed: 1144_x', 'Unnamed: 183_x', 'Unnamed: 1434_x', 'Unnamed: 2357_x', 'Unnamed: 2343_x', 'Unnamed: 1281_x', 'Unnamed: 2442_x', 'Unnamed: 95_x', 'Unnamed: 390_x', 'Unnamed: 1174_x', 'Unnamed: 2376_x', 'Unnamed: 1559_x', 'Unnamed: 653_x', 'Unnamed: 1526_x', 'Unnamed: 579_x', 'Unnamed: 1827_x', 'Unnamed: 2665_x', 'Unnamed: 496_x', 'Unnamed: 1165_x', 'Unnamed: 713_x', 'Unnamed: 1498_x', 'Unnamed: 700_x', 'Unnamed: 1315_x', 'Unnamed: 2395_x', 'Unnamed: 2786_x', 'Unnamed: 1557_x', 'Unnamed: 2354_x', 'Unnamed: 1073_x', 'Unnamed: 352_x', 'Unnamed: 283_x', 'Unnamed: 771_x', 'Unnamed: 268_x', 'Unnamed: 1240_x', 'Unnamed: 2130_x', 'Unnamed: 883_x', 'Unnamed: 1820_x', 'Unnamed: 2281_x', 'Unnamed: 359_x', 'Unnamed: 2158_x', 'Unnamed: 2672_x', 'Unnamed: 585_x', 'Unnamed: 472_x', 'Unnamed: 1211_x', 'Unnamed: 1874_x', 'Unnamed: 305_x', 'Unnamed: 753_x', 'Unnamed: 1269_x', 'Unnamed: 1445_x', 'Unnamed: 910_x', 'Unnamed: 1927_x', 'Unnamed: 1571_x', 'Unnamed: 717_x', 'Unnamed: 473_x', 'Unnamed: 697_x', 'Unnamed: 2649_x', 'Unnamed: 100_x', 'Unnamed: 773_x', 'Unnamed: 809_x', 'Unnamed: 1412_x', 'Unnamed: 2669_x', 'Unnamed: 953_x', 'Unnamed: 929_x', 'Unnamed: 1458_x', 'Unnamed: 931_x', 'Unnamed: 218_x', 'Unnamed: 2693_x', 'Unnamed: 788_x', 'Unnamed: 572_x', 'Unnamed: 885_x', 'Unnamed: 356_x', 'Unnamed: 360_x', 'Unnamed: 945_x', 'Unnamed: 1244_x', 'Unnamed: 2044_x', 'Unnamed: 2035_x', 'Unnamed: 1785_x', 'Unnamed: 1224_x', 'Unnamed: 789_x', 'Unnamed: 117_x', 'Unnamed: 2377_x', 'Unnamed: 1651_x', 'Unnamed: 2144_x', 'Unnamed: 348_x', 'Unnamed: 1288_x', 'Unnamed: 984_x', 'Unnamed: 926_x', 'Unnamed: 2154_x', 'Unnamed: 2660_x', 'Unnamed: 1077_x', 'Unnamed: 2086_x', 'Unnamed: 421_x', 'Unnamed: 1389_x', 'Unnamed: 1734_x', 'Unnamed: 2348_x', 'Unnamed: 1682_x', 'Unnamed: 1080_x', 'Unnamed: 1897_x', 'Unnamed: 952_x', 'Unnamed: 1790_x', 'Unnamed: 628_x', 'Unnamed: 571_x', 'Unnamed: 88_x', 'Unnamed: 2167_x', 'Unnamed: 2547_x', 'Unnamed: 1351_x', 'Unnamed: 1133_x', 'Unnamed: 2349_x', 'Unnamed: 1854_x', 'Unnamed: 1896_x', 'Unnamed: 1172_x', 'Unnamed: 2216_x', 'Unnamed: 2173_x', 'Unnamed: 2664_x', 'Unnamed: 1155_x', 'Unnamed: 2494_x', 'Unnamed: 1009_x', 'Unnamed: 1210_x', 'Unnamed: 1866_x', 'Unnamed: 615_x', 'Unnamed: 241_x', 'Unnamed: 1864_x', 'Unnamed: 177_x', 'Unnamed: 1246_x', 'Unnamed: 2237_x', 'Unnamed: 917_x', 'Unnamed: 618_x', 'Unnamed: 1744_x', 'Unnamed: 2067_x', 'Unnamed: 513_x', 'Unnamed: 529_x', 'Unnamed: 695_x', 'Unnamed: 1594_x', 'Unnamed: 332_x', 'Unnamed: 2084_x', 'Unnamed: 167_x', 'Unnamed: 864_x', 'Unnamed: 2256_x', 'Unnamed: 387_x', 'Unnamed: 129_x', 'Unnamed: 2175_x', 'Unnamed: 1313_x', 'Unnamed: 2575_x', 'Unnamed: 2289_x', 'Unnamed: 1268_x', 'Unnamed: 1999_x', 'Unnamed: 2717_x', 'Unnamed: 1524_x', 'Unnamed: 1616_x', 'Unnamed: 435_x', 'Unnamed: 293_x', 'Unnamed: 747_x', 'Unnamed: 2720_x', 'Unnamed: 430_x', 'Unnamed: 2215_x', 'Unnamed: 330_x', 'Unnamed: 1777_x', 'Unnamed: 1867_x', 'Unnamed: 1510_x', 'Unnamed: 1728_x', 'Unnamed: 655_x', 'Unnamed: 624_x', 'Unnamed: 2264_x', 'Unnamed: 2252_x', 'Unnamed: 1750_x', 'Unnamed: 1835_x', 'Unnamed: 949_x', 'Unnamed: 2565_x', 'Unnamed: 2432_x', 'Unnamed: 1959_x', 'Unnamed: 1811_x', 'Unnamed: 87_x', 'Unnamed: 1580_x', 'Unnamed: 1319_x', 'Unnamed: 366_x', 'Unnamed: 1806_x', 'Unnamed: 802_x', 'Unnamed: 737_x', 'Unnamed: 2616_x', 'Unnamed: 577_x', 'Unnamed: 2391_x', 'Unnamed: 2629_x', 'Unnamed: 671_x', 'Unnamed: 1217_x', 'Unnamed: 1519_x', 'Unnamed: 941_x', 'Unnamed: 1424_x', 'Unnamed: 254_x', 'Unnamed: 175_x', 'Unnamed: 324_x', 'Unnamed: 1950_x', 'Unnamed: 2220_x', 'Unnamed: 1579_x', 'Unnamed: 2047_x', 'Unnamed: 1250_x', 'Unnamed: 280_x', 'Unnamed: 540_x', 'Unnamed: 1525_x', 'Unnamed: 2599_x', 'Unnamed: 2351_x', 'Unnamed: 2422_x', 'Unnamed: 1673_x', 'Unnamed: 1517_x', 'Unnamed: 2506_x', 'Unnamed: 1973_x', 'Unnamed: 1906_x', 'Unnamed: 1545_x', 'Unnamed: 677_x', 'Unnamed: 1674_x', 'Unnamed: 2699_x', 'Unnamed: 1600_x', 'Unnamed: 983_x', 'Unnamed: 1648_x', 'Unnamed: 1317_x', 'Unnamed: 654_x', 'Unnamed: 944_x', 'Unnamed: 243_x', 'Unnamed: 1446_x', 'Unnamed: 1274_x', 'Unnamed: 561_x', 'Unnamed: 1837_x', 'Unnamed: 870_x', 'Unnamed: 2299_x', 'Unnamed: 315_x', 'Unnamed: 1058_x', 'Unnamed: 92_x', 'Unnamed: 798_x', 'Unnamed: 2311_x', 'Unnamed: 1775_x', 'Unnamed: 961_x', 'Unnamed: 623_x', 'Unnamed: 1581_x', 'Unnamed: 1802_x', 'Unnamed: 2745_x', 'Unnamed: 2003_x', 'Unnamed: 118_x', 'Unnamed: 223_x', 'Unnamed: 1129_x', 'Unnamed: 1735_x', 'Unnamed: 2049_x', 'Unnamed: 2320_x', 'Unnamed: 2706_x', 'Unnamed: 1340_x', 'Unnamed: 1960_x', 'Unnamed: 219_x', 'Unnamed: 110_x', 'Unnamed: 2191_x', 'Unnamed: 1499_x', 'Unnamed: 1766_x', 'Unnamed: 2110_x', 'Unnamed: 2459_x', 'Unnamed: 2116_x', 'Unnamed: 1088_x', 'Unnamed: 2675_x', 'Unnamed: 1005_x', 'Unnamed: 291_x', 'Unnamed: 1006_x', 'Unnamed: 1016_x', 'Unnamed: 1532_x', 'Unnamed: 1550_x', 'Unnamed: 227_x', 'Unnamed: 331_x', 'Unnamed: 2642_x', 'Unnamed: 1471_x', 'Unnamed: 1797_x', 'Unnamed: 539_x', 'Unnamed: 2094_x', 'Unnamed: 939_x', 'Unnamed: 1804_x', 'Unnamed: 1348_x', 'Unnamed: 274_x', 'Unnamed: 2098_x', 'Unnamed: 2600_x', 'Unnamed: 2551_x', 'Unnamed: 1223_x', 'Unnamed: 152_x', 'Unnamed: 453_x', 'Unnamed: 1656_x', 'Unnamed: 2572_x', 'Unnamed: 1879_x', 'Unnamed: 684_x', 'Unnamed: 2019_x', 'Unnamed: 1349_x', 'Unnamed: 378_x', 'Unnamed: 1012_x', 'Unnamed: 1182_x', 'Unnamed: 474_x', 'Unnamed: 1564_x', 'Unnamed: 1193_x', 'Unnamed: 1472_x', 'Unnamed: 2234_x', 'Unnamed: 1791_x', 'Unnamed: 2522_x', 'Unnamed: 2577_x', 'Unnamed: 1371_x', 'Unnamed: 1779_x', 'Unnamed: 1784_x', 'Unnamed: 1479_x', 'Unnamed: 2531_x', 'Unnamed: 2710_x', 'Unnamed: 367_x', 'Unnamed: 301_x', 'Unnamed: 445_x', 'Unnamed: 494_x', 'Unnamed: 2259_x', 'Unnamed: 372_x', 'Unnamed: 1310_x', 'Unnamed: 2731_x', 'Unnamed: 318_x', 'Unnamed: 1637_x', 'Unnamed: 692_x', 'Unnamed: 957_x', 'Unnamed: 2170_x', 'Unnamed: 2479_x', 'Unnamed: 2697_x', 'Unnamed: 1507_x', 'Unnamed: 1404_x', 'Unnamed: 2059_x', 'Unnamed: 1700_x', 'Unnamed: 1140_x', 'Unnamed: 2748_x', 'Unnamed: 644_x', 'Unnamed: 662_x', 'Unnamed: 1015_x', 'Unnamed: 2639_x', 'Unnamed: 1027_x', 'Unnamed: 1395_x', 'Unnamed: 895_x', 'Unnamed: 2182_x', 'Unnamed: 1907_x', 'Unnamed: 2390_x', 'Unnamed: 380_x', 'Unnamed: 1423_x', 'Unnamed: 1453_x', 'Unnamed: 1666_x', 'Unnamed: 531_x', 'Unnamed: 2287_x', 'Unnamed: 490_x', 'Unnamed: 355_x', 'Unnamed: 2063_x', 'Unnamed: 144_x', 'Unnamed: 1504_x', 'Unnamed: 309_x', 'Unnamed: 1706_x', 'Unnamed: 1485_x', 'Unnamed: 2658_x', 'Unnamed: 343_x', 'Unnamed: 906_x', 'Unnamed: 806_x', 'Unnamed: 1388_x', 'Unnamed: 1127_x', 'Unnamed: 601_x', 'Unnamed: 1060_x', 'Unnamed: 1437_x', 'Unnamed: 1199_x', 'Unnamed: 815_x', 'Unnamed: 123_x', 'Unnamed: 101_x', 'Unnamed: 2133_x', 'Unnamed: 135_x', 'Unnamed: 716_x', 'Unnamed: 2050_x', 'Unnamed: 2405_x', 'Unnamed: 1495_x', 'Unnamed: 2647_x', 'Unnamed: 2184_x', 'Unnamed: 1489_x', 'Unnamed: 2532_x', 'Unnamed: 1062_x', 'Unnamed: 2527_x', 'Unnamed: 557_x', 'Unnamed: 302_x', 'Unnamed: 382_x', 'Unnamed: 964_x', 'Unnamed: 313_x', 'Unnamed: 1033_x', 'Unnamed: 1300_x', 'Unnamed: 1601_x', 'Unnamed: 743_x', 'Unnamed: 1898_x', 'Unnamed: 1796_x', 'Unnamed: 1096_x', 'Unnamed: 181_x', 'Unnamed: 786_x', 'Unnamed: 2022_x', 'Unnamed: 977_x', 'Unnamed: 1156_x', 'Unnamed: 1467_x', 'Unnamed: 197_x', 'Unnamed: 1689_x', 'Unnamed: 2549_x', 'Unnamed: 1527_x', 'Unnamed: 607_x', 'Unnamed: 745_x', 'Unnamed: 282_x', 'Unnamed: 523_x', 'Unnamed: 972_x', 'Unnamed: 1003_x', 'Unnamed: 1031_x', 'Unnamed: 2674_x', 'Unnamed: 127_x', 'Unnamed: 2581_x', 'Unnamed: 339_x', 'Unnamed: 1947_x', 'Unnamed: 2190_x', 'Unnamed: 109_x', 'Unnamed: 2632_x', 'Unnamed: 2726_x', 'Unnamed: 2301_x', 'Unnamed: 1066_x', 'Unnamed: 2404_x', 'Unnamed: 2384_x', 'Unnamed: 2765_x', 'Unnamed: 924_x', 'Unnamed: 2636_x', 'Unnamed: 2610_x', 'Unnamed: 839_x', 'Unnamed: 1751_x', 'Unnamed: 2238_x', 'Unnamed: 328_x', 'Unnamed: 126_x', 'Unnamed: 992_x', 'Unnamed: 481_x', 'Unnamed: 1228_x', 'Unnamed: 1173_x', 'Unnamed: 168_x', 'Unnamed: 732_x', 'Unnamed: 2469_x', 'Unnamed: 2668_x', 'Unnamed: 1087_x', 'Unnamed: 1556_x', 'Unnamed: 1393_x', 'Unnamed: 1709_x', 'Unnamed: 783_x', 'Unnamed: 2189_x', 'Unnamed: 2269_x', 'Unnamed: 2172_x', 'Unnamed: 1191_x', 'Unnamed: 2140_x', 'Unnamed: 524_x', 'Unnamed: 1813_x', 'Unnamed: 516_x', 'Unnamed: 667_x', 'Unnamed: 2707_x', 'Unnamed: 1668_x', 'Unnamed: 688_x', 'Unnamed: 264_x', 'Unnamed: 731_x', 'Unnamed: 1636_x', 'Unnamed: 1817_x', 'Unnamed: 2524_x', 'Unnamed: 2202_x', 'Unnamed: 2488_x', 'Unnamed: 1628_x', 'Unnamed: 2261_x', 'Unnamed: 2677_x', 'Unnamed: 1151_x', 'Unnamed: 1531_x', 'Unnamed: 1754_x', 'Unnamed: 2437_x', 'Unnamed: 2156_x', 'Unnamed: 911_x', 'Unnamed: 1627_x', 'Unnamed: 278_x', 'Unnamed: 1833_x', 'Unnamed: 2714_x', 'Unnamed: 2367_x', 'Unnamed: 2276_x', 'Unnamed: 184_x', 'Unnamed: 510_x', 'Unnamed: 506_x', 'Unnamed: 2325_x', 'Unnamed: 2474_x', 'Unnamed: 2451_x', 'Unnamed: 683_x', 'Unnamed: 746_x', 'Unnamed: 1447_x', 'Unnamed: 470_x', 'Unnamed: 805_x', 'Unnamed: 2052_x', 'Unnamed: 2295_x', 'Unnamed: 171_x', 'Unnamed: 169_x', 'Unnamed: 1114_x', 'Unnamed: 1046_x', 'Unnamed: 1190_x', 'Unnamed: 1572_x', 'Unnamed: 534_x', 'Unnamed: 2521_x', 'Unnamed: 2072_x', 'Unnamed: 831_x', 'Unnamed: 2513_x', 'Unnamed: 258_x', 'Unnamed: 819_x', 'Unnamed: 1262_x', 'Unnamed: 307_x', 'Unnamed: 2623_x', 'Unnamed: 2640_x', 'Unnamed: 1529_x', 'Unnamed: 2601_x', 'Unnamed: 997_x', 'Unnamed: 1041_x', 'Unnamed: 212_x', 'Unnamed: 2161_x', 'Unnamed: 1039_x', 'Unnamed: 2778_x', 'Unnamed: 1053_x', 'Unnamed: 974_x', 'Unnamed: 2398_x', 'Unnamed: 2200_x', 'Unnamed: 959_x', 'Unnamed: 436_x', 'Unnamed: 1688_x', 'Unnamed: 804_x', 'Unnamed: 1547_x', 'Unnamed: 1254_x', 'Unnamed: 850_x', 'Unnamed: 2265_x', 'Unnamed: 2655_x', 'Unnamed: 1314_x', 'Unnamed: 2690_x', 'Unnamed: 406_x', 'Unnamed: 725_x', 'Unnamed: 147_x', 'Unnamed: 1328_x', 'Unnamed: 2528_x', 'Unnamed: 752_x', 'Unnamed: 1604_x', 'Unnamed: 2344_x', 'Unnamed: 1723_x', 'Unnamed: 2092_x', 'Unnamed: 2480_x', 'Unnamed: 2556_x', 'Unnamed: 1889_x', 'Unnamed: 1488_x', 'Unnamed: 1067_x', 'Unnamed: 1773_x', 'Unnamed: 1335_x', 'Unnamed: 930_x', 'Unnamed: 2177_x', 'Unnamed: 2443_x', 'Unnamed: 2722_x', 'Unnamed: 1163_x', 'Unnamed: 955_x', 'Unnamed: 1189_x', 'Unnamed: 1294_x', 'Unnamed: 1620_x', 'Unnamed: 2136_x', 'Unnamed: 541_x', 'Unnamed: 1669_x', 'Unnamed: 2245_x', 'Unnamed: 2389_x', 'Unnamed: 587_x', 'Unnamed: 1936_x', 'Unnamed: 2296_x', 'Unnamed: 1364_x', 'Unnamed: 2225_x', 'Unnamed: 2166_x', 'Unnamed: 740_x', 'Unnamed: 1432_x', 'Unnamed: 1562_x', 'Unnamed: 1511_x', 'Unnamed: 267_x', 'Unnamed: 915_x', 'Unnamed: 1717_x', 'Unnamed: 242_x', 'Unnamed: 758_x', 'Unnamed: 1177_x', 'Unnamed: 2222_x', 'Unnamed: 195_x', 'Unnamed: 347_x', 'Unnamed: 192_x', 'Unnamed: 1025_x', 'Unnamed: 670_x', 'Unnamed: 909_x', 'Unnamed: 1685_x', 'Unnamed: 1650_x', 'Unnamed: 336_x', 'Unnamed: 937_x', 'Unnamed: 2401_x', 'Unnamed: 538_x', 'Unnamed: 985_x', 'Unnamed: 229_x', 'Unnamed: 1826_x', 'Unnamed: 940_x', 'Unnamed: 2080_x', 'Unnamed: 2388_x', 'Unnamed: 1397_x', 'Unnamed: 1748_x', 'Unnamed: 1931_x', 'Unnamed: 967_x', 'Unnamed: 1390_x', 'Unnamed: 2034_x', 'Unnamed: 119_x', 'Unnamed: 844_x', 'Unnamed: 2476_x', 'Unnamed: 2010_x', 'Unnamed: 2134_x', 'Unnamed: 186_x', 'Unnamed: 2487_x', 'Unnamed: 1054_x', 'Unnamed: 1360_x', 'Unnamed: 1951_x', 'Unnamed: 2330_x', 'Unnamed: 1233_x', 'Unnamed: 1868_x', 'Unnamed: 1157_x', 'Unnamed: 2306_x', 'Unnamed: 1549_x', 'Unnamed: 744_x', 'Unnamed: 270_x', 'Unnamed: 170_x', 'Unnamed: 1474_x', 'Unnamed: 1086_x', 'Unnamed: 1305_x', 'Unnamed: 2458_x', 'Unnamed: 505_x', 'Unnamed: 427_x', 'Unnamed: 518_x', 'Unnamed: 1586_x', 'Unnamed: 2194_x', 'Unnamed: 629_x', 'Unnamed: 2370_x', 'Unnamed: 2619_x', 'Unnamed: 438_x', 'Unnamed: 1235_x', 'Unnamed: 107_x', 'Unnamed: 1942_x', 'Unnamed: 2025_x', 'Unnamed: 1652_x', 'Unnamed: 2211_x', 'Unnamed: 665_x', 'Unnamed: 2224_x', 'Unnamed: 2112_x', 'Unnamed: 627_x', 'Unnamed: 2744_x', 'Unnamed: 1303_x', 'Unnamed: 2018_x', 'Unnamed: 656_x', 'Unnamed: 1457_x', 'Unnamed: 482_x', 'Unnamed: 2033_x', 'Unnamed: 1615_x', 'Unnamed: 1606_x', 'Unnamed: 1963_x', 'Unnamed: 592_x', 'Unnamed: 907_x', 'Unnamed: 551_x', 'Unnamed: 998_x', 'Unnamed: 2045_x', 'Unnamed: 1554_x', 'Unnamed: 489_x', 'Unnamed: 1805_x', 'Unnamed: 1379_x', 'Unnamed: 2622_x', 'Unnamed: 1810_x', 'Unnamed: 2322_x', 'Unnamed: 2535_x', 'Unnamed: 2756_x', 'Unnamed: 1355_x', 'Unnamed: 733_x', 'Unnamed: 596_x', 'Unnamed: 410_x', 'Unnamed: 612_x', 'Unnamed: 120_x', 'Unnamed: 525_x', 'Unnamed: 86_x', 'Unnamed: 772_x', 'Unnamed: 1356_x', 'Unnamed: 1232_x', 'Unnamed: 1850_x', 'Unnamed: 1023_x', 'Unnamed: 1252_x', 'Unnamed: 1675_x', 'Unnamed: 995_x', 'Unnamed: 2078_x', 'Unnamed: 1540_x', 'Unnamed: 1590_x', 'Unnamed: 403_x', 'Unnamed: 2724_x', 'Unnamed: 2514_x', 'Unnamed: 1781_x', 'Unnamed: 1480_x', 'Unnamed: 2113_x', 'Unnamed: 2504_x', 'Unnamed: 797_x', 'Unnamed: 2314_x', 'Unnamed: 519_x', 'Unnamed: 921_x', 'Unnamed: 1032_x', 'Unnamed: 860_x', 'Unnamed: 963_x', 'Unnamed: 217_x', 'Unnamed: 2152_x', 'Unnamed: 1150_x', 'Unnamed: 1831_x', 'Unnamed: 2687_x', 'Unnamed: 271_x', 'Unnamed: 2445_x', 'Unnamed: 1501_x', 'Unnamed: 1841_x', 'Unnamed: 1178_x', 'Unnamed: 1684_x', 'Unnamed: 98_x', 'Unnamed: 2099_x', 'Unnamed: 1902_x', 'Unnamed: 2355_x', 'Unnamed: 646_x', 'Unnamed: 1030_x', 'Unnamed: 250_x', 'Unnamed: 2298_x', 'Unnamed: 1922_x', 'Unnamed: 2329_x', 'Unnamed: 1234_x', 'Unnamed: 1595_x', 'Unnamed: 807_x', 'Unnamed: 588_x', 'Unnamed: 1307_x', 'Unnamed: 1098_x', 'Unnamed: 803_x', 'Unnamed: 1976_x', 'Unnamed: 535_x', 'Unnamed: 2027_x', 'Unnamed: 702_x', 'Unnamed: 1186_x', 'Unnamed: 393_x', 'Unnamed: 956_x', 'Unnamed: 1081_x', 'Unnamed: 2317_x', 'Unnamed: 420_x', 'Unnamed: 1286_x', 'Unnamed: 162_x', 'Unnamed: 458_x', 'Unnamed: 676_x', 'Unnamed: 1082_x', 'Unnamed: 1346_x', 'Unnamed: 2093_x', 'Unnamed: 2038_x', 'Unnamed: 522_x', 'Unnamed: 1699_x', 'Unnamed: 2776_x', 'Unnamed: 222_x', 'Unnamed: 2430_x', 'Unnamed: 845_x', 'Unnamed: 2302_x', 'Unnamed: 2356_x', 'Unnamed: 501_x', 'Unnamed: 1849_x', 'Unnamed: 312_x', 'Unnamed: 617_x', 'Unnamed: 1284_x', 'Unnamed: 820_x', 'Unnamed: 1584_x', 'Unnamed: 1923_x', 'Unnamed: 1614_x', 'Unnamed: 466_x', 'Unnamed: 912_x', 'Unnamed: 2064_x', 'Unnamed: 2650_x', 'Unnamed: 1362_x', 'Unnamed: 265_x', 'Unnamed: 848_x', 'Unnamed: 1454_x', 'Unnamed: 1997_x', 'Unnamed: 2068_x', 'Unnamed: 448_x', 'Unnamed: 417_x', 'Unnamed: 678_x', 'Unnamed: 796_x', 'Unnamed: 1924_x', 'Unnamed: 526_x', 'Unnamed: 1830_x', 'Unnamed: 582_x', 'Unnamed: 2725_x', 'Unnamed: 2368_x', 'Unnamed: 1037_x', 'Unnamed: 969_x', 'Unnamed: 1344_x', 'Unnamed: 897_x', 'Unnamed: 843_x', 'Unnamed: 1998_x', 'Unnamed: 2645_x', 'Unnamed: 2767_x', 'Unnamed: 1146_x', 'Unnamed: 322_x', 'Unnamed: 1643_x', 'Unnamed: 2627_x', 'Unnamed: 2554_x', 'Unnamed: 1121_x', 'Unnamed: 993_x', 'Unnamed: 1839_x', 'Unnamed: 2148_x', 'Unnamed: 574_x', 'Unnamed: 1984_x', 'Unnamed: 1208_x', 'Unnamed: 1955_x', 'Unnamed: 2036_x', 'Unnamed: 2372_x', 'Unnamed: 340_x', 'Unnamed: 973_x', 'Unnamed: 2272_x', 'Unnamed: 2500_x', 'Unnamed: 447_x', 'Unnamed: 2733_x', 'Unnamed: 499_x', 'Unnamed: 1354_x', 'Unnamed: 364_x', 'Unnamed: 1768_x', 'Unnamed: 2043_x', 'Unnamed: 142_x', 'Unnamed: 1523_x', 'Unnamed: 1609_x', 'Unnamed: 444_x', 'Unnamed: 2462_x', 'Unnamed: 1539_x', 'Unnamed: 1515_x', 'Unnamed: 590_x', 'Unnamed: 1763_x', 'Unnamed: 1321_x', 'Unnamed: 1384_x', 'Unnamed: 2147_x', 'Unnamed: 2288_x', 'Unnamed: 2403_x', 'Unnamed: 277_x', 'Unnamed: 559_x', 'Unnamed: 2463_x', 'Unnamed: 1094_x', 'Unnamed: 1270_x', 'Unnamed: 2416_x', 'Unnamed: 1289_x', 'Unnamed: 2485_x', 'Unnamed: 2611_x', 'Unnamed: 1626_x', 'Unnamed: 1283_x', 'Unnamed: 2689_x', 'Unnamed: 958_x', 'Unnamed: 640_x', 'Unnamed: 211_x', 'Unnamed: 154_x', 'Unnamed: 1089_x', 'Unnamed: 138_x', 'Unnamed: 246_x', 'Unnamed: 894_x', 'Unnamed: 2626_x', 'Unnamed: 1093_x', 'Unnamed: 2312_x', 'Unnamed: 2271_x', 'Unnamed: 2001_x', 'Unnamed: 2529_x', 'Unnamed: 1967_x', 'Unnamed: 1431_x', 'Unnamed: 1106_x', 'Unnamed: 1631_x', 'Unnamed: 363_x', 'Unnamed: 1658_x', 'Unnamed: 2293_x', 'Unnamed: 1109_x', 'Unnamed: 2410_x', 'Unnamed: 1486_x', 'Unnamed: 149_x', 'Unnamed: 1282_x', 'Unnamed: 2336_x', 'Unnamed: 630_x', 'Unnamed: 325_x', 'Unnamed: 502_x', 'Unnamed: 603_x', 'Unnamed: 1995_x', 'Unnamed: 2652_x', 'Unnamed: 2231_x', 'Unnamed: 2448_x', 'Unnamed: 1502_x', 'Unnamed: 942_x', 'Unnamed: 1079_x', 'Unnamed: 449_x', 'Unnamed: 2571_x', 'Unnamed: 1535_x', 'Unnamed: 1681_x', 'Unnamed: 563_x', 'Unnamed: 173_x', 'Unnamed: 1091_x', 'Unnamed: 2179_x', 'Unnamed: 723_x', 'Unnamed: 1541_x', 'Unnamed: 900_x', 'Unnamed: 2755_x', 'Unnamed: 2088_x', 'Unnamed: 1203_x', 'Unnamed: 1774_x', 'Unnamed: 368_x', 'Unnamed: 203_x', 'Unnamed: 2561_x', 'Unnamed: 1733_x', 'Unnamed: 2151_x', 'Unnamed: 1704_x', 'Unnamed: 2040_x', 'Unnamed: 198_x', 'Unnamed: 2007_x', 'Unnamed: 96_x', 'Unnamed: 440_x', 'Unnamed: 1622_x', 'Unnamed: 1941_x', 'Unnamed: 2358_x', 'Unnamed: 220_x', 'Unnamed: 297_x', 'Unnamed: 2495_x', 'Unnamed: 2569_x', 'Unnamed: 846_x', 'Unnamed: 210_x', 'Unnamed: 2192_x', 'Unnamed: 791_x', 'Unnamed: 1225_x', 'Unnamed: 1574_x', 'Unnamed: 1738_x', 'Unnamed: 2235_x', 'Unnamed: 2313_x', 'Unnamed: 187_x', 'Unnamed: 1322_x', 'Unnamed: 2031_x', 'Unnamed: 835_x', 'Unnamed: 1534_x', 'Unnamed: 2076_x', 'Unnamed: 605_x', 'Unnamed: 878_x', 'Unnamed: 1159_x', 'Unnamed: 981_x', 'Unnamed: 1771_x', 'Unnamed: 1908_x', 'Unnamed: 715_x', 'Unnamed: 2095_x', 'Unnamed: 1333_x', 'Unnamed: 1326_x', 'Unnamed: 1285_x', 'Unnamed: 2746_x', 'Unnamed: 1072_x', 'Unnamed: 1977_x', 'Unnamed: 91_x', 'Unnamed: 2588_x', 'Unnamed: 648_x', 'Unnamed: 608_x', 'Unnamed: 130_x', 'Unnamed: 768_x', 'Unnamed: 962_x', 'Unnamed: 2379_x', 'Unnamed: 2730_x', 'Unnamed: 2594_x', 'Unnamed: 583_x', 'Unnamed: 781_x', 'Unnamed: 2598_x', 'Unnamed: 1013_x', 'Unnamed: 2735_x', 'Unnamed: 1123_x', 'Unnamed: 462_x', 'Unnamed: 121_x', 'Unnamed: 2232_x', 'Unnamed: 2419_x', 'Unnamed: 426_x', 'Unnamed: 1212_x', 'Unnamed: 1378_x', 'Unnamed: 460_x', 'Unnamed: 1561_x', 'Unnamed: 1911_x', 'Unnamed: 1113_x', 'Unnamed: 794_x', 'Unnamed: 785_x', 'Unnamed: 1974_x', 'Unnamed: 2460_x', 'Unnamed: 923_x', 'Unnamed: 2117_x', 'Unnamed: 2339_x', 'Unnamed: 2180_x', 'Unnamed: 765_x', 'Unnamed: 555_x', 'Unnamed: 2477_x', 'Unnamed: 1171_x', 'Unnamed: 237_x', 'Unnamed: 2345_x', 'Unnamed: 602_x', 'Unnamed: 1703_x', 'Unnamed: 2548_x', 'Unnamed: 457_x', 'Unnamed: 1665_x', 'Unnamed: 2676_x', 'Unnamed: 2680_x', 'Unnamed: 714_x', 'Unnamed: 1120_x', 'Unnamed: 1932_x', 'Unnamed: 439_x', 'Unnamed: 1848_x', 'Unnamed: 405_x', 'Unnamed: 2142_x', 'Unnamed: 1782_x', 'Unnamed: 1293_x', 'Unnamed: 2466_x', 'Unnamed: 2303_x', 'Unnamed: 898_x', 'Unnamed: 2308_x', 'Unnamed: 1462_x', 'Unnamed: 1482_x', 'Unnamed: 201_x', 'Unnamed: 2787_x', 'Unnamed: 594_x', 'Unnamed: 1597_x', 'Unnamed: 1226_x', 'Unnamed: 1164_x', 'Unnamed: 2073_x', 'Unnamed: 1185_x', 'Unnamed: 636_x', 'Unnamed: 542_x', 'Unnamed: 1512_x', 'Unnamed: 1798_x', 'Unnamed: 589_x', 'Unnamed: 2446_x', 'Unnamed: 679_x', 'Unnamed: 1198_x', 'Unnamed: 2079_x', 'Unnamed: 1910_x', 'Unnamed: 1137_x', 'Unnamed: 2263_x', 'Unnamed: 1671_x', 'Unnamed: 2465_x', 'Unnamed: 1342_x', 'Unnamed: 2475_x', 'Unnamed: 279_x', 'Unnamed: 2545_x', 'Unnamed: 637_x', 'Unnamed: 735_x', 'Unnamed: 1367_x', 'Unnamed: 1939_x', 'Unnamed: 1992_x', 'Unnamed: 2613_x', 'Unnamed: 454_x', 'Unnamed: 2057_x', 'Unnamed: 2409_x', 'Unnamed: 2414_x', 'Unnamed: 2481_x', 'Unnamed: 2397_x', 'Unnamed: 918_x', 'Unnamed: 2342_x', 'Unnamed: 345_x', 'Unnamed: 1287_x', 'Unnamed: 1368_x', 'Unnamed: 2408_x', 'Unnamed: 1664_x', 'Unnamed: 2069_x', 'Unnamed: 1917_x', 'Unnamed: 2682_x', 'Unnamed: 681_x', 'Unnamed: 146_x', 'Unnamed: 837_x', 'Unnamed: 817_x', 'Unnamed: 2497_x', 'Unnamed: 1765_x', 'Unnamed: 2062_x', 'Unnamed: 712_x', 'Unnamed: 857_x', 'Unnamed: 2750_x', 'Unnamed: 2159_x', 'Unnamed: 1696_x', 'Unnamed: 153_x', 'Unnamed: 832_x', 'Unnamed: 1455_x', 'Unnamed: 727_x', 'Unnamed: 2153_x', 'Unnamed: 2060_x', 'Unnamed: 1407_x', 'Unnamed: 1475_x', 'Unnamed: 392_x', 'Unnamed: 2328_x', 'Unnamed: 994_x', 'Unnamed: 1421_x', 'Unnamed: 2711_x', 'Unnamed: 916_x', 'Unnamed: 132_x', 'Unnamed: 2743_x', 'Unnamed: 2178_x', 'Unnamed: 1366_x', 'Unnamed: 125_x', 'Unnamed: 613_x', 'Unnamed: 2618_x', 'Unnamed: 128_x', 'Unnamed: 1085_x', 'Unnamed: 1640_x', 'Unnamed: 2020_x', 'Unnamed: 194_x', 'Unnamed: 922_x', 'Unnamed: 1402_x', 'Unnamed: 852_x', 'Unnamed: 1128_x', 'Unnamed: 1621_x', 'Unnamed: 575_x', 'Unnamed: 606_x', 'Unnamed: 830_x', 'Unnamed: 225_x', 'Unnamed: 1227_x', 'Unnamed: 792_x', 'Unnamed: 1576_x', 'Unnamed: 1336_x', 'Unnamed: 1236_x', 'Unnamed: 1741_x', 'Unnamed: 1613_x', 'Unnamed: 591_x', 'Unnamed: 801_x', 'Unnamed: 1219_x', 'Unnamed: 1857_x', 'Unnamed: 1420_x', 'Unnamed: 2286_x', 'Unnamed: 459_x', 'Unnamed: 548_x', 'Unnamed: 943_x', 'Unnamed: 1468_x', 'Unnamed: 1914_x', 'Unnamed: 2174_x', 'Unnamed: 1051_x', 'Unnamed: 269_x', 'Unnamed: 2369_x', 'Unnamed: 528_x', 'Unnamed: 2615_x', 'Unnamed: 704_x', 'Unnamed: 163_x', 'Unnamed: 1663_x', 'Unnamed: 1916_x', 'Unnamed: 2685_x', 'Unnamed: 1160_x', 'Unnamed: 2774_x', 'Unnamed: 1736_x', 'Unnamed: 833_x', 'Unnamed: 710_x', 'Unnamed: 1719_x', 'Unnamed: 987_x', 'Unnamed: 2262_x', 'Unnamed: 455_x', 'Unnamed: 776_x', 'Unnamed: 2515_x', 'Unnamed: 1334_x', 'Unnamed: 2591_x', 'Unnamed: 515_x', 'Unnamed: 2102_x', 'Unnamed: 774_x', 'Unnamed: 323_x', 'Unnamed: 1197_x', 'Unnamed: 275_x', 'Unnamed: 2090_x', 'Unnamed: 691_x', 'Unnamed: 2468_x', 'Unnamed: 1634_x', 'Unnamed: 1196_x', 'Unnamed: 1672_x', 'Unnamed: 1530_x', 'Unnamed: 2065_x', 'Unnamed: 1598_x', 'Unnamed: 560_x', 'Unnamed: 1365_x', 'Unnamed: 2185_x', 'Unnamed: 2628_x', 'Unnamed: 760_x', 'Unnamed: 2053_x', 'Unnamed: 2533_x', 'Unnamed: 208_x', 'Unnamed: 1533_x', 'Unnamed: 1655_x', 'Unnamed: 2566_x', 'Unnamed: 2236_x', 'Unnamed: 1964_x', 'Unnamed: 1152_x', 'Unnamed: 2656_x', 'Unnamed: 1508_x', 'Unnamed: 1148_x', 'Unnamed: 2721_x', 'Unnamed: 1680_x', 'Unnamed: 1045_x', 'Unnamed: 1710_x', 'Unnamed: 2425_x', 'Unnamed: 2452_x', 'Unnamed: 2663_x', 'Unnamed: 1938_x', 'Unnamed: 625_x', 'Unnamed: 863_x', 'Unnamed: 1783_x', 'Unnamed: 2015_x', 'Unnamed: 770_x', 'Unnamed: 1076_x', 'Unnamed: 1259_x', 'Unnamed: 2109_x', 'Unnamed: 485_x', 'Unnamed: 2752_x', 'Unnamed: 1363_x', 'Unnamed: 2719_x', 'Unnamed: 2058_x', 'Unnamed: 1166_x', 'Unnamed: 1641_x', 'Unnamed: 2546_x', 'Unnamed: 2126_x', 'Unnamed: 2516_x', 'Unnamed: 1207_x', 'Unnamed: 2385_x', 'Unnamed: 2454_x', 'Unnamed: 2603_x', 'Unnamed: 491_x', 'Unnamed: 1339_x', 'Unnamed: 2380_x', 'Unnamed: 2641_x', 'Unnamed: 536_x', 'Unnamed: 354_x', 'Unnamed: 179_x', 'Unnamed: 938_x', 'Unnamed: 1391_x', 'Unnamed: 1912_x', 'Unnamed: 2273_x', 'Unnamed: 564_x', 'Unnamed: 2257_x', 'Unnamed: 1241_x', 'Unnamed: 1408_x', 'Unnamed: 2780_x', 'Unnamed: 2417_x', 'Unnamed: 1231_x', 'Unnamed: 568_x', 'Unnamed: 1405_x', 'Unnamed: 1903_x', 'Unnamed: 259_x', 'Unnamed: 620_x', 'Unnamed: 1518_x', 'Unnamed: 401_x', 'Unnamed: 2115_x', 'Unnamed: 1558_x', 'Unnamed: 2213_x', 'Unnamed: 2319_x', 'Unnamed: 1646_x', 'Unnamed: 1968_x', 'Unnamed: 329_x', 'Unnamed: 407_x', 'Unnamed: 298_x', 'Unnamed: 2012_x', 'Unnamed: 544_x', 'Unnamed: 497_x', 'Unnamed: 2781_x', 'Unnamed: 1059_x', 'Unnamed: 488_x', 'Unnamed: 1852_x', 'Unnamed: 2373_x', 'Unnamed: 858_x', 'Unnamed: 1392_x', 'Unnamed: 1726_x', 'Unnamed: 2544_x', 'Unnamed: 503_x', 'Unnamed: 1435_x', 'Unnamed: 2519_x', 'Unnamed: 1337_x', 'Unnamed: 595_x', 'Unnamed: 2439_x', 'Unnamed: 2124_x', 'Unnamed: 687_x', 'Unnamed: 338_x', 'Unnamed: 1218_x', 'Unnamed: 365_x', 'Unnamed: 477_x', 'Unnamed: 1552_x', 'Unnamed: 2759_x', 'Unnamed: 1055_x', 'Unnamed: 1885_x', 'Unnamed: 1465_x', 'Unnamed: 2635_x', 'Unnamed: 1599_x', 'Unnamed: 1770_x', 'Unnamed: 431_x', 'Unnamed: 1591_x', 'Unnamed: 1427_x', 'Unnamed: 1901_x', 'Unnamed: 2757_x', 'Unnamed: 1716_x', 'Unnamed: 1607_x', 'Unnamed: 1823_x', 'Unnamed: 2249_x', 'Unnamed: 530_x', 'Unnamed: 111_x', 'Unnamed: 2183_x', 'Unnamed: 2490_x', 'Unnamed: 570_x', 'Unnamed: 1994_x', 'Unnamed: 2771_x', 'Unnamed: 2214_x', 'Unnamed: 327_x', 'Unnamed: 866_x', 'Unnamed: 1070_x', 'Unnamed: 652_x', 'Unnamed: 2363_x', 'Unnamed: 875_x', 'Unnamed: 2051_x', 'Unnamed: 2021_x', 'Unnamed: 2046_x', 'Unnamed: 2576_x', 'Unnamed: 1989_x', 'Unnamed: 2294_x', 'Unnamed: 643_x', 'Unnamed: 1585_x', 'Unnamed: 2396_x', 'Unnamed: 1546_x', 'Unnamed: 2145_x', 'Unnamed: 137_x', 'Unnamed: 469_x', 'Unnamed: 425_x', 'Unnamed: 375_x', 'Unnamed: 1638_x', 'Unnamed: 2024_x', 'Unnamed: 2346_x', 'Unnamed: 504_x', 'Unnamed: 391_x', 'Unnamed: 2540_x', 'Unnamed: 2127_x', 'Unnamed: 558_x', 'Unnamed: 1691_x', 'Unnamed: 334_x', 'Unnamed: 827_x', 'Unnamed: 468_x', 'Unnamed: 1188_x', 'Unnamed: 1694_x', 'Unnamed: 1386_x', 'Unnamed: 2634_x', 'Unnamed: 394_x', 'Unnamed: 1443_x', 'Unnamed: 1714_x', 'Unnamed: 2587_x', 'Unnamed: 965_x', 'Unnamed: 2131_x', 'Unnamed: 787_x', 'Unnamed: 1871_x', 'Unnamed: 178_x', 'Unnamed: 2375_x', 'Unnamed: 2334_x', 'Unnamed: 891_x', 'Unnamed: 2210_x', 'Unnamed: 1815_x', 'Unnamed: 724_x', 'Unnamed: 1961_x', 'Unnamed: 1971_x', 'Unnamed: 2246_x', 'Unnamed: 2364_x', 'Unnamed: 2736_x', 'Unnamed: 1396_x', 'Unnamed: 660_x', 'Unnamed: 1514_x', 'Unnamed: 2283_x', 'Unnamed: 2006_x', 'Unnamed: 1713_x', 'Unnamed: 1056_x', 'Unnamed: 950_x', 'Unnamed: 1825_x', 'Unnamed: 1063_x', 'Unnamed: 2362_x', 'Unnamed: 2734_x', 'Unnamed: 1828_x', 'Unnamed: 2542_x', 'Unnamed: 2187_x', 'Unnamed: 2666_x', 'Unnamed: 1253_x', 'Unnamed: 658_x', 'Unnamed: 1204_x', 'Unnamed: 778_x', 'Unnamed: 2582_x', 'Unnamed: 2337_x', 'Unnamed: 2670_x', 'Unnamed: 1943_x', 'Unnamed: 2539_x', 'Unnamed: 1679_x', 'Unnamed: 888_x', 'Unnamed: 1304_x', 'Unnamed: 1577_x', 'Unnamed: 632_x', 'Unnamed: 2703_x', 'Unnamed: 886_x', 'Unnamed: 1001_x', 'Unnamed: 2512_x', 'Unnamed: 901_x', 'Unnamed: 1877_x', 'Unnamed: 1795_x', 'Unnamed: 191_x', 'Unnamed: 1578_x', 'Unnamed: 2206_x', 'Unnamed: 122_x', 'Unnamed: 1730_x', 'Unnamed: 2247_x', 'Unnamed: 2729_x', 'Unnamed: 2708_x', 'Unnamed: 1145_x', 'Unnamed: 1022_x', 'Unnamed: 899_x', 'Unnamed: 361_x', 'Unnamed: 2054_x', 'Unnamed: 2678_x', 'Unnamed: 1214_x', 'Unnamed: 1035_x', 'Unnamed: 498_x', 'Unnamed: 729_x', 'Unnamed: 385_x', 'Unnamed: 757_x', 'Unnamed: 1052_x', 'Unnamed: 1858_x', 'Unnamed: 1117_x', 'Unnamed: 1483_x', 'Unnamed: 1323_x', 'Unnamed: 1359_x', 'Unnamed: 2537_x', 'Unnamed: 1928_x', 'Unnamed: 1345_x', 'Unnamed: 2208_x', 'Unnamed: 2315_x', 'Unnamed: 2029_x', 'Unnamed: 1659_x', 'Unnamed: 738_x', 'Unnamed: 2651_x', 'Unnamed: 1068_x', 'Unnamed: 281_x', 'Unnamed: 1377_x', 'Unnamed: 1940_x', 'Unnamed: 2075_x', 'Unnamed: 2456_x', 'Unnamed: 871_x', 'Unnamed: 2681_x', 'Unnamed: 1205_x', 'Unnamed: 1029_x', 'Unnamed: 876_x', 'Unnamed: 1808_x', 'Unnamed: 2333_x', 'Unnamed: 720_x', 'Unnamed: 1742_x', 'Unnamed: 1048_x', 'Unnamed: 1537_x', 'Unnamed: 416_x', 'Unnamed: 598_x', 'Unnamed: 335_x', 'Unnamed: 467_x', 'Unnamed: 1789_x', 'Unnamed: 1374_x', 'Unnamed: 1438_x', 'Unnamed: 2431_x', 'Unnamed: 2089_x', 'Unnamed: 701_x', 'Unnamed: 2197_x', 'Unnamed: 1038_x', 'Unnamed: 2683_x', 'Unnamed: 2305_x', 'Unnamed: 412_x', 'Unnamed: 2270_x', 'Unnamed: 1891_x', 'Unnamed: 2785_x', 'Unnamed: 2338_x', 'Unnamed: 2483_x', 'Unnamed: 104_x', 'Unnamed: 1949_x', 'Unnamed: 1872_x', 'Unnamed: 273_x', 'Unnamed: 1430_x', 'Unnamed: 1862_x', 'Unnamed: 2704_x', 'Unnamed: 1814_x', 'Unnamed: 105_x', 'Unnamed: 1861_x', 'Unnamed: 2447_x', 'Unnamed: 818_x', 'Unnamed: 2331_x', 'Unnamed: 1605_x', 'Unnamed: 1110_x', 'Unnamed: 889_x', 'Unnamed: 1542_x', 'Unnamed: 1168_x', 'Unnamed: 2555_x', 'Unnamed: 1141_x', 'Unnamed: 2536_x', 'Unnamed: 1296_x', 'Unnamed: 703_x', 'Unnamed: 2753_x', 'Unnamed: 1856_x', 'Unnamed: 1625_x', 'Unnamed: 2188_x', 'Unnamed: 2478_x', 'Unnamed: 1266_x', 'Unnamed: 2205_x', 'Unnamed: 610_x', 'Unnamed: 1520_x', 'Unnamed: 865_x', 'Unnamed: 645_x', 'Unnamed: 1382_x', 'Unnamed: 1632_x', 'Unnamed: 299_x', 'Unnamed: 1900_x', 'Unnamed: 2411_x', 'Unnamed: 1990_x', 'Unnamed: 94_x', 'Unnamed: 2149_x', 'Unnamed: 742_x', 'Unnamed: 1383_x', 'Unnamed: 2244_x', 'Unnamed: 1803_x', 'Unnamed: 2066_x', 'Unnamed: 2254_x', 'Unnamed: 1213_x', 'Unnamed: 2764_x', 'Unnamed: 2741_x', 'Unnamed: 1276_x', 'Unnamed: 1175_x', 'Unnamed: 2505_x', 'Unnamed: 238_x', 'Unnamed: 761_x', 'Unnamed: 616_x', 'Unnamed: 902_x', 'Unnamed: 1102_x', 'Unnamed: 1792_x', 'Unnamed: 311_x', 'Unnamed: 2378_x', 'Unnamed: 106_x', 'Unnamed: 2121_x', 'Unnamed: 1451_x', 'Unnamed: 1737_x', 'Unnamed: 1478_x', 'Unnamed: 527_x', 'Unnamed: 1729_x', 'Unnamed: 1617_x', 'Unnamed: 2415_x', 'Unnamed: 2700_x', 'Unnamed: 2160_x', 'Unnamed: 161_x', 'Unnamed: 2617_x', 'Unnamed: 813_x', 'Unnamed: 1255_x', 'Unnamed: 2386_x', 'Unnamed: 388_x', 'Unnamed: 721_x', 'Unnamed: 1929_x', 'Unnamed: 1469_x', 'Unnamed: 1264_x', 'Unnamed: 1821_x', 'Unnamed: 810_x', 'Unnamed: 1882_x', 'Unnamed: 2280_x', 'Unnamed: 422_x', 'Unnamed: 593_x', 'Unnamed: 1278_x', 'Unnamed: 1816_x', 'Unnamed: 638_x', 'Unnamed: 2193_x', 'Unnamed: 2782_x', 'Unnamed: 614_x', 'Unnamed: 289_x', 'Unnamed: 136_x', 'Unnamed: 215_x', 'Unnamed: 2359_x', 'Unnamed: 1126_x', 'Unnamed: 1799_x', 'Unnamed: 288_x', 'Unnamed: 1708_x', 'Unnamed: 1221_x', 'Unnamed: 2583_x', 'Unnamed: 649_x', 'Unnamed: 780_x', 'Unnamed: 1251_x', 'Unnamed: 2783_x', 'Unnamed: 2297_x', 'Unnamed: 2101_x', 'Unnamed: 1819_x', 'Unnamed: 635_x', 'Unnamed: 483_x', 'Unnamed: 2510_x', 'Unnamed: 433_x', 'Unnamed: 2332_x', 'Unnamed: 1061_x', 'Unnamed: 1111_x', 'Unnamed: 2503_x', 'Unnamed: 2584_x', 'Unnamed: 954_x', 'Unnamed: 1466_x', 'Unnamed: 1887_x', 'Unnamed: 319_x', 'Unnamed: 2347_x', 'Unnamed: 1436_x', 'Unnamed: 1935_x', 'Unnamed: 2449_x', 'Unnamed: 562_x', 'Unnamed: 1256_x', 'Unnamed: 1473_x', 'Unnamed: 1876_x', 'Unnamed: 2727_x', 'Unnamed: 511_x', 'Unnamed: 1476_x', 'Unnamed: 1273_x', 'Unnamed: 2501_x', 'Unnamed: 2606_x', 'Unnamed: 2350_x', 'Unnamed: 597_x', 'Unnamed: 1740_x', 'Unnamed: 1267_x', 'Unnamed: 1280_x', 'Unnamed: 1739_x', 'Unnamed: 699_x', 'Unnamed: 988_x', 'Unnamed: 2212_x', 'Unnamed: 2323_x', 'Unnamed: 2048_x', 'Unnamed: 1838_x', 'Unnamed: 782_x', 'Unnamed: 1794_x', 'Unnamed: 821_x', 'Unnamed: 1065_x', 'Unnamed: 1757_x', 'Unnamed: 2316_x', 'Unnamed: 896_x', 'Unnamed: 1582_x', 'Unnamed: 379_x', 'Unnamed: 2258_x', 'Unnamed: 1040_x', 'Unnamed: 1007_x', 'Unnamed: 1772_x', 'Unnamed: 2135_x', 'Unnamed: 2061_x', 'Unnamed: 873_x', 'Unnamed: 928_x', 'Unnamed: 2643_x', 'Unnamed: 2482_x', 'Unnamed: 507_x', 'Unnamed: 303_x', 'Unnamed: 2103_x', 'Unnamed: 287_x', 'Unnamed: 500_x', 'Unnamed: 751_x', 'Unnamed: 1610_x', 'Unnamed: 2196_x', 'Unnamed: 1324_x', 'Unnamed: 932_x', 'Unnamed: 799_x', 'Unnamed: 2523_x', 'Unnamed: 1623_x', 'Unnamed: 2455_x', 'Unnamed: 1494_x', 'Unnamed: 2574_x', 'Unnamed: 1329_x', 'Unnamed: 133_x', 'Unnamed: 1484_x', 'Unnamed: 202_x', 'Unnamed: 1376_x', 'Unnamed: 2638_x', 'Unnamed: 960_x', 'Unnamed: 1099_x', 'Unnamed: 2056_x', 'Unnamed: 429_x', 'Unnamed: 1753_x', 'Unnamed: 2646_x', 'Unnamed: 1926_x', 'Unnamed: 580_x', 'Unnamed: 641_x', 'Unnamed: 550_x', 'Unnamed: 113_x', 'Unnamed: 642_x', 'Unnamed: 1134_x', 'Unnamed: 2266_x', 'Unnamed: 668_x', 'Unnamed: 1490_x', 'Unnamed: 1981_x', 'Unnamed: 2004_x', 'Unnamed: 2111_x', 'Unnamed: 2162_x', 'Unnamed: 914_x', 'Unnamed: 1847_x', 'Unnamed: 446_x', 'Unnamed: 2608_x', 'Unnamed: 2125_x', 'Unnamed: 1162_x', 'Unnamed: 2609_x', 'Unnamed: 663_x', 'Unnamed: 2673_x', 'Unnamed: 441_x', 'Unnamed: 674_x', 'Unnamed: 1097_x', 'Unnamed: 89_x', 'Unnamed: 2300_x', 'Unnamed: 755_x', 'Unnamed: 1725_x', 'Unnamed: 2538_x', 'Unnamed: 1555_x', 'Unnamed: 2279_x', 'Unnamed: 1698_x', 'Unnamed: 2176_x', 'Unnamed: 609_x', 'Unnamed: 337_x', 'Unnamed: 651_x', 'Unnamed: 842_x', 'Unnamed: 1019_x', 'Unnamed: 247_x', 'Unnamed: 1419_x', 'Unnamed: 2702_x', 'Unnamed: 1104_x', 'Unnamed: 823_x', 'Unnamed: 139_x', 'Unnamed: 1801_x', 'Unnamed: 1347_x', 'Unnamed: 2557_x', 'Unnamed: 1238_x', 'Unnamed: 1886_x', 'Unnamed: 824_x', 'Unnamed: 1448_x', 'Unnamed: 2732_x', 'Unnamed: 158_x', 'Unnamed: 1870_x', 'Unnamed: 1418_x', 'Unnamed: 706_x', 'Unnamed: 2737_x', 'Unnamed: 1934_x', 'Unnamed: 2559_x', 'Unnamed: 475_x', 'Unnamed: 233_x', 'Unnamed: 1553_x', 'Unnamed: 1603_x', 'Unnamed: 1014_x', 'Unnamed: 1449_x', 'Unnamed: 196_x', 'Unnamed: 2055_x', 'Unnamed: 749_x', 'Unnamed: 2230_x', 'Unnamed: 2517_x', 'Unnamed: 1406_x', 'Unnamed: 750_x', 'Unnamed: 374_x', 'Unnamed: 2201_x', 'Unnamed: 1575_x', 'Unnamed: 1752_x', 'Unnamed: 2534_x', 'Unnamed: 2624_x', 'Unnamed: 404_x', 'Unnamed: 424_x', 'Unnamed: 456_x', 'Unnamed: 2017_x', 'Unnamed: 2074_x', 'Unnamed: 2560_x', 'Unnamed: 2318_x', 'Unnamed: 1181_x', 'Unnamed: 2766_x', 'Unnamed: 1195_x', 'Unnamed: 840_x', 'Unnamed: 711_x', 'Unnamed: 1069_x', 'Unnamed: 1788_x', 'Unnamed: 1657_x', 'Unnamed: 2393_x', 'Unnamed: 722_x', 'Unnamed: 1103_x', 'Unnamed: 1602_x', 'Unnamed: 2030_x', 'Unnamed: 2491_x', 'Unnamed: 1843_x', 'Unnamed: 112_x', 'Unnamed: 936_x', 'Unnamed: 779_x', 'Unnamed: 1724_x', 'Unnamed: 553_x', 'Unnamed: 2602_x', 'Unnamed: 2749_x', 'Unnamed: 966_x', 'Unnamed: 1220_x', 'Unnamed: 1760_x', 'Unnamed: 1115_x', 'Unnamed: 1422_x', 'Unnamed: 2543_x', 'Unnamed: 2471_x', 'Unnamed: 1332_x', 'Unnamed: 1573_x', 'Unnamed: 157_x', 'Unnamed: 675_x', 'Unnamed: 2186_x', 'Unnamed: 2701_x', 'Unnamed: 350_x', 'Unnamed: 800_x', 'Unnamed: 739_x', 'Unnamed: 99_x', 'Unnamed: 1978_x', 'Unnamed: 748_x', 'Unnamed: 793_x', 'Unnamed: 414_x', 'Unnamed: 1567_x', 'Unnamed: 2518_x', 'Unnamed: 1394_x', 'Unnamed: 621_x', 'Unnamed: 2784_x', 'Unnamed: 1385_x', 'Unnamed: 1169_x', 'Unnamed: 1560_x', 'Unnamed: 228_x', 'Unnamed: 399_x', 'Unnamed: 2763_x', 'Unnamed: 1743_x', 'Unnamed: 2705_x', 'Unnamed: 1516_x', 'Unnamed: 464_x', 'Unnamed: 235_x', 'Unnamed: 2426_x', 'Unnamed: 1008_x', 'Unnamed: 400_x', 'Unnamed: 795_x', 'Unnamed: 1506_x', 'Unnamed: 2686_x', 'Unnamed: 1428_x', 'Unnamed: 1308_x', 'Unnamed: 1624_x', 'Unnamed: 434_x', 'Unnamed: 1083_x', 'Unnamed: 1101_x', 'Unnamed: 2365_x', 'Unnamed: 2324_x', 'Unnamed: 1075_x', 'Unnamed: 409_x', 'Unnamed: 1118_x', 'Unnamed: 1905_x', 'Unnamed: 2661_x', 'Unnamed: 2433_x', 'Unnamed: 991_x', 'Unnamed: 841_x', 'Unnamed: 1353_x', 'Unnamed: 1954_x', 'Unnamed: 1812_x', 'Unnamed: 2204_x', 'Unnamed: 2450_x', 'Unnamed: 2671_x', 'Unnamed: 172_x', 'Unnamed: 1291_x', 'Unnamed: 1509_x', 'Unnamed: 286_x', 'Unnamed: 2691_x', 'Unnamed: 1450_x', 'Unnamed: 647_x', 'Unnamed: 255_x', 'Unnamed: 373_x', 'Unnamed: 2413_x', 'Unnamed: 205_x', 'Unnamed: 2648_x', 'Unnamed: 1767_x', 'Unnamed: 1112_x', 'Unnamed: 2207_x', 'Unnamed: 1409_x', 'Unnamed: 862_x', 'Unnamed: 2496_x', 'Unnamed: 1142_x', 'Unnamed: 2604_x', 'Unnamed: 2227_x', 'Unnamed: 2573_x', 'Unnamed: 996_x', 'Unnamed: 1588_x', 'Unnamed: 1892_x', 'Unnamed: 1568_x', 'Unnamed: 2563_x', 'Unnamed: 1295_x', 'Unnamed: 148_x', 'Unnamed: 1780_x', 'Unnamed: 114_x', 'Unnamed: 946_x', 'Unnamed: 2360_x', 'Unnamed: 736_x', 'Unnamed: 1411_x', 'Unnamed: 151_x', 'Unnamed: 190_x', 'Unnamed: 693_x', 'Unnamed: 1122_x', 'Unnamed: 1762_x', 'Unnamed: 1258_x', 'Unnamed: 1842_x', 'Unnamed: 2104_x', 'Unnamed: 1661_x', 'Unnamed: 1869_x', 'Unnamed: 759_x', 'Unnamed: 2568_x', 'Unnamed: 933_x', 'Unnamed: 1439_x', 'Unnamed: 226_x', 'Unnamed: 1361_x', 'Unnamed: 919_x', 'Unnamed: 1536_x', 'Unnamed: 1946_x', 'Unnamed: 2141_x', 'Unnamed: 951_x', 'Unnamed: 1074_x', 'Unnamed: 2070_x', 'Unnamed: 2444_x', 'Unnamed: 1991_x', 'Unnamed: 371_x', 'Unnamed: 1612_x', 'Unnamed: 1229_x', 'Unnamed: 1563_x', 'Unnamed: 317_x', 'Unnamed: 1456_x', 'Unnamed: 221_x', 'Unnamed: 573_x', 'Unnamed: 2607_x', 'Unnamed: 2412_x', 'Unnamed: 1793_x', 'Unnamed: 2277_x', 'Unnamed: 851_x', 'Unnamed: 1948_x', 'Unnamed: 968_x', 'Unnamed: 657_x', 'Unnamed: 290_x', 'Unnamed: 2114_x', 'Unnamed: 756_x', 'Unnamed: 376_x', 'Unnamed: 1325_x', 'Unnamed: 686_x', 'Unnamed: 1108_x', 'Unnamed: 346_x', 'Unnamed: 1138_x', 'Unnamed: 1034_x', 'Unnamed: 1131_x', 'Unnamed: 1139_x', 'Unnamed: 2223_x', 'Unnamed: 1375_x', 'Unnamed: 2762_x', 'Unnamed: 2009_x', 'Unnamed: 2769_x', 'Unnamed: 1972_x', 'Unnamed: 2406_x', 'Unnamed: 764_x', 'Unnamed: 2171_x', 'Unnamed: 741_x', 'Unnamed: 975_x', 'Unnamed: 908_x', 'Unnamed: 1543_x', 'Unnamed: 2155_x', 'Unnamed: 463_x', 'Unnamed: 2590_x', 'Unnamed: 1758_x', 'Unnamed: 2596_x', 'Unnamed: 2605_x', 'Unnamed: 1020_x', 'Unnamed: 1497_x', 'Unnamed: 1894_x', 'Unnamed: 1890_x', 'Unnamed: 240_x', 'Unnamed: 492_x', 'Unnamed: 1809_x', 'Unnamed: 766_x', 'Unnamed: 174_x', 'Unnamed: 1119_x', 'Unnamed: 2028_x', 'Unnamed: 2374_x', 'Unnamed: 2659_x', 'Unnamed: 1721_x', 'Unnamed: 199_x', 'Unnamed: 2310_x', 'Unnamed: 887_x', 'Unnamed: 1400_x', 'Unnamed: 1528_x', 'Unnamed: 861_x', 'Unnamed: 1832_x', 'Unnamed: 2453_x', 'Unnamed: 1566_x', 'Unnamed: 1316_x', 'Unnamed: 193_x', 'Unnamed: 2407_x', 'Unnamed: 690_x', 'Unnamed: 719_x', 'Unnamed: 512_x', 'Unnamed: 369_x', 'Unnamed: 1183_x', 'Unnamed: 1720_x', 'Unnamed: 537_x', 'Unnamed: 1746_x', 'Unnamed: 124_x', 'Unnamed: 2143_x', 'Unnamed: 2421_x', 'Unnamed: 549_x', 'Unnamed: 165_x', 'Unnamed: 2164_x', 'Unnamed: 2309_x', 'Unnamed: 935_x', 'Unnamed: 2285_x', 'Unnamed: 532_x', 'Unnamed: 1608_x', 'Unnamed: 1786_x', 'Unnamed: 1452_x', 'Unnamed: 2014_x', 'Unnamed: 2502_x', 'Unnamed: 423_x', 'Unnamed: 1722_x', 'Unnamed: 437_x', 'Unnamed: 333_x', 'Unnamed: 1373_x', 'Unnamed: 1477_x', 'Unnamed: 2128_x', 'Unnamed: 1653_x', 'Unnamed: 1644_x', 'Unnamed: 357_x', 'Unnamed: 2229_x', 'Unnamed: 2595_x', 'Unnamed: 180_x', 'Unnamed: 1678_x', 'Unnamed: 2562_x', 'Unnamed: 1149_x', 'Unnamed: 1683_x', 'Unnamed: 2260_x', 'Unnamed: 252_x', 'Unnamed: 626_x', 'Unnamed: 1135_x', 'Unnamed: 925_x', 'Unnamed: 2129_x', 'Unnamed: 2461_x', 'Unnamed: 2081_x', 'Unnamed: 344_x', 'Unnamed: 1179_x', 'Unnamed: 1028_x', 'Unnamed: 1692_x', 'Unnamed: 2520_x', 'Unnamed: 767_x', 'Unnamed: 1565_x', 'Unnamed: 2679_x', 'Unnamed: 836_x', 'Unnamed: 2239_x', 'Unnamed: 93_x', 'Unnamed: 869_x', 'Unnamed: 295_x', 'Unnamed: 1732_x', 'Unnamed: 631_x', 'Unnamed: 1962_x', 'Unnamed: 1187_x', 'Unnamed: 450_x', 'Unnamed: 708_x', 'Unnamed: 370_x', 'Unnamed: 884_x', 'Unnamed: 484_x', 'Unnamed: 1154_x', 'Unnamed: 213_x', 'Unnamed: 556_x', 'Unnamed: 872_x', 'Unnamed: 1357_x', 'Unnamed: 1915_x', 'Unnamed: 2728_x', 'Unnamed: 272_x', 'Unnamed: 1776_x', 'Unnamed: 2740_x', 'Unnamed: 353_x', 'Unnamed: 514_x', 'Unnamed: 1206_x', 'Unnamed: 160_x', 'Unnamed: 986_x', 'Unnamed: 2768_x', 'Unnamed: 2620_x', 'Unnamed: 1687_x', 'Unnamed: 1884_x', 'Unnamed: 310_x', 'Unnamed: 1311_x', 'Unnamed: 1018_x', 'Unnamed: 1184_x', 'Unnamed: 1017_x', 'Unnamed: 1050_x', 'Unnamed: 520_x', 'Unnamed: 214_x', 'Unnamed: 1747_x', 'Unnamed: 2037_x', 'Unnamed: 1279_x', 'Unnamed: 411_x', 'Unnamed: 2255_x', 'Unnamed: 1470_x', 'Unnamed: 976_x', 'Unnamed: 2240_x', 'Unnamed: 1492_x', 'Unnamed: 2472_x', 'Unnamed: 2770_x', 'Unnamed: 2742_x', 'Unnamed: 2589_x', 'Unnamed: 682_x', 'Unnamed: 1047_x', 'Unnamed: 2163_x', 'Unnamed: 1522_x', 'Unnamed: 2718_x', 'Unnamed: 1441_x', 'Unnamed: 1352_x', 'Unnamed: 1176_x', 'Unnamed: 1645_x', 'Unnamed: 2353_x', 'Unnamed: 696_x', 'Unnamed: 2016_x', 'Unnamed: 754_x', 'Unnamed: 599_x', 'Unnamed: 248_x', 'Unnamed: 2118_x', 'Unnamed: 85_x', 'Unnamed: 230_x', 'Unnamed: 547_x', 'Unnamed: 685_x', 'Unnamed: 2392_x', 'Unnamed: 479_x', 'Unnamed: 1859_x', 'Unnamed: 2219_x', 'Unnamed: 816_x', 'Unnamed: 276_x', 'Unnamed: 1125_x', 'Unnamed: 1265_x', 'Unnamed: 1930_x', 'Unnamed: 2097_x', 'Unnamed: 2688_x', 'Unnamed: 1242_x', 'Unnamed: 825_x', 'Unnamed: 634_x', 'Unnamed: 980_x', 'Unnamed: 726_x', 'Unnamed: 1026_x', 'Unnamed: 2083_x', 'Unnamed: 1888_x', 'Unnamed: 1503_x', 'Unnamed: 2509_x', 'Unnamed: 2307_x', 'Unnamed: 102_x', 'Unnamed: 1493_x', 'Unnamed: 1272_x', 'Unnamed: 1327_x', 'Unnamed: 934_x', 'Unnamed: 1909_x', 'Unnamed: 1731_x', 'Unnamed: 1444_x', 'Unnamed: 1292_x', 'Unnamed: 948_x', 'Unnamed: 1105_x', 'Unnamed: 1851_x', 'Unnamed: 1944_x', 'Unnamed: 1090_x', 'Unnamed: 509_x', 'Unnamed: 2492_x', 'Unnamed: 408_x', 'Unnamed: 639_x', 'Unnamed: 90_x', 'Unnamed: 1697_x', 'Unnamed: 2217_x', 'Unnamed: 1686_x', 'Unnamed: 2578_x', 'Unnamed: 2242_x', 'Unnamed: 868_x', 'Unnamed: 2248_x', 'Unnamed: 383_x', 'Unnamed: 1875_x', 'Unnamed: 2592_x', 'Unnamed: 2275_x', 'Unnamed: 1461_x', 'Unnamed: 890_x', 'Unnamed: 351_x', 'Unnamed: 763_x', 'Unnamed: 2489_x', 'Unnamed: 314_x', 'Unnamed: 2508_x', 'Unnamed: 533_x', 'Unnamed: 461_x', 'Unnamed: 892_x', 'Unnamed: 1986_x', 'Unnamed: 1107_x', 'Unnamed: 2000_x', 'Unnamed: 1670_x', 'Unnamed: 316_x', 'Unnamed: 1925_x', 'Unnamed: 1216_x', 'Unnamed: 2499_x', 'Unnamed: 1464_x', 'Unnamed: 386_x', 'Unnamed: 2203_x', 'Unnamed: 2400_x', 'Unnamed: 1004_x', 'Unnamed: 2760_x', 'Unnamed: 1957_x', 'Unnamed: 2712_x', 'Unnamed: 2709_x', 'Unnamed: 1426_x', 'Unnamed: 308_x', 'Unnamed: 859_x', 'Unnamed: 1979_x', 'Unnamed: 1194_x', 'Unnamed: 2120_x', 'Unnamed: 978_x', 'Unnamed: 856_x', 'Unnamed: 1544_x', 'Unnamed: 1230_x', 'Unnamed: 1248_x', 'Unnamed: 2498_x', 'Unnamed: 567_x', 'Unnamed: 1693_x', 'Unnamed: 2335_x', 'Unnamed: 947_x', 'Unnamed: 358_x', 'Unnamed: 2772_x', 'Unnamed: 1136_x', 'Unnamed: 2250_x', 'Unnamed: 2168_x', 'Unnamed: 808_x', 'Unnamed: 2100_x', 'Unnamed: 1654_x', 'Unnamed: 1818_x', 'Unnamed: 565_x', 'Unnamed: 206_x', 'Unnamed: 1130_x', 'Unnamed: 1712_x', 'Unnamed: 1277_x', 'Unnamed: 1937_x', 'Unnamed: 2105_x', 'Unnamed: 224_x', 'Unnamed: 920_x', 'Unnamed: 2241_x', 'Unnamed: 1416_x', 'Unnamed: 1459_x', 'Unnamed: 207_x', 'Unnamed: 1647_x', 'Unnamed: 1297_x', 'Unnamed: 251_x', 'Unnamed: 2511_x', 'Unnamed: 1290_x', 'Unnamed: 1222_x', 'Unnamed: 1487_x', 'Unnamed: 2657_x', 'Unnamed: 1043_x', 'Unnamed: 263_x', 'Unnamed: 680_x', 'Unnamed: 1481_x', 'Unnamed: 1551_x', 'Unnamed: 1633_x', 'Unnamed: 1095_x', 'Unnamed: 734_x', 'Unnamed: 395_x', 'Unnamed: 1372_x', 'Unnamed: 306_x', 'Unnamed: 1822_x', 'Unnamed: 1920_x', 'Unnamed: 116_x', 'Unnamed: 1958_x', 'Unnamed: 1318_x', 'Unnamed: 2418_x', 'Unnamed: 1084_x', 'Unnamed: 260_x', 'Unnamed: 1583_x', 'Unnamed: 1764_x', 'Unnamed: 1505_x', 'Unnamed: 1840_x', 'Unnamed: 465_x', 'Unnamed: 1399_x', 'Unnamed: 1116_x', 'Unnamed: 893_x', 'Unnamed: 2361_x', 'Unnamed: 1350_x', 'Unnamed: 397_x', 'Unnamed: 1381_x', 'Unnamed: 2698_x', 'Unnamed: 1124_x', 'Unnamed: 1965_x', 'Unnamed: 1263_x', 'Unnamed: 2424_x', 'Unnamed: 2662_x', 'Unnamed: 1836_x', 'Unnamed: 2132_x', 'Unnamed: 1299_x', 'Unnamed: 1370_x', 'Unnamed: 2552_x', 'Unnamed: 849_x', 'Unnamed: 707_x', 'Unnamed: 2553_x', 'Unnamed: 1749_x', 'Unnamed: 2042_x', 'Unnamed: 1846_x', 'Unnamed: 442_x', 'Unnamed: 159_x', 'Unnamed: 2423_x', 'Unnamed: 1309_x', 'Unnamed: 478_x', 'Unnamed: 1271_x', 'Unnamed: 1302_x', 'Unnamed: 1985_x', 'Unnamed: 2371_x', 'Unnamed: 2436_x', 'Unnamed: 2165_x', 'Unnamed: 659_x', 'Unnamed: 2633_x', 'Unnamed: 140_x', 'Unnamed: 1695_x', 'Unnamed: 2181_x', 'Unnamed: 2758_x', 'Unnamed: 1611_x', 'Unnamed: 990_x', 'Unnamed: 2550_x', 'Unnamed: 2096_x', 'Unnamed: 1855_x', 'Unnamed: 1538_x', 'Unnamed: 578_x', 'Unnamed: 2684_x', 'Unnamed: 2653_x', 'Unnamed: 1952_x', 'Unnamed: 2507_x', 'Unnamed: 689_x', 'Unnamed: 1429_x', 'Unnamed: 164_x', 'Unnamed: 2218_x', 'Unnamed: 1873_x', 'Unnamed: 1491_x', 'Unnamed: 2026_x', 'Unnamed: 1899_x', 'Unnamed: 1044_x', 'Unnamed: 1024_x', 'Unnamed: 1500_x', 'Unnamed: 349_x', 'Unnamed: 784_x', 'Unnamed: 2284_x', 'Unnamed: 1275_x', 'Unnamed: 2585_x', 'Unnamed: 1010_x', 'Unnamed: 2747_x', 'Unnamed: 728_x', 'Unnamed: 1049_x', 'Unnamed: 881_x', 'Unnamed: 2754_x', 'Unnamed: 1662_x', 'Unnamed: 2209_x', 'Unnamed: 2041_x', 'Unnamed: 2715_x', 'Unnamed: 661_x', 'Unnamed: 1778_x', 'Unnamed: 321_x', 'Unnamed: 1261_x', 'Unnamed: 1667_x', 'Unnamed: 2233_x', 'Unnamed: 1460_x', 'Unnamed: 2123_x', 'Unnamed: 487_x', 'Unnamed: 979_x', 'Unnamed: 1380_x', 'Unnamed: 1707_x', 'Unnamed: 2304_x', 'Unnamed: 586_x', 'Unnamed: 1306_x', 'Unnamed: 1727_x', 'Unnamed: 296_x', 'Unnamed: 1983_x', 'Unnamed: 2695_x', 'Unnamed: 1243_x', 'Unnamed: 143_x', 'Unnamed: 1143_x', 'Unnamed: 669_x', 'Unnamed: 2268_x', 'Unnamed: 2473_x', 'Unnamed: 1170_x', 'Unnamed: 1975_x', 'Unnamed: 1761_x', 'Unnamed: 1247_x', 'Unnamed: 2593_x', 'Unnamed: 1878_x', 'Unnamed: 2352_x', 'Unnamed: 2013_x', 'Unnamed: 2290_x', 'Unnamed: 234_x', 'Unnamed: 418_x', 'Unnamed: 451_x', 'Unnamed: 2221_x', 'Unnamed: 2427_x', 'Unnamed: 2580_x', 'Unnamed: 402_x', 'Unnamed: 650_x', 'Unnamed: 1298_x', 'Unnamed: 257_x', 'Unnamed: 1844_x', 'Unnamed: 2366_x', 'Unnamed: 2438_x', 'Unnamed: 838_x', 'Unnamed: 2761_x', 'Unnamed: 2644_x', 'Unnamed: 1071_x', 'Unnamed: 486_x', 'Unnamed: 443_x', 'Unnamed: 2470_x', 'Unnamed: 1433_x', 'Unnamed: 1988_x', 'Unnamed: 480_x', 'Unnamed: 882_x', 'Unnamed: 1002_x', 'Unnamed: 2525_x', 'Unnamed: 476_x', 'Unnamed: 398_x', 'Unnamed: 1192_x', 'Unnamed: 775_x', 'Unnamed: 1690_x', 'Unnamed: 1548_x', 'Unnamed: 517_x', 'Unnamed: 2420_x', 'Unnamed: 1619_x', 'Unnamed: 2251_x', 'Unnamed: 2428_x', 'Unnamed: 622_x', 'Unnamed: 2586_x', 'Unnamed: 853_x', 'Unnamed: 982_x', 'Unnamed: 1787_x', 'Unnamed: 1596_x', 'Unnamed: 1410_x', 'Unnamed: 1301_x', 'Unnamed: 200_x', 'Unnamed: 2071_x', 'Unnamed: 231_x', 'Unnamed: 415_x', 'Unnamed: 1853_x', 'Unnamed: 2199_x', 'Unnamed: 1945_x', 'Unnamed: 2597_x', 'Unnamed: 2382_x', 'Unnamed: 2637_x', 'Unnamed: 576_x', 'Unnamed: 1463_x', 'Unnamed: 245_x', 'Unnamed: 189_x', 'Unnamed: 300_x', 'Unnamed: 828_x', 'Unnamed: 927_x', 'Unnamed: 554_x', 'Unnamed: 1158_x', 'Unnamed: 1676_x', 'Unnamed: 2779_x', 'Unnamed: 1883_x', 'Unnamed: 2150_x', 'Unnamed: 1824_x', 'Unnamed: 2694_x', 'Unnamed: 381_x', 'Unnamed: 2570_x', 'Unnamed: 2716_x', 'Unnamed: 970_x', 'Unnamed: 1201_x', 'Unnamed: 1635_x', 'Unnamed: 1078_x', 'Unnamed: 829_x', 'Unnamed: 285_x', 'Unnamed: 1180_x', 'Unnamed: 1403_x', 'Unnamed: 1442_x', 'Unnamed: 604_x', 'Unnamed: 2612_x', 'Unnamed: 730_x', 'Unnamed: 619_x', 'Unnamed: 1343_x', 'Unnamed: 1970_x', 'Unnamed: 1331_x', 'Unnamed: 2032_x', 'Unnamed: 2775_x', 'Unnamed: 103_x', 'Unnamed: 253_x', 'Unnamed: 1863_x', 'Unnamed: 2291_x', 'Unnamed: 1092_x', 'Unnamed: 633_x', 'Unnamed: 1982_x', 'Unnamed: 2621_x', 'Unnamed: 600_x', 'Unnamed: 1756_x', 'Unnamed: 232_x', 'Unnamed: 698_x', 'Unnamed: 1642_x', 'Unnamed: 1769_x', 'Unnamed: 413_x', 'Unnamed: 2467_x', 'Unnamed: 2005_x', 'Unnamed: 1639_x', 'Unnamed: 342_x', 'Unnamed: 1369_x', 'Unnamed: 1569_x', 'Unnamed: 1618_x', 'Unnamed: 1895_x', 'Unnamed: 2723_x', 'Unnamed: 814_x', 'Unnamed: 284_x', 'Unnamed: 266_x', 'Unnamed: 2692_x', 'Unnamed: 495_x', 'Unnamed: 1057_x', 'Unnamed: 1209_x', 'Unnamed: 1755_x', 'Unnamed: 2630_x', 'Unnamed: 1705_x', 'Unnamed: 1918_x', 'Unnamed: 2267_x', 'Unnamed: 2434_x', 'Unnamed: 115_x', 'Unnamed: 1330_x', 'Unnamed: 2457_x', 'Unnamed: 694_x', 'Unnamed: 905_x', 'Unnamed: 1000_x', 'Unnamed: 2484_x', 'Unnamed: 2139_x', 'Unnamed: 1921_x', 'Unnamed: 1167_x', 'Unnamed: 1257_x', 'Unnamed: 97_x', 'Unnamed: 2292_x', 'Unnamed: 389_x', 'Unnamed: 377_x', 'Unnamed: 673_x', 'Unnamed: 826_x', 'Unnamed: 2530_x', 'Unnamed: 2435_x', 'Unnamed: 1893_x', 'Unnamed: 1980_x', 'Unnamed: 581_x', 'Unnamed: 2228_x', 'Unnamed: 2383_x', 'Unnamed: 1660_x', 'Unnamed: 2169_x', 'Unnamed: 1593_x', 'Unnamed: 1401_x', 'Unnamed: 1800_x', 'Unnamed: 384_x', 'Unnamed: 1415_x', 'Unnamed: 134_x', 'Unnamed: 2654_x', 'Unnamed: 1215_x', 'Unnamed: 2631_x', 'Unnamed: 762_x', 'Unnamed: 1933_x', 'Unnamed: 879_x', 'Unnamed: 2321_x', 'Unnamed: 1630_x', 'Unnamed: 874_x', 'Unnamed: 209_x', 'Unnamed: 2341_x', 'Unnamed: 1589_x', 'Unnamed: 1358_x', 'Unnamed: 2243_x', 'Unnamed: 2739_x', 'Unnamed: 1237_x', 'Unnamed: 913_x', 'Unnamed: 790_x', 'Unnamed: 543_x', 'Unnamed: 1245_x', 'Unnamed: 1312_x', 'Unnamed: 2751_x', 'Unnamed: 904_x', 'Unnamed: 2023_x', 'Unnamed: 2567_x', 'Unnamed: 903_x', 'Unnamed: 2326_x', 'Unnamed: 1338_x', 'Unnamed: 2340_x', 'Unnamed: 262_x', 'Unnamed: 2387_x', 'Unnamed: 1715_x', 'Unnamed: 141_x', 'Unnamed: 1064_x', 'Unnamed: 2399_x', 'Unnamed: 1100_x', 'Unnamed: 672_x', 'Unnamed: 2493_x', 'Unnamed: 1996_x', 'Unnamed: 709_x', 'Unnamed: 1649_x', 'Unnamed: 812_x', 'Unnamed: 1629_x', 'Unnamed: 2402_x'} in the result is deprecated and will raise a MergeError in a future version.\n",
      "  df_merged = reduce(lambda left, right: pd.merge(left, right, on=['CpG'], how='inner'), df_list)\n"
     ]
    },
    {
     "name": "stdout",
     "output_type": "stream",
     "text": [
      "(3194, 1811)\n"
     ]
    },
    {
     "data": {
      "text/html": [
       "<div>\n",
       "<style scoped>\n",
       "    .dataframe tbody tr th:only-of-type {\n",
       "        vertical-align: middle;\n",
       "    }\n",
       "\n",
       "    .dataframe tbody tr th {\n",
       "        vertical-align: top;\n",
       "    }\n",
       "\n",
       "    .dataframe thead th {\n",
       "        text-align: right;\n",
       "    }\n",
       "</style>\n",
       "<table border=\"1\" class=\"dataframe\">\n",
       "  <thead>\n",
       "    <tr style=\"text-align: right;\">\n",
       "      <th></th>\n",
       "      <th>CpG</th>\n",
       "      <th>GSM992014</th>\n",
       "      <th>GSM992015</th>\n",
       "      <th>GSM992016</th>\n",
       "      <th>GSM992017</th>\n",
       "      <th>GSM992018</th>\n",
       "      <th>GSM992019</th>\n",
       "      <th>GSM992020</th>\n",
       "      <th>GSM992021</th>\n",
       "      <th>GSM992022</th>\n",
       "      <th>...</th>\n",
       "      <th>CBL_9929</th>\n",
       "      <th>CBL_9931</th>\n",
       "      <th>CBL_9944</th>\n",
       "      <th>CBL_9946</th>\n",
       "      <th>CBL_9947</th>\n",
       "      <th>CBL_9950</th>\n",
       "      <th>CBL_9954</th>\n",
       "      <th>CBL_9958</th>\n",
       "      <th>CBL_9959</th>\n",
       "      <th>CBL_9966</th>\n",
       "    </tr>\n",
       "  </thead>\n",
       "  <tbody>\n",
       "    <tr>\n",
       "      <th>0</th>\n",
       "      <td>Age</td>\n",
       "      <td>54.0</td>\n",
       "      <td>76.0</td>\n",
       "      <td>71.0</td>\n",
       "      <td>72.0</td>\n",
       "      <td>79.0</td>\n",
       "      <td>59.0</td>\n",
       "      <td>73.0</td>\n",
       "      <td>64.0</td>\n",
       "      <td>58.0</td>\n",
       "      <td>...</td>\n",
       "      <td>81.000000</td>\n",
       "      <td>85.000000</td>\n",
       "      <td>69.000000</td>\n",
       "      <td>84.000000</td>\n",
       "      <td>84.000000</td>\n",
       "      <td>73.000000</td>\n",
       "      <td>86.000000</td>\n",
       "      <td>91.000000</td>\n",
       "      <td>78.000000</td>\n",
       "      <td>74.000000</td>\n",
       "    </tr>\n",
       "    <tr>\n",
       "      <th>1</th>\n",
       "      <td>cg00018024</td>\n",
       "      <td>0.002752</td>\n",
       "      <td>0.000848</td>\n",
       "      <td>0.009915</td>\n",
       "      <td>0.015067</td>\n",
       "      <td>0.010908</td>\n",
       "      <td>0.018498</td>\n",
       "      <td>0.0</td>\n",
       "      <td>0.001305</td>\n",
       "      <td>0.003199</td>\n",
       "      <td>...</td>\n",
       "      <td>0.019189</td>\n",
       "      <td>0.015984</td>\n",
       "      <td>0.019719</td>\n",
       "      <td>0.017497</td>\n",
       "      <td>0.018808</td>\n",
       "      <td>0.020717</td>\n",
       "      <td>0.015837</td>\n",
       "      <td>0.016763</td>\n",
       "      <td>0.017214</td>\n",
       "      <td>0.018047</td>\n",
       "    </tr>\n",
       "  </tbody>\n",
       "</table>\n",
       "<p>2 rows × 1811 columns</p>\n",
       "</div>"
      ],
      "text/plain": [
       "          CpG GSM992014 GSM992015 GSM992016 GSM992017 GSM992018 GSM992019  \\\n",
       "0         Age      54.0      76.0      71.0      72.0      79.0      59.0   \n",
       "1  cg00018024  0.002752  0.000848  0.009915  0.015067  0.010908  0.018498   \n",
       "\n",
       "  GSM992020 GSM992021 GSM992022  ...   CBL_9929   CBL_9931   CBL_9944  \\\n",
       "0      73.0      64.0      58.0  ...  81.000000  85.000000  69.000000   \n",
       "1       0.0  0.001305  0.003199  ...   0.019189   0.015984   0.019719   \n",
       "\n",
       "    CBL_9946   CBL_9947   CBL_9950   CBL_9954   CBL_9958   CBL_9959   CBL_9966  \n",
       "0  84.000000  84.000000  73.000000  86.000000  91.000000  78.000000  74.000000  \n",
       "1   0.017497   0.018808   0.020717   0.015837   0.016763   0.017214   0.018047  \n",
       "\n",
       "[2 rows x 1811 columns]"
      ]
     },
     "execution_count": 4,
     "metadata": {},
     "output_type": "execute_result"
    }
   ],
   "source": [
    "from functools import reduce\n",
    "\n",
    "df_list = [df1, df2, df3, df4, df5, df6, df7, df8, df9, df10, df11, df12, df13, df14, df15, df16, df17, df18]\n",
    "\n",
    "df_merged = reduce(lambda left, right: pd.merge(left, right, on=['CpG'], how='inner'), df_list)\n",
    "df_merged.fillna('void', inplace=True)\n",
    "\n",
    "# Drop columns containing ':' in their names\n",
    "df_merged.drop([col for col in df_merged.columns if ':' in col], axis=1, inplace=True)"
   ]
  },
  {
   "cell_type": "code",
   "execution_count": 7,
   "id": "44e83028",
   "metadata": {
    "ExecuteTime": {
     "end_time": "2023-05-22T10:23:10.504712Z",
     "start_time": "2023-05-22T10:23:10.457839Z"
    }
   },
   "outputs": [
    {
     "name": "stdout",
     "output_type": "stream",
     "text": [
      "(3194, 1811)\n"
     ]
    },
    {
     "data": {
      "text/html": [
       "<div>\n",
       "<style scoped>\n",
       "    .dataframe tbody tr th:only-of-type {\n",
       "        vertical-align: middle;\n",
       "    }\n",
       "\n",
       "    .dataframe tbody tr th {\n",
       "        vertical-align: top;\n",
       "    }\n",
       "\n",
       "    .dataframe thead th {\n",
       "        text-align: right;\n",
       "    }\n",
       "</style>\n",
       "<table border=\"1\" class=\"dataframe\">\n",
       "  <thead>\n",
       "    <tr style=\"text-align: right;\">\n",
       "      <th></th>\n",
       "      <th>CpG</th>\n",
       "      <th>GSM992014</th>\n",
       "      <th>GSM992015</th>\n",
       "      <th>GSM992016</th>\n",
       "      <th>GSM992017</th>\n",
       "      <th>GSM992018</th>\n",
       "      <th>GSM992019</th>\n",
       "      <th>GSM992020</th>\n",
       "      <th>GSM992021</th>\n",
       "      <th>GSM992022</th>\n",
       "      <th>...</th>\n",
       "      <th>CBL_9929</th>\n",
       "      <th>CBL_9931</th>\n",
       "      <th>CBL_9944</th>\n",
       "      <th>CBL_9946</th>\n",
       "      <th>CBL_9947</th>\n",
       "      <th>CBL_9950</th>\n",
       "      <th>CBL_9954</th>\n",
       "      <th>CBL_9958</th>\n",
       "      <th>CBL_9959</th>\n",
       "      <th>CBL_9966</th>\n",
       "    </tr>\n",
       "  </thead>\n",
       "  <tbody>\n",
       "    <tr>\n",
       "      <th>0</th>\n",
       "      <td>Age</td>\n",
       "      <td>54.0</td>\n",
       "      <td>76.0</td>\n",
       "      <td>71.0</td>\n",
       "      <td>72.0</td>\n",
       "      <td>79.0</td>\n",
       "      <td>59.0</td>\n",
       "      <td>73.0</td>\n",
       "      <td>64.0</td>\n",
       "      <td>58.0</td>\n",
       "      <td>...</td>\n",
       "      <td>81.000000</td>\n",
       "      <td>85.000000</td>\n",
       "      <td>69.000000</td>\n",
       "      <td>84.000000</td>\n",
       "      <td>84.000000</td>\n",
       "      <td>73.000000</td>\n",
       "      <td>86.000000</td>\n",
       "      <td>91.000000</td>\n",
       "      <td>78.000000</td>\n",
       "      <td>74.000000</td>\n",
       "    </tr>\n",
       "    <tr>\n",
       "      <th>1</th>\n",
       "      <td>cg00018024</td>\n",
       "      <td>0.002752</td>\n",
       "      <td>0.000848</td>\n",
       "      <td>0.009915</td>\n",
       "      <td>0.015067</td>\n",
       "      <td>0.010908</td>\n",
       "      <td>0.018498</td>\n",
       "      <td>0.0</td>\n",
       "      <td>0.001305</td>\n",
       "      <td>0.003199</td>\n",
       "      <td>...</td>\n",
       "      <td>0.019189</td>\n",
       "      <td>0.015984</td>\n",
       "      <td>0.019719</td>\n",
       "      <td>0.017497</td>\n",
       "      <td>0.018808</td>\n",
       "      <td>0.020717</td>\n",
       "      <td>0.015837</td>\n",
       "      <td>0.016763</td>\n",
       "      <td>0.017214</td>\n",
       "      <td>0.018047</td>\n",
       "    </tr>\n",
       "  </tbody>\n",
       "</table>\n",
       "<p>2 rows × 1811 columns</p>\n",
       "</div>"
      ],
      "text/plain": [
       "          CpG GSM992014 GSM992015 GSM992016 GSM992017 GSM992018 GSM992019  \\\n",
       "0         Age      54.0      76.0      71.0      72.0      79.0      59.0   \n",
       "1  cg00018024  0.002752  0.000848  0.009915  0.015067  0.010908  0.018498   \n",
       "\n",
       "  GSM992020 GSM992021 GSM992022  ...   CBL_9929   CBL_9931   CBL_9944  \\\n",
       "0      73.0      64.0      58.0  ...  81.000000  85.000000  69.000000   \n",
       "1       0.0  0.001305  0.003199  ...   0.019189   0.015984   0.019719   \n",
       "\n",
       "    CBL_9946   CBL_9947   CBL_9950   CBL_9954   CBL_9958   CBL_9959   CBL_9966  \n",
       "0  84.000000  84.000000  73.000000  86.000000  91.000000  78.000000  74.000000  \n",
       "1   0.017497   0.018808   0.020717   0.015837   0.016763   0.017214   0.018047  \n",
       "\n",
       "[2 rows x 1811 columns]"
      ]
     },
     "execution_count": 7,
     "metadata": {},
     "output_type": "execute_result"
    }
   ],
   "source": [
    "print(df_merged.shape)\n",
    "df_merged.head(2)"
   ]
  },
  {
   "cell_type": "code",
   "execution_count": 6,
   "id": "a58a776b",
   "metadata": {
    "ExecuteTime": {
     "end_time": "2023-05-22T10:22:53.867019Z",
     "start_time": "2023-05-22T10:22:45.502595Z"
    }
   },
   "outputs": [],
   "source": [
    "df_merged.to_csv('Merged18_Top2B.csv', index=False)"
   ]
  }
 ],
 "metadata": {
  "kernelspec": {
   "display_name": "Python 3 (ipykernel)",
   "language": "python",
   "name": "python3"
  },
  "language_info": {
   "codemirror_mode": {
    "name": "ipython",
    "version": 3
   },
   "file_extension": ".py",
   "mimetype": "text/x-python",
   "name": "python",
   "nbconvert_exporter": "python",
   "pygments_lexer": "ipython3",
   "version": "3.9.16"
  },
  "toc": {
   "base_numbering": 1,
   "nav_menu": {},
   "number_sections": true,
   "sideBar": true,
   "skip_h1_title": false,
   "title_cell": "Table of Contents",
   "title_sidebar": "Contents",
   "toc_cell": false,
   "toc_position": {},
   "toc_section_display": true,
   "toc_window_display": false
  },
  "varInspector": {
   "cols": {
    "lenName": 16,
    "lenType": 16,
    "lenVar": 40
   },
   "kernels_config": {
    "python": {
     "delete_cmd_postfix": "",
     "delete_cmd_prefix": "del ",
     "library": "var_list.py",
     "varRefreshCmd": "print(var_dic_list())"
    },
    "r": {
     "delete_cmd_postfix": ") ",
     "delete_cmd_prefix": "rm(",
     "library": "var_list.r",
     "varRefreshCmd": "cat(var_dic_list()) "
    }
   },
   "types_to_exclude": [
    "module",
    "function",
    "builtin_function_or_method",
    "instance",
    "_Feature"
   ],
   "window_display": false
  }
 },
 "nbformat": 4,
 "nbformat_minor": 5
}
