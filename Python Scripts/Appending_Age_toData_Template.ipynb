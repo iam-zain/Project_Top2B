{
 "cells": [
  {
   "cell_type": "code",
   "execution_count": 7,
   "id": "c604b84b",
   "metadata": {
    "ExecuteTime": {
     "end_time": "2023-05-01T18:19:42.428037Z",
     "start_time": "2023-05-01T18:19:42.396815Z"
    }
   },
   "outputs": [
    {
     "name": "stdout",
     "output_type": "stream",
     "text": [
      "       ID_REF  GSM992030  GSM992020  GSM992019  GSM992027  GSM992022\n",
      "0  cg00000029   0.669685   0.641812   0.636325   0.638627   0.621240\n",
      "1  cg00000108   0.932677   0.950772   0.940348   0.929730   0.919669\n",
      "2  cg00000109   0.829809   0.915252   0.821773   0.760335   0.811644\n",
      "3  cg00000165   0.207572   0.180444   0.181695   0.092088   0.165755\n",
      "4         Age  54.000000  76.000000  71.000000  72.000000  79.000000\n"
     ]
    }
   ],
   "source": [
    "import pandas as pd\n",
    "\n",
    "# create df1\n",
    "df1 = pd.DataFrame({\n",
    "    'ID_REF': ['cg00000029', 'cg00000108', 'cg00000109', 'cg00000165'],\n",
    "    'GSM992030': [0.669684578, 0.932677034, 0.82980936, 0.207572231],\n",
    "    'GSM992020': [0.641811521, 0.950772346, 0.915251963, 0.180444318],\n",
    "    'GSM992019': [0.636325443, 0.940347598, 0.821772582, 0.181694803],\n",
    "    'GSM992027': [0.638626728, 0.929730063, 0.760335205, 0.092088067],\n",
    "    'GSM992022': [0.621239862, 0.919668728, 0.811643519, 0.165754561]\n",
    "})\n",
    "\n",
    "# create df2\n",
    "df2 = pd.DataFrame({\n",
    "    'ID_REF': ['Age'],\n",
    "    'GSM992030': [54],\n",
    "    'GSM992020': [76],\n",
    "    'GSM992019': [71],\n",
    "    'GSM992027': [72],\n",
    "    'GSM992022': [79]\n",
    "})\n",
    "df2 = df2.set_index('ID_REF')  # set the index to 'ID_REF' to match df1\n",
    "\n",
    "# append 'Age' row to df1\n",
    "df1 = df1.set_index('ID_REF')\n",
    "df1.loc['Age'] = df2.iloc[0]\n",
    "df1 = df1.reset_index().rename(columns={'index': 'ID_REF'})\n",
    "\n",
    "print(df1)\n"
   ]
  },
  {
   "cell_type": "code",
   "execution_count": 9,
   "id": "b14d6bc5",
   "metadata": {
    "ExecuteTime": {
     "end_time": "2023-05-01T18:19:52.253853Z",
     "start_time": "2023-05-01T18:19:52.222658Z"
    }
   },
   "outputs": [
    {
     "data": {
      "text/html": [
       "<div>\n",
       "<style scoped>\n",
       "    .dataframe tbody tr th:only-of-type {\n",
       "        vertical-align: middle;\n",
       "    }\n",
       "\n",
       "    .dataframe tbody tr th {\n",
       "        vertical-align: top;\n",
       "    }\n",
       "\n",
       "    .dataframe thead th {\n",
       "        text-align: right;\n",
       "    }\n",
       "</style>\n",
       "<table border=\"1\" class=\"dataframe\">\n",
       "  <thead>\n",
       "    <tr style=\"text-align: right;\">\n",
       "      <th></th>\n",
       "      <th>ID_REF</th>\n",
       "      <th>GSM992030</th>\n",
       "      <th>GSM992020</th>\n",
       "      <th>GSM992019</th>\n",
       "      <th>GSM992027</th>\n",
       "      <th>GSM992022</th>\n",
       "    </tr>\n",
       "  </thead>\n",
       "  <tbody>\n",
       "    <tr>\n",
       "      <th>0</th>\n",
       "      <td>cg00000029</td>\n",
       "      <td>0.669685</td>\n",
       "      <td>0.641812</td>\n",
       "      <td>0.636325</td>\n",
       "      <td>0.638627</td>\n",
       "      <td>0.621240</td>\n",
       "    </tr>\n",
       "    <tr>\n",
       "      <th>1</th>\n",
       "      <td>cg00000108</td>\n",
       "      <td>0.932677</td>\n",
       "      <td>0.950772</td>\n",
       "      <td>0.940348</td>\n",
       "      <td>0.929730</td>\n",
       "      <td>0.919669</td>\n",
       "    </tr>\n",
       "    <tr>\n",
       "      <th>2</th>\n",
       "      <td>cg00000109</td>\n",
       "      <td>0.829809</td>\n",
       "      <td>0.915252</td>\n",
       "      <td>0.821773</td>\n",
       "      <td>0.760335</td>\n",
       "      <td>0.811644</td>\n",
       "    </tr>\n",
       "    <tr>\n",
       "      <th>3</th>\n",
       "      <td>cg00000165</td>\n",
       "      <td>0.207572</td>\n",
       "      <td>0.180444</td>\n",
       "      <td>0.181695</td>\n",
       "      <td>0.092088</td>\n",
       "      <td>0.165755</td>\n",
       "    </tr>\n",
       "    <tr>\n",
       "      <th>4</th>\n",
       "      <td>Age</td>\n",
       "      <td>54.000000</td>\n",
       "      <td>76.000000</td>\n",
       "      <td>71.000000</td>\n",
       "      <td>72.000000</td>\n",
       "      <td>79.000000</td>\n",
       "    </tr>\n",
       "  </tbody>\n",
       "</table>\n",
       "</div>"
      ],
      "text/plain": [
       "       ID_REF  GSM992030  GSM992020  GSM992019  GSM992027  GSM992022\n",
       "0  cg00000029   0.669685   0.641812   0.636325   0.638627   0.621240\n",
       "1  cg00000108   0.932677   0.950772   0.940348   0.929730   0.919669\n",
       "2  cg00000109   0.829809   0.915252   0.821773   0.760335   0.811644\n",
       "3  cg00000165   0.207572   0.180444   0.181695   0.092088   0.165755\n",
       "4         Age  54.000000  76.000000  71.000000  72.000000  79.000000"
      ]
     },
     "execution_count": 9,
     "metadata": {},
     "output_type": "execute_result"
    }
   ],
   "source": [
    "df1.head()"
   ]
  },
  {
   "cell_type": "code",
   "execution_count": null,
   "id": "12b2b793",
   "metadata": {},
   "outputs": [],
   "source": []
  }
 ],
 "metadata": {
  "kernelspec": {
   "display_name": "Python 3 (ipykernel)",
   "language": "python",
   "name": "python3"
  },
  "language_info": {
   "codemirror_mode": {
    "name": "ipython",
    "version": 3
   },
   "file_extension": ".py",
   "mimetype": "text/x-python",
   "name": "python",
   "nbconvert_exporter": "python",
   "pygments_lexer": "ipython3",
   "version": "3.9.16"
  },
  "toc": {
   "base_numbering": 1,
   "nav_menu": {},
   "number_sections": true,
   "sideBar": true,
   "skip_h1_title": false,
   "title_cell": "Table of Contents",
   "title_sidebar": "Contents",
   "toc_cell": false,
   "toc_position": {},
   "toc_section_display": true,
   "toc_window_display": false
  },
  "varInspector": {
   "cols": {
    "lenName": 16,
    "lenType": 16,
    "lenVar": 40
   },
   "kernels_config": {
    "python": {
     "delete_cmd_postfix": "",
     "delete_cmd_prefix": "del ",
     "library": "var_list.py",
     "varRefreshCmd": "print(var_dic_list())"
    },
    "r": {
     "delete_cmd_postfix": ") ",
     "delete_cmd_prefix": "rm(",
     "library": "var_list.r",
     "varRefreshCmd": "cat(var_dic_list()) "
    }
   },
   "types_to_exclude": [
    "module",
    "function",
    "builtin_function_or_method",
    "instance",
    "_Feature"
   ],
   "window_display": false
  }
 },
 "nbformat": 4,
 "nbformat_minor": 5
}
