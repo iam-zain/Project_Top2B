{
 "cells": [
  {
   "cell_type": "markdown",
   "id": "fb9573fb",
   "metadata": {},
   "source": [
    "## Schiz"
   ]
  },
  {
   "cell_type": "code",
   "execution_count": 5,
   "id": "8d011ef6",
   "metadata": {
    "ExecuteTime": {
     "end_time": "2023-06-13T11:33:29.204602Z",
     "start_time": "2023-06-13T11:33:28.888020Z"
    }
   },
   "outputs": [
    {
     "name": "stdout",
     "output_type": "stream",
     "text": [
      "Z:\\Project_Top2B\\April_2023\\diseasewise\\schiz\n"
     ]
    }
   ],
   "source": [
    "import pandas as pd\n",
    "\n",
    "%cd Z:\\Project_Top2B\\April_2023\\diseasewise\\schiz\n",
    "\n",
    "df1 = pd.read_csv('GSE61380_Top2b_Schiz_Trans.csv')\n",
    "df2 = pd.read_csv('GSE61431_Top2b_Schiz_Trans.csv')\n",
    "df3 = pd.read_csv('GSE74193_Top2b_Schiz_Trans.csv')\n",
    "df4 = pd.read_csv('GSE89702_Top2b_Schiz_Trans.csv')\n"
   ]
  },
  {
   "cell_type": "code",
   "execution_count": 6,
   "id": "3fc91e9d",
   "metadata": {
    "ExecuteTime": {
     "end_time": "2023-06-13T11:33:30.407550Z",
     "start_time": "2023-06-13T11:33:30.291603Z"
    },
    "scrolled": true
   },
   "outputs": [],
   "source": [
    "from functools import reduce\n",
    "\n",
    "df_list = [df1, df2, df3, df4]\n",
    "\n",
    "df_merged = reduce(lambda left, right: pd.merge(left, right, on=['CpG'], how='inner'), df_list)\n",
    "df_merged.fillna('void', inplace=True)\n",
    "\n",
    "# Drop columns containing ':' in their names\n",
    "df_merged.drop([col for col in df_merged.columns if ':' in col], axis=1, inplace=True)"
   ]
  },
  {
   "cell_type": "code",
   "execution_count": 7,
   "id": "44e83028",
   "metadata": {
    "ExecuteTime": {
     "end_time": "2023-06-13T11:33:32.313792Z",
     "start_time": "2023-06-13T11:33:32.282538Z"
    }
   },
   "outputs": [
    {
     "name": "stdout",
     "output_type": "stream",
     "text": [
      "(4071, 300)\n"
     ]
    },
    {
     "data": {
      "text/html": [
       "<div>\n",
       "<style scoped>\n",
       "    .dataframe tbody tr th:only-of-type {\n",
       "        vertical-align: middle;\n",
       "    }\n",
       "\n",
       "    .dataframe tbody tr th {\n",
       "        vertical-align: top;\n",
       "    }\n",
       "\n",
       "    .dataframe thead th {\n",
       "        text-align: right;\n",
       "    }\n",
       "</style>\n",
       "<table border=\"1\" class=\"dataframe\">\n",
       "  <thead>\n",
       "    <tr style=\"text-align: right;\">\n",
       "      <th></th>\n",
       "      <th>CpG</th>\n",
       "      <th>GSM1503514</th>\n",
       "      <th>GSM1503515</th>\n",
       "      <th>GSM1503516</th>\n",
       "      <th>GSM1503517</th>\n",
       "      <th>GSM1503518</th>\n",
       "      <th>GSM1503519</th>\n",
       "      <th>GSM1503520</th>\n",
       "      <th>GSM1503521</th>\n",
       "      <th>GSM1503522</th>\n",
       "      <th>...</th>\n",
       "      <th>GSM2387033</th>\n",
       "      <th>GSM2387034</th>\n",
       "      <th>GSM2387035</th>\n",
       "      <th>GSM2387038</th>\n",
       "      <th>GSM2387039</th>\n",
       "      <th>GSM2387041</th>\n",
       "      <th>GSM2387043</th>\n",
       "      <th>GSM2387049</th>\n",
       "      <th>GSM2387050</th>\n",
       "      <th>GSM2387051</th>\n",
       "    </tr>\n",
       "  </thead>\n",
       "  <tbody>\n",
       "    <tr>\n",
       "      <th>0</th>\n",
       "      <td>Age</td>\n",
       "      <td>24.000000</td>\n",
       "      <td>26.000000</td>\n",
       "      <td>29.000000</td>\n",
       "      <td>29.000000</td>\n",
       "      <td>30.000000</td>\n",
       "      <td>32.000000</td>\n",
       "      <td>33.000000</td>\n",
       "      <td>38.000000</td>\n",
       "      <td>39.000000</td>\n",
       "      <td>...</td>\n",
       "      <td>29.000000</td>\n",
       "      <td>26.000000</td>\n",
       "      <td>29.000000</td>\n",
       "      <td>69.000000</td>\n",
       "      <td>50.000000</td>\n",
       "      <td>32.000000</td>\n",
       "      <td>65.000000</td>\n",
       "      <td>70.000000</td>\n",
       "      <td>39.000000</td>\n",
       "      <td>47.000000</td>\n",
       "    </tr>\n",
       "    <tr>\n",
       "      <th>1</th>\n",
       "      <td>cg00005072</td>\n",
       "      <td>0.649323</td>\n",
       "      <td>0.675431</td>\n",
       "      <td>0.709357</td>\n",
       "      <td>0.671921</td>\n",
       "      <td>0.645406</td>\n",
       "      <td>0.668023</td>\n",
       "      <td>0.727525</td>\n",
       "      <td>0.637411</td>\n",
       "      <td>0.689505</td>\n",
       "      <td>...</td>\n",
       "      <td>0.822815</td>\n",
       "      <td>0.821476</td>\n",
       "      <td>0.797755</td>\n",
       "      <td>0.811635</td>\n",
       "      <td>0.795568</td>\n",
       "      <td>0.787053</td>\n",
       "      <td>0.804333</td>\n",
       "      <td>0.821071</td>\n",
       "      <td>0.769289</td>\n",
       "      <td>0.817665</td>\n",
       "    </tr>\n",
       "  </tbody>\n",
       "</table>\n",
       "<p>2 rows × 300 columns</p>\n",
       "</div>"
      ],
      "text/plain": [
       "          CpG  GSM1503514  GSM1503515  GSM1503516  GSM1503517  GSM1503518  \\\n",
       "0         Age   24.000000   26.000000   29.000000   29.000000   30.000000   \n",
       "1  cg00005072    0.649323    0.675431    0.709357    0.671921    0.645406   \n",
       "\n",
       "   GSM1503519  GSM1503520  GSM1503521  GSM1503522  ...  GSM2387033  \\\n",
       "0   32.000000   33.000000   38.000000   39.000000  ...   29.000000   \n",
       "1    0.668023    0.727525    0.637411    0.689505  ...    0.822815   \n",
       "\n",
       "   GSM2387034  GSM2387035  GSM2387038  GSM2387039  GSM2387041  GSM2387043  \\\n",
       "0   26.000000   29.000000   69.000000   50.000000   32.000000   65.000000   \n",
       "1    0.821476    0.797755    0.811635    0.795568    0.787053    0.804333   \n",
       "\n",
       "   GSM2387049 GSM2387050 GSM2387051  \n",
       "0   70.000000  39.000000  47.000000  \n",
       "1    0.821071   0.769289   0.817665  \n",
       "\n",
       "[2 rows x 300 columns]"
      ]
     },
     "execution_count": 7,
     "metadata": {},
     "output_type": "execute_result"
    }
   ],
   "source": [
    "print(df_merged.shape)\n",
    "df_merged.head(2)"
   ]
  },
  {
   "cell_type": "code",
   "execution_count": 8,
   "id": "a58a776b",
   "metadata": {
    "ExecuteTime": {
     "end_time": "2023-06-13T11:33:49.394200Z",
     "start_time": "2023-06-13T11:33:47.889920Z"
    }
   },
   "outputs": [],
   "source": [
    "df_merged.to_csv('Merged_Schiz_Top2B.csv', index=False)"
   ]
  },
  {
   "cell_type": "markdown",
   "id": "63cdc880",
   "metadata": {},
   "source": [
    "## AD"
   ]
  },
  {
   "cell_type": "code",
   "execution_count": 1,
   "id": "f1f3fa34",
   "metadata": {
    "ExecuteTime": {
     "end_time": "2023-08-04T10:33:31.397061Z",
     "start_time": "2023-08-04T10:33:29.992551Z"
    }
   },
   "outputs": [
    {
     "name": "stdout",
     "output_type": "stream",
     "text": [
      "Z:\\Project_Top2B\\April_2023\\diseasewise\\AD\n"
     ]
    }
   ],
   "source": [
    "import pandas as pd\n",
    "\n",
    "%cd Z:\\Project_Top2B\\April_2023\\diseasewise\\AD\n",
    "\n",
    "df1 = pd.read_csv('GSE134379_mtg_AD_Top2b_Age_Trans.csv')\n",
    "df2 = pd.read_csv('GSE134379_cb_AD_Top2b_Age_Trans.csv')\n",
    "df3 = pd.read_csv('GSE76105_AD_Top2b_Age_Trans.csv')\n",
    "df4 = pd.read_csv('GSE80970_AD_Top2b_Age_Trans.csv')\n",
    "df5 = pd.read_csv('GSE125895_AD_Top2b_Age_Trans.csv')\n",
    "df6 = pd.read_csv('GSE66351_AD_Top2b_Age_Trans.csv')\n",
    "df7 = pd.read_csv('GSE109627_AD_Top2b_Age_Trans.csv')\n",
    "df8 = pd.read_csv('GSE105109_AD_Top2b_Age_Trans.csv')\n"
   ]
  },
  {
   "cell_type": "code",
   "execution_count": 2,
   "id": "859e937f",
   "metadata": {
    "ExecuteTime": {
     "end_time": "2023-08-04T10:33:50.936624Z",
     "start_time": "2023-08-04T10:33:50.552293Z"
    }
   },
   "outputs": [
    {
     "name": "stdout",
     "output_type": "stream",
     "text": [
      "(3270, 994)\n"
     ]
    },
    {
     "data": {
      "text/html": [
       "<div>\n",
       "<style scoped>\n",
       "    .dataframe tbody tr th:only-of-type {\n",
       "        vertical-align: middle;\n",
       "    }\n",
       "\n",
       "    .dataframe tbody tr th {\n",
       "        vertical-align: top;\n",
       "    }\n",
       "\n",
       "    .dataframe thead th {\n",
       "        text-align: right;\n",
       "    }\n",
       "</style>\n",
       "<table border=\"1\" class=\"dataframe\">\n",
       "  <thead>\n",
       "    <tr style=\"text-align: right;\">\n",
       "      <th></th>\n",
       "      <th>CpG</th>\n",
       "      <th>MTG_0008</th>\n",
       "      <th>MTG_0022</th>\n",
       "      <th>MTG_0102</th>\n",
       "      <th>MTG_0107</th>\n",
       "      <th>MTG_0112</th>\n",
       "      <th>MTG_0121</th>\n",
       "      <th>MTG_0133</th>\n",
       "      <th>MTG_0219</th>\n",
       "      <th>MTG_0239</th>\n",
       "      <th>...</th>\n",
       "      <th>3999510117_R02C02</th>\n",
       "      <th>3998567107_R03C01</th>\n",
       "      <th>3998567107_R03C02</th>\n",
       "      <th>3998920160_R01C02</th>\n",
       "      <th>3998567094_R02C01</th>\n",
       "      <th>3998567094_R02C02</th>\n",
       "      <th>3999337055_R03C01</th>\n",
       "      <th>3999337055_R03C02</th>\n",
       "      <th>3998567035_R03C01</th>\n",
       "      <th>3998567035_R03C02</th>\n",
       "    </tr>\n",
       "  </thead>\n",
       "  <tbody>\n",
       "    <tr>\n",
       "      <th>0</th>\n",
       "      <td>Age</td>\n",
       "      <td>78.000000</td>\n",
       "      <td>78.00000</td>\n",
       "      <td>87.000000</td>\n",
       "      <td>77.000000</td>\n",
       "      <td>82.000000</td>\n",
       "      <td>75.000000</td>\n",
       "      <td>79.00000</td>\n",
       "      <td>76.000000</td>\n",
       "      <td>85.000000</td>\n",
       "      <td>...</td>\n",
       "      <td>94.000000</td>\n",
       "      <td>94.000000</td>\n",
       "      <td>94.000000</td>\n",
       "      <td>94.000000</td>\n",
       "      <td>94.000000</td>\n",
       "      <td>94.000000</td>\n",
       "      <td>97.000000</td>\n",
       "      <td>97.000000</td>\n",
       "      <td>97.000000</td>\n",
       "      <td>97.000000</td>\n",
       "    </tr>\n",
       "    <tr>\n",
       "      <th>1</th>\n",
       "      <td>cg00018024</td>\n",
       "      <td>0.019834</td>\n",
       "      <td>0.01732</td>\n",
       "      <td>0.018794</td>\n",
       "      <td>0.016304</td>\n",
       "      <td>0.016558</td>\n",
       "      <td>0.013646</td>\n",
       "      <td>0.01607</td>\n",
       "      <td>0.017689</td>\n",
       "      <td>0.016967</td>\n",
       "      <td>...</td>\n",
       "      <td>0.052716</td>\n",
       "      <td>0.051568</td>\n",
       "      <td>0.052376</td>\n",
       "      <td>0.058892</td>\n",
       "      <td>0.058426</td>\n",
       "      <td>0.067049</td>\n",
       "      <td>0.055876</td>\n",
       "      <td>0.056503</td>\n",
       "      <td>0.059701</td>\n",
       "      <td>0.060557</td>\n",
       "    </tr>\n",
       "  </tbody>\n",
       "</table>\n",
       "<p>2 rows × 994 columns</p>\n",
       "</div>"
      ],
      "text/plain": [
       "          CpG   MTG_0008  MTG_0022   MTG_0102   MTG_0107   MTG_0112  \\\n",
       "0         Age  78.000000  78.00000  87.000000  77.000000  82.000000   \n",
       "1  cg00018024   0.019834   0.01732   0.018794   0.016304   0.016558   \n",
       "\n",
       "    MTG_0121  MTG_0133   MTG_0219   MTG_0239  ...  3999510117_R02C02  \\\n",
       "0  75.000000  79.00000  76.000000  85.000000  ...          94.000000   \n",
       "1   0.013646   0.01607   0.017689   0.016967  ...           0.052716   \n",
       "\n",
       "   3998567107_R03C01  3998567107_R03C02  3998920160_R01C02  3998567094_R02C01  \\\n",
       "0          94.000000          94.000000          94.000000          94.000000   \n",
       "1           0.051568           0.052376           0.058892           0.058426   \n",
       "\n",
       "   3998567094_R02C02  3999337055_R03C01  3999337055_R03C02  3998567035_R03C01  \\\n",
       "0          94.000000          97.000000          97.000000          97.000000   \n",
       "1           0.067049           0.055876           0.056503           0.059701   \n",
       "\n",
       "   3998567035_R03C02  \n",
       "0          97.000000  \n",
       "1           0.060557  \n",
       "\n",
       "[2 rows x 994 columns]"
      ]
     },
     "execution_count": 2,
     "metadata": {},
     "output_type": "execute_result"
    }
   ],
   "source": [
    "from functools import reduce\n",
    "\n",
    "df_list = [df1, df2, df3, df4, df5, df6, df7, df8]\n",
    "\n",
    "df_merged = reduce(lambda left, right: pd.merge(left, right, on=['CpG'], how='inner'), df_list)\n",
    "df_merged.fillna('void', inplace=True)\n",
    "\n",
    "# Drop columns containing ':' in their names\n",
    "df_merged.drop([col for col in df_merged.columns if ':' in col], axis=1, inplace=True)\n",
    "\n",
    "print(df_merged.shape)\n",
    "df_merged.head(2)"
   ]
  },
  {
   "cell_type": "code",
   "execution_count": 3,
   "id": "848a22f9",
   "metadata": {
    "ExecuteTime": {
     "end_time": "2023-08-04T10:33:59.852911Z",
     "start_time": "2023-08-04T10:33:55.787642Z"
    }
   },
   "outputs": [],
   "source": [
    "df_merged.to_csv('Merged_AD_Top2B.csv', index=False)"
   ]
  },
  {
   "cell_type": "code",
   "execution_count": null,
   "id": "39ab1d05",
   "metadata": {},
   "outputs": [],
   "source": []
  }
 ],
 "metadata": {
  "kernelspec": {
   "display_name": "Python 3 (ipykernel)",
   "language": "python",
   "name": "python3"
  },
  "language_info": {
   "codemirror_mode": {
    "name": "ipython",
    "version": 3
   },
   "file_extension": ".py",
   "mimetype": "text/x-python",
   "name": "python",
   "nbconvert_exporter": "python",
   "pygments_lexer": "ipython3",
   "version": "3.9.16"
  },
  "toc": {
   "base_numbering": 1,
   "nav_menu": {},
   "number_sections": true,
   "sideBar": true,
   "skip_h1_title": false,
   "title_cell": "Table of Contents",
   "title_sidebar": "Contents",
   "toc_cell": false,
   "toc_position": {},
   "toc_section_display": true,
   "toc_window_display": false
  },
  "varInspector": {
   "cols": {
    "lenName": 16,
    "lenType": 16,
    "lenVar": 40
   },
   "kernels_config": {
    "python": {
     "delete_cmd_postfix": "",
     "delete_cmd_prefix": "del ",
     "library": "var_list.py",
     "varRefreshCmd": "print(var_dic_list())"
    },
    "r": {
     "delete_cmd_postfix": ") ",
     "delete_cmd_prefix": "rm(",
     "library": "var_list.r",
     "varRefreshCmd": "cat(var_dic_list()) "
    }
   },
   "types_to_exclude": [
    "module",
    "function",
    "builtin_function_or_method",
    "instance",
    "_Feature"
   ],
   "window_display": false
  }
 },
 "nbformat": 4,
 "nbformat_minor": 5
}
