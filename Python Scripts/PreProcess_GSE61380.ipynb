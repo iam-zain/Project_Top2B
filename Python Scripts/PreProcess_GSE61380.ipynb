{
 "cells": [
  {
   "cell_type": "code",
   "execution_count": 1,
   "id": "eef602c7",
   "metadata": {
    "ExecuteTime": {
     "end_time": "2023-05-01T07:14:14.089628Z",
     "start_time": "2023-05-01T07:14:13.479011Z"
    }
   },
   "outputs": [
    {
     "name": "stdout",
     "output_type": "stream",
     "text": [
      "Z:\\Project_Top2B\\April_2023\\GSE61380\n"
     ]
    }
   ],
   "source": [
    "%cd Z:\\Project_Top2B\\April_2023\\GSE61380\n",
    "import pandas as pd"
   ]
  },
  {
   "cell_type": "code",
   "execution_count": 2,
   "id": "1264ca3c",
   "metadata": {
    "ExecuteTime": {
     "end_time": "2023-05-01T07:14:14.120878Z",
     "start_time": "2023-05-01T07:14:14.089628Z"
    }
   },
   "outputs": [
    {
     "data": {
      "text/html": [
       "<div>\n",
       "<style scoped>\n",
       "    .dataframe tbody tr th:only-of-type {\n",
       "        vertical-align: middle;\n",
       "    }\n",
       "\n",
       "    .dataframe tbody tr th {\n",
       "        vertical-align: top;\n",
       "    }\n",
       "\n",
       "    .dataframe thead th {\n",
       "        text-align: right;\n",
       "    }\n",
       "</style>\n",
       "<table border=\"1\" class=\"dataframe\">\n",
       "  <thead>\n",
       "    <tr style=\"text-align: right;\">\n",
       "      <th></th>\n",
       "      <th>Sample_ID</th>\n",
       "      <th>Age</th>\n",
       "    </tr>\n",
       "  </thead>\n",
       "  <tbody>\n",
       "    <tr>\n",
       "      <th>0</th>\n",
       "      <td>GSM1503499</td>\n",
       "      <td>37</td>\n",
       "    </tr>\n",
       "    <tr>\n",
       "      <th>1</th>\n",
       "      <td>GSM1503500</td>\n",
       "      <td>57</td>\n",
       "    </tr>\n",
       "  </tbody>\n",
       "</table>\n",
       "</div>"
      ],
      "text/plain": [
       "    Sample_ID  Age\n",
       "0  GSM1503499   37\n",
       "1  GSM1503500   57"
      ]
     },
     "execution_count": 2,
     "metadata": {},
     "output_type": "execute_result"
    }
   ],
   "source": [
    "df2 = pd.read_csv('GSE61380_Age.csv')\n",
    "df2.head(2)"
   ]
  },
  {
   "cell_type": "code",
   "execution_count": 3,
   "id": "270f8185",
   "metadata": {
    "ExecuteTime": {
     "end_time": "2023-05-01T07:14:21.051975Z",
     "start_time": "2023-05-01T07:14:14.120878Z"
    }
   },
   "outputs": [
    {
     "name": "stdout",
     "output_type": "stream",
     "text": [
      "(447273, 34)\n"
     ]
    },
    {
     "data": {
      "text/html": [
       "<div>\n",
       "<style scoped>\n",
       "    .dataframe tbody tr th:only-of-type {\n",
       "        vertical-align: middle;\n",
       "    }\n",
       "\n",
       "    .dataframe tbody tr th {\n",
       "        vertical-align: top;\n",
       "    }\n",
       "\n",
       "    .dataframe thead th {\n",
       "        text-align: right;\n",
       "    }\n",
       "</style>\n",
       "<table border=\"1\" class=\"dataframe\">\n",
       "  <thead>\n",
       "    <tr style=\"text-align: right;\">\n",
       "      <th></th>\n",
       "      <th>ID_REF</th>\n",
       "      <th>GSM1503499</th>\n",
       "      <th>GSM1503500</th>\n",
       "      <th>GSM1503501</th>\n",
       "      <th>GSM1503502</th>\n",
       "      <th>GSM1503503</th>\n",
       "      <th>GSM1503504</th>\n",
       "      <th>GSM1503505</th>\n",
       "      <th>GSM1503506</th>\n",
       "      <th>GSM1503507</th>\n",
       "      <th>...</th>\n",
       "      <th>GSM1503522</th>\n",
       "      <th>GSM1503523</th>\n",
       "      <th>GSM1503524</th>\n",
       "      <th>GSM1503525</th>\n",
       "      <th>GSM1503526</th>\n",
       "      <th>GSM1503527</th>\n",
       "      <th>GSM1503528</th>\n",
       "      <th>GSM1503529</th>\n",
       "      <th>GSM1503530</th>\n",
       "      <th>GSM1503531</th>\n",
       "    </tr>\n",
       "  </thead>\n",
       "  <tbody>\n",
       "    <tr>\n",
       "      <th>0</th>\n",
       "      <td>cg00000029</td>\n",
       "      <td>0.383060</td>\n",
       "      <td>0.360163</td>\n",
       "      <td>0.386180</td>\n",
       "      <td>0.392195</td>\n",
       "      <td>0.424361</td>\n",
       "      <td>0.417636</td>\n",
       "      <td>0.448036</td>\n",
       "      <td>0.400095</td>\n",
       "      <td>0.388156</td>\n",
       "      <td>...</td>\n",
       "      <td>0.433246</td>\n",
       "      <td>0.464406</td>\n",
       "      <td>0.345492</td>\n",
       "      <td>0.468714</td>\n",
       "      <td>0.371849</td>\n",
       "      <td>0.418599</td>\n",
       "      <td>0.480720</td>\n",
       "      <td>0.447356</td>\n",
       "      <td>0.445130</td>\n",
       "      <td>0.378626</td>\n",
       "    </tr>\n",
       "    <tr>\n",
       "      <th>1</th>\n",
       "      <td>cg00000108</td>\n",
       "      <td>0.868987</td>\n",
       "      <td>0.875735</td>\n",
       "      <td>0.888495</td>\n",
       "      <td>0.926971</td>\n",
       "      <td>0.883882</td>\n",
       "      <td>0.878253</td>\n",
       "      <td>0.871476</td>\n",
       "      <td>0.900130</td>\n",
       "      <td>0.892411</td>\n",
       "      <td>...</td>\n",
       "      <td>0.882807</td>\n",
       "      <td>0.940102</td>\n",
       "      <td>0.880168</td>\n",
       "      <td>0.881164</td>\n",
       "      <td>0.880885</td>\n",
       "      <td>0.886446</td>\n",
       "      <td>0.803787</td>\n",
       "      <td>0.867505</td>\n",
       "      <td>0.873862</td>\n",
       "      <td>0.846739</td>\n",
       "    </tr>\n",
       "  </tbody>\n",
       "</table>\n",
       "<p>2 rows × 34 columns</p>\n",
       "</div>"
      ],
      "text/plain": [
       "       ID_REF  GSM1503499  GSM1503500  GSM1503501  GSM1503502  GSM1503503  \\\n",
       "0  cg00000029    0.383060    0.360163    0.386180    0.392195    0.424361   \n",
       "1  cg00000108    0.868987    0.875735    0.888495    0.926971    0.883882   \n",
       "\n",
       "   GSM1503504  GSM1503505  GSM1503506  GSM1503507  ...  GSM1503522  \\\n",
       "0    0.417636    0.448036    0.400095    0.388156  ...    0.433246   \n",
       "1    0.878253    0.871476    0.900130    0.892411  ...    0.882807   \n",
       "\n",
       "   GSM1503523  GSM1503524  GSM1503525  GSM1503526  GSM1503527  GSM1503528  \\\n",
       "0    0.464406    0.345492    0.468714    0.371849    0.418599    0.480720   \n",
       "1    0.940102    0.880168    0.881164    0.880885    0.886446    0.803787   \n",
       "\n",
       "   GSM1503529  GSM1503530  GSM1503531  \n",
       "0    0.447356    0.445130    0.378626  \n",
       "1    0.867505    0.873862    0.846739  \n",
       "\n",
       "[2 rows x 34 columns]"
      ]
     },
     "execution_count": 3,
     "metadata": {},
     "output_type": "execute_result"
    }
   ],
   "source": [
    "df = pd.read_csv('GSE61380.csv')\n",
    "\n",
    "# remove quotes from column names\n",
    "df.columns = df.columns.str.replace('\"', '')\n",
    "\n",
    "# remove quotes from cell values\n",
    "df = df.applymap(lambda x: x.replace('\"', '') if isinstance(x, str) else x)\n",
    "\n",
    "# print updated DataFrame\n",
    "print(df.shape)\n",
    "df.head(2)"
   ]
  },
  {
   "cell_type": "code",
   "execution_count": 4,
   "id": "73b7767f",
   "metadata": {
    "ExecuteTime": {
     "end_time": "2023-05-01T07:14:27.876698Z",
     "start_time": "2023-05-01T07:14:21.051975Z"
    },
    "scrolled": true
   },
   "outputs": [
    {
     "name": "stdout",
     "output_type": "stream",
     "text": [
      "(447273, 15)\n"
     ]
    },
    {
     "data": {
      "text/html": [
       "<div>\n",
       "<style scoped>\n",
       "    .dataframe tbody tr th:only-of-type {\n",
       "        vertical-align: middle;\n",
       "    }\n",
       "\n",
       "    .dataframe tbody tr th {\n",
       "        vertical-align: top;\n",
       "    }\n",
       "\n",
       "    .dataframe thead th {\n",
       "        text-align: right;\n",
       "    }\n",
       "</style>\n",
       "<table border=\"1\" class=\"dataframe\">\n",
       "  <thead>\n",
       "    <tr style=\"text-align: right;\">\n",
       "      <th></th>\n",
       "      <th>ID_REF</th>\n",
       "      <th>GSM1503500</th>\n",
       "      <th>GSM1503525</th>\n",
       "      <th>GSM1503529</th>\n",
       "      <th>GSM1503502</th>\n",
       "      <th>GSM1503510</th>\n",
       "      <th>GSM1503511</th>\n",
       "      <th>GSM1503517</th>\n",
       "      <th>GSM1503501</th>\n",
       "      <th>GSM1503499</th>\n",
       "      <th>GSM1503508</th>\n",
       "      <th>GSM1503503</th>\n",
       "      <th>GSM1503507</th>\n",
       "      <th>GSM1503523</th>\n",
       "      <th>GSM1503512</th>\n",
       "    </tr>\n",
       "  </thead>\n",
       "  <tbody>\n",
       "    <tr>\n",
       "      <th>0</th>\n",
       "      <td>cg00000029</td>\n",
       "      <td>0.360163</td>\n",
       "      <td>0.468714</td>\n",
       "      <td>0.447356</td>\n",
       "      <td>0.392195</td>\n",
       "      <td>0.426244</td>\n",
       "      <td>0.366794</td>\n",
       "      <td>0.425686</td>\n",
       "      <td>0.386180</td>\n",
       "      <td>0.383060</td>\n",
       "      <td>0.411873</td>\n",
       "      <td>0.424361</td>\n",
       "      <td>0.388156</td>\n",
       "      <td>0.464406</td>\n",
       "      <td>0.422934</td>\n",
       "    </tr>\n",
       "    <tr>\n",
       "      <th>1</th>\n",
       "      <td>cg00000108</td>\n",
       "      <td>0.875735</td>\n",
       "      <td>0.881164</td>\n",
       "      <td>0.867505</td>\n",
       "      <td>0.926971</td>\n",
       "      <td>0.840461</td>\n",
       "      <td>0.913652</td>\n",
       "      <td>0.893349</td>\n",
       "      <td>0.888495</td>\n",
       "      <td>0.868987</td>\n",
       "      <td>0.885588</td>\n",
       "      <td>0.883882</td>\n",
       "      <td>0.892411</td>\n",
       "      <td>0.940102</td>\n",
       "      <td>0.882883</td>\n",
       "    </tr>\n",
       "  </tbody>\n",
       "</table>\n",
       "</div>"
      ],
      "text/plain": [
       "       ID_REF  GSM1503500  GSM1503525  GSM1503529  GSM1503502  GSM1503510  \\\n",
       "0  cg00000029    0.360163    0.468714    0.447356    0.392195    0.426244   \n",
       "1  cg00000108    0.875735    0.881164    0.867505    0.926971    0.840461   \n",
       "\n",
       "   GSM1503511  GSM1503517  GSM1503501  GSM1503499  GSM1503508  GSM1503503  \\\n",
       "0    0.366794    0.425686    0.386180    0.383060    0.411873    0.424361   \n",
       "1    0.913652    0.893349    0.888495    0.868987    0.885588    0.883882   \n",
       "\n",
       "   GSM1503507  GSM1503523  GSM1503512  \n",
       "0    0.388156    0.464406    0.422934  \n",
       "1    0.892411    0.940102    0.882883  "
      ]
     },
     "execution_count": 4,
     "metadata": {},
     "output_type": "execute_result"
    }
   ],
   "source": [
    "# Extract the names which are present in both df2 and df\n",
    "names = list(set(df2['Sample_ID']).intersection(set(df.columns)))\n",
    "\n",
    "# Subset df using the names extracted from df2\n",
    "df_subset = df[names]\n",
    "\n",
    "# Adding CpG column from df\n",
    "df_subset.insert(loc=0, column='ID_REF', value=df.iloc[:, 0])\n",
    "\n",
    "df_subset.to_csv('GSE61380_Control.csv', index=False)\n",
    "\n",
    "print(df_subset.shape)\n",
    "df_subset.head(2)\n"
   ]
  },
  {
   "cell_type": "code",
   "execution_count": null,
   "id": "0b63ea55",
   "metadata": {},
   "outputs": [],
   "source": []
  },
  {
   "cell_type": "code",
   "execution_count": 1,
   "id": "1b191d0e",
   "metadata": {
    "ExecuteTime": {
     "end_time": "2023-05-02T06:17:26.827947Z",
     "start_time": "2023-05-02T06:17:25.402137Z"
    }
   },
   "outputs": [
    {
     "name": "stdout",
     "output_type": "stream",
     "text": [
      "Z:\\Project_Top2B\\April_2023\n",
      "Z:\\Project_Top2B\\April_2023\\GSE61380\n",
      "          CpG\n",
      "0  cg00005072\n",
      "1  cg00010266\n"
     ]
    },
    {
     "data": {
      "text/html": [
       "<div>\n",
       "<style scoped>\n",
       "    .dataframe tbody tr th:only-of-type {\n",
       "        vertical-align: middle;\n",
       "    }\n",
       "\n",
       "    .dataframe tbody tr th {\n",
       "        vertical-align: top;\n",
       "    }\n",
       "\n",
       "    .dataframe thead th {\n",
       "        text-align: right;\n",
       "    }\n",
       "</style>\n",
       "<table border=\"1\" class=\"dataframe\">\n",
       "  <thead>\n",
       "    <tr style=\"text-align: right;\">\n",
       "      <th></th>\n",
       "      <th>ID_REF</th>\n",
       "      <th>GSM1503500</th>\n",
       "      <th>GSM1503525</th>\n",
       "      <th>GSM1503529</th>\n",
       "      <th>GSM1503502</th>\n",
       "      <th>GSM1503510</th>\n",
       "      <th>GSM1503511</th>\n",
       "      <th>GSM1503517</th>\n",
       "      <th>GSM1503501</th>\n",
       "      <th>GSM1503499</th>\n",
       "      <th>GSM1503508</th>\n",
       "      <th>GSM1503503</th>\n",
       "      <th>GSM1503507</th>\n",
       "      <th>GSM1503523</th>\n",
       "      <th>GSM1503512</th>\n",
       "    </tr>\n",
       "  </thead>\n",
       "  <tbody>\n",
       "    <tr>\n",
       "      <th>0</th>\n",
       "      <td>cg00000029</td>\n",
       "      <td>0.360163</td>\n",
       "      <td>0.468714</td>\n",
       "      <td>0.447356</td>\n",
       "      <td>0.392195</td>\n",
       "      <td>0.426244</td>\n",
       "      <td>0.366794</td>\n",
       "      <td>0.425686</td>\n",
       "      <td>0.386180</td>\n",
       "      <td>0.383060</td>\n",
       "      <td>0.411873</td>\n",
       "      <td>0.424361</td>\n",
       "      <td>0.388156</td>\n",
       "      <td>0.464406</td>\n",
       "      <td>0.422934</td>\n",
       "    </tr>\n",
       "    <tr>\n",
       "      <th>1</th>\n",
       "      <td>cg00000108</td>\n",
       "      <td>0.875735</td>\n",
       "      <td>0.881164</td>\n",
       "      <td>0.867505</td>\n",
       "      <td>0.926971</td>\n",
       "      <td>0.840461</td>\n",
       "      <td>0.913652</td>\n",
       "      <td>0.893349</td>\n",
       "      <td>0.888495</td>\n",
       "      <td>0.868987</td>\n",
       "      <td>0.885588</td>\n",
       "      <td>0.883882</td>\n",
       "      <td>0.892411</td>\n",
       "      <td>0.940102</td>\n",
       "      <td>0.882883</td>\n",
       "    </tr>\n",
       "  </tbody>\n",
       "</table>\n",
       "</div>"
      ],
      "text/plain": [
       "       ID_REF  GSM1503500  GSM1503525  GSM1503529  GSM1503502  GSM1503510  \\\n",
       "0  cg00000029    0.360163    0.468714    0.447356    0.392195    0.426244   \n",
       "1  cg00000108    0.875735    0.881164    0.867505    0.926971    0.840461   \n",
       "\n",
       "   GSM1503511  GSM1503517  GSM1503501  GSM1503499  GSM1503508  GSM1503503  \\\n",
       "0    0.366794    0.425686    0.386180    0.383060    0.411873    0.424361   \n",
       "1    0.913652    0.893349    0.888495    0.868987    0.885588    0.883882   \n",
       "\n",
       "   GSM1503507  GSM1503523  GSM1503512  \n",
       "0    0.388156    0.464406    0.422934  \n",
       "1    0.892411    0.940102    0.882883  "
      ]
     },
     "execution_count": 1,
     "metadata": {},
     "output_type": "execute_result"
    }
   ],
   "source": [
    "import pandas as pd\n",
    "\n",
    "%cd Z:\\Project_Top2B\\April_2023\n",
    "df1 = pd.read_csv('CpGLists_Top2B.csv')\n",
    "\n",
    "%cd Z:\\Project_Top2B\\April_2023\\GSE61380\n",
    "df2 = pd.read_csv('GSE61380_Control.csv')\n",
    "\n",
    "print(df1.head(2))\n",
    "df2.head(2)"
   ]
  },
  {
   "cell_type": "code",
   "execution_count": 2,
   "id": "4017c135",
   "metadata": {
    "ExecuteTime": {
     "end_time": "2023-05-02T06:17:31.057814Z",
     "start_time": "2023-05-02T06:17:30.772683Z"
    }
   },
   "outputs": [
    {
     "name": "stdout",
     "output_type": "stream",
     "text": [
      "(4342, 15)\n"
     ]
    },
    {
     "data": {
      "text/html": [
       "<div>\n",
       "<style scoped>\n",
       "    .dataframe tbody tr th:only-of-type {\n",
       "        vertical-align: middle;\n",
       "    }\n",
       "\n",
       "    .dataframe tbody tr th {\n",
       "        vertical-align: top;\n",
       "    }\n",
       "\n",
       "    .dataframe thead th {\n",
       "        text-align: right;\n",
       "    }\n",
       "</style>\n",
       "<table border=\"1\" class=\"dataframe\">\n",
       "  <thead>\n",
       "    <tr style=\"text-align: right;\">\n",
       "      <th></th>\n",
       "      <th>CpG</th>\n",
       "      <th>GSM1503500</th>\n",
       "      <th>GSM1503525</th>\n",
       "      <th>GSM1503529</th>\n",
       "      <th>GSM1503502</th>\n",
       "      <th>GSM1503510</th>\n",
       "      <th>GSM1503511</th>\n",
       "      <th>GSM1503517</th>\n",
       "      <th>GSM1503501</th>\n",
       "      <th>GSM1503499</th>\n",
       "      <th>GSM1503508</th>\n",
       "      <th>GSM1503503</th>\n",
       "      <th>GSM1503507</th>\n",
       "      <th>GSM1503523</th>\n",
       "      <th>GSM1503512</th>\n",
       "    </tr>\n",
       "  </thead>\n",
       "  <tbody>\n",
       "    <tr>\n",
       "      <th>0</th>\n",
       "      <td>cg00005072</td>\n",
       "      <td>0.732890</td>\n",
       "      <td>0.634371</td>\n",
       "      <td>0.655843</td>\n",
       "      <td>0.695834</td>\n",
       "      <td>0.644556</td>\n",
       "      <td>0.672899</td>\n",
       "      <td>0.671921</td>\n",
       "      <td>0.685380</td>\n",
       "      <td>0.643455</td>\n",
       "      <td>0.648613</td>\n",
       "      <td>0.682038</td>\n",
       "      <td>0.637552</td>\n",
       "      <td>0.740533</td>\n",
       "      <td>0.677129</td>\n",
       "    </tr>\n",
       "    <tr>\n",
       "      <th>1</th>\n",
       "      <td>cg00010266</td>\n",
       "      <td>0.049205</td>\n",
       "      <td>0.051796</td>\n",
       "      <td>0.054468</td>\n",
       "      <td>0.058656</td>\n",
       "      <td>0.053328</td>\n",
       "      <td>0.050811</td>\n",
       "      <td>0.037140</td>\n",
       "      <td>0.063261</td>\n",
       "      <td>0.078176</td>\n",
       "      <td>0.063706</td>\n",
       "      <td>0.058828</td>\n",
       "      <td>0.056257</td>\n",
       "      <td>0.066427</td>\n",
       "      <td>0.047866</td>\n",
       "    </tr>\n",
       "  </tbody>\n",
       "</table>\n",
       "</div>"
      ],
      "text/plain": [
       "          CpG  GSM1503500  GSM1503525  GSM1503529  GSM1503502  GSM1503510  \\\n",
       "0  cg00005072    0.732890    0.634371    0.655843    0.695834    0.644556   \n",
       "1  cg00010266    0.049205    0.051796    0.054468    0.058656    0.053328   \n",
       "\n",
       "   GSM1503511  GSM1503517  GSM1503501  GSM1503499  GSM1503508  GSM1503503  \\\n",
       "0    0.672899    0.671921    0.685380    0.643455    0.648613    0.682038   \n",
       "1    0.050811    0.037140    0.063261    0.078176    0.063706    0.058828   \n",
       "\n",
       "   GSM1503507  GSM1503523  GSM1503512  \n",
       "0    0.637552    0.740533    0.677129  \n",
       "1    0.056257    0.066427    0.047866  "
      ]
     },
     "execution_count": 2,
     "metadata": {},
     "output_type": "execute_result"
    }
   ],
   "source": [
    "# Merge df1 and df2 on the common column 'col1'\n",
    "merged_df = pd.merge(df1, df2, how ='inner', left_on='CpG', right_on='ID_REF')\n",
    "\n",
    "# Drop the common column 'ID_REF'\n",
    "merged_df.drop('ID_REF', axis=1, inplace=True)\n",
    "merged_df.to_csv('GSE61380_Top2b.csv', index = 'False')\n",
    "print(merged_df.shape)\n",
    "merged_df.head(2)"
   ]
  },
  {
   "cell_type": "code",
   "execution_count": null,
   "id": "319decf6",
   "metadata": {},
   "outputs": [],
   "source": []
  }
 ],
 "metadata": {
  "kernelspec": {
   "display_name": "Python 3 (ipykernel)",
   "language": "python",
   "name": "python3"
  },
  "language_info": {
   "codemirror_mode": {
    "name": "ipython",
    "version": 3
   },
   "file_extension": ".py",
   "mimetype": "text/x-python",
   "name": "python",
   "nbconvert_exporter": "python",
   "pygments_lexer": "ipython3",
   "version": "3.9.16"
  },
  "toc": {
   "base_numbering": 1,
   "nav_menu": {},
   "number_sections": true,
   "sideBar": true,
   "skip_h1_title": false,
   "title_cell": "Table of Contents",
   "title_sidebar": "Contents",
   "toc_cell": false,
   "toc_position": {},
   "toc_section_display": true,
   "toc_window_display": false
  },
  "varInspector": {
   "cols": {
    "lenName": 16,
    "lenType": 16,
    "lenVar": 40
   },
   "kernels_config": {
    "python": {
     "delete_cmd_postfix": "",
     "delete_cmd_prefix": "del ",
     "library": "var_list.py",
     "varRefreshCmd": "print(var_dic_list())"
    },
    "r": {
     "delete_cmd_postfix": ") ",
     "delete_cmd_prefix": "rm(",
     "library": "var_list.r",
     "varRefreshCmd": "cat(var_dic_list()) "
    }
   },
   "types_to_exclude": [
    "module",
    "function",
    "builtin_function_or_method",
    "instance",
    "_Feature"
   ],
   "window_display": false
  }
 },
 "nbformat": 4,
 "nbformat_minor": 5
}
