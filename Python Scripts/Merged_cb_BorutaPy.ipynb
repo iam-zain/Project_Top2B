{
 "cells": [
  {
   "cell_type": "code",
   "execution_count": 1,
   "id": "51c5704f",
   "metadata": {
    "ExecuteTime": {
     "end_time": "2023-06-20T13:17:18.909423Z",
     "start_time": "2023-06-20T13:17:08.720445Z"
    }
   },
   "outputs": [],
   "source": [
    "import numpy as np\n",
    "import pandas as pd\n",
    "from boruta import BorutaPy\n",
    "from sklearn.metrics import accuracy_score \n",
    "from sklearn.ensemble import RandomForestRegressor\n",
    "from sklearn.model_selection import train_test_split"
   ]
  },
  {
   "cell_type": "code",
   "execution_count": 2,
   "id": "5ff336b1",
   "metadata": {
    "ExecuteTime": {
     "end_time": "2023-06-20T13:17:19.291423Z",
     "start_time": "2023-06-20T13:17:18.912424Z"
    },
    "scrolled": true
   },
   "outputs": [
    {
     "name": "stdout",
     "output_type": "stream",
     "text": [
      "Z:\\Project_Top2B\\April_2023\\regionwise\\cerebellum\n"
     ]
    },
    {
     "data": {
      "text/html": [
       "<div>\n",
       "<style scoped>\n",
       "    .dataframe tbody tr th:only-of-type {\n",
       "        vertical-align: middle;\n",
       "    }\n",
       "\n",
       "    .dataframe tbody tr th {\n",
       "        vertical-align: top;\n",
       "    }\n",
       "\n",
       "    .dataframe thead th {\n",
       "        text-align: right;\n",
       "    }\n",
       "</style>\n",
       "<table border=\"1\" class=\"dataframe\">\n",
       "  <thead>\n",
       "    <tr style=\"text-align: right;\">\n",
       "      <th></th>\n",
       "      <th>Age</th>\n",
       "      <th>cg00010266</th>\n",
       "      <th>cg00018024</th>\n",
       "      <th>cg00018539</th>\n",
       "      <th>cg00019511</th>\n",
       "      <th>cg00029353</th>\n",
       "      <th>cg00030423</th>\n",
       "      <th>cg00034416</th>\n",
       "      <th>cg00034611</th>\n",
       "      <th>cg00041368</th>\n",
       "      <th>...</th>\n",
       "      <th>cg27551895</th>\n",
       "      <th>cg27569265</th>\n",
       "      <th>cg27597926</th>\n",
       "      <th>cg27601855</th>\n",
       "      <th>cg27624319</th>\n",
       "      <th>cg27629898</th>\n",
       "      <th>cg27633533</th>\n",
       "      <th>cg27635069</th>\n",
       "      <th>cg27658967</th>\n",
       "      <th>cg27664120</th>\n",
       "    </tr>\n",
       "  </thead>\n",
       "  <tbody>\n",
       "    <tr>\n",
       "      <th>0</th>\n",
       "      <td>2.0</td>\n",
       "      <td>0.073333</td>\n",
       "      <td>0.050456</td>\n",
       "      <td>0.868932</td>\n",
       "      <td>0.881951</td>\n",
       "      <td>0.054426</td>\n",
       "      <td>0.069267</td>\n",
       "      <td>0.057713</td>\n",
       "      <td>0.854109</td>\n",
       "      <td>0.91927</td>\n",
       "      <td>...</td>\n",
       "      <td>0.158858</td>\n",
       "      <td>0.155456</td>\n",
       "      <td>0.081959</td>\n",
       "      <td>0.168745</td>\n",
       "      <td>0.159493</td>\n",
       "      <td>0.8402</td>\n",
       "      <td>0.918704</td>\n",
       "      <td>0.426576</td>\n",
       "      <td>0.066982</td>\n",
       "      <td>0.856399</td>\n",
       "    </tr>\n",
       "  </tbody>\n",
       "</table>\n",
       "<p>1 rows × 3311 columns</p>\n",
       "</div>"
      ],
      "text/plain": [
       "   Age  cg00010266  cg00018024  cg00018539  cg00019511  cg00029353  \\\n",
       "0  2.0    0.073333    0.050456    0.868932    0.881951    0.054426   \n",
       "\n",
       "   cg00030423  cg00034416  cg00034611  cg00041368  ...  cg27551895  \\\n",
       "0    0.069267    0.057713    0.854109     0.91927  ...    0.158858   \n",
       "\n",
       "   cg27569265  cg27597926  cg27601855  cg27624319  cg27629898  cg27633533  \\\n",
       "0    0.155456    0.081959    0.168745    0.159493      0.8402    0.918704   \n",
       "\n",
       "   cg27635069  cg27658967  cg27664120  \n",
       "0    0.426576    0.066982    0.856399  \n",
       "\n",
       "[1 rows x 3311 columns]"
      ]
     },
     "execution_count": 2,
     "metadata": {},
     "output_type": "execute_result"
    }
   ],
   "source": [
    "%cd Z:\\Project_Top2B\\April_2023\\regionwise\\cerebellum\n",
    "data = pd.read_csv('Merged_Top2B_cb.csv')\n",
    "data = data.drop(['Sample_ID'], axis = 1)\n",
    "data.head(1)"
   ]
  },
  {
   "cell_type": "code",
   "execution_count": 3,
   "id": "2884da98",
   "metadata": {
    "ExecuteTime": {
     "end_time": "2023-06-20T13:17:28.120424Z",
     "start_time": "2023-06-20T13:17:19.293425Z"
    }
   },
   "outputs": [
    {
     "data": {
      "text/html": [
       "<div>\n",
       "<style scoped>\n",
       "    .dataframe tbody tr th:only-of-type {\n",
       "        vertical-align: middle;\n",
       "    }\n",
       "\n",
       "    .dataframe tbody tr th {\n",
       "        vertical-align: top;\n",
       "    }\n",
       "\n",
       "    .dataframe thead th {\n",
       "        text-align: right;\n",
       "    }\n",
       "</style>\n",
       "<table border=\"1\" class=\"dataframe\">\n",
       "  <thead>\n",
       "    <tr style=\"text-align: right;\">\n",
       "      <th></th>\n",
       "      <th>Age</th>\n",
       "      <th>cg00010266</th>\n",
       "      <th>cg00018024</th>\n",
       "      <th>cg00018539</th>\n",
       "      <th>cg00019511</th>\n",
       "      <th>cg00029353</th>\n",
       "      <th>cg00030423</th>\n",
       "      <th>cg00034416</th>\n",
       "      <th>cg00034611</th>\n",
       "      <th>cg00041368</th>\n",
       "      <th>...</th>\n",
       "      <th>cg27551895</th>\n",
       "      <th>cg27569265</th>\n",
       "      <th>cg27597926</th>\n",
       "      <th>cg27601855</th>\n",
       "      <th>cg27624319</th>\n",
       "      <th>cg27629898</th>\n",
       "      <th>cg27633533</th>\n",
       "      <th>cg27635069</th>\n",
       "      <th>cg27658967</th>\n",
       "      <th>cg27664120</th>\n",
       "    </tr>\n",
       "  </thead>\n",
       "  <tbody>\n",
       "    <tr>\n",
       "      <th>0</th>\n",
       "      <td>2.0</td>\n",
       "      <td>0.073333</td>\n",
       "      <td>0.050456</td>\n",
       "      <td>0.868932</td>\n",
       "      <td>0.881951</td>\n",
       "      <td>0.054426</td>\n",
       "      <td>0.069267</td>\n",
       "      <td>0.057713</td>\n",
       "      <td>0.854109</td>\n",
       "      <td>0.919270</td>\n",
       "      <td>...</td>\n",
       "      <td>0.158858</td>\n",
       "      <td>0.155456</td>\n",
       "      <td>0.081959</td>\n",
       "      <td>0.168745</td>\n",
       "      <td>0.159493</td>\n",
       "      <td>0.840200</td>\n",
       "      <td>0.918704</td>\n",
       "      <td>0.426576</td>\n",
       "      <td>0.066982</td>\n",
       "      <td>0.856399</td>\n",
       "    </tr>\n",
       "    <tr>\n",
       "      <th>1</th>\n",
       "      <td>6.0</td>\n",
       "      <td>0.063563</td>\n",
       "      <td>0.071539</td>\n",
       "      <td>0.837630</td>\n",
       "      <td>0.871659</td>\n",
       "      <td>0.067022</td>\n",
       "      <td>0.075092</td>\n",
       "      <td>0.071654</td>\n",
       "      <td>0.708397</td>\n",
       "      <td>0.903124</td>\n",
       "      <td>...</td>\n",
       "      <td>0.205979</td>\n",
       "      <td>0.135422</td>\n",
       "      <td>0.064384</td>\n",
       "      <td>0.170143</td>\n",
       "      <td>0.093049</td>\n",
       "      <td>0.827394</td>\n",
       "      <td>0.882720</td>\n",
       "      <td>0.425566</td>\n",
       "      <td>0.071315</td>\n",
       "      <td>0.851720</td>\n",
       "    </tr>\n",
       "  </tbody>\n",
       "</table>\n",
       "<p>2 rows × 3311 columns</p>\n",
       "</div>"
      ],
      "text/plain": [
       "   Age  cg00010266  cg00018024  cg00018539  cg00019511  cg00029353  \\\n",
       "0  2.0    0.073333    0.050456    0.868932    0.881951    0.054426   \n",
       "1  6.0    0.063563    0.071539    0.837630    0.871659    0.067022   \n",
       "\n",
       "   cg00030423  cg00034416  cg00034611  cg00041368  ...  cg27551895  \\\n",
       "0    0.069267    0.057713    0.854109    0.919270  ...    0.158858   \n",
       "1    0.075092    0.071654    0.708397    0.903124  ...    0.205979   \n",
       "\n",
       "   cg27569265  cg27597926  cg27601855  cg27624319  cg27629898  cg27633533  \\\n",
       "0    0.155456    0.081959    0.168745    0.159493    0.840200    0.918704   \n",
       "1    0.135422    0.064384    0.170143    0.093049    0.827394    0.882720   \n",
       "\n",
       "   cg27635069  cg27658967  cg27664120  \n",
       "0    0.426576    0.066982    0.856399  \n",
       "1    0.425566    0.071315    0.851720  \n",
       "\n",
       "[2 rows x 3311 columns]"
      ]
     },
     "execution_count": 3,
     "metadata": {},
     "output_type": "execute_result"
    }
   ],
   "source": [
    "# Replace '' values with NaN\n",
    "data = data.replace('', np.nan)\n",
    "\n",
    "# Loop over each column and replace NaN values with column means\n",
    "for col in data.columns:\n",
    "    # Convert the column to numeric data type\n",
    "    data[col] = pd.to_numeric(data[col])\n",
    "    \n",
    "    # Calculate the mean of the column\n",
    "    col_mean = data[col].mean()\n",
    "    \n",
    "    # Replace NaN values with the column mean\n",
    "    data[col].fillna(col_mean, inplace=True)\n",
    "\n",
    "data.to_csv(\"Merged_Top2B_Mean_cb.csv\", index = False)\n",
    "data.head(2)"
   ]
  },
  {
   "cell_type": "code",
   "execution_count": 4,
   "id": "ee22df7a",
   "metadata": {
    "ExecuteTime": {
     "end_time": "2023-06-20T13:17:28.405427Z",
     "start_time": "2023-06-20T13:17:28.123424Z"
    }
   },
   "outputs": [],
   "source": [
    "X = data.drop(['Age'], axis = 1)\n",
    "y = data['Age']\n",
    "X_train, X_test, y_train, y_test = train_test_split(X, y, test_size = .2, random_state = 1) "
   ]
  },
  {
   "cell_type": "code",
   "execution_count": 5,
   "id": "c1ee3e48",
   "metadata": {
    "ExecuteTime": {
     "end_time": "2023-06-20T13:17:56.899457Z",
     "start_time": "2023-06-20T13:17:28.410429Z"
    }
   },
   "outputs": [
    {
     "data": {
      "text/plain": [
       "RandomForestRegressor(random_state=1)"
      ]
     },
     "execution_count": 5,
     "metadata": {},
     "output_type": "execute_result"
    }
   ],
   "source": [
    "rf_all_features = RandomForestRegressor(random_state=1)\n",
    "rf_all_features.fit(X_train, y_train)"
   ]
  },
  {
   "cell_type": "markdown",
   "id": "c2f0bbed",
   "metadata": {
    "ExecuteTime": {
     "end_time": "2023-02-06T04:25:14.735313Z",
     "start_time": "2023-02-06T04:25:13.854630Z"
    }
   },
   "source": [
    "accuracy_score(y_test, rf_all_features.predict(X_test))"
   ]
  },
  {
   "cell_type": "code",
   "execution_count": 6,
   "id": "5ba608ac",
   "metadata": {
    "ExecuteTime": {
     "end_time": "2023-06-20T14:24:51.974272Z",
     "start_time": "2023-06-20T13:17:56.902426Z"
    },
    "scrolled": true
   },
   "outputs": [
    {
     "name": "stdout",
     "output_type": "stream",
     "text": [
      "Iteration: 1 / 100\n",
      "Iteration: 2 / 100\n",
      "Iteration: 3 / 100\n",
      "Iteration: 4 / 100\n",
      "Iteration: 5 / 100\n",
      "Iteration: 6 / 100\n",
      "Iteration: 7 / 100\n",
      "Iteration: 8 / 100\n",
      "Iteration: 9 / 100\n",
      "Iteration: 10 / 100\n",
      "Iteration: 11 / 100\n",
      "Iteration: 12 / 100\n",
      "Iteration: 13 / 100\n",
      "Iteration: 14 / 100\n",
      "Iteration: 15 / 100\n",
      "Iteration: 16 / 100\n",
      "Iteration: 17 / 100\n",
      "Iteration: 18 / 100\n",
      "Iteration: 19 / 100\n",
      "Iteration: 20 / 100\n",
      "Iteration: 21 / 100\n",
      "Iteration: 22 / 100\n",
      "Iteration: 23 / 100\n",
      "Iteration: 24 / 100\n",
      "Iteration: 25 / 100\n",
      "Iteration: 26 / 100\n",
      "Iteration: 27 / 100\n",
      "Iteration: 28 / 100\n",
      "Iteration: 29 / 100\n",
      "Iteration: 30 / 100\n",
      "Iteration: 31 / 100\n",
      "Iteration: 32 / 100\n",
      "Iteration: 33 / 100\n",
      "Iteration: 34 / 100\n",
      "Iteration: 35 / 100\n",
      "Iteration: 36 / 100\n",
      "Iteration: 37 / 100\n",
      "Iteration: 38 / 100\n",
      "Iteration: 39 / 100\n",
      "Iteration: 40 / 100\n",
      "Iteration: 41 / 100\n",
      "Iteration: 42 / 100\n",
      "Iteration: 43 / 100\n",
      "Iteration: 44 / 100\n",
      "Iteration: 45 / 100\n",
      "Iteration: 46 / 100\n",
      "Iteration: 47 / 100\n",
      "Iteration: 48 / 100\n",
      "Iteration: 49 / 100\n",
      "Iteration: 50 / 100\n",
      "Iteration: 51 / 100\n",
      "Iteration: 52 / 100\n",
      "Iteration: 53 / 100\n",
      "Iteration: 54 / 100\n",
      "Iteration: 55 / 100\n",
      "Iteration: 56 / 100\n",
      "Iteration: 57 / 100\n",
      "Iteration: 58 / 100\n",
      "Iteration: 59 / 100\n",
      "Iteration: 60 / 100\n",
      "Iteration: 61 / 100\n",
      "Iteration: 62 / 100\n",
      "Iteration: 63 / 100\n",
      "Iteration: 64 / 100\n",
      "Iteration: 65 / 100\n",
      "Iteration: 66 / 100\n",
      "Iteration: 67 / 100\n",
      "Iteration: 68 / 100\n",
      "Iteration: 69 / 100\n",
      "Iteration: 70 / 100\n",
      "Iteration: 71 / 100\n",
      "Iteration: 72 / 100\n",
      "Iteration: 73 / 100\n",
      "Iteration: 74 / 100\n",
      "Iteration: 75 / 100\n",
      "Iteration: 76 / 100\n",
      "Iteration: 77 / 100\n",
      "Iteration: 78 / 100\n",
      "Iteration: 79 / 100\n",
      "Iteration: 80 / 100\n",
      "Iteration: 81 / 100\n",
      "Iteration: 82 / 100\n",
      "Iteration: 83 / 100\n",
      "Iteration: 84 / 100\n",
      "Iteration: 85 / 100\n",
      "Iteration: 86 / 100\n",
      "Iteration: 87 / 100\n",
      "Iteration: 88 / 100\n",
      "Iteration: 89 / 100\n",
      "Iteration: 90 / 100\n",
      "Iteration: 91 / 100\n",
      "Iteration: 92 / 100\n",
      "Iteration: 93 / 100\n",
      "Iteration: 94 / 100\n",
      "Iteration: 95 / 100\n",
      "Iteration: 96 / 100\n",
      "Iteration: 97 / 100\n",
      "Iteration: 98 / 100\n",
      "Iteration: 99 / 100\n",
      "\n",
      "\n",
      "BorutaPy finished running.\n",
      "\n",
      "Iteration: \t100 / 100\n",
      "Confirmed: \t49\n",
      "Tentative: \t19\n",
      "Rejected: \t3231\n"
     ]
    },
    {
     "data": {
      "text/plain": [
       "BorutaPy(estimator=RandomForestRegressor(n_estimators=125,\n",
       "                                         random_state=RandomState(MT19937) at 0x20D90F89540),\n",
       "         n_estimators='auto',\n",
       "         random_state=RandomState(MT19937) at 0x20D90F89540, verbose=1)"
      ]
     },
     "execution_count": 6,
     "metadata": {},
     "output_type": "execute_result"
    }
   ],
   "source": [
    "rfc = RandomForestRegressor(random_state=1)\n",
    "boruta_selector = BorutaPy(rfc, n_estimators= 'auto', verbose=1, random_state=1)\n",
    "boruta_selector.fit(np.array(X_train), np.array(y_train))  "
   ]
  },
  {
   "cell_type": "code",
   "execution_count": 7,
   "id": "51f874e0",
   "metadata": {
    "ExecuteTime": {
     "end_time": "2023-06-20T14:24:51.984269Z",
     "start_time": "2023-06-20T14:24:51.974272Z"
    }
   },
   "outputs": [
    {
     "name": "stdout",
     "output_type": "stream",
     "text": [
      "No. of significant features:  49\n"
     ]
    }
   ],
   "source": [
    "# print(\"Ranking: \",boruta_selector.ranking_)          \n",
    "print(\"No. of significant features: \", boruta_selector.n_features_)"
   ]
  },
  {
   "cell_type": "code",
   "execution_count": 8,
   "id": "61cadc89",
   "metadata": {
    "ExecuteTime": {
     "end_time": "2023-06-20T14:24:52.104276Z",
     "start_time": "2023-06-20T14:24:51.984269Z"
    }
   },
   "outputs": [],
   "source": [
    "selected_rf_features = pd.DataFrame({'CpG':list(X_train.columns),\n",
    "                                       'Ranking':boruta_selector.ranking_})\n",
    "selected_rf_features = selected_rf_features.sort_values(by='Ranking')"
   ]
  },
  {
   "cell_type": "code",
   "execution_count": 9,
   "id": "9605e163",
   "metadata": {
    "ExecuteTime": {
     "end_time": "2023-06-20T14:24:52.234278Z",
     "start_time": "2023-06-20T14:24:52.104276Z"
    }
   },
   "outputs": [],
   "source": [
    "selected_rf_features.to_csv ('CpG_BorutaPy_onAll_cb.csv', index = False)"
   ]
  },
  {
   "cell_type": "code",
   "execution_count": null,
   "id": "71786413",
   "metadata": {},
   "outputs": [],
   "source": []
  }
 ],
 "metadata": {
  "kernelspec": {
   "display_name": "Python 3 (ipykernel)",
   "language": "python",
   "name": "python3"
  },
  "language_info": {
   "codemirror_mode": {
    "name": "ipython",
    "version": 3
   },
   "file_extension": ".py",
   "mimetype": "text/x-python",
   "name": "python",
   "nbconvert_exporter": "python",
   "pygments_lexer": "ipython3",
   "version": "3.9.16"
  },
  "toc": {
   "base_numbering": 1,
   "nav_menu": {},
   "number_sections": true,
   "sideBar": true,
   "skip_h1_title": false,
   "title_cell": "Table of Contents",
   "title_sidebar": "Contents",
   "toc_cell": false,
   "toc_position": {},
   "toc_section_display": true,
   "toc_window_display": false
  },
  "varInspector": {
   "cols": {
    "lenName": 16,
    "lenType": 16,
    "lenVar": 40
   },
   "kernels_config": {
    "python": {
     "delete_cmd_postfix": "",
     "delete_cmd_prefix": "del ",
     "library": "var_list.py",
     "varRefreshCmd": "print(var_dic_list())"
    },
    "r": {
     "delete_cmd_postfix": ") ",
     "delete_cmd_prefix": "rm(",
     "library": "var_list.r",
     "varRefreshCmd": "cat(var_dic_list()) "
    }
   },
   "types_to_exclude": [
    "module",
    "function",
    "builtin_function_or_method",
    "instance",
    "_Feature"
   ],
   "window_display": false
  }
 },
 "nbformat": 4,
 "nbformat_minor": 5
}
