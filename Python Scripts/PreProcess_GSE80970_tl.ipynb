{
 "cells": [
  {
   "cell_type": "markdown",
   "id": "ae816d23",
   "metadata": {},
   "source": [
    "## Healthy"
   ]
  },
  {
   "cell_type": "code",
   "execution_count": 1,
   "id": "c9f38931",
   "metadata": {
    "ExecuteTime": {
     "end_time": "2023-07-04T04:47:57.425618Z",
     "start_time": "2023-07-04T04:47:56.254248Z"
    },
    "scrolled": true
   },
   "outputs": [
    {
     "name": "stdout",
     "output_type": "stream",
     "text": [
      "Z:\\Project_Top2B\\April_2023\\regionwise\\temporal_lobe\\GSE80970\n",
      "(70, 4607)\n"
     ]
    },
    {
     "data": {
      "text/html": [
       "<div>\n",
       "<style scoped>\n",
       "    .dataframe tbody tr th:only-of-type {\n",
       "        vertical-align: middle;\n",
       "    }\n",
       "\n",
       "    .dataframe tbody tr th {\n",
       "        vertical-align: top;\n",
       "    }\n",
       "\n",
       "    .dataframe thead th {\n",
       "        text-align: right;\n",
       "    }\n",
       "</style>\n",
       "<table border=\"1\" class=\"dataframe\">\n",
       "  <thead>\n",
       "    <tr style=\"text-align: right;\">\n",
       "      <th></th>\n",
       "      <th>Sample_ID</th>\n",
       "      <th>Age_x</th>\n",
       "      <th>Age_y</th>\n",
       "      <th>cg00005072</th>\n",
       "      <th>cg00010266</th>\n",
       "      <th>cg00017203</th>\n",
       "      <th>cg00017489</th>\n",
       "      <th>cg00018024</th>\n",
       "      <th>cg00018539</th>\n",
       "      <th>cg00019511</th>\n",
       "      <th>...</th>\n",
       "      <th>cg27597926</th>\n",
       "      <th>cg27598168</th>\n",
       "      <th>cg27601855</th>\n",
       "      <th>cg27624319</th>\n",
       "      <th>cg27629898</th>\n",
       "      <th>cg27633533</th>\n",
       "      <th>cg27635069</th>\n",
       "      <th>cg27658416</th>\n",
       "      <th>cg27658967</th>\n",
       "      <th>cg27664120</th>\n",
       "    </tr>\n",
       "  </thead>\n",
       "  <tbody>\n",
       "    <tr>\n",
       "      <th>0</th>\n",
       "      <td>GSM2139209</td>\n",
       "      <td>79</td>\n",
       "      <td>79</td>\n",
       "      <td>0.69285</td>\n",
       "      <td>0.08947</td>\n",
       "      <td>0.84640</td>\n",
       "      <td>0.18125</td>\n",
       "      <td>0.04574</td>\n",
       "      <td>0.86359</td>\n",
       "      <td>0.83366</td>\n",
       "      <td>...</td>\n",
       "      <td>0.13563</td>\n",
       "      <td>0.91700</td>\n",
       "      <td>0.11089</td>\n",
       "      <td>0.31096</td>\n",
       "      <td>0.71026</td>\n",
       "      <td>0.90972</td>\n",
       "      <td>0.24488</td>\n",
       "      <td>0.07990</td>\n",
       "      <td>0.10088</td>\n",
       "      <td>0.88951</td>\n",
       "    </tr>\n",
       "    <tr>\n",
       "      <th>1</th>\n",
       "      <td>GSM2139210</td>\n",
       "      <td>78</td>\n",
       "      <td>78</td>\n",
       "      <td>0.76653</td>\n",
       "      <td>0.08815</td>\n",
       "      <td>0.84588</td>\n",
       "      <td>0.18620</td>\n",
       "      <td>0.04285</td>\n",
       "      <td>0.83213</td>\n",
       "      <td>0.85915</td>\n",
       "      <td>...</td>\n",
       "      <td>0.15251</td>\n",
       "      <td>0.88306</td>\n",
       "      <td>0.12281</td>\n",
       "      <td>0.37965</td>\n",
       "      <td>0.69608</td>\n",
       "      <td>0.90968</td>\n",
       "      <td>0.23091</td>\n",
       "      <td>0.08565</td>\n",
       "      <td>0.12355</td>\n",
       "      <td>0.88208</td>\n",
       "    </tr>\n",
       "  </tbody>\n",
       "</table>\n",
       "<p>2 rows × 4607 columns</p>\n",
       "</div>"
      ],
      "text/plain": [
       "    Sample_ID  Age_x  Age_y  cg00005072  cg00010266  cg00017203  cg00017489  \\\n",
       "0  GSM2139209     79     79     0.69285     0.08947     0.84640     0.18125   \n",
       "1  GSM2139210     78     78     0.76653     0.08815     0.84588     0.18620   \n",
       "\n",
       "   cg00018024  cg00018539  cg00019511  ...  cg27597926  cg27598168  \\\n",
       "0     0.04574     0.86359     0.83366  ...     0.13563     0.91700   \n",
       "1     0.04285     0.83213     0.85915  ...     0.15251     0.88306   \n",
       "\n",
       "   cg27601855  cg27624319  cg27629898  cg27633533  cg27635069  cg27658416  \\\n",
       "0     0.11089     0.31096     0.71026     0.90972     0.24488     0.07990   \n",
       "1     0.12281     0.37965     0.69608     0.90968     0.23091     0.08565   \n",
       "\n",
       "   cg27658967  cg27664120  \n",
       "0     0.10088     0.88951  \n",
       "1     0.12355     0.88208  \n",
       "\n",
       "[2 rows x 4607 columns]"
      ]
     },
     "execution_count": 1,
     "metadata": {},
     "output_type": "execute_result"
    }
   ],
   "source": [
    "import csv\n",
    "import pandas as pd\n",
    "\n",
    "%cd Z:\\Project_Top2B\\April_2023\\regionwise\\temporal_lobe\\GSE80970\n",
    "\n",
    "df1 = pd.read_csv('GSE80970_Age_tl_hc.csv')\n",
    "df2 = pd.read_csv('GSE80970_Top2b_Age.csv')\n",
    "\n",
    "merged_df = pd.merge(df1, df2, how ='inner', on = df1.columns[0])\n",
    "merged_df.to_csv('GSE80970_Top2b_tl.csv', index = 'False')\n",
    "print(merged_df.shape)\n",
    "merged_df.head(2)"
   ]
  },
  {
   "cell_type": "markdown",
   "id": "471dd956",
   "metadata": {},
   "source": [
    "## Diseased"
   ]
  },
  {
   "cell_type": "code",
   "execution_count": 2,
   "id": "a46641f3",
   "metadata": {
    "ExecuteTime": {
     "end_time": "2023-07-04T04:47:58.127536Z",
     "start_time": "2023-07-04T04:47:57.425618Z"
    }
   },
   "outputs": [
    {
     "name": "stdout",
     "output_type": "stream",
     "text": [
      "(74, 4607)\n"
     ]
    },
    {
     "data": {
      "text/html": [
       "<div>\n",
       "<style scoped>\n",
       "    .dataframe tbody tr th:only-of-type {\n",
       "        vertical-align: middle;\n",
       "    }\n",
       "\n",
       "    .dataframe tbody tr th {\n",
       "        vertical-align: top;\n",
       "    }\n",
       "\n",
       "    .dataframe thead th {\n",
       "        text-align: right;\n",
       "    }\n",
       "</style>\n",
       "<table border=\"1\" class=\"dataframe\">\n",
       "  <thead>\n",
       "    <tr style=\"text-align: right;\">\n",
       "      <th></th>\n",
       "      <th>Sample_ID</th>\n",
       "      <th>Age_x</th>\n",
       "      <th>Age_y</th>\n",
       "      <th>cg00005072</th>\n",
       "      <th>cg00010266</th>\n",
       "      <th>cg00017203</th>\n",
       "      <th>cg00017489</th>\n",
       "      <th>cg00018024</th>\n",
       "      <th>cg00018539</th>\n",
       "      <th>cg00019511</th>\n",
       "      <th>...</th>\n",
       "      <th>cg27597926</th>\n",
       "      <th>cg27598168</th>\n",
       "      <th>cg27601855</th>\n",
       "      <th>cg27624319</th>\n",
       "      <th>cg27629898</th>\n",
       "      <th>cg27633533</th>\n",
       "      <th>cg27635069</th>\n",
       "      <th>cg27658416</th>\n",
       "      <th>cg27658967</th>\n",
       "      <th>cg27664120</th>\n",
       "    </tr>\n",
       "  </thead>\n",
       "  <tbody>\n",
       "    <tr>\n",
       "      <th>0</th>\n",
       "      <td>GSM2139213</td>\n",
       "      <td>99</td>\n",
       "      <td>99</td>\n",
       "      <td>0.72912</td>\n",
       "      <td>0.10960</td>\n",
       "      <td>0.82849</td>\n",
       "      <td>0.23259</td>\n",
       "      <td>0.04213</td>\n",
       "      <td>0.87145</td>\n",
       "      <td>0.86654</td>\n",
       "      <td>...</td>\n",
       "      <td>0.13049</td>\n",
       "      <td>0.87597</td>\n",
       "      <td>0.10523</td>\n",
       "      <td>0.35998</td>\n",
       "      <td>0.66606</td>\n",
       "      <td>0.91560</td>\n",
       "      <td>0.23360</td>\n",
       "      <td>0.08629</td>\n",
       "      <td>0.10162</td>\n",
       "      <td>0.88985</td>\n",
       "    </tr>\n",
       "    <tr>\n",
       "      <th>1</th>\n",
       "      <td>GSM2139214</td>\n",
       "      <td>87</td>\n",
       "      <td>87</td>\n",
       "      <td>0.72272</td>\n",
       "      <td>0.11823</td>\n",
       "      <td>0.77437</td>\n",
       "      <td>0.23101</td>\n",
       "      <td>0.04673</td>\n",
       "      <td>0.86301</td>\n",
       "      <td>0.86721</td>\n",
       "      <td>...</td>\n",
       "      <td>0.15838</td>\n",
       "      <td>0.88192</td>\n",
       "      <td>0.11199</td>\n",
       "      <td>0.33136</td>\n",
       "      <td>0.74591</td>\n",
       "      <td>0.90182</td>\n",
       "      <td>0.21383</td>\n",
       "      <td>0.08631</td>\n",
       "      <td>0.12864</td>\n",
       "      <td>0.88223</td>\n",
       "    </tr>\n",
       "  </tbody>\n",
       "</table>\n",
       "<p>2 rows × 4607 columns</p>\n",
       "</div>"
      ],
      "text/plain": [
       "    Sample_ID  Age_x  Age_y  cg00005072  cg00010266  cg00017203  cg00017489  \\\n",
       "0  GSM2139213     99     99     0.72912     0.10960     0.82849     0.23259   \n",
       "1  GSM2139214     87     87     0.72272     0.11823     0.77437     0.23101   \n",
       "\n",
       "   cg00018024  cg00018539  cg00019511  ...  cg27597926  cg27598168  \\\n",
       "0     0.04213     0.87145     0.86654  ...     0.13049     0.87597   \n",
       "1     0.04673     0.86301     0.86721  ...     0.15838     0.88192   \n",
       "\n",
       "   cg27601855  cg27624319  cg27629898  cg27633533  cg27635069  cg27658416  \\\n",
       "0     0.10523     0.35998     0.66606     0.91560     0.23360     0.08629   \n",
       "1     0.11199     0.33136     0.74591     0.90182     0.21383     0.08631   \n",
       "\n",
       "   cg27658967  cg27664120  \n",
       "0     0.10162     0.88985  \n",
       "1     0.12864     0.88223  \n",
       "\n",
       "[2 rows x 4607 columns]"
      ]
     },
     "execution_count": 2,
     "metadata": {},
     "output_type": "execute_result"
    }
   ],
   "source": [
    "df1 = pd.read_csv('GSE80970_Age_tl_AD.csv')\n",
    "df2 = pd.read_csv('GSE80970_AD_Top2b.csv')\n",
    "merged_df = pd.merge(df1, df2, how ='inner', on = 'Sample_ID')\n",
    "merged_df.to_csv('GSE80970_Top2b_AD_tl.csv', index = 'False')\n",
    "print(merged_df.shape)\n",
    "merged_df.head(2)"
   ]
  },
  {
   "cell_type": "code",
   "execution_count": null,
   "id": "deba1616",
   "metadata": {},
   "outputs": [],
   "source": []
  }
 ],
 "metadata": {
  "kernelspec": {
   "display_name": "Python 3 (ipykernel)",
   "language": "python",
   "name": "python3"
  },
  "language_info": {
   "codemirror_mode": {
    "name": "ipython",
    "version": 3
   },
   "file_extension": ".py",
   "mimetype": "text/x-python",
   "name": "python",
   "nbconvert_exporter": "python",
   "pygments_lexer": "ipython3",
   "version": "3.9.16"
  },
  "toc": {
   "base_numbering": 1,
   "nav_menu": {},
   "number_sections": true,
   "sideBar": true,
   "skip_h1_title": false,
   "title_cell": "Table of Contents",
   "title_sidebar": "Contents",
   "toc_cell": false,
   "toc_position": {},
   "toc_section_display": true,
   "toc_window_display": false
  },
  "varInspector": {
   "cols": {
    "lenName": 16,
    "lenType": 16,
    "lenVar": 40
   },
   "kernels_config": {
    "python": {
     "delete_cmd_postfix": "",
     "delete_cmd_prefix": "del ",
     "library": "var_list.py",
     "varRefreshCmd": "print(var_dic_list())"
    },
    "r": {
     "delete_cmd_postfix": ") ",
     "delete_cmd_prefix": "rm(",
     "library": "var_list.r",
     "varRefreshCmd": "cat(var_dic_list()) "
    }
   },
   "types_to_exclude": [
    "module",
    "function",
    "builtin_function_or_method",
    "instance",
    "_Feature"
   ],
   "window_display": false
  }
 },
 "nbformat": 4,
 "nbformat_minor": 5
}
