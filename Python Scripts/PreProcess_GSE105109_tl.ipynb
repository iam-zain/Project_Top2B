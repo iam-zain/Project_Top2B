{
 "cells": [
  {
   "cell_type": "markdown",
   "id": "ae816d23",
   "metadata": {},
   "source": [
    "## Healthy"
   ]
  },
  {
   "cell_type": "code",
   "execution_count": 1,
   "id": "c9f38931",
   "metadata": {
    "ExecuteTime": {
     "end_time": "2023-07-04T04:57:00.371230Z",
     "start_time": "2023-07-04T04:56:59.383953Z"
    },
    "scrolled": true
   },
   "outputs": [
    {
     "name": "stdout",
     "output_type": "stream",
     "text": [
      "Z:\\Project_Top2B\\April_2023\\regionwise\\temporal_lobe\\GSE105109\n",
      "(52, 3825)\n"
     ]
    },
    {
     "data": {
      "text/html": [
       "<div>\n",
       "<style scoped>\n",
       "    .dataframe tbody tr th:only-of-type {\n",
       "        vertical-align: middle;\n",
       "    }\n",
       "\n",
       "    .dataframe tbody tr th {\n",
       "        vertical-align: top;\n",
       "    }\n",
       "\n",
       "    .dataframe thead th {\n",
       "        text-align: right;\n",
       "    }\n",
       "</style>\n",
       "<table border=\"1\" class=\"dataframe\">\n",
       "  <thead>\n",
       "    <tr style=\"text-align: right;\">\n",
       "      <th></th>\n",
       "      <th>Sample_ID</th>\n",
       "      <th>Age_x</th>\n",
       "      <th>Age_y</th>\n",
       "      <th>cg00010266</th>\n",
       "      <th>cg00017489</th>\n",
       "      <th>cg00018024</th>\n",
       "      <th>cg00018539</th>\n",
       "      <th>cg00019511</th>\n",
       "      <th>cg00021539</th>\n",
       "      <th>cg00029353</th>\n",
       "      <th>...</th>\n",
       "      <th>cg27569265</th>\n",
       "      <th>cg27597926</th>\n",
       "      <th>cg27601855</th>\n",
       "      <th>cg27624319</th>\n",
       "      <th>cg27629898</th>\n",
       "      <th>cg27633533</th>\n",
       "      <th>cg27635069</th>\n",
       "      <th>cg27658416</th>\n",
       "      <th>cg27658967</th>\n",
       "      <th>cg27664120</th>\n",
       "    </tr>\n",
       "  </thead>\n",
       "  <tbody>\n",
       "    <tr>\n",
       "      <th>0</th>\n",
       "      <td>3999337016_R03C01</td>\n",
       "      <td>76</td>\n",
       "      <td>76</td>\n",
       "      <td>0.041097</td>\n",
       "      <td>0.161238</td>\n",
       "      <td>0.059645</td>\n",
       "      <td>0.689101</td>\n",
       "      <td>0.619023</td>\n",
       "      <td>0.047333</td>\n",
       "      <td>0.036826</td>\n",
       "      <td>...</td>\n",
       "      <td>0.086549</td>\n",
       "      <td>0.078885</td>\n",
       "      <td>0.109174</td>\n",
       "      <td>0.107203</td>\n",
       "      <td>0.658250</td>\n",
       "      <td>0.703960</td>\n",
       "      <td>0.199443</td>\n",
       "      <td>0.106435</td>\n",
       "      <td>0.051408</td>\n",
       "      <td>0.728964</td>\n",
       "    </tr>\n",
       "    <tr>\n",
       "      <th>1</th>\n",
       "      <td>3999337016_R03C02</td>\n",
       "      <td>76</td>\n",
       "      <td>76</td>\n",
       "      <td>0.062818</td>\n",
       "      <td>0.224276</td>\n",
       "      <td>0.057338</td>\n",
       "      <td>0.755215</td>\n",
       "      <td>0.710585</td>\n",
       "      <td>0.043740</td>\n",
       "      <td>0.047684</td>\n",
       "      <td>...</td>\n",
       "      <td>0.174953</td>\n",
       "      <td>0.113788</td>\n",
       "      <td>0.155716</td>\n",
       "      <td>0.098887</td>\n",
       "      <td>0.662789</td>\n",
       "      <td>0.842592</td>\n",
       "      <td>0.252962</td>\n",
       "      <td>0.127296</td>\n",
       "      <td>0.040384</td>\n",
       "      <td>0.758868</td>\n",
       "    </tr>\n",
       "  </tbody>\n",
       "</table>\n",
       "<p>2 rows × 3825 columns</p>\n",
       "</div>"
      ],
      "text/plain": [
       "           Sample_ID  Age_x  Age_y  cg00010266  cg00017489  cg00018024  \\\n",
       "0  3999337016_R03C01     76     76    0.041097    0.161238    0.059645   \n",
       "1  3999337016_R03C02     76     76    0.062818    0.224276    0.057338   \n",
       "\n",
       "   cg00018539  cg00019511  cg00021539  cg00029353  ...  cg27569265  \\\n",
       "0    0.689101    0.619023    0.047333    0.036826  ...    0.086549   \n",
       "1    0.755215    0.710585    0.043740    0.047684  ...    0.174953   \n",
       "\n",
       "   cg27597926  cg27601855  cg27624319  cg27629898  cg27633533  cg27635069  \\\n",
       "0    0.078885    0.109174    0.107203    0.658250    0.703960    0.199443   \n",
       "1    0.113788    0.155716    0.098887    0.662789    0.842592    0.252962   \n",
       "\n",
       "   cg27658416  cg27658967  cg27664120  \n",
       "0    0.106435    0.051408    0.728964  \n",
       "1    0.127296    0.040384    0.758868  \n",
       "\n",
       "[2 rows x 3825 columns]"
      ]
     },
     "execution_count": 1,
     "metadata": {},
     "output_type": "execute_result"
    }
   ],
   "source": [
    "import csv\n",
    "import pandas as pd\n",
    "\n",
    "%cd Z:\\Project_Top2B\\April_2023\\regionwise\\temporal_lobe\\GSE105109\n",
    "\n",
    "df1 = pd.read_csv('GSE105109_Age_tl_hc.csv')\n",
    "df2 = pd.read_csv('GSE105109_Top2b_Age.csv')\n",
    "\n",
    "merged_df = pd.merge(df1, df2, how ='inner', on = df1.columns[0])\n",
    "merged_df.to_csv('GSE105109_Top2b_tl.csv', index = 'False')\n",
    "print(merged_df.shape)\n",
    "merged_df.head(2)"
   ]
  },
  {
   "cell_type": "markdown",
   "id": "471dd956",
   "metadata": {},
   "source": [
    "## Diseased"
   ]
  },
  {
   "cell_type": "code",
   "execution_count": 3,
   "id": "a46641f3",
   "metadata": {
    "ExecuteTime": {
     "end_time": "2023-07-04T04:58:32.723930Z",
     "start_time": "2023-07-04T04:58:31.843406Z"
    }
   },
   "outputs": [
    {
     "name": "stdout",
     "output_type": "stream",
     "text": [
      "(126, 3824)\n"
     ]
    },
    {
     "data": {
      "text/html": [
       "<div>\n",
       "<style scoped>\n",
       "    .dataframe tbody tr th:only-of-type {\n",
       "        vertical-align: middle;\n",
       "    }\n",
       "\n",
       "    .dataframe tbody tr th {\n",
       "        vertical-align: top;\n",
       "    }\n",
       "\n",
       "    .dataframe thead th {\n",
       "        text-align: right;\n",
       "    }\n",
       "</style>\n",
       "<table border=\"1\" class=\"dataframe\">\n",
       "  <thead>\n",
       "    <tr style=\"text-align: right;\">\n",
       "      <th></th>\n",
       "      <th>Sample_ID</th>\n",
       "      <th>Age</th>\n",
       "      <th>cg00010266</th>\n",
       "      <th>cg00017489</th>\n",
       "      <th>cg00018024</th>\n",
       "      <th>cg00018539</th>\n",
       "      <th>cg00019511</th>\n",
       "      <th>cg00021539</th>\n",
       "      <th>cg00029353</th>\n",
       "      <th>cg00030423</th>\n",
       "      <th>...</th>\n",
       "      <th>cg27569265</th>\n",
       "      <th>cg27597926</th>\n",
       "      <th>cg27601855</th>\n",
       "      <th>cg27624319</th>\n",
       "      <th>cg27629898</th>\n",
       "      <th>cg27633533</th>\n",
       "      <th>cg27635069</th>\n",
       "      <th>cg27658416</th>\n",
       "      <th>cg27658967</th>\n",
       "      <th>cg27664120</th>\n",
       "    </tr>\n",
       "  </thead>\n",
       "  <tbody>\n",
       "    <tr>\n",
       "      <th>0</th>\n",
       "      <td>3999337016_R01C01</td>\n",
       "      <td>92</td>\n",
       "      <td>0.047667</td>\n",
       "      <td>0.087954</td>\n",
       "      <td>0.062200</td>\n",
       "      <td>0.651978</td>\n",
       "      <td>0.731518</td>\n",
       "      <td>0.053495</td>\n",
       "      <td>0.051539</td>\n",
       "      <td>0.053709</td>\n",
       "      <td>...</td>\n",
       "      <td>0.087040</td>\n",
       "      <td>0.066253</td>\n",
       "      <td>0.116202</td>\n",
       "      <td>0.158868</td>\n",
       "      <td>0.526152</td>\n",
       "      <td>0.720505</td>\n",
       "      <td>0.185803</td>\n",
       "      <td>0.073734</td>\n",
       "      <td>0.043277</td>\n",
       "      <td>0.721970</td>\n",
       "    </tr>\n",
       "    <tr>\n",
       "      <th>1</th>\n",
       "      <td>3999337016_R01C02</td>\n",
       "      <td>92</td>\n",
       "      <td>0.045640</td>\n",
       "      <td>0.130746</td>\n",
       "      <td>0.059085</td>\n",
       "      <td>0.754215</td>\n",
       "      <td>0.663855</td>\n",
       "      <td>0.047356</td>\n",
       "      <td>0.048407</td>\n",
       "      <td>0.051867</td>\n",
       "      <td>...</td>\n",
       "      <td>0.108452</td>\n",
       "      <td>0.064713</td>\n",
       "      <td>0.155409</td>\n",
       "      <td>0.289479</td>\n",
       "      <td>0.617509</td>\n",
       "      <td>0.694182</td>\n",
       "      <td>0.235797</td>\n",
       "      <td>0.114363</td>\n",
       "      <td>0.065237</td>\n",
       "      <td>0.757958</td>\n",
       "    </tr>\n",
       "  </tbody>\n",
       "</table>\n",
       "<p>2 rows × 3824 columns</p>\n",
       "</div>"
      ],
      "text/plain": [
       "           Sample_ID  Age  cg00010266  cg00017489  cg00018024  cg00018539  \\\n",
       "0  3999337016_R01C01   92    0.047667    0.087954    0.062200    0.651978   \n",
       "1  3999337016_R01C02   92    0.045640    0.130746    0.059085    0.754215   \n",
       "\n",
       "   cg00019511  cg00021539  cg00029353  cg00030423  ...  cg27569265  \\\n",
       "0    0.731518    0.053495    0.051539    0.053709  ...    0.087040   \n",
       "1    0.663855    0.047356    0.048407    0.051867  ...    0.108452   \n",
       "\n",
       "   cg27597926  cg27601855  cg27624319  cg27629898  cg27633533  cg27635069  \\\n",
       "0    0.066253    0.116202    0.158868    0.526152    0.720505    0.185803   \n",
       "1    0.064713    0.155409    0.289479    0.617509    0.694182    0.235797   \n",
       "\n",
       "   cg27658416  cg27658967  cg27664120  \n",
       "0    0.073734    0.043277    0.721970  \n",
       "1    0.114363    0.065237    0.757958  \n",
       "\n",
       "[2 rows x 3824 columns]"
      ]
     },
     "execution_count": 3,
     "metadata": {},
     "output_type": "execute_result"
    }
   ],
   "source": [
    "df1 = pd.read_csv('GSE105109_Age_tl_AD.csv')\n",
    "df2 = pd.read_csv('GSE105109_Top2b_AD.csv')\n",
    "merged_df = pd.merge(df1, df2, how ='inner', on = 'Sample_ID')\n",
    "merged_df.to_csv('GSE105109_Top2b_AD_tl.csv', index = 'False')\n",
    "print(merged_df.shape)\n",
    "merged_df.head(2)"
   ]
  },
  {
   "cell_type": "code",
   "execution_count": null,
   "id": "deba1616",
   "metadata": {},
   "outputs": [],
   "source": []
  }
 ],
 "metadata": {
  "kernelspec": {
   "display_name": "Python 3 (ipykernel)",
   "language": "python",
   "name": "python3"
  },
  "language_info": {
   "codemirror_mode": {
    "name": "ipython",
    "version": 3
   },
   "file_extension": ".py",
   "mimetype": "text/x-python",
   "name": "python",
   "nbconvert_exporter": "python",
   "pygments_lexer": "ipython3",
   "version": "3.9.16"
  },
  "toc": {
   "base_numbering": 1,
   "nav_menu": {},
   "number_sections": true,
   "sideBar": true,
   "skip_h1_title": false,
   "title_cell": "Table of Contents",
   "title_sidebar": "Contents",
   "toc_cell": false,
   "toc_position": {},
   "toc_section_display": true,
   "toc_window_display": false
  },
  "varInspector": {
   "cols": {
    "lenName": 16,
    "lenType": 16,
    "lenVar": 40
   },
   "kernels_config": {
    "python": {
     "delete_cmd_postfix": "",
     "delete_cmd_prefix": "del ",
     "library": "var_list.py",
     "varRefreshCmd": "print(var_dic_list())"
    },
    "r": {
     "delete_cmd_postfix": ") ",
     "delete_cmd_prefix": "rm(",
     "library": "var_list.r",
     "varRefreshCmd": "cat(var_dic_list()) "
    }
   },
   "types_to_exclude": [
    "module",
    "function",
    "builtin_function_or_method",
    "instance",
    "_Feature"
   ],
   "window_display": false
  }
 },
 "nbformat": 4,
 "nbformat_minor": 5
}
