{
 "cells": [
  {
   "cell_type": "code",
   "execution_count": 1,
   "id": "0eb98b49",
   "metadata": {
    "ExecuteTime": {
     "end_time": "2023-09-23T11:34:30.366993Z",
     "start_time": "2023-09-23T11:34:29.812222Z"
    }
   },
   "outputs": [],
   "source": [
    "import numpy as np\n",
    "import pandas as pd"
   ]
  },
  {
   "cell_type": "code",
   "execution_count": 2,
   "id": "9df5ce4e",
   "metadata": {
    "ExecuteTime": {
     "end_time": "2023-09-23T11:34:30.467262Z",
     "start_time": "2023-09-23T11:34:30.366993Z"
    }
   },
   "outputs": [
    {
     "name": "stdout",
     "output_type": "stream",
     "text": [
      "Z:\\Project_Top2B\\April_2023\\Cortex_Clock\\Diseased\n"
     ]
    },
    {
     "data": {
      "text/html": [
       "<div>\n",
       "<style scoped>\n",
       "    .dataframe tbody tr th:only-of-type {\n",
       "        vertical-align: middle;\n",
       "    }\n",
       "\n",
       "    .dataframe tbody tr th {\n",
       "        vertical-align: top;\n",
       "    }\n",
       "\n",
       "    .dataframe thead th {\n",
       "        text-align: right;\n",
       "    }\n",
       "</style>\n",
       "<table border=\"1\" class=\"dataframe\">\n",
       "  <thead>\n",
       "    <tr style=\"text-align: right;\">\n",
       "      <th></th>\n",
       "      <th>cg00059225</th>\n",
       "      <th>cg00088042</th>\n",
       "      <th>cg00252534</th>\n",
       "      <th>cg00297950</th>\n",
       "      <th>cg00384539</th>\n",
       "      <th>cg00491255</th>\n",
       "      <th>cg00521255</th>\n",
       "      <th>cg00648582</th>\n",
       "      <th>cg00771642</th>\n",
       "      <th>cg00924265</th>\n",
       "      <th>...</th>\n",
       "      <th>cg26952796</th>\n",
       "      <th>cg27013696</th>\n",
       "      <th>cg27043838</th>\n",
       "      <th>cg27134767</th>\n",
       "      <th>cg27230784</th>\n",
       "      <th>cg27388680</th>\n",
       "      <th>cg27414487</th>\n",
       "      <th>cg27529628</th>\n",
       "      <th>ch.2.1904845F</th>\n",
       "      <th>ch.2.71774667F</th>\n",
       "    </tr>\n",
       "  </thead>\n",
       "  <tbody>\n",
       "    <tr>\n",
       "      <th>0</th>\n",
       "      <td>0.133594</td>\n",
       "      <td>0.104611</td>\n",
       "      <td>0.675385</td>\n",
       "      <td>0.034715</td>\n",
       "      <td>0.073708</td>\n",
       "      <td>0.705088</td>\n",
       "      <td>0.16001</td>\n",
       "      <td>0.923408</td>\n",
       "      <td>0.609714</td>\n",
       "      <td>0.528806</td>\n",
       "      <td>...</td>\n",
       "      <td>0.321255</td>\n",
       "      <td>0.291662</td>\n",
       "      <td>0.772762</td>\n",
       "      <td>0.745483</td>\n",
       "      <td>0.040756</td>\n",
       "      <td>0.342553</td>\n",
       "      <td>0.437841</td>\n",
       "      <td>0.108199</td>\n",
       "      <td>0.259798</td>\n",
       "      <td>0.446963</td>\n",
       "    </tr>\n",
       "  </tbody>\n",
       "</table>\n",
       "<p>1 rows × 347 columns</p>\n",
       "</div>"
      ],
      "text/plain": [
       "   cg00059225  cg00088042  cg00252534  cg00297950  cg00384539  cg00491255  \\\n",
       "0    0.133594    0.104611    0.675385    0.034715    0.073708    0.705088   \n",
       "\n",
       "   cg00521255  cg00648582  cg00771642  cg00924265  ...  cg26952796  \\\n",
       "0     0.16001    0.923408    0.609714    0.528806  ...    0.321255   \n",
       "\n",
       "   cg27013696  cg27043838  cg27134767  cg27230784  cg27388680  cg27414487  \\\n",
       "0    0.291662    0.772762    0.745483    0.040756    0.342553    0.437841   \n",
       "\n",
       "   cg27529628  ch.2.1904845F  ch.2.71774667F  \n",
       "0    0.108199       0.259798        0.446963  \n",
       "\n",
       "[1 rows x 347 columns]"
      ]
     },
     "execution_count": 2,
     "metadata": {},
     "output_type": "execute_result"
    }
   ],
   "source": [
    "%cd Z:\\Project_Top2B\\April_2023\\Cortex_Clock\\Diseased\n",
    "data = pd.read_csv('Merged_Cortex_Diseased.csv')\n",
    "data = data.drop(['ID_REF','Age'], axis = 1)\n",
    "data.head(1)"
   ]
  },
  {
   "cell_type": "code",
   "execution_count": 3,
   "id": "4c4a2fcb",
   "metadata": {
    "ExecuteTime": {
     "end_time": "2023-09-23T11:34:31.015525Z",
     "start_time": "2023-09-23T11:34:30.467262Z"
    }
   },
   "outputs": [
    {
     "data": {
      "text/html": [
       "<div>\n",
       "<style scoped>\n",
       "    .dataframe tbody tr th:only-of-type {\n",
       "        vertical-align: middle;\n",
       "    }\n",
       "\n",
       "    .dataframe tbody tr th {\n",
       "        vertical-align: top;\n",
       "    }\n",
       "\n",
       "    .dataframe thead th {\n",
       "        text-align: right;\n",
       "    }\n",
       "</style>\n",
       "<table border=\"1\" class=\"dataframe\">\n",
       "  <thead>\n",
       "    <tr style=\"text-align: right;\">\n",
       "      <th></th>\n",
       "      <th>cg00059225</th>\n",
       "      <th>cg00088042</th>\n",
       "      <th>cg00252534</th>\n",
       "      <th>cg00297950</th>\n",
       "      <th>cg00384539</th>\n",
       "      <th>cg00491255</th>\n",
       "      <th>cg00521255</th>\n",
       "      <th>cg00648582</th>\n",
       "      <th>cg00771642</th>\n",
       "      <th>cg00924265</th>\n",
       "      <th>...</th>\n",
       "      <th>cg26952796</th>\n",
       "      <th>cg27013696</th>\n",
       "      <th>cg27043838</th>\n",
       "      <th>cg27134767</th>\n",
       "      <th>cg27230784</th>\n",
       "      <th>cg27388680</th>\n",
       "      <th>cg27414487</th>\n",
       "      <th>cg27529628</th>\n",
       "      <th>ch.2.1904845F</th>\n",
       "      <th>ch.2.71774667F</th>\n",
       "    </tr>\n",
       "  </thead>\n",
       "  <tbody>\n",
       "    <tr>\n",
       "      <th>0</th>\n",
       "      <td>0.133594</td>\n",
       "      <td>0.104611</td>\n",
       "      <td>0.675385</td>\n",
       "      <td>0.034715</td>\n",
       "      <td>0.073708</td>\n",
       "      <td>0.705088</td>\n",
       "      <td>0.160010</td>\n",
       "      <td>0.923408</td>\n",
       "      <td>0.609714</td>\n",
       "      <td>0.528806</td>\n",
       "      <td>...</td>\n",
       "      <td>0.321255</td>\n",
       "      <td>0.291662</td>\n",
       "      <td>0.772762</td>\n",
       "      <td>0.745483</td>\n",
       "      <td>0.040756</td>\n",
       "      <td>0.342553</td>\n",
       "      <td>0.437841</td>\n",
       "      <td>0.108199</td>\n",
       "      <td>0.259798</td>\n",
       "      <td>0.446963</td>\n",
       "    </tr>\n",
       "    <tr>\n",
       "      <th>1</th>\n",
       "      <td>0.178339</td>\n",
       "      <td>0.115730</td>\n",
       "      <td>0.698802</td>\n",
       "      <td>0.036363</td>\n",
       "      <td>0.089422</td>\n",
       "      <td>0.756965</td>\n",
       "      <td>0.156965</td>\n",
       "      <td>0.911138</td>\n",
       "      <td>0.669056</td>\n",
       "      <td>0.479529</td>\n",
       "      <td>...</td>\n",
       "      <td>0.332447</td>\n",
       "      <td>0.307219</td>\n",
       "      <td>0.735283</td>\n",
       "      <td>0.708761</td>\n",
       "      <td>0.039121</td>\n",
       "      <td>0.466878</td>\n",
       "      <td>0.429393</td>\n",
       "      <td>0.131845</td>\n",
       "      <td>0.302326</td>\n",
       "      <td>0.437394</td>\n",
       "    </tr>\n",
       "  </tbody>\n",
       "</table>\n",
       "<p>2 rows × 347 columns</p>\n",
       "</div>"
      ],
      "text/plain": [
       "   cg00059225  cg00088042  cg00252534  cg00297950  cg00384539  cg00491255  \\\n",
       "0    0.133594    0.104611    0.675385    0.034715    0.073708    0.705088   \n",
       "1    0.178339    0.115730    0.698802    0.036363    0.089422    0.756965   \n",
       "\n",
       "   cg00521255  cg00648582  cg00771642  cg00924265  ...  cg26952796  \\\n",
       "0    0.160010    0.923408    0.609714    0.528806  ...    0.321255   \n",
       "1    0.156965    0.911138    0.669056    0.479529  ...    0.332447   \n",
       "\n",
       "   cg27013696  cg27043838  cg27134767  cg27230784  cg27388680  cg27414487  \\\n",
       "0    0.291662    0.772762    0.745483    0.040756    0.342553    0.437841   \n",
       "1    0.307219    0.735283    0.708761    0.039121    0.466878    0.429393   \n",
       "\n",
       "   cg27529628  ch.2.1904845F  ch.2.71774667F  \n",
       "0    0.108199       0.259798        0.446963  \n",
       "1    0.131845       0.302326        0.437394  \n",
       "\n",
       "[2 rows x 347 columns]"
      ]
     },
     "execution_count": 3,
     "metadata": {},
     "output_type": "execute_result"
    }
   ],
   "source": [
    "# Replace '' values with NaN\n",
    "data = data.replace('', np.nan)\n",
    "\n",
    "# Loop over each column and replace NaN values with column means\n",
    "for col in data.columns:\n",
    "    # Convert the column to numeric data type\n",
    "    data[col] = pd.to_numeric(data[col])\n",
    "    \n",
    "    # Calculate the mean of the column\n",
    "    col_mean = data[col].mean()\n",
    "    \n",
    "    # Replace NaN values with the column mean\n",
    "    data[col].fillna(col_mean, inplace=True)\n",
    "\n",
    "data.to_csv(\"Merged_Cortex_Diseased_Mean.csv\", index = False)\n",
    "data.head(2)"
   ]
  },
  {
   "cell_type": "code",
   "execution_count": null,
   "id": "6621e846",
   "metadata": {},
   "outputs": [],
   "source": []
  }
 ],
 "metadata": {
  "kernelspec": {
   "display_name": "Python 3 (ipykernel)",
   "language": "python",
   "name": "python3"
  },
  "language_info": {
   "codemirror_mode": {
    "name": "ipython",
    "version": 3
   },
   "file_extension": ".py",
   "mimetype": "text/x-python",
   "name": "python",
   "nbconvert_exporter": "python",
   "pygments_lexer": "ipython3",
   "version": "3.9.16"
  },
  "toc": {
   "base_numbering": 1,
   "nav_menu": {},
   "number_sections": true,
   "sideBar": true,
   "skip_h1_title": false,
   "title_cell": "Table of Contents",
   "title_sidebar": "Contents",
   "toc_cell": false,
   "toc_position": {},
   "toc_section_display": true,
   "toc_window_display": false
  },
  "varInspector": {
   "cols": {
    "lenName": 16,
    "lenType": 16,
    "lenVar": 40
   },
   "kernels_config": {
    "python": {
     "delete_cmd_postfix": "",
     "delete_cmd_prefix": "del ",
     "library": "var_list.py",
     "varRefreshCmd": "print(var_dic_list())"
    },
    "r": {
     "delete_cmd_postfix": ") ",
     "delete_cmd_prefix": "rm(",
     "library": "var_list.r",
     "varRefreshCmd": "cat(var_dic_list()) "
    }
   },
   "types_to_exclude": [
    "module",
    "function",
    "builtin_function_or_method",
    "instance",
    "_Feature"
   ],
   "window_display": false
  }
 },
 "nbformat": 4,
 "nbformat_minor": 5
}
