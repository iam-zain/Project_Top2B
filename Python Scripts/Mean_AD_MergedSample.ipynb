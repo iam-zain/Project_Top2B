{
 "cells": [
  {
   "cell_type": "code",
   "execution_count": 1,
   "id": "0eb98b49",
   "metadata": {
    "ExecuteTime": {
     "end_time": "2023-08-04T10:42:22.158467Z",
     "start_time": "2023-08-04T10:42:21.641494Z"
    }
   },
   "outputs": [],
   "source": [
    "import numpy as np\n",
    "import pandas as pd"
   ]
  },
  {
   "cell_type": "code",
   "execution_count": 2,
   "id": "9df5ce4e",
   "metadata": {
    "ExecuteTime": {
     "end_time": "2023-08-04T10:42:22.876078Z",
     "start_time": "2023-08-04T10:42:22.158467Z"
    }
   },
   "outputs": [
    {
     "name": "stdout",
     "output_type": "stream",
     "text": [
      "Z:\\Project_Top2B\\April_2023\\diseasewise\\AD\n"
     ]
    },
    {
     "data": {
      "text/html": [
       "<div>\n",
       "<style scoped>\n",
       "    .dataframe tbody tr th:only-of-type {\n",
       "        vertical-align: middle;\n",
       "    }\n",
       "\n",
       "    .dataframe tbody tr th {\n",
       "        vertical-align: top;\n",
       "    }\n",
       "\n",
       "    .dataframe thead th {\n",
       "        text-align: right;\n",
       "    }\n",
       "</style>\n",
       "<table border=\"1\" class=\"dataframe\">\n",
       "  <thead>\n",
       "    <tr style=\"text-align: right;\">\n",
       "      <th></th>\n",
       "      <th>Age</th>\n",
       "      <th>cg00018024</th>\n",
       "      <th>cg00018539</th>\n",
       "      <th>cg00019511</th>\n",
       "      <th>cg00029353</th>\n",
       "      <th>cg00030423</th>\n",
       "      <th>cg00034416</th>\n",
       "      <th>cg00034611</th>\n",
       "      <th>cg00041368</th>\n",
       "      <th>cg00048759</th>\n",
       "      <th>...</th>\n",
       "      <th>cg27551895</th>\n",
       "      <th>cg27569265</th>\n",
       "      <th>cg27597926</th>\n",
       "      <th>cg27601855</th>\n",
       "      <th>cg27624319</th>\n",
       "      <th>cg27629898</th>\n",
       "      <th>cg27633533</th>\n",
       "      <th>cg27635069</th>\n",
       "      <th>cg27658967</th>\n",
       "      <th>cg27664120</th>\n",
       "    </tr>\n",
       "  </thead>\n",
       "  <tbody>\n",
       "    <tr>\n",
       "      <th>0</th>\n",
       "      <td>54.0</td>\n",
       "      <td>0.015858</td>\n",
       "      <td>0.940698</td>\n",
       "      <td>0.940097</td>\n",
       "      <td>0.041606</td>\n",
       "      <td>0.017108</td>\n",
       "      <td>0.016948</td>\n",
       "      <td>0.932196</td>\n",
       "      <td>0.94554</td>\n",
       "      <td>0.254107</td>\n",
       "      <td>...</td>\n",
       "      <td>0.10933</td>\n",
       "      <td>0.031993</td>\n",
       "      <td>0.048454</td>\n",
       "      <td>0.028968</td>\n",
       "      <td>0.073151</td>\n",
       "      <td>0.962882</td>\n",
       "      <td>0.936481</td>\n",
       "      <td>0.185976</td>\n",
       "      <td>0.03027</td>\n",
       "      <td>0.931602</td>\n",
       "    </tr>\n",
       "  </tbody>\n",
       "</table>\n",
       "<p>1 rows × 3270 columns</p>\n",
       "</div>"
      ],
      "text/plain": [
       "    Age  cg00018024  cg00018539  cg00019511  cg00029353  cg00030423  \\\n",
       "0  54.0    0.015858    0.940698    0.940097    0.041606    0.017108   \n",
       "\n",
       "   cg00034416  cg00034611  cg00041368  cg00048759  ...  cg27551895  \\\n",
       "0    0.016948    0.932196     0.94554    0.254107  ...     0.10933   \n",
       "\n",
       "   cg27569265  cg27597926  cg27601855  cg27624319  cg27629898  cg27633533  \\\n",
       "0    0.031993    0.048454    0.028968    0.073151    0.962882    0.936481   \n",
       "\n",
       "   cg27635069  cg27658967  cg27664120  \n",
       "0    0.185976     0.03027    0.931602  \n",
       "\n",
       "[1 rows x 3270 columns]"
      ]
     },
     "execution_count": 2,
     "metadata": {},
     "output_type": "execute_result"
    }
   ],
   "source": [
    "%cd Z:\\Project_Top2B\\April_2023\\diseasewise\\AD\n",
    "data = pd.read_csv('Merged_AD_Top2B_Age.csv')\n",
    "data = data.drop(['CpG'], axis = 1)\n",
    "data.head(1)"
   ]
  },
  {
   "cell_type": "code",
   "execution_count": 3,
   "id": "4c4a2fcb",
   "metadata": {
    "ExecuteTime": {
     "end_time": "2023-08-04T10:42:41.937543Z",
     "start_time": "2023-08-04T10:42:22.876078Z"
    }
   },
   "outputs": [
    {
     "data": {
      "text/html": [
       "<div>\n",
       "<style scoped>\n",
       "    .dataframe tbody tr th:only-of-type {\n",
       "        vertical-align: middle;\n",
       "    }\n",
       "\n",
       "    .dataframe tbody tr th {\n",
       "        vertical-align: top;\n",
       "    }\n",
       "\n",
       "    .dataframe thead th {\n",
       "        text-align: right;\n",
       "    }\n",
       "</style>\n",
       "<table border=\"1\" class=\"dataframe\">\n",
       "  <thead>\n",
       "    <tr style=\"text-align: right;\">\n",
       "      <th></th>\n",
       "      <th>Age</th>\n",
       "      <th>cg00018024</th>\n",
       "      <th>cg00018539</th>\n",
       "      <th>cg00019511</th>\n",
       "      <th>cg00029353</th>\n",
       "      <th>cg00030423</th>\n",
       "      <th>cg00034416</th>\n",
       "      <th>cg00034611</th>\n",
       "      <th>cg00041368</th>\n",
       "      <th>cg00048759</th>\n",
       "      <th>...</th>\n",
       "      <th>cg27551895</th>\n",
       "      <th>cg27569265</th>\n",
       "      <th>cg27597926</th>\n",
       "      <th>cg27601855</th>\n",
       "      <th>cg27624319</th>\n",
       "      <th>cg27629898</th>\n",
       "      <th>cg27633533</th>\n",
       "      <th>cg27635069</th>\n",
       "      <th>cg27658967</th>\n",
       "      <th>cg27664120</th>\n",
       "    </tr>\n",
       "  </thead>\n",
       "  <tbody>\n",
       "    <tr>\n",
       "      <th>0</th>\n",
       "      <td>54.0</td>\n",
       "      <td>0.015858</td>\n",
       "      <td>0.940698</td>\n",
       "      <td>0.940097</td>\n",
       "      <td>0.041606</td>\n",
       "      <td>0.017108</td>\n",
       "      <td>0.016948</td>\n",
       "      <td>0.932196</td>\n",
       "      <td>0.945540</td>\n",
       "      <td>0.254107</td>\n",
       "      <td>...</td>\n",
       "      <td>0.109330</td>\n",
       "      <td>0.031993</td>\n",
       "      <td>0.048454</td>\n",
       "      <td>0.028968</td>\n",
       "      <td>0.073151</td>\n",
       "      <td>0.962882</td>\n",
       "      <td>0.936481</td>\n",
       "      <td>0.185976</td>\n",
       "      <td>0.030270</td>\n",
       "      <td>0.931602</td>\n",
       "    </tr>\n",
       "    <tr>\n",
       "      <th>1</th>\n",
       "      <td>57.0</td>\n",
       "      <td>0.018462</td>\n",
       "      <td>0.924326</td>\n",
       "      <td>0.945213</td>\n",
       "      <td>0.037173</td>\n",
       "      <td>0.021360</td>\n",
       "      <td>0.013821</td>\n",
       "      <td>0.937927</td>\n",
       "      <td>0.954782</td>\n",
       "      <td>0.264466</td>\n",
       "      <td>...</td>\n",
       "      <td>0.087679</td>\n",
       "      <td>0.027671</td>\n",
       "      <td>0.044006</td>\n",
       "      <td>0.042350</td>\n",
       "      <td>0.077475</td>\n",
       "      <td>0.961355</td>\n",
       "      <td>0.954541</td>\n",
       "      <td>0.182689</td>\n",
       "      <td>0.058582</td>\n",
       "      <td>0.914764</td>\n",
       "    </tr>\n",
       "  </tbody>\n",
       "</table>\n",
       "<p>2 rows × 3270 columns</p>\n",
       "</div>"
      ],
      "text/plain": [
       "    Age  cg00018024  cg00018539  cg00019511  cg00029353  cg00030423  \\\n",
       "0  54.0    0.015858    0.940698    0.940097    0.041606    0.017108   \n",
       "1  57.0    0.018462    0.924326    0.945213    0.037173    0.021360   \n",
       "\n",
       "   cg00034416  cg00034611  cg00041368  cg00048759  ...  cg27551895  \\\n",
       "0    0.016948    0.932196    0.945540    0.254107  ...    0.109330   \n",
       "1    0.013821    0.937927    0.954782    0.264466  ...    0.087679   \n",
       "\n",
       "   cg27569265  cg27597926  cg27601855  cg27624319  cg27629898  cg27633533  \\\n",
       "0    0.031993    0.048454    0.028968    0.073151    0.962882    0.936481   \n",
       "1    0.027671    0.044006    0.042350    0.077475    0.961355    0.954541   \n",
       "\n",
       "   cg27635069  cg27658967  cg27664120  \n",
       "0    0.185976    0.030270    0.931602  \n",
       "1    0.182689    0.058582    0.914764  \n",
       "\n",
       "[2 rows x 3270 columns]"
      ]
     },
     "execution_count": 3,
     "metadata": {},
     "output_type": "execute_result"
    }
   ],
   "source": [
    "# Replace '' values with NaN\n",
    "data = data.replace('', np.nan)\n",
    "\n",
    "# Loop over each column and replace NaN values with column means\n",
    "for col in data.columns:\n",
    "    # Convert the column to numeric data type\n",
    "    data[col] = pd.to_numeric(data[col])\n",
    "    \n",
    "    # Calculate the mean of the column\n",
    "    col_mean = data[col].mean()\n",
    "    \n",
    "    # Replace NaN values with the column mean\n",
    "    data[col].fillna(col_mean, inplace=True)\n",
    "\n",
    "data.to_csv(\"Merged_AD_Top2B_AgeMean.csv\", index = False)\n",
    "data.head(2)"
   ]
  },
  {
   "cell_type": "code",
   "execution_count": null,
   "id": "6621e846",
   "metadata": {},
   "outputs": [],
   "source": []
  }
 ],
 "metadata": {
  "kernelspec": {
   "display_name": "Python 3 (ipykernel)",
   "language": "python",
   "name": "python3"
  },
  "language_info": {
   "codemirror_mode": {
    "name": "ipython",
    "version": 3
   },
   "file_extension": ".py",
   "mimetype": "text/x-python",
   "name": "python",
   "nbconvert_exporter": "python",
   "pygments_lexer": "ipython3",
   "version": "3.9.16"
  },
  "toc": {
   "base_numbering": 1,
   "nav_menu": {},
   "number_sections": true,
   "sideBar": true,
   "skip_h1_title": false,
   "title_cell": "Table of Contents",
   "title_sidebar": "Contents",
   "toc_cell": false,
   "toc_position": {},
   "toc_section_display": true,
   "toc_window_display": false
  },
  "varInspector": {
   "cols": {
    "lenName": 16,
    "lenType": 16,
    "lenVar": 40
   },
   "kernels_config": {
    "python": {
     "delete_cmd_postfix": "",
     "delete_cmd_prefix": "del ",
     "library": "var_list.py",
     "varRefreshCmd": "print(var_dic_list())"
    },
    "r": {
     "delete_cmd_postfix": ") ",
     "delete_cmd_prefix": "rm(",
     "library": "var_list.r",
     "varRefreshCmd": "cat(var_dic_list()) "
    }
   },
   "types_to_exclude": [
    "module",
    "function",
    "builtin_function_or_method",
    "instance",
    "_Feature"
   ],
   "window_display": false
  }
 },
 "nbformat": 4,
 "nbformat_minor": 5
}
