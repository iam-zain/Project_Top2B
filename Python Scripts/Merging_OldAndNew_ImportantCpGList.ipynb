{
 "cells": [
  {
   "cell_type": "code",
   "execution_count": 1,
   "id": "0ca64210",
   "metadata": {
    "ExecuteTime": {
     "end_time": "2023-06-01T10:35:22.463397Z",
     "start_time": "2023-06-01T10:35:21.830451Z"
    }
   },
   "outputs": [
    {
     "name": "stdout",
     "output_type": "stream",
     "text": [
      "Z:\\Project_Top2B\\Clocks_Analysis\\Analysis_PostNatal\n",
      "Z:\\Project_Top2B\\April_2023\\Files_Top2B\\CpG_inRow\n",
      "(86, 1)\n"
     ]
    },
    {
     "data": {
      "text/plain": [
       "(236, 1)"
      ]
     },
     "execution_count": 1,
     "metadata": {},
     "output_type": "execute_result"
    }
   ],
   "source": [
    "import pandas as pd\n",
    "\n",
    "%cd Z:\\Project_Top2B\\Clocks_Analysis\\Analysis_PostNatal\n",
    "df1 = pd.read_csv('CpG86List_BorutaPy.csv')\n",
    "\n",
    "%cd Z:\\Project_Top2B\\April_2023\\Files_Top2B\\CpG_inRow\n",
    "df2 = pd.read_csv('Cpg_236.csv')    \n",
    "\n",
    "print(df1.shape)\n",
    "df2.shape"
   ]
  },
  {
   "cell_type": "markdown",
   "id": "5cb3207a",
   "metadata": {},
   "source": [
    "### Identifying same CpG in both old (single) and new (18) analyses"
   ]
  },
  {
   "cell_type": "code",
   "execution_count": 4,
   "id": "0a9e2063",
   "metadata": {
    "ExecuteTime": {
     "end_time": "2023-06-01T10:38:06.123009Z",
     "start_time": "2023-06-01T10:38:06.091809Z"
    }
   },
   "outputs": [
    {
     "data": {
      "text/plain": [
       "(52, 1)"
      ]
     },
     "execution_count": 4,
     "metadata": {},
     "output_type": "execute_result"
    }
   ],
   "source": [
    "df = pd.merge(df1, df2, on = 'CpG', how='inner')\n",
    "df.to_csv('CpG_common_86And236.csv', index = False)\n",
    "df.shape"
   ]
  }
 ],
 "metadata": {
  "kernelspec": {
   "display_name": "Python 3 (ipykernel)",
   "language": "python",
   "name": "python3"
  },
  "language_info": {
   "codemirror_mode": {
    "name": "ipython",
    "version": 3
   },
   "file_extension": ".py",
   "mimetype": "text/x-python",
   "name": "python",
   "nbconvert_exporter": "python",
   "pygments_lexer": "ipython3",
   "version": "3.9.16"
  },
  "toc": {
   "base_numbering": 1,
   "nav_menu": {},
   "number_sections": true,
   "sideBar": true,
   "skip_h1_title": false,
   "title_cell": "Table of Contents",
   "title_sidebar": "Contents",
   "toc_cell": false,
   "toc_position": {},
   "toc_section_display": true,
   "toc_window_display": false
  },
  "varInspector": {
   "cols": {
    "lenName": 16,
    "lenType": 16,
    "lenVar": 40
   },
   "kernels_config": {
    "python": {
     "delete_cmd_postfix": "",
     "delete_cmd_prefix": "del ",
     "library": "var_list.py",
     "varRefreshCmd": "print(var_dic_list())"
    },
    "r": {
     "delete_cmd_postfix": ") ",
     "delete_cmd_prefix": "rm(",
     "library": "var_list.r",
     "varRefreshCmd": "cat(var_dic_list()) "
    }
   },
   "types_to_exclude": [
    "module",
    "function",
    "builtin_function_or_method",
    "instance",
    "_Feature"
   ],
   "window_display": false
  }
 },
 "nbformat": 4,
 "nbformat_minor": 5
}
