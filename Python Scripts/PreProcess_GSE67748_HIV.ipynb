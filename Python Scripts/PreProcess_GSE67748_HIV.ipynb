{
 "cells": [
  {
   "cell_type": "code",
   "execution_count": 1,
   "id": "1264ca3c",
   "metadata": {
    "ExecuteTime": {
     "end_time": "2023-06-23T14:07:41.948057Z",
     "start_time": "2023-06-23T14:07:41.416059Z"
    }
   },
   "outputs": [
    {
     "name": "stdout",
     "output_type": "stream",
     "text": [
      "Z:\\Project_Top2B\\April_2023\\GSE67748\n"
     ]
    },
    {
     "data": {
      "text/html": [
       "<div>\n",
       "<style scoped>\n",
       "    .dataframe tbody tr th:only-of-type {\n",
       "        vertical-align: middle;\n",
       "    }\n",
       "\n",
       "    .dataframe tbody tr th {\n",
       "        vertical-align: top;\n",
       "    }\n",
       "\n",
       "    .dataframe thead th {\n",
       "        text-align: right;\n",
       "    }\n",
       "</style>\n",
       "<table border=\"1\" class=\"dataframe\">\n",
       "  <thead>\n",
       "    <tr style=\"text-align: right;\">\n",
       "      <th></th>\n",
       "      <th>Sample_ID</th>\n",
       "      <th>Age</th>\n",
       "    </tr>\n",
       "  </thead>\n",
       "  <tbody>\n",
       "    <tr>\n",
       "      <th>0</th>\n",
       "      <td>GSM1655144</td>\n",
       "      <td>34</td>\n",
       "    </tr>\n",
       "    <tr>\n",
       "      <th>1</th>\n",
       "      <td>GSM1655145</td>\n",
       "      <td>61</td>\n",
       "    </tr>\n",
       "  </tbody>\n",
       "</table>\n",
       "</div>"
      ],
      "text/plain": [
       "    Sample_ID  Age\n",
       "0  GSM1655144   34\n",
       "1  GSM1655145   61"
      ]
     },
     "execution_count": 1,
     "metadata": {},
     "output_type": "execute_result"
    }
   ],
   "source": [
    "import csv\n",
    "import pandas as pd\n",
    "\n",
    "%cd Z:\\Project_Top2B\\April_2023\\GSE67748\n",
    "df2 = pd.read_csv('GSE67748_HIV_Age.csv')\n",
    "df2.head(2)"
   ]
  },
  {
   "cell_type": "code",
   "execution_count": 2,
   "id": "270f8185",
   "metadata": {
    "ExecuteTime": {
     "end_time": "2023-06-23T14:08:09.710896Z",
     "start_time": "2023-06-23T14:08:07.667956Z"
    }
   },
   "outputs": [
    {
     "name": "stdout",
     "output_type": "stream",
     "text": [
      "(485577, 21)\n"
     ]
    },
    {
     "data": {
      "text/html": [
       "<div>\n",
       "<style scoped>\n",
       "    .dataframe tbody tr th:only-of-type {\n",
       "        vertical-align: middle;\n",
       "    }\n",
       "\n",
       "    .dataframe tbody tr th {\n",
       "        vertical-align: top;\n",
       "    }\n",
       "\n",
       "    .dataframe thead th {\n",
       "        text-align: right;\n",
       "    }\n",
       "</style>\n",
       "<table border=\"1\" class=\"dataframe\">\n",
       "  <thead>\n",
       "    <tr style=\"text-align: right;\">\n",
       "      <th></th>\n",
       "      <th>ID_REF</th>\n",
       "      <th>GSM1655132</th>\n",
       "      <th>GSM1655133</th>\n",
       "      <th>GSM1655134</th>\n",
       "      <th>GSM1655135</th>\n",
       "      <th>GSM1655136</th>\n",
       "      <th>GSM1655137</th>\n",
       "      <th>GSM1655138</th>\n",
       "      <th>GSM1655139</th>\n",
       "      <th>GSM1655140</th>\n",
       "      <th>...</th>\n",
       "      <th>GSM1655142</th>\n",
       "      <th>GSM1655143</th>\n",
       "      <th>GSM1655144</th>\n",
       "      <th>GSM1655145</th>\n",
       "      <th>GSM1655146</th>\n",
       "      <th>GSM1655147</th>\n",
       "      <th>GSM1655148</th>\n",
       "      <th>GSM1655149</th>\n",
       "      <th>GSM1655150</th>\n",
       "      <th>GSM1655151</th>\n",
       "    </tr>\n",
       "  </thead>\n",
       "  <tbody>\n",
       "    <tr>\n",
       "      <th>0</th>\n",
       "      <td>cg00000029</td>\n",
       "      <td>0.656940</td>\n",
       "      <td>0.663835</td>\n",
       "      <td>0.56783</td>\n",
       "      <td>0.635453</td>\n",
       "      <td>0.663030</td>\n",
       "      <td>0.590343</td>\n",
       "      <td>0.534954</td>\n",
       "      <td>0.635075</td>\n",
       "      <td>0.668432</td>\n",
       "      <td>...</td>\n",
       "      <td>0.613317</td>\n",
       "      <td>0.673378</td>\n",
       "      <td>0.679950</td>\n",
       "      <td>0.708901</td>\n",
       "      <td>0.669132</td>\n",
       "      <td>0.662320</td>\n",
       "      <td>0.696777</td>\n",
       "      <td>0.687843</td>\n",
       "      <td>0.795708</td>\n",
       "      <td>0.765949</td>\n",
       "    </tr>\n",
       "    <tr>\n",
       "      <th>1</th>\n",
       "      <td>cg00000108</td>\n",
       "      <td>0.445932</td>\n",
       "      <td>0.383792</td>\n",
       "      <td>0.56937</td>\n",
       "      <td>0.519582</td>\n",
       "      <td>0.527984</td>\n",
       "      <td>0.515181</td>\n",
       "      <td>0.313452</td>\n",
       "      <td>0.502505</td>\n",
       "      <td>0.497066</td>\n",
       "      <td>...</td>\n",
       "      <td>0.497425</td>\n",
       "      <td>0.384306</td>\n",
       "      <td>0.516241</td>\n",
       "      <td>0.497656</td>\n",
       "      <td>0.393487</td>\n",
       "      <td>0.356682</td>\n",
       "      <td>0.295121</td>\n",
       "      <td>0.385631</td>\n",
       "      <td>0.494823</td>\n",
       "      <td>0.568597</td>\n",
       "    </tr>\n",
       "  </tbody>\n",
       "</table>\n",
       "<p>2 rows × 21 columns</p>\n",
       "</div>"
      ],
      "text/plain": [
       "       ID_REF  GSM1655132  GSM1655133  GSM1655134  GSM1655135  GSM1655136  \\\n",
       "0  cg00000029    0.656940    0.663835     0.56783    0.635453    0.663030   \n",
       "1  cg00000108    0.445932    0.383792     0.56937    0.519582    0.527984   \n",
       "\n",
       "   GSM1655137  GSM1655138  GSM1655139  GSM1655140  ...  GSM1655142  \\\n",
       "0    0.590343    0.534954    0.635075    0.668432  ...    0.613317   \n",
       "1    0.515181    0.313452    0.502505    0.497066  ...    0.497425   \n",
       "\n",
       "   GSM1655143  GSM1655144  GSM1655145  GSM1655146  GSM1655147  GSM1655148  \\\n",
       "0    0.673378    0.679950    0.708901    0.669132    0.662320    0.696777   \n",
       "1    0.384306    0.516241    0.497656    0.393487    0.356682    0.295121   \n",
       "\n",
       "   GSM1655149  GSM1655150  GSM1655151  \n",
       "0    0.687843    0.795708    0.765949  \n",
       "1    0.385631    0.494823    0.568597  \n",
       "\n",
       "[2 rows x 21 columns]"
      ]
     },
     "execution_count": 2,
     "metadata": {},
     "output_type": "execute_result"
    }
   ],
   "source": [
    "df = pd.read_csv('GSE67748.csv')\n",
    "\n",
    "# print updated DataFrame\n",
    "print(df.shape)\n",
    "df.head(2)"
   ]
  },
  {
   "cell_type": "code",
   "execution_count": 3,
   "id": "73b7767f",
   "metadata": {
    "ExecuteTime": {
     "end_time": "2023-06-23T14:08:30.459352Z",
     "start_time": "2023-06-23T14:08:26.428261Z"
    },
    "scrolled": false
   },
   "outputs": [
    {
     "name": "stdout",
     "output_type": "stream",
     "text": [
      "(485577, 8)\n"
     ]
    },
    {
     "data": {
      "text/html": [
       "<div>\n",
       "<style scoped>\n",
       "    .dataframe tbody tr th:only-of-type {\n",
       "        vertical-align: middle;\n",
       "    }\n",
       "\n",
       "    .dataframe tbody tr th {\n",
       "        vertical-align: top;\n",
       "    }\n",
       "\n",
       "    .dataframe thead th {\n",
       "        text-align: right;\n",
       "    }\n",
       "</style>\n",
       "<table border=\"1\" class=\"dataframe\">\n",
       "  <thead>\n",
       "    <tr style=\"text-align: right;\">\n",
       "      <th></th>\n",
       "      <th>ID_REF</th>\n",
       "      <th>GSM1655148</th>\n",
       "      <th>GSM1655149</th>\n",
       "      <th>GSM1655150</th>\n",
       "      <th>GSM1655144</th>\n",
       "      <th>GSM1655145</th>\n",
       "      <th>GSM1655146</th>\n",
       "      <th>GSM1655147</th>\n",
       "    </tr>\n",
       "  </thead>\n",
       "  <tbody>\n",
       "    <tr>\n",
       "      <th>0</th>\n",
       "      <td>cg00000029</td>\n",
       "      <td>0.696777</td>\n",
       "      <td>0.687843</td>\n",
       "      <td>0.795708</td>\n",
       "      <td>0.679950</td>\n",
       "      <td>0.708901</td>\n",
       "      <td>0.669132</td>\n",
       "      <td>0.662320</td>\n",
       "    </tr>\n",
       "    <tr>\n",
       "      <th>1</th>\n",
       "      <td>cg00000108</td>\n",
       "      <td>0.295121</td>\n",
       "      <td>0.385631</td>\n",
       "      <td>0.494823</td>\n",
       "      <td>0.516241</td>\n",
       "      <td>0.497656</td>\n",
       "      <td>0.393487</td>\n",
       "      <td>0.356682</td>\n",
       "    </tr>\n",
       "  </tbody>\n",
       "</table>\n",
       "</div>"
      ],
      "text/plain": [
       "       ID_REF  GSM1655148  GSM1655149  GSM1655150  GSM1655144  GSM1655145  \\\n",
       "0  cg00000029    0.696777    0.687843    0.795708    0.679950    0.708901   \n",
       "1  cg00000108    0.295121    0.385631    0.494823    0.516241    0.497656   \n",
       "\n",
       "   GSM1655146  GSM1655147  \n",
       "0    0.669132    0.662320  \n",
       "1    0.393487    0.356682  "
      ]
     },
     "execution_count": 3,
     "metadata": {},
     "output_type": "execute_result"
    }
   ],
   "source": [
    "# Extract the names which are present in both df2 and df\n",
    "names = list(set(df2['Sample_ID']).intersection(set(df.columns)))\n",
    "\n",
    "# Subset df using the names extracted from df2\n",
    "df_subset = df[names]\n",
    "\n",
    "# Adding CpG column from df\n",
    "df_subset.insert(loc=0, column='ID_REF', value=df.iloc[:, 0])\n",
    "\n",
    "df_subset.to_csv('GSE67748_HIV.csv', index=False)\n",
    "\n",
    "print(df_subset.shape)\n",
    "df_subset.head(2)\n"
   ]
  },
  {
   "cell_type": "code",
   "execution_count": null,
   "id": "27e060e7",
   "metadata": {},
   "outputs": [],
   "source": []
  },
  {
   "cell_type": "code",
   "execution_count": 4,
   "id": "b31d2de5",
   "metadata": {
    "ExecuteTime": {
     "end_time": "2023-06-23T14:10:04.571890Z",
     "start_time": "2023-06-23T14:10:03.930891Z"
    }
   },
   "outputs": [
    {
     "name": "stdout",
     "output_type": "stream",
     "text": [
      "Z:\\Project_Top2B\n",
      "Z:\\Project_Top2B\\April_2023\\GSE67748\n",
      "          CpG\n",
      "0  cg00005072\n",
      "1  cg00010266\n"
     ]
    },
    {
     "data": {
      "text/html": [
       "<div>\n",
       "<style scoped>\n",
       "    .dataframe tbody tr th:only-of-type {\n",
       "        vertical-align: middle;\n",
       "    }\n",
       "\n",
       "    .dataframe tbody tr th {\n",
       "        vertical-align: top;\n",
       "    }\n",
       "\n",
       "    .dataframe thead th {\n",
       "        text-align: right;\n",
       "    }\n",
       "</style>\n",
       "<table border=\"1\" class=\"dataframe\">\n",
       "  <thead>\n",
       "    <tr style=\"text-align: right;\">\n",
       "      <th></th>\n",
       "      <th>ID_REF</th>\n",
       "      <th>GSM1655148</th>\n",
       "      <th>GSM1655149</th>\n",
       "      <th>GSM1655150</th>\n",
       "      <th>GSM1655144</th>\n",
       "      <th>GSM1655145</th>\n",
       "      <th>GSM1655146</th>\n",
       "      <th>GSM1655147</th>\n",
       "    </tr>\n",
       "  </thead>\n",
       "  <tbody>\n",
       "    <tr>\n",
       "      <th>0</th>\n",
       "      <td>cg00000029</td>\n",
       "      <td>0.696777</td>\n",
       "      <td>0.687843</td>\n",
       "      <td>0.795708</td>\n",
       "      <td>0.679950</td>\n",
       "      <td>0.708901</td>\n",
       "      <td>0.669132</td>\n",
       "      <td>0.662320</td>\n",
       "    </tr>\n",
       "    <tr>\n",
       "      <th>1</th>\n",
       "      <td>cg00000108</td>\n",
       "      <td>0.295121</td>\n",
       "      <td>0.385631</td>\n",
       "      <td>0.494823</td>\n",
       "      <td>0.516241</td>\n",
       "      <td>0.497656</td>\n",
       "      <td>0.393487</td>\n",
       "      <td>0.356682</td>\n",
       "    </tr>\n",
       "  </tbody>\n",
       "</table>\n",
       "</div>"
      ],
      "text/plain": [
       "       ID_REF  GSM1655148  GSM1655149  GSM1655150  GSM1655144  GSM1655145  \\\n",
       "0  cg00000029    0.696777    0.687843    0.795708    0.679950    0.708901   \n",
       "1  cg00000108    0.295121    0.385631    0.494823    0.516241    0.497656   \n",
       "\n",
       "   GSM1655146  GSM1655147  \n",
       "0    0.669132    0.662320  \n",
       "1    0.393487    0.356682  "
      ]
     },
     "execution_count": 4,
     "metadata": {},
     "output_type": "execute_result"
    }
   ],
   "source": [
    "%cd Z:\\Project_Top2B\n",
    "df1 = pd.read_csv('CpGLists_Top2B.csv')\n",
    "\n",
    "%cd Z:\\Project_Top2B\\April_2023\\GSE67748\n",
    "df2 = pd.read_csv('GSE67748_HIV.csv')\n",
    "\n",
    "print(df1.head(2))\n",
    "df2.head(2)"
   ]
  },
  {
   "cell_type": "code",
   "execution_count": 5,
   "id": "0de57b24",
   "metadata": {
    "ExecuteTime": {
     "end_time": "2023-06-23T14:10:38.908333Z",
     "start_time": "2023-06-23T14:10:38.667335Z"
    }
   },
   "outputs": [
    {
     "name": "stdout",
     "output_type": "stream",
     "text": [
      "(4604, 8)\n"
     ]
    },
    {
     "data": {
      "text/html": [
       "<div>\n",
       "<style scoped>\n",
       "    .dataframe tbody tr th:only-of-type {\n",
       "        vertical-align: middle;\n",
       "    }\n",
       "\n",
       "    .dataframe tbody tr th {\n",
       "        vertical-align: top;\n",
       "    }\n",
       "\n",
       "    .dataframe thead th {\n",
       "        text-align: right;\n",
       "    }\n",
       "</style>\n",
       "<table border=\"1\" class=\"dataframe\">\n",
       "  <thead>\n",
       "    <tr style=\"text-align: right;\">\n",
       "      <th></th>\n",
       "      <th>CpG</th>\n",
       "      <th>GSM1655148</th>\n",
       "      <th>GSM1655149</th>\n",
       "      <th>GSM1655150</th>\n",
       "      <th>GSM1655144</th>\n",
       "      <th>GSM1655145</th>\n",
       "      <th>GSM1655146</th>\n",
       "      <th>GSM1655147</th>\n",
       "    </tr>\n",
       "  </thead>\n",
       "  <tbody>\n",
       "    <tr>\n",
       "      <th>0</th>\n",
       "      <td>cg00005072</td>\n",
       "      <td>0.788510</td>\n",
       "      <td>0.782693</td>\n",
       "      <td>0.852385</td>\n",
       "      <td>0.820295</td>\n",
       "      <td>0.809715</td>\n",
       "      <td>0.853793</td>\n",
       "      <td>0.672978</td>\n",
       "    </tr>\n",
       "    <tr>\n",
       "      <th>1</th>\n",
       "      <td>cg00010266</td>\n",
       "      <td>0.051032</td>\n",
       "      <td>0.038005</td>\n",
       "      <td>0.056619</td>\n",
       "      <td>0.082206</td>\n",
       "      <td>0.060922</td>\n",
       "      <td>0.039482</td>\n",
       "      <td>0.039182</td>\n",
       "    </tr>\n",
       "  </tbody>\n",
       "</table>\n",
       "</div>"
      ],
      "text/plain": [
       "          CpG  GSM1655148  GSM1655149  GSM1655150  GSM1655144  GSM1655145  \\\n",
       "0  cg00005072    0.788510    0.782693    0.852385    0.820295    0.809715   \n",
       "1  cg00010266    0.051032    0.038005    0.056619    0.082206    0.060922   \n",
       "\n",
       "   GSM1655146  GSM1655147  \n",
       "0    0.853793    0.672978  \n",
       "1    0.039482    0.039182  "
      ]
     },
     "execution_count": 5,
     "metadata": {},
     "output_type": "execute_result"
    }
   ],
   "source": [
    "# Merge df1 and df2 on the common column 'col1'\n",
    "merged_df = pd.merge(df1, df2, how ='inner', left_on='CpG', right_on='ID_REF')\n",
    "\n",
    "# Drop the common column 'ID_REF'\n",
    "merged_df.drop('ID_REF', axis=1, inplace=True)\n",
    "merged_df.to_csv('GSE67748_HIV_Top2b.csv', index = 'False')\n",
    "print(merged_df.shape)\n",
    "merged_df.head(2)"
   ]
  },
  {
   "cell_type": "code",
   "execution_count": null,
   "id": "f0f03afe",
   "metadata": {},
   "outputs": [],
   "source": []
  }
 ],
 "metadata": {
  "kernelspec": {
   "display_name": "Python 3 (ipykernel)",
   "language": "python",
   "name": "python3"
  },
  "language_info": {
   "codemirror_mode": {
    "name": "ipython",
    "version": 3
   },
   "file_extension": ".py",
   "mimetype": "text/x-python",
   "name": "python",
   "nbconvert_exporter": "python",
   "pygments_lexer": "ipython3",
   "version": "3.9.16"
  },
  "toc": {
   "base_numbering": 1,
   "nav_menu": {},
   "number_sections": true,
   "sideBar": true,
   "skip_h1_title": false,
   "title_cell": "Table of Contents",
   "title_sidebar": "Contents",
   "toc_cell": false,
   "toc_position": {},
   "toc_section_display": true,
   "toc_window_display": false
  },
  "varInspector": {
   "cols": {
    "lenName": 16,
    "lenType": 16,
    "lenVar": 40
   },
   "kernels_config": {
    "python": {
     "delete_cmd_postfix": "",
     "delete_cmd_prefix": "del ",
     "library": "var_list.py",
     "varRefreshCmd": "print(var_dic_list())"
    },
    "r": {
     "delete_cmd_postfix": ") ",
     "delete_cmd_prefix": "rm(",
     "library": "var_list.r",
     "varRefreshCmd": "cat(var_dic_list()) "
    }
   },
   "types_to_exclude": [
    "module",
    "function",
    "builtin_function_or_method",
    "instance",
    "_Feature"
   ],
   "window_display": false
  }
 },
 "nbformat": 4,
 "nbformat_minor": 5
}
