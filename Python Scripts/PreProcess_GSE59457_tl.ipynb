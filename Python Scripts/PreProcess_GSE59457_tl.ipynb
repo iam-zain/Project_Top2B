{
 "cells": [
  {
   "cell_type": "markdown",
   "id": "ae816d23",
   "metadata": {},
   "source": [
    "## Healthy"
   ]
  },
  {
   "cell_type": "code",
   "execution_count": 3,
   "id": "c9f38931",
   "metadata": {
    "ExecuteTime": {
     "end_time": "2023-07-04T04:40:55.371190Z",
     "start_time": "2023-07-04T04:40:55.108117Z"
    },
    "scrolled": true
   },
   "outputs": [
    {
     "name": "stdout",
     "output_type": "stream",
     "text": [
      "Z:\\Project_Top2B\\April_2023\\regionwise\\temporal_lobe\\GSE59457\n",
      "(8, 4607)\n"
     ]
    },
    {
     "data": {
      "text/html": [
       "<div>\n",
       "<style scoped>\n",
       "    .dataframe tbody tr th:only-of-type {\n",
       "        vertical-align: middle;\n",
       "    }\n",
       "\n",
       "    .dataframe tbody tr th {\n",
       "        vertical-align: top;\n",
       "    }\n",
       "\n",
       "    .dataframe thead th {\n",
       "        text-align: right;\n",
       "    }\n",
       "</style>\n",
       "<table border=\"1\" class=\"dataframe\">\n",
       "  <thead>\n",
       "    <tr style=\"text-align: right;\">\n",
       "      <th></th>\n",
       "      <th>Sample_ID</th>\n",
       "      <th>Age_x</th>\n",
       "      <th>Age_y</th>\n",
       "      <th>cg00005072</th>\n",
       "      <th>cg00010266</th>\n",
       "      <th>cg00017203</th>\n",
       "      <th>cg00017489</th>\n",
       "      <th>cg00018024</th>\n",
       "      <th>cg00018539</th>\n",
       "      <th>cg00019511</th>\n",
       "      <th>...</th>\n",
       "      <th>cg27597926</th>\n",
       "      <th>cg27598168</th>\n",
       "      <th>cg27601855</th>\n",
       "      <th>cg27624319</th>\n",
       "      <th>cg27629898</th>\n",
       "      <th>cg27633533</th>\n",
       "      <th>cg27635069</th>\n",
       "      <th>cg27658416</th>\n",
       "      <th>cg27658967</th>\n",
       "      <th>cg27664120</th>\n",
       "    </tr>\n",
       "  </thead>\n",
       "  <tbody>\n",
       "    <tr>\n",
       "      <th>0</th>\n",
       "      <td>GSM1438167</td>\n",
       "      <td>38</td>\n",
       "      <td>38</td>\n",
       "      <td>0.669749</td>\n",
       "      <td>0.052012</td>\n",
       "      <td>0.850449</td>\n",
       "      <td>0.133998</td>\n",
       "      <td>0.032290</td>\n",
       "      <td>0.850288</td>\n",
       "      <td>0.837276</td>\n",
       "      <td>...</td>\n",
       "      <td>0.134099</td>\n",
       "      <td>0.899661</td>\n",
       "      <td>0.131799</td>\n",
       "      <td>0.237342</td>\n",
       "      <td>0.828413</td>\n",
       "      <td>0.873300</td>\n",
       "      <td>0.172920</td>\n",
       "      <td>0.071806</td>\n",
       "      <td>0.120323</td>\n",
       "      <td>0.889521</td>\n",
       "    </tr>\n",
       "    <tr>\n",
       "      <th>1</th>\n",
       "      <td>GSM1438217</td>\n",
       "      <td>53</td>\n",
       "      <td>53</td>\n",
       "      <td>0.713865</td>\n",
       "      <td>0.064720</td>\n",
       "      <td>0.853569</td>\n",
       "      <td>0.198510</td>\n",
       "      <td>0.046532</td>\n",
       "      <td>0.803838</td>\n",
       "      <td>0.860924</td>\n",
       "      <td>...</td>\n",
       "      <td>0.149262</td>\n",
       "      <td>0.897683</td>\n",
       "      <td>0.166963</td>\n",
       "      <td>0.374516</td>\n",
       "      <td>0.683256</td>\n",
       "      <td>0.870876</td>\n",
       "      <td>0.204727</td>\n",
       "      <td>0.126570</td>\n",
       "      <td>0.226422</td>\n",
       "      <td>0.910422</td>\n",
       "    </tr>\n",
       "  </tbody>\n",
       "</table>\n",
       "<p>2 rows × 4607 columns</p>\n",
       "</div>"
      ],
      "text/plain": [
       "    Sample_ID  Age_x  Age_y  cg00005072  cg00010266  cg00017203  cg00017489  \\\n",
       "0  GSM1438167     38     38    0.669749    0.052012    0.850449    0.133998   \n",
       "1  GSM1438217     53     53    0.713865    0.064720    0.853569    0.198510   \n",
       "\n",
       "   cg00018024  cg00018539  cg00019511  ...  cg27597926  cg27598168  \\\n",
       "0    0.032290    0.850288    0.837276  ...    0.134099    0.899661   \n",
       "1    0.046532    0.803838    0.860924  ...    0.149262    0.897683   \n",
       "\n",
       "   cg27601855  cg27624319  cg27629898  cg27633533  cg27635069  cg27658416  \\\n",
       "0    0.131799    0.237342    0.828413    0.873300    0.172920    0.071806   \n",
       "1    0.166963    0.374516    0.683256    0.870876    0.204727    0.126570   \n",
       "\n",
       "   cg27658967  cg27664120  \n",
       "0    0.120323    0.889521  \n",
       "1    0.226422    0.910422  \n",
       "\n",
       "[2 rows x 4607 columns]"
      ]
     },
     "execution_count": 3,
     "metadata": {},
     "output_type": "execute_result"
    }
   ],
   "source": [
    "import csv\n",
    "import pandas as pd\n",
    "\n",
    "%cd Z:\\Project_Top2B\\April_2023\\regionwise\\temporal_lobe\\GSE59457\n",
    "\n",
    "df1 = pd.read_csv('GSE59457_Age_tl.csv')\n",
    "df2 = pd.read_csv('GSE59457_Top2b_Age.csv')\n",
    "\n",
    "merged_df = pd.merge(df1, df2, how ='inner', on = df1.columns[0])\n",
    "merged_df.to_csv('GSE59457_Top2b_tl.csv', index = 'False')\n",
    "print(merged_df.shape)\n",
    "merged_df.head(2)"
   ]
  },
  {
   "cell_type": "markdown",
   "id": "471dd956",
   "metadata": {},
   "source": [
    "## Diseased"
   ]
  },
  {
   "cell_type": "markdown",
   "id": "0bb1ff0a",
   "metadata": {},
   "source": [
    "No diseased"
   ]
  }
 ],
 "metadata": {
  "kernelspec": {
   "display_name": "Python 3 (ipykernel)",
   "language": "python",
   "name": "python3"
  },
  "language_info": {
   "codemirror_mode": {
    "name": "ipython",
    "version": 3
   },
   "file_extension": ".py",
   "mimetype": "text/x-python",
   "name": "python",
   "nbconvert_exporter": "python",
   "pygments_lexer": "ipython3",
   "version": "3.9.16"
  },
  "toc": {
   "base_numbering": 1,
   "nav_menu": {},
   "number_sections": true,
   "sideBar": true,
   "skip_h1_title": false,
   "title_cell": "Table of Contents",
   "title_sidebar": "Contents",
   "toc_cell": false,
   "toc_position": {},
   "toc_section_display": true,
   "toc_window_display": false
  },
  "varInspector": {
   "cols": {
    "lenName": 16,
    "lenType": 16,
    "lenVar": 40
   },
   "kernels_config": {
    "python": {
     "delete_cmd_postfix": "",
     "delete_cmd_prefix": "del ",
     "library": "var_list.py",
     "varRefreshCmd": "print(var_dic_list())"
    },
    "r": {
     "delete_cmd_postfix": ") ",
     "delete_cmd_prefix": "rm(",
     "library": "var_list.r",
     "varRefreshCmd": "cat(var_dic_list()) "
    }
   },
   "types_to_exclude": [
    "module",
    "function",
    "builtin_function_or_method",
    "instance",
    "_Feature"
   ],
   "window_display": false
  }
 },
 "nbformat": 4,
 "nbformat_minor": 5
}
