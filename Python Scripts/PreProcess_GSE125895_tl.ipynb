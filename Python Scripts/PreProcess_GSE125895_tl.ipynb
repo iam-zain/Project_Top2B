{
 "cells": [
  {
   "cell_type": "markdown",
   "id": "ae816d23",
   "metadata": {},
   "source": [
    "## Healthy"
   ]
  },
  {
   "cell_type": "code",
   "execution_count": 1,
   "id": "c9f38931",
   "metadata": {
    "ExecuteTime": {
     "end_time": "2023-07-04T05:03:29.734899Z",
     "start_time": "2023-07-04T05:03:28.330772Z"
    },
    "scrolled": true
   },
   "outputs": [
    {
     "name": "stdout",
     "output_type": "stream",
     "text": [
      "Z:\\Project_Top2B\\April_2023\\regionwise\\temporal_lobe\\GSE125895\n",
      "(97, 4240)\n"
     ]
    },
    {
     "data": {
      "text/html": [
       "<div>\n",
       "<style scoped>\n",
       "    .dataframe tbody tr th:only-of-type {\n",
       "        vertical-align: middle;\n",
       "    }\n",
       "\n",
       "    .dataframe tbody tr th {\n",
       "        vertical-align: top;\n",
       "    }\n",
       "\n",
       "    .dataframe thead th {\n",
       "        text-align: right;\n",
       "    }\n",
       "</style>\n",
       "<table border=\"1\" class=\"dataframe\">\n",
       "  <thead>\n",
       "    <tr style=\"text-align: right;\">\n",
       "      <th></th>\n",
       "      <th>Sample_ID</th>\n",
       "      <th>Age_x</th>\n",
       "      <th>Age_y</th>\n",
       "      <th>cg00005072</th>\n",
       "      <th>cg00010266</th>\n",
       "      <th>cg00017203</th>\n",
       "      <th>cg00017489</th>\n",
       "      <th>cg00018024</th>\n",
       "      <th>cg00018539</th>\n",
       "      <th>cg00019511</th>\n",
       "      <th>...</th>\n",
       "      <th>cg27597926</th>\n",
       "      <th>cg27598168</th>\n",
       "      <th>cg27601855</th>\n",
       "      <th>cg27624319</th>\n",
       "      <th>cg27629898</th>\n",
       "      <th>cg27633533</th>\n",
       "      <th>cg27635069</th>\n",
       "      <th>cg27658416</th>\n",
       "      <th>cg27658967</th>\n",
       "      <th>cg27664120</th>\n",
       "    </tr>\n",
       "  </thead>\n",
       "  <tbody>\n",
       "    <tr>\n",
       "      <th>0</th>\n",
       "      <td>1-E03</td>\n",
       "      <td>71.82</td>\n",
       "      <td>71.82</td>\n",
       "      <td>0.706542</td>\n",
       "      <td>0.055699</td>\n",
       "      <td>0.806682</td>\n",
       "      <td>0.146336</td>\n",
       "      <td>0.081313</td>\n",
       "      <td>0.869801</td>\n",
       "      <td>0.858235</td>\n",
       "      <td>...</td>\n",
       "      <td>0.076169</td>\n",
       "      <td>0.863003</td>\n",
       "      <td>0.172348</td>\n",
       "      <td>0.300274</td>\n",
       "      <td>0.557809</td>\n",
       "      <td>0.910253</td>\n",
       "      <td>0.365304</td>\n",
       "      <td>0.228862</td>\n",
       "      <td>0.069154</td>\n",
       "      <td>0.879873</td>\n",
       "    </tr>\n",
       "    <tr>\n",
       "      <th>1</th>\n",
       "      <td>1-E05</td>\n",
       "      <td>57.48</td>\n",
       "      <td>57.48</td>\n",
       "      <td>0.756934</td>\n",
       "      <td>0.086484</td>\n",
       "      <td>0.822813</td>\n",
       "      <td>0.135759</td>\n",
       "      <td>0.089143</td>\n",
       "      <td>0.869085</td>\n",
       "      <td>0.855562</td>\n",
       "      <td>...</td>\n",
       "      <td>0.079878</td>\n",
       "      <td>0.882219</td>\n",
       "      <td>0.159421</td>\n",
       "      <td>0.329158</td>\n",
       "      <td>0.591885</td>\n",
       "      <td>0.902248</td>\n",
       "      <td>0.344821</td>\n",
       "      <td>0.086541</td>\n",
       "      <td>0.069226</td>\n",
       "      <td>0.843754</td>\n",
       "    </tr>\n",
       "  </tbody>\n",
       "</table>\n",
       "<p>2 rows × 4240 columns</p>\n",
       "</div>"
      ],
      "text/plain": [
       "  Sample_ID  Age_x  Age_y  cg00005072  cg00010266  cg00017203  cg00017489  \\\n",
       "0     1-E03  71.82  71.82    0.706542    0.055699    0.806682    0.146336   \n",
       "1     1-E05  57.48  57.48    0.756934    0.086484    0.822813    0.135759   \n",
       "\n",
       "   cg00018024  cg00018539  cg00019511  ...  cg27597926  cg27598168  \\\n",
       "0    0.081313    0.869801    0.858235  ...    0.076169    0.863003   \n",
       "1    0.089143    0.869085    0.855562  ...    0.079878    0.882219   \n",
       "\n",
       "   cg27601855  cg27624319  cg27629898  cg27633533  cg27635069  cg27658416  \\\n",
       "0    0.172348    0.300274    0.557809    0.910253    0.365304    0.228862   \n",
       "1    0.159421    0.329158    0.591885    0.902248    0.344821    0.086541   \n",
       "\n",
       "   cg27658967  cg27664120  \n",
       "0    0.069154    0.879873  \n",
       "1    0.069226    0.843754  \n",
       "\n",
       "[2 rows x 4240 columns]"
      ]
     },
     "execution_count": 1,
     "metadata": {},
     "output_type": "execute_result"
    }
   ],
   "source": [
    "import csv\n",
    "import pandas as pd\n",
    "\n",
    "%cd Z:\\Project_Top2B\\April_2023\\regionwise\\temporal_lobe\\GSE125895\n",
    "\n",
    "df1 = pd.read_csv('GSE125895_Age_tl_hc.csv')\n",
    "df2 = pd.read_csv('GSE125895_Top2b_Age.csv')\n",
    "\n",
    "merged_df = pd.merge(df1, df2, how ='inner', on = df1.columns[0])\n",
    "merged_df.to_csv('GSE125895_Top2b_tl.csv', index = 'False')\n",
    "print(merged_df.shape)\n",
    "merged_df.head(2)"
   ]
  },
  {
   "cell_type": "markdown",
   "id": "471dd956",
   "metadata": {},
   "source": [
    "## Diseased"
   ]
  },
  {
   "cell_type": "code",
   "execution_count": 2,
   "id": "a46641f3",
   "metadata": {
    "ExecuteTime": {
     "end_time": "2023-07-04T05:03:30.267546Z",
     "start_time": "2023-07-04T05:03:29.734899Z"
    }
   },
   "outputs": [
    {
     "name": "stdout",
     "output_type": "stream",
     "text": [
      "(37, 4241)\n"
     ]
    },
    {
     "data": {
      "text/html": [
       "<div>\n",
       "<style scoped>\n",
       "    .dataframe tbody tr th:only-of-type {\n",
       "        vertical-align: middle;\n",
       "    }\n",
       "\n",
       "    .dataframe tbody tr th {\n",
       "        vertical-align: top;\n",
       "    }\n",
       "\n",
       "    .dataframe thead th {\n",
       "        text-align: right;\n",
       "    }\n",
       "</style>\n",
       "<table border=\"1\" class=\"dataframe\">\n",
       "  <thead>\n",
       "    <tr style=\"text-align: right;\">\n",
       "      <th></th>\n",
       "      <th>Sample_ID</th>\n",
       "      <th>Age_x</th>\n",
       "      <th>Diseased</th>\n",
       "      <th>Age_y</th>\n",
       "      <th>cg00005072</th>\n",
       "      <th>cg00010266</th>\n",
       "      <th>cg00017203</th>\n",
       "      <th>cg00017489</th>\n",
       "      <th>cg00018024</th>\n",
       "      <th>cg00018539</th>\n",
       "      <th>...</th>\n",
       "      <th>cg27597926</th>\n",
       "      <th>cg27598168</th>\n",
       "      <th>cg27601855</th>\n",
       "      <th>cg27624319</th>\n",
       "      <th>cg27629898</th>\n",
       "      <th>cg27633533</th>\n",
       "      <th>cg27635069</th>\n",
       "      <th>cg27658416</th>\n",
       "      <th>cg27658967</th>\n",
       "      <th>cg27664120</th>\n",
       "    </tr>\n",
       "  </thead>\n",
       "  <tbody>\n",
       "    <tr>\n",
       "      <th>0</th>\n",
       "      <td>1-E02</td>\n",
       "      <td>79.07</td>\n",
       "      <td>Alzheimer</td>\n",
       "      <td>79.07</td>\n",
       "      <td>0.695910</td>\n",
       "      <td>0.056692</td>\n",
       "      <td>0.854186</td>\n",
       "      <td>0.127327</td>\n",
       "      <td>0.073145</td>\n",
       "      <td>0.879155</td>\n",
       "      <td>...</td>\n",
       "      <td>0.095140</td>\n",
       "      <td>0.883305</td>\n",
       "      <td>0.171537</td>\n",
       "      <td>0.287262</td>\n",
       "      <td>0.491748</td>\n",
       "      <td>0.939694</td>\n",
       "      <td>0.376110</td>\n",
       "      <td>0.135054</td>\n",
       "      <td>0.057495</td>\n",
       "      <td>0.858191</td>\n",
       "    </tr>\n",
       "    <tr>\n",
       "      <th>1</th>\n",
       "      <td>1-F04</td>\n",
       "      <td>76.41</td>\n",
       "      <td>Alzheimer</td>\n",
       "      <td>76.41</td>\n",
       "      <td>0.736925</td>\n",
       "      <td>0.059968</td>\n",
       "      <td>0.735910</td>\n",
       "      <td>0.171942</td>\n",
       "      <td>0.068128</td>\n",
       "      <td>0.827353</td>\n",
       "      <td>...</td>\n",
       "      <td>0.086022</td>\n",
       "      <td>0.858447</td>\n",
       "      <td>0.179851</td>\n",
       "      <td>0.334732</td>\n",
       "      <td>0.599252</td>\n",
       "      <td>0.925280</td>\n",
       "      <td>0.330085</td>\n",
       "      <td>0.159731</td>\n",
       "      <td>0.060820</td>\n",
       "      <td>0.845795</td>\n",
       "    </tr>\n",
       "  </tbody>\n",
       "</table>\n",
       "<p>2 rows × 4241 columns</p>\n",
       "</div>"
      ],
      "text/plain": [
       "  Sample_ID  Age_x   Diseased  Age_y  cg00005072  cg00010266  cg00017203  \\\n",
       "0     1-E02  79.07  Alzheimer  79.07    0.695910    0.056692    0.854186   \n",
       "1     1-F04  76.41  Alzheimer  76.41    0.736925    0.059968    0.735910   \n",
       "\n",
       "   cg00017489  cg00018024  cg00018539  ...  cg27597926  cg27598168  \\\n",
       "0    0.127327    0.073145    0.879155  ...    0.095140    0.883305   \n",
       "1    0.171942    0.068128    0.827353  ...    0.086022    0.858447   \n",
       "\n",
       "   cg27601855  cg27624319  cg27629898  cg27633533  cg27635069  cg27658416  \\\n",
       "0    0.171537    0.287262    0.491748    0.939694    0.376110    0.135054   \n",
       "1    0.179851    0.334732    0.599252    0.925280    0.330085    0.159731   \n",
       "\n",
       "   cg27658967  cg27664120  \n",
       "0    0.057495    0.858191  \n",
       "1    0.060820    0.845795  \n",
       "\n",
       "[2 rows x 4241 columns]"
      ]
     },
     "execution_count": 2,
     "metadata": {},
     "output_type": "execute_result"
    }
   ],
   "source": [
    "df1 = pd.read_csv('GSE125895_Age_tl_AD.csv')\n",
    "df2 = pd.read_csv('GSE125895_AD_Top2b_Age.csv')\n",
    "merged_df = pd.merge(df1, df2, how ='inner', on = 'Sample_ID')\n",
    "merged_df.to_csv('GSE125895_Top2b_AD_tl.csv', index = 'False')\n",
    "print(merged_df.shape)\n",
    "merged_df.head(2)"
   ]
  },
  {
   "cell_type": "code",
   "execution_count": null,
   "id": "deba1616",
   "metadata": {},
   "outputs": [],
   "source": []
  }
 ],
 "metadata": {
  "kernelspec": {
   "display_name": "Python 3 (ipykernel)",
   "language": "python",
   "name": "python3"
  },
  "language_info": {
   "codemirror_mode": {
    "name": "ipython",
    "version": 3
   },
   "file_extension": ".py",
   "mimetype": "text/x-python",
   "name": "python",
   "nbconvert_exporter": "python",
   "pygments_lexer": "ipython3",
   "version": "3.9.16"
  },
  "toc": {
   "base_numbering": 1,
   "nav_menu": {},
   "number_sections": true,
   "sideBar": true,
   "skip_h1_title": false,
   "title_cell": "Table of Contents",
   "title_sidebar": "Contents",
   "toc_cell": false,
   "toc_position": {},
   "toc_section_display": true,
   "toc_window_display": false
  },
  "varInspector": {
   "cols": {
    "lenName": 16,
    "lenType": 16,
    "lenVar": 40
   },
   "kernels_config": {
    "python": {
     "delete_cmd_postfix": "",
     "delete_cmd_prefix": "del ",
     "library": "var_list.py",
     "varRefreshCmd": "print(var_dic_list())"
    },
    "r": {
     "delete_cmd_postfix": ") ",
     "delete_cmd_prefix": "rm(",
     "library": "var_list.r",
     "varRefreshCmd": "cat(var_dic_list()) "
    }
   },
   "types_to_exclude": [
    "module",
    "function",
    "builtin_function_or_method",
    "instance",
    "_Feature"
   ],
   "window_display": false
  }
 },
 "nbformat": 4,
 "nbformat_minor": 5
}
