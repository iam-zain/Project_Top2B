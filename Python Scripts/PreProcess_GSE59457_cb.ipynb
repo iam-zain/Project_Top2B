{
 "cells": [
  {
   "cell_type": "markdown",
   "id": "bfd6b612",
   "metadata": {
    "ExecuteTime": {
     "end_time": "2023-06-20T07:54:05.474674Z",
     "start_time": "2023-06-20T07:54:05.377262Z"
    }
   },
   "source": [
    "from jupyterthemes import get_themes\n",
    "import jupyterthemes as jt\n",
    "from jupyterthemes.stylefx import set_nb_theme\n",
    "# 'monokai', 'chesterish', 'oceans16', 'solarizedl', 'solarizedd', 'grade3', 'onedork'\n",
    "set_nb_theme('chesterish')"
   ]
  },
  {
   "cell_type": "code",
   "execution_count": 1,
   "id": "c9f38931",
   "metadata": {
    "ExecuteTime": {
     "end_time": "2023-06-20T09:33:02.980938Z",
     "start_time": "2023-06-20T09:33:02.220894Z"
    }
   },
   "outputs": [
    {
     "name": "stdout",
     "output_type": "stream",
     "text": [
      "Z:\\Project_Top2B\\April_2023\\regionwise\\cerebellum\\GSE59457\n"
     ]
    },
    {
     "data": {
      "text/html": [
       "<div>\n",
       "<style scoped>\n",
       "    .dataframe tbody tr th:only-of-type {\n",
       "        vertical-align: middle;\n",
       "    }\n",
       "\n",
       "    .dataframe tbody tr th {\n",
       "        vertical-align: top;\n",
       "    }\n",
       "\n",
       "    .dataframe thead th {\n",
       "        text-align: right;\n",
       "    }\n",
       "</style>\n",
       "<table border=\"1\" class=\"dataframe\">\n",
       "  <thead>\n",
       "    <tr style=\"text-align: right;\">\n",
       "      <th></th>\n",
       "      <th>Sample_ID</th>\n",
       "      <th>Age</th>\n",
       "      <th>cg00005072</th>\n",
       "      <th>cg00010266</th>\n",
       "      <th>cg00017203</th>\n",
       "      <th>cg00017489</th>\n",
       "      <th>cg00018024</th>\n",
       "      <th>cg00018539</th>\n",
       "      <th>cg00019511</th>\n",
       "      <th>cg00021539</th>\n",
       "      <th>...</th>\n",
       "      <th>cg27597926</th>\n",
       "      <th>cg27598168</th>\n",
       "      <th>cg27601855</th>\n",
       "      <th>cg27624319</th>\n",
       "      <th>cg27629898</th>\n",
       "      <th>cg27633533</th>\n",
       "      <th>cg27635069</th>\n",
       "      <th>cg27658416</th>\n",
       "      <th>cg27658967</th>\n",
       "      <th>cg27664120</th>\n",
       "    </tr>\n",
       "  </thead>\n",
       "  <tbody>\n",
       "    <tr>\n",
       "      <th>0</th>\n",
       "      <td>GSM1438150</td>\n",
       "      <td>38</td>\n",
       "      <td>0.842625</td>\n",
       "      <td>0.046472</td>\n",
       "      <td>0.837088</td>\n",
       "      <td>0.089849</td>\n",
       "      <td>0.034697</td>\n",
       "      <td>0.839234</td>\n",
       "      <td>0.829052</td>\n",
       "      <td>0.026558</td>\n",
       "      <td>...</td>\n",
       "      <td>0.066192</td>\n",
       "      <td>0.907638</td>\n",
       "      <td>0.090745</td>\n",
       "      <td>0.100067</td>\n",
       "      <td>0.816459</td>\n",
       "      <td>0.901374</td>\n",
       "      <td>0.206400</td>\n",
       "      <td>0.062786</td>\n",
       "      <td>0.090617</td>\n",
       "      <td>0.852270</td>\n",
       "    </tr>\n",
       "    <tr>\n",
       "      <th>1</th>\n",
       "      <td>GSM1438151</td>\n",
       "      <td>53</td>\n",
       "      <td>0.633475</td>\n",
       "      <td>0.049980</td>\n",
       "      <td>0.811063</td>\n",
       "      <td>0.125714</td>\n",
       "      <td>0.026760</td>\n",
       "      <td>0.830106</td>\n",
       "      <td>0.849787</td>\n",
       "      <td>0.036890</td>\n",
       "      <td>...</td>\n",
       "      <td>0.109138</td>\n",
       "      <td>0.866120</td>\n",
       "      <td>0.095828</td>\n",
       "      <td>0.172697</td>\n",
       "      <td>0.764676</td>\n",
       "      <td>0.878035</td>\n",
       "      <td>0.195585</td>\n",
       "      <td>0.058328</td>\n",
       "      <td>0.065426</td>\n",
       "      <td>0.913914</td>\n",
       "    </tr>\n",
       "  </tbody>\n",
       "</table>\n",
       "<p>2 rows × 4606 columns</p>\n",
       "</div>"
      ],
      "text/plain": [
       "    Sample_ID  Age  cg00005072  cg00010266  cg00017203  cg00017489  \\\n",
       "0  GSM1438150   38    0.842625    0.046472    0.837088    0.089849   \n",
       "1  GSM1438151   53    0.633475    0.049980    0.811063    0.125714   \n",
       "\n",
       "   cg00018024  cg00018539  cg00019511  cg00021539  ...  cg27597926  \\\n",
       "0    0.034697    0.839234    0.829052    0.026558  ...    0.066192   \n",
       "1    0.026760    0.830106    0.849787    0.036890  ...    0.109138   \n",
       "\n",
       "   cg27598168  cg27601855  cg27624319  cg27629898  cg27633533  cg27635069  \\\n",
       "0    0.907638    0.090745    0.100067    0.816459    0.901374    0.206400   \n",
       "1    0.866120    0.095828    0.172697    0.764676    0.878035    0.195585   \n",
       "\n",
       "   cg27658416  cg27658967  cg27664120  \n",
       "0    0.062786    0.090617    0.852270  \n",
       "1    0.058328    0.065426    0.913914  \n",
       "\n",
       "[2 rows x 4606 columns]"
      ]
     },
     "execution_count": 1,
     "metadata": {},
     "output_type": "execute_result"
    }
   ],
   "source": [
    "import csv\n",
    "import pandas as pd\n",
    "\n",
    "%cd Z:\\Project_Top2B\\April_2023\\regionwise\\cerebellum\\GSE59457\n",
    "\n",
    "df1 = pd.read_csv('GSE59457_cb.csv')\n",
    "df2 = pd.read_csv('GSE59457_Top2b_Age.csv')\n",
    "df2.head(2)\n"
   ]
  },
  {
   "cell_type": "code",
   "execution_count": 2,
   "id": "1264ca3c",
   "metadata": {
    "ExecuteTime": {
     "end_time": "2023-06-20T09:33:03.057936Z",
     "start_time": "2023-06-20T09:33:02.983937Z"
    }
   },
   "outputs": [
    {
     "name": "stdout",
     "output_type": "stream",
     "text": [
      "(4, 4606)\n"
     ]
    },
    {
     "data": {
      "text/html": [
       "<div>\n",
       "<style scoped>\n",
       "    .dataframe tbody tr th:only-of-type {\n",
       "        vertical-align: middle;\n",
       "    }\n",
       "\n",
       "    .dataframe tbody tr th {\n",
       "        vertical-align: top;\n",
       "    }\n",
       "\n",
       "    .dataframe thead th {\n",
       "        text-align: right;\n",
       "    }\n",
       "</style>\n",
       "<table border=\"1\" class=\"dataframe\">\n",
       "  <thead>\n",
       "    <tr style=\"text-align: right;\">\n",
       "      <th></th>\n",
       "      <th>Sample_ID</th>\n",
       "      <th>Age</th>\n",
       "      <th>cg00005072</th>\n",
       "      <th>cg00010266</th>\n",
       "      <th>cg00017203</th>\n",
       "      <th>cg00017489</th>\n",
       "      <th>cg00018024</th>\n",
       "      <th>cg00018539</th>\n",
       "      <th>cg00019511</th>\n",
       "      <th>cg00021539</th>\n",
       "      <th>...</th>\n",
       "      <th>cg27597926</th>\n",
       "      <th>cg27598168</th>\n",
       "      <th>cg27601855</th>\n",
       "      <th>cg27624319</th>\n",
       "      <th>cg27629898</th>\n",
       "      <th>cg27633533</th>\n",
       "      <th>cg27635069</th>\n",
       "      <th>cg27658416</th>\n",
       "      <th>cg27658967</th>\n",
       "      <th>cg27664120</th>\n",
       "    </tr>\n",
       "  </thead>\n",
       "  <tbody>\n",
       "    <tr>\n",
       "      <th>0</th>\n",
       "      <td>GSM1438150</td>\n",
       "      <td>38</td>\n",
       "      <td>0.842625</td>\n",
       "      <td>0.046472</td>\n",
       "      <td>0.837088</td>\n",
       "      <td>0.089849</td>\n",
       "      <td>0.034697</td>\n",
       "      <td>0.839234</td>\n",
       "      <td>0.829052</td>\n",
       "      <td>0.026558</td>\n",
       "      <td>...</td>\n",
       "      <td>0.066192</td>\n",
       "      <td>0.907638</td>\n",
       "      <td>0.090745</td>\n",
       "      <td>0.100067</td>\n",
       "      <td>0.816459</td>\n",
       "      <td>0.901374</td>\n",
       "      <td>0.206400</td>\n",
       "      <td>0.062786</td>\n",
       "      <td>0.090617</td>\n",
       "      <td>0.852270</td>\n",
       "    </tr>\n",
       "    <tr>\n",
       "      <th>1</th>\n",
       "      <td>GSM1438220</td>\n",
       "      <td>53</td>\n",
       "      <td>0.787601</td>\n",
       "      <td>0.063575</td>\n",
       "      <td>0.811792</td>\n",
       "      <td>0.133006</td>\n",
       "      <td>0.024964</td>\n",
       "      <td>0.905518</td>\n",
       "      <td>0.897612</td>\n",
       "      <td>0.025390</td>\n",
       "      <td>...</td>\n",
       "      <td>0.093734</td>\n",
       "      <td>0.898224</td>\n",
       "      <td>0.084612</td>\n",
       "      <td>0.060063</td>\n",
       "      <td>0.817806</td>\n",
       "      <td>0.918894</td>\n",
       "      <td>0.214742</td>\n",
       "      <td>0.074352</td>\n",
       "      <td>0.058200</td>\n",
       "      <td>0.838712</td>\n",
       "    </tr>\n",
       "  </tbody>\n",
       "</table>\n",
       "<p>2 rows × 4606 columns</p>\n",
       "</div>"
      ],
      "text/plain": [
       "    Sample_ID  Age  cg00005072  cg00010266  cg00017203  cg00017489  \\\n",
       "0  GSM1438150   38    0.842625    0.046472    0.837088    0.089849   \n",
       "1  GSM1438220   53    0.787601    0.063575    0.811792    0.133006   \n",
       "\n",
       "   cg00018024  cg00018539  cg00019511  cg00021539  ...  cg27597926  \\\n",
       "0    0.034697    0.839234    0.829052    0.026558  ...    0.066192   \n",
       "1    0.024964    0.905518    0.897612    0.025390  ...    0.093734   \n",
       "\n",
       "   cg27598168  cg27601855  cg27624319  cg27629898  cg27633533  cg27635069  \\\n",
       "0    0.907638    0.090745    0.100067    0.816459    0.901374    0.206400   \n",
       "1    0.898224    0.084612    0.060063    0.817806    0.918894    0.214742   \n",
       "\n",
       "   cg27658416  cg27658967  cg27664120  \n",
       "0    0.062786    0.090617    0.852270  \n",
       "1    0.074352    0.058200    0.838712  \n",
       "\n",
       "[2 rows x 4606 columns]"
      ]
     },
     "execution_count": 2,
     "metadata": {},
     "output_type": "execute_result"
    }
   ],
   "source": [
    "merged_df = pd.merge(df1, df2, how ='inner', on = df1.columns[0])\n",
    "merged_df.to_csv('GSE59457_Top2b_cb.csv', index = 'False')\n",
    "print(merged_df.shape)\n",
    "merged_df.head(2)"
   ]
  }
 ],
 "metadata": {
  "kernelspec": {
   "display_name": "Python 3 (ipykernel)",
   "language": "python",
   "name": "python3"
  },
  "language_info": {
   "codemirror_mode": {
    "name": "ipython",
    "version": 3
   },
   "file_extension": ".py",
   "mimetype": "text/x-python",
   "name": "python",
   "nbconvert_exporter": "python",
   "pygments_lexer": "ipython3",
   "version": "3.9.16"
  },
  "toc": {
   "base_numbering": 1,
   "nav_menu": {},
   "number_sections": true,
   "sideBar": true,
   "skip_h1_title": false,
   "title_cell": "Table of Contents",
   "title_sidebar": "Contents",
   "toc_cell": false,
   "toc_position": {},
   "toc_section_display": true,
   "toc_window_display": false
  },
  "varInspector": {
   "cols": {
    "lenName": 16,
    "lenType": 16,
    "lenVar": 40
   },
   "kernels_config": {
    "python": {
     "delete_cmd_postfix": "",
     "delete_cmd_prefix": "del ",
     "library": "var_list.py",
     "varRefreshCmd": "print(var_dic_list())"
    },
    "r": {
     "delete_cmd_postfix": ") ",
     "delete_cmd_prefix": "rm(",
     "library": "var_list.r",
     "varRefreshCmd": "cat(var_dic_list()) "
    }
   },
   "types_to_exclude": [
    "module",
    "function",
    "builtin_function_or_method",
    "instance",
    "_Feature"
   ],
   "window_display": false
  }
 },
 "nbformat": 4,
 "nbformat_minor": 5
}
