{
 "cells": [
  {
   "cell_type": "markdown",
   "id": "ae816d23",
   "metadata": {},
   "source": [
    "## Healthy"
   ]
  },
  {
   "cell_type": "code",
   "execution_count": 1,
   "id": "c9f38931",
   "metadata": {
    "ExecuteTime": {
     "end_time": "2023-07-04T04:44:50.938983Z",
     "start_time": "2023-07-04T04:44:49.757546Z"
    },
    "scrolled": true
   },
   "outputs": [
    {
     "name": "stdout",
     "output_type": "stream",
     "text": [
      "Z:\\Project_Top2B\\April_2023\\regionwise\\temporal_lobe\\GSE64509\n",
      "(54, 4607)\n"
     ]
    },
    {
     "data": {
      "text/html": [
       "<div>\n",
       "<style scoped>\n",
       "    .dataframe tbody tr th:only-of-type {\n",
       "        vertical-align: middle;\n",
       "    }\n",
       "\n",
       "    .dataframe tbody tr th {\n",
       "        vertical-align: top;\n",
       "    }\n",
       "\n",
       "    .dataframe thead th {\n",
       "        text-align: right;\n",
       "    }\n",
       "</style>\n",
       "<table border=\"1\" class=\"dataframe\">\n",
       "  <thead>\n",
       "    <tr style=\"text-align: right;\">\n",
       "      <th></th>\n",
       "      <th>Sample_ID</th>\n",
       "      <th>Age_x</th>\n",
       "      <th>Age_y</th>\n",
       "      <th>cg00005072</th>\n",
       "      <th>cg00010266</th>\n",
       "      <th>cg00017203</th>\n",
       "      <th>cg00017489</th>\n",
       "      <th>cg00018024</th>\n",
       "      <th>cg00018539</th>\n",
       "      <th>cg00019511</th>\n",
       "      <th>...</th>\n",
       "      <th>cg27597926</th>\n",
       "      <th>cg27598168</th>\n",
       "      <th>cg27601855</th>\n",
       "      <th>cg27624319</th>\n",
       "      <th>cg27629898</th>\n",
       "      <th>cg27633533</th>\n",
       "      <th>cg27635069</th>\n",
       "      <th>cg27658416</th>\n",
       "      <th>cg27658967</th>\n",
       "      <th>cg27664120</th>\n",
       "    </tr>\n",
       "  </thead>\n",
       "  <tbody>\n",
       "    <tr>\n",
       "      <th>0</th>\n",
       "      <td>GSM1572855</td>\n",
       "      <td>111</td>\n",
       "      <td>111</td>\n",
       "      <td>0.829537</td>\n",
       "      <td>0.060494</td>\n",
       "      <td>0.854724</td>\n",
       "      <td>0.144443</td>\n",
       "      <td>0.036252</td>\n",
       "      <td>0.794872</td>\n",
       "      <td>0.807456</td>\n",
       "      <td>...</td>\n",
       "      <td>0.130745</td>\n",
       "      <td>0.756271</td>\n",
       "      <td>0.099824</td>\n",
       "      <td>0.474223</td>\n",
       "      <td>0.801945</td>\n",
       "      <td>0.928801</td>\n",
       "      <td>0.245917</td>\n",
       "      <td>0.037326</td>\n",
       "      <td>0.055435</td>\n",
       "      <td>0.887142</td>\n",
       "    </tr>\n",
       "    <tr>\n",
       "      <th>1</th>\n",
       "      <td>GSM1572857</td>\n",
       "      <td>100</td>\n",
       "      <td>100</td>\n",
       "      <td>0.766547</td>\n",
       "      <td>0.054939</td>\n",
       "      <td>0.856398</td>\n",
       "      <td>0.216903</td>\n",
       "      <td>0.057253</td>\n",
       "      <td>0.812882</td>\n",
       "      <td>0.827742</td>\n",
       "      <td>...</td>\n",
       "      <td>0.092776</td>\n",
       "      <td>0.853926</td>\n",
       "      <td>0.170116</td>\n",
       "      <td>0.503402</td>\n",
       "      <td>0.711496</td>\n",
       "      <td>0.888250</td>\n",
       "      <td>0.230079</td>\n",
       "      <td>0.156760</td>\n",
       "      <td>0.073839</td>\n",
       "      <td>0.890118</td>\n",
       "    </tr>\n",
       "  </tbody>\n",
       "</table>\n",
       "<p>2 rows × 4607 columns</p>\n",
       "</div>"
      ],
      "text/plain": [
       "    Sample_ID  Age_x  Age_y  cg00005072  cg00010266  cg00017203  cg00017489  \\\n",
       "0  GSM1572855    111    111    0.829537    0.060494    0.854724    0.144443   \n",
       "1  GSM1572857    100    100    0.766547    0.054939    0.856398    0.216903   \n",
       "\n",
       "   cg00018024  cg00018539  cg00019511  ...  cg27597926  cg27598168  \\\n",
       "0    0.036252    0.794872    0.807456  ...    0.130745    0.756271   \n",
       "1    0.057253    0.812882    0.827742  ...    0.092776    0.853926   \n",
       "\n",
       "   cg27601855  cg27624319  cg27629898  cg27633533  cg27635069  cg27658416  \\\n",
       "0    0.099824    0.474223    0.801945    0.928801    0.245917    0.037326   \n",
       "1    0.170116    0.503402    0.711496    0.888250    0.230079    0.156760   \n",
       "\n",
       "   cg27658967  cg27664120  \n",
       "0    0.055435    0.887142  \n",
       "1    0.073839    0.890118  \n",
       "\n",
       "[2 rows x 4607 columns]"
      ]
     },
     "execution_count": 1,
     "metadata": {},
     "output_type": "execute_result"
    }
   ],
   "source": [
    "import csv\n",
    "import pandas as pd\n",
    "\n",
    "%cd Z:\\Project_Top2B\\April_2023\\regionwise\\temporal_lobe\\GSE64509\n",
    "\n",
    "df1 = pd.read_csv('GSE64509_Age_tl.csv')\n",
    "df2 = pd.read_csv('GSE64509_Top2b_Age.csv')\n",
    "\n",
    "merged_df = pd.merge(df1, df2, how ='inner', on = df1.columns[0])\n",
    "merged_df.to_csv('GSE64509_Top2b_tl.csv', index = 'False')\n",
    "print(merged_df.shape)\n",
    "merged_df.head(2)"
   ]
  },
  {
   "cell_type": "markdown",
   "id": "471dd956",
   "metadata": {},
   "source": [
    "## Diseased"
   ]
  },
  {
   "cell_type": "markdown",
   "id": "0bb1ff0a",
   "metadata": {},
   "source": [
    "No diseased"
   ]
  }
 ],
 "metadata": {
  "kernelspec": {
   "display_name": "Python 3 (ipykernel)",
   "language": "python",
   "name": "python3"
  },
  "language_info": {
   "codemirror_mode": {
    "name": "ipython",
    "version": 3
   },
   "file_extension": ".py",
   "mimetype": "text/x-python",
   "name": "python",
   "nbconvert_exporter": "python",
   "pygments_lexer": "ipython3",
   "version": "3.9.16"
  },
  "toc": {
   "base_numbering": 1,
   "nav_menu": {},
   "number_sections": true,
   "sideBar": true,
   "skip_h1_title": false,
   "title_cell": "Table of Contents",
   "title_sidebar": "Contents",
   "toc_cell": false,
   "toc_position": {},
   "toc_section_display": true,
   "toc_window_display": false
  },
  "varInspector": {
   "cols": {
    "lenName": 16,
    "lenType": 16,
    "lenVar": 40
   },
   "kernels_config": {
    "python": {
     "delete_cmd_postfix": "",
     "delete_cmd_prefix": "del ",
     "library": "var_list.py",
     "varRefreshCmd": "print(var_dic_list())"
    },
    "r": {
     "delete_cmd_postfix": ") ",
     "delete_cmd_prefix": "rm(",
     "library": "var_list.r",
     "varRefreshCmd": "cat(var_dic_list()) "
    }
   },
   "types_to_exclude": [
    "module",
    "function",
    "builtin_function_or_method",
    "instance",
    "_Feature"
   ],
   "window_display": false
  }
 },
 "nbformat": 4,
 "nbformat_minor": 5
}
