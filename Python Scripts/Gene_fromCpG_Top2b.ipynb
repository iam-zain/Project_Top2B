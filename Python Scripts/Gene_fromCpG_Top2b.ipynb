{
 "cells": [
  {
   "cell_type": "code",
   "execution_count": 1,
   "id": "8f0b1da4",
   "metadata": {
    "ExecuteTime": {
     "end_time": "2023-07-10T06:13:21.931521Z",
     "start_time": "2023-07-10T06:13:21.376701Z"
    }
   },
   "outputs": [],
   "source": [
    "import numpy as np\n",
    "import pandas as pd"
   ]
  },
  {
   "cell_type": "markdown",
   "id": "a013cef4",
   "metadata": {},
   "source": [
    "# Cerebellum Genes"
   ]
  },
  {
   "cell_type": "code",
   "execution_count": 2,
   "id": "35880c5f",
   "metadata": {
    "ExecuteTime": {
     "end_time": "2023-07-10T06:13:22.811972Z",
     "start_time": "2023-07-10T06:13:21.931521Z"
    }
   },
   "outputs": [
    {
     "name": "stdout",
     "output_type": "stream",
     "text": [
      "Z:\\Project_Top2B\\April_2023\\regionwise\n"
     ]
    },
    {
     "data": {
      "text/html": [
       "<div>\n",
       "<style scoped>\n",
       "    .dataframe tbody tr th:only-of-type {\n",
       "        vertical-align: middle;\n",
       "    }\n",
       "\n",
       "    .dataframe tbody tr th {\n",
       "        vertical-align: top;\n",
       "    }\n",
       "\n",
       "    .dataframe thead th {\n",
       "        text-align: right;\n",
       "    }\n",
       "</style>\n",
       "<table border=\"1\" class=\"dataframe\">\n",
       "  <thead>\n",
       "    <tr style=\"text-align: right;\">\n",
       "      <th></th>\n",
       "      <th>CpG</th>\n",
       "      <th>Gene</th>\n",
       "    </tr>\n",
       "  </thead>\n",
       "  <tbody>\n",
       "    <tr>\n",
       "      <th>0</th>\n",
       "      <td>cg19472303</td>\n",
       "      <td>TOP2B</td>\n",
       "    </tr>\n",
       "    <tr>\n",
       "      <th>1</th>\n",
       "      <td>cg02855996</td>\n",
       "      <td>REPIN1</td>\n",
       "    </tr>\n",
       "  </tbody>\n",
       "</table>\n",
       "</div>"
      ],
      "text/plain": [
       "          CpG    Gene\n",
       "0  cg19472303   TOP2B\n",
       "1  cg02855996  REPIN1"
      ]
     },
     "execution_count": 2,
     "metadata": {},
     "output_type": "execute_result"
    }
   ],
   "source": [
    "%cd Z:\\Project_Top2B\\April_2023\\regionwise\n",
    "\n",
    "df = pd.read_csv(\"CpG_important_Cerebellum.csv\")\n",
    "gene_cpg = pd.read_csv(\"Cpg_GeneLongColumn_OnlyAnnotated.csv\")\n",
    "df1 = pd.merge(df, gene_cpg, on = \"CpG\", how = \"inner\")\n",
    "df1.to_csv('Gene_Cerebellum.csv', index = False)\n",
    "df1.head(2)"
   ]
  },
  {
   "cell_type": "markdown",
   "id": "2061bfaa",
   "metadata": {},
   "source": [
    "# Frontal Genes"
   ]
  },
  {
   "cell_type": "code",
   "execution_count": 3,
   "id": "19c26677",
   "metadata": {
    "ExecuteTime": {
     "end_time": "2023-07-10T06:13:23.714505Z",
     "start_time": "2023-07-10T06:13:22.811972Z"
    }
   },
   "outputs": [
    {
     "data": {
      "text/html": [
       "<div>\n",
       "<style scoped>\n",
       "    .dataframe tbody tr th:only-of-type {\n",
       "        vertical-align: middle;\n",
       "    }\n",
       "\n",
       "    .dataframe tbody tr th {\n",
       "        vertical-align: top;\n",
       "    }\n",
       "\n",
       "    .dataframe thead th {\n",
       "        text-align: right;\n",
       "    }\n",
       "</style>\n",
       "<table border=\"1\" class=\"dataframe\">\n",
       "  <thead>\n",
       "    <tr style=\"text-align: right;\">\n",
       "      <th></th>\n",
       "      <th>CpG</th>\n",
       "      <th>Gene</th>\n",
       "    </tr>\n",
       "  </thead>\n",
       "  <tbody>\n",
       "    <tr>\n",
       "      <th>0</th>\n",
       "      <td>cg13603859</td>\n",
       "      <td>TCERG1</td>\n",
       "    </tr>\n",
       "    <tr>\n",
       "      <th>1</th>\n",
       "      <td>cg20533957</td>\n",
       "      <td>FUT4</td>\n",
       "    </tr>\n",
       "  </tbody>\n",
       "</table>\n",
       "</div>"
      ],
      "text/plain": [
       "          CpG    Gene\n",
       "0  cg13603859  TCERG1\n",
       "1  cg20533957    FUT4"
      ]
     },
     "execution_count": 3,
     "metadata": {},
     "output_type": "execute_result"
    }
   ],
   "source": [
    "df = pd.read_csv(\"CpG_important_Frontal.csv\")\n",
    "gene_cpg = pd.read_csv(\"Cpg_GeneLongColumn_OnlyAnnotated.csv\")\n",
    "df1 = pd.merge(df, gene_cpg, on = \"CpG\", how = \"inner\")\n",
    "df1.to_csv('Gene_Frontal.csv', index = False)\n",
    "df1.head(2)"
   ]
  },
  {
   "cell_type": "markdown",
   "id": "fa3f1327",
   "metadata": {},
   "source": [
    "# Temporal Genes"
   ]
  },
  {
   "cell_type": "code",
   "execution_count": 4,
   "id": "baf74855",
   "metadata": {
    "ExecuteTime": {
     "end_time": "2023-07-10T06:13:24.601511Z",
     "start_time": "2023-07-10T06:13:23.714505Z"
    }
   },
   "outputs": [
    {
     "data": {
      "text/html": [
       "<div>\n",
       "<style scoped>\n",
       "    .dataframe tbody tr th:only-of-type {\n",
       "        vertical-align: middle;\n",
       "    }\n",
       "\n",
       "    .dataframe tbody tr th {\n",
       "        vertical-align: top;\n",
       "    }\n",
       "\n",
       "    .dataframe thead th {\n",
       "        text-align: right;\n",
       "    }\n",
       "</style>\n",
       "<table border=\"1\" class=\"dataframe\">\n",
       "  <thead>\n",
       "    <tr style=\"text-align: right;\">\n",
       "      <th></th>\n",
       "      <th>CpG</th>\n",
       "      <th>Gene</th>\n",
       "    </tr>\n",
       "  </thead>\n",
       "  <tbody>\n",
       "    <tr>\n",
       "      <th>0</th>\n",
       "      <td>cg24222995</td>\n",
       "      <td>AC005013.5</td>\n",
       "    </tr>\n",
       "    <tr>\n",
       "      <th>1</th>\n",
       "      <td>cg24222995</td>\n",
       "      <td>TRIL</td>\n",
       "    </tr>\n",
       "  </tbody>\n",
       "</table>\n",
       "</div>"
      ],
      "text/plain": [
       "          CpG        Gene\n",
       "0  cg24222995  AC005013.5\n",
       "1  cg24222995        TRIL"
      ]
     },
     "execution_count": 4,
     "metadata": {},
     "output_type": "execute_result"
    }
   ],
   "source": [
    "df = pd.read_csv(\"CpG_important_Temporal.csv\")\n",
    "gene_cpg = pd.read_csv(\"Cpg_GeneLongColumn_OnlyAnnotated.csv\")\n",
    "df1 = pd.merge(df, gene_cpg, on = \"CpG\", how = \"inner\")\n",
    "df1.to_csv('Gene_Temporal.csv', index = False)\n",
    "df1.head(2)"
   ]
  },
  {
   "cell_type": "markdown",
   "id": "5d13d85b",
   "metadata": {},
   "source": [
    "# Healthy Genes"
   ]
  },
  {
   "cell_type": "code",
   "execution_count": 5,
   "id": "69747a58",
   "metadata": {
    "ExecuteTime": {
     "end_time": "2023-07-10T06:15:44.668160Z",
     "start_time": "2023-07-10T06:15:43.834508Z"
    }
   },
   "outputs": [
    {
     "data": {
      "text/html": [
       "<div>\n",
       "<style scoped>\n",
       "    .dataframe tbody tr th:only-of-type {\n",
       "        vertical-align: middle;\n",
       "    }\n",
       "\n",
       "    .dataframe tbody tr th {\n",
       "        vertical-align: top;\n",
       "    }\n",
       "\n",
       "    .dataframe thead th {\n",
       "        text-align: right;\n",
       "    }\n",
       "</style>\n",
       "<table border=\"1\" class=\"dataframe\">\n",
       "  <thead>\n",
       "    <tr style=\"text-align: right;\">\n",
       "      <th></th>\n",
       "      <th>CpG</th>\n",
       "      <th>Gene</th>\n",
       "    </tr>\n",
       "  </thead>\n",
       "  <tbody>\n",
       "    <tr>\n",
       "      <th>0</th>\n",
       "      <td>cg00302494</td>\n",
       "      <td>AC079135.1</td>\n",
       "    </tr>\n",
       "    <tr>\n",
       "      <th>1</th>\n",
       "      <td>cg00313401</td>\n",
       "      <td>LOXL1</td>\n",
       "    </tr>\n",
       "  </tbody>\n",
       "</table>\n",
       "</div>"
      ],
      "text/plain": [
       "          CpG        Gene\n",
       "0  cg00302494  AC079135.1\n",
       "1  cg00313401       LOXL1"
      ]
     },
     "execution_count": 5,
     "metadata": {},
     "output_type": "execute_result"
    }
   ],
   "source": [
    "df = pd.read_csv(\"CpG_important_Healthy.csv\")\n",
    "gene_cpg = pd.read_csv(\"Cpg_GeneLongColumn_OnlyAnnotated.csv\")\n",
    "df1 = pd.merge(df, gene_cpg, on = \"CpG\", how = \"inner\")\n",
    "df1.to_csv('Gene_Healthy.csv', index = False)\n",
    "df1.head(2)"
   ]
  }
 ],
 "metadata": {
  "kernelspec": {
   "display_name": "Python 3 (ipykernel)",
   "language": "python",
   "name": "python3"
  },
  "language_info": {
   "codemirror_mode": {
    "name": "ipython",
    "version": 3
   },
   "file_extension": ".py",
   "mimetype": "text/x-python",
   "name": "python",
   "nbconvert_exporter": "python",
   "pygments_lexer": "ipython3",
   "version": "3.9.16"
  },
  "toc": {
   "base_numbering": 1,
   "nav_menu": {},
   "number_sections": true,
   "sideBar": true,
   "skip_h1_title": false,
   "title_cell": "Table of Contents",
   "title_sidebar": "Contents",
   "toc_cell": false,
   "toc_position": {},
   "toc_section_display": true,
   "toc_window_display": false
  },
  "varInspector": {
   "cols": {
    "lenName": 16,
    "lenType": 16,
    "lenVar": 40
   },
   "kernels_config": {
    "python": {
     "delete_cmd_postfix": "",
     "delete_cmd_prefix": "del ",
     "library": "var_list.py",
     "varRefreshCmd": "print(var_dic_list())"
    },
    "r": {
     "delete_cmd_postfix": ") ",
     "delete_cmd_prefix": "rm(",
     "library": "var_list.r",
     "varRefreshCmd": "cat(var_dic_list()) "
    }
   },
   "types_to_exclude": [
    "module",
    "function",
    "builtin_function_or_method",
    "instance",
    "_Feature"
   ],
   "window_display": false
  }
 },
 "nbformat": 4,
 "nbformat_minor": 5
}
