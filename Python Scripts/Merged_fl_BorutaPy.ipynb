{
 "cells": [
  {
   "cell_type": "code",
   "execution_count": 1,
   "id": "51c5704f",
   "metadata": {
    "ExecuteTime": {
     "end_time": "2023-07-03T07:15:16.954856Z",
     "start_time": "2023-07-03T07:15:00.907636Z"
    }
   },
   "outputs": [],
   "source": [
    "import numpy as np\n",
    "import pandas as pd\n",
    "from boruta import BorutaPy\n",
    "from sklearn.metrics import accuracy_score \n",
    "from sklearn.ensemble import RandomForestRegressor\n",
    "from sklearn.model_selection import train_test_split"
   ]
  },
  {
   "cell_type": "code",
   "execution_count": 2,
   "id": "5ff336b1",
   "metadata": {
    "ExecuteTime": {
     "end_time": "2023-07-03T07:15:17.610034Z",
     "start_time": "2023-07-03T07:15:16.954856Z"
    },
    "scrolled": true
   },
   "outputs": [
    {
     "name": "stdout",
     "output_type": "stream",
     "text": [
      "Z:\\Project_Top2B\\April_2023\\regionwise\\frontal_lobe\\Healthy\n"
     ]
    },
    {
     "data": {
      "text/html": [
       "<div>\n",
       "<style scoped>\n",
       "    .dataframe tbody tr th:only-of-type {\n",
       "        vertical-align: middle;\n",
       "    }\n",
       "\n",
       "    .dataframe tbody tr th {\n",
       "        vertical-align: top;\n",
       "    }\n",
       "\n",
       "    .dataframe thead th {\n",
       "        text-align: right;\n",
       "    }\n",
       "</style>\n",
       "<table border=\"1\" class=\"dataframe\">\n",
       "  <thead>\n",
       "    <tr style=\"text-align: right;\">\n",
       "      <th></th>\n",
       "      <th>Age</th>\n",
       "      <th>cg00005072</th>\n",
       "      <th>cg00010266</th>\n",
       "      <th>cg00017203</th>\n",
       "      <th>cg00017489</th>\n",
       "      <th>cg00018024</th>\n",
       "      <th>cg00018539</th>\n",
       "      <th>cg00019511</th>\n",
       "      <th>cg00021539</th>\n",
       "      <th>cg00029353</th>\n",
       "      <th>...</th>\n",
       "      <th>cg27597926</th>\n",
       "      <th>cg27598168</th>\n",
       "      <th>cg27601855</th>\n",
       "      <th>cg27624319</th>\n",
       "      <th>cg27629898</th>\n",
       "      <th>cg27633533</th>\n",
       "      <th>cg27635069</th>\n",
       "      <th>cg27658416</th>\n",
       "      <th>cg27658967</th>\n",
       "      <th>cg27664120</th>\n",
       "    </tr>\n",
       "  </thead>\n",
       "  <tbody>\n",
       "    <tr>\n",
       "      <th>0</th>\n",
       "      <td>0.002739</td>\n",
       "      <td>0.818356</td>\n",
       "      <td>0.079312</td>\n",
       "      <td>0.851736</td>\n",
       "      <td>0.159355</td>\n",
       "      <td>0.058467</td>\n",
       "      <td>0.869852</td>\n",
       "      <td>0.836981</td>\n",
       "      <td>0.102515</td>\n",
       "      <td>0.060177</td>\n",
       "      <td>...</td>\n",
       "      <td>0.088717</td>\n",
       "      <td>0.912107</td>\n",
       "      <td>0.2732</td>\n",
       "      <td>0.273216</td>\n",
       "      <td>0.856758</td>\n",
       "      <td>0.927893</td>\n",
       "      <td>0.457576</td>\n",
       "      <td>0.213621</td>\n",
       "      <td>0.073548</td>\n",
       "      <td>0.873596</td>\n",
       "    </tr>\n",
       "  </tbody>\n",
       "</table>\n",
       "<p>1 rows × 4074 columns</p>\n",
       "</div>"
      ],
      "text/plain": [
       "        Age  cg00005072  cg00010266  cg00017203  cg00017489  cg00018024  \\\n",
       "0  0.002739    0.818356    0.079312    0.851736    0.159355    0.058467   \n",
       "\n",
       "   cg00018539  cg00019511  cg00021539  cg00029353  ...  cg27597926  \\\n",
       "0    0.869852    0.836981    0.102515    0.060177  ...    0.088717   \n",
       "\n",
       "   cg27598168  cg27601855  cg27624319  cg27629898  cg27633533  cg27635069  \\\n",
       "0    0.912107      0.2732    0.273216    0.856758    0.927893    0.457576   \n",
       "\n",
       "   cg27658416  cg27658967  cg27664120  \n",
       "0    0.213621    0.073548    0.873596  \n",
       "\n",
       "[1 rows x 4074 columns]"
      ]
     },
     "execution_count": 2,
     "metadata": {},
     "output_type": "execute_result"
    }
   ],
   "source": [
    "%cd Z:\\Project_Top2B\\April_2023\\regionwise\\frontal_lobe\\Healthy\n",
    "data = pd.read_csv('Merged_Top2B_Frontal.csv')\n",
    "data = data.drop(['Sample_ID'], axis = 1)\n",
    "data.head(1)"
   ]
  },
  {
   "cell_type": "code",
   "execution_count": 3,
   "id": "2884da98",
   "metadata": {
    "ExecuteTime": {
     "end_time": "2023-07-03T07:15:36.108825Z",
     "start_time": "2023-07-03T07:15:17.610034Z"
    }
   },
   "outputs": [
    {
     "data": {
      "text/html": [
       "<div>\n",
       "<style scoped>\n",
       "    .dataframe tbody tr th:only-of-type {\n",
       "        vertical-align: middle;\n",
       "    }\n",
       "\n",
       "    .dataframe tbody tr th {\n",
       "        vertical-align: top;\n",
       "    }\n",
       "\n",
       "    .dataframe thead th {\n",
       "        text-align: right;\n",
       "    }\n",
       "</style>\n",
       "<table border=\"1\" class=\"dataframe\">\n",
       "  <thead>\n",
       "    <tr style=\"text-align: right;\">\n",
       "      <th></th>\n",
       "      <th>Age</th>\n",
       "      <th>cg00005072</th>\n",
       "      <th>cg00010266</th>\n",
       "      <th>cg00017203</th>\n",
       "      <th>cg00017489</th>\n",
       "      <th>cg00018024</th>\n",
       "      <th>cg00018539</th>\n",
       "      <th>cg00019511</th>\n",
       "      <th>cg00021539</th>\n",
       "      <th>cg00029353</th>\n",
       "      <th>...</th>\n",
       "      <th>cg27597926</th>\n",
       "      <th>cg27598168</th>\n",
       "      <th>cg27601855</th>\n",
       "      <th>cg27624319</th>\n",
       "      <th>cg27629898</th>\n",
       "      <th>cg27633533</th>\n",
       "      <th>cg27635069</th>\n",
       "      <th>cg27658416</th>\n",
       "      <th>cg27658967</th>\n",
       "      <th>cg27664120</th>\n",
       "    </tr>\n",
       "  </thead>\n",
       "  <tbody>\n",
       "    <tr>\n",
       "      <th>0</th>\n",
       "      <td>0.002739</td>\n",
       "      <td>0.818356</td>\n",
       "      <td>0.079312</td>\n",
       "      <td>0.851736</td>\n",
       "      <td>0.159355</td>\n",
       "      <td>0.058467</td>\n",
       "      <td>0.869852</td>\n",
       "      <td>0.836981</td>\n",
       "      <td>0.102515</td>\n",
       "      <td>0.060177</td>\n",
       "      <td>...</td>\n",
       "      <td>0.088717</td>\n",
       "      <td>0.912107</td>\n",
       "      <td>0.273200</td>\n",
       "      <td>0.273216</td>\n",
       "      <td>0.856758</td>\n",
       "      <td>0.927893</td>\n",
       "      <td>0.457576</td>\n",
       "      <td>0.213621</td>\n",
       "      <td>0.073548</td>\n",
       "      <td>0.873596</td>\n",
       "    </tr>\n",
       "    <tr>\n",
       "      <th>1</th>\n",
       "      <td>0.005479</td>\n",
       "      <td>0.768641</td>\n",
       "      <td>0.078670</td>\n",
       "      <td>0.801902</td>\n",
       "      <td>0.136464</td>\n",
       "      <td>0.138156</td>\n",
       "      <td>0.865317</td>\n",
       "      <td>0.852079</td>\n",
       "      <td>0.105216</td>\n",
       "      <td>0.068154</td>\n",
       "      <td>...</td>\n",
       "      <td>0.112448</td>\n",
       "      <td>0.876858</td>\n",
       "      <td>0.160398</td>\n",
       "      <td>0.473848</td>\n",
       "      <td>0.798062</td>\n",
       "      <td>0.929042</td>\n",
       "      <td>0.347084</td>\n",
       "      <td>0.097016</td>\n",
       "      <td>0.088556</td>\n",
       "      <td>0.879235</td>\n",
       "    </tr>\n",
       "  </tbody>\n",
       "</table>\n",
       "<p>2 rows × 4074 columns</p>\n",
       "</div>"
      ],
      "text/plain": [
       "        Age  cg00005072  cg00010266  cg00017203  cg00017489  cg00018024  \\\n",
       "0  0.002739    0.818356    0.079312    0.851736    0.159355    0.058467   \n",
       "1  0.005479    0.768641    0.078670    0.801902    0.136464    0.138156   \n",
       "\n",
       "   cg00018539  cg00019511  cg00021539  cg00029353  ...  cg27597926  \\\n",
       "0    0.869852    0.836981    0.102515    0.060177  ...    0.088717   \n",
       "1    0.865317    0.852079    0.105216    0.068154  ...    0.112448   \n",
       "\n",
       "   cg27598168  cg27601855  cg27624319  cg27629898  cg27633533  cg27635069  \\\n",
       "0    0.912107    0.273200    0.273216    0.856758    0.927893    0.457576   \n",
       "1    0.876858    0.160398    0.473848    0.798062    0.929042    0.347084   \n",
       "\n",
       "   cg27658416  cg27658967  cg27664120  \n",
       "0    0.213621    0.073548    0.873596  \n",
       "1    0.097016    0.088556    0.879235  \n",
       "\n",
       "[2 rows x 4074 columns]"
      ]
     },
     "execution_count": 3,
     "metadata": {},
     "output_type": "execute_result"
    }
   ],
   "source": [
    "# Replace '' values with NaN\n",
    "data = data.replace('', np.nan)\n",
    "\n",
    "# Loop over each column and replace NaN values with column means\n",
    "for col in data.columns:\n",
    "    # Convert the column to numeric data type\n",
    "    data[col] = pd.to_numeric(data[col])\n",
    "    \n",
    "    # Calculate the mean of the column\n",
    "    col_mean = data[col].mean()\n",
    "    \n",
    "    # Replace NaN values with the column mean\n",
    "    data[col].fillna(col_mean, inplace=True)\n",
    "\n",
    "data.to_csv(\"Merged_Top2B_Mean_fl.csv\", index = False)\n",
    "data.head(2)"
   ]
  },
  {
   "cell_type": "code",
   "execution_count": 4,
   "id": "ee22df7a",
   "metadata": {
    "ExecuteTime": {
     "end_time": "2023-07-03T07:15:36.309366Z",
     "start_time": "2023-07-03T07:15:36.108825Z"
    }
   },
   "outputs": [],
   "source": [
    "X = data.drop(['Age'], axis = 1)\n",
    "y = data['Age']\n",
    "X_train, X_test, y_train, y_test = train_test_split(X, y, test_size = .2, random_state = 1) "
   ]
  },
  {
   "cell_type": "code",
   "execution_count": 5,
   "id": "c1ee3e48",
   "metadata": {
    "ExecuteTime": {
     "end_time": "2023-07-03T07:16:47.865301Z",
     "start_time": "2023-07-03T07:15:36.309366Z"
    }
   },
   "outputs": [
    {
     "data": {
      "text/plain": [
       "RandomForestRegressor(random_state=1)"
      ]
     },
     "execution_count": 5,
     "metadata": {},
     "output_type": "execute_result"
    }
   ],
   "source": [
    "rf_all_features = RandomForestRegressor(random_state=1)\n",
    "rf_all_features.fit(X_train, y_train)"
   ]
  },
  {
   "cell_type": "markdown",
   "id": "c2f0bbed",
   "metadata": {
    "ExecuteTime": {
     "end_time": "2023-02-06T04:25:14.735313Z",
     "start_time": "2023-02-06T04:25:13.854630Z"
    }
   },
   "source": [
    "accuracy_score(y_test, rf_all_features.predict(X_test))"
   ]
  },
  {
   "cell_type": "code",
   "execution_count": 6,
   "id": "5ba608ac",
   "metadata": {
    "ExecuteTime": {
     "end_time": "2023-07-03T10:46:34.783238Z",
     "start_time": "2023-07-03T07:16:47.867300Z"
    },
    "scrolled": true
   },
   "outputs": [
    {
     "name": "stdout",
     "output_type": "stream",
     "text": [
      "Iteration: 1 / 100\n",
      "Iteration: 2 / 100\n",
      "Iteration: 3 / 100\n",
      "Iteration: 4 / 100\n",
      "Iteration: 5 / 100\n",
      "Iteration: 6 / 100\n",
      "Iteration: 7 / 100\n",
      "Iteration: 8 / 100\n",
      "Iteration: 9 / 100\n",
      "Iteration: 10 / 100\n",
      "Iteration: 11 / 100\n",
      "Iteration: 12 / 100\n",
      "Iteration: 13 / 100\n",
      "Iteration: 14 / 100\n",
      "Iteration: 15 / 100\n",
      "Iteration: 16 / 100\n",
      "Iteration: 17 / 100\n",
      "Iteration: 18 / 100\n",
      "Iteration: 19 / 100\n",
      "Iteration: 20 / 100\n",
      "Iteration: 21 / 100\n",
      "Iteration: 22 / 100\n",
      "Iteration: 23 / 100\n",
      "Iteration: 24 / 100\n",
      "Iteration: 25 / 100\n",
      "Iteration: 26 / 100\n",
      "Iteration: 27 / 100\n",
      "Iteration: 28 / 100\n",
      "Iteration: 29 / 100\n",
      "Iteration: 30 / 100\n",
      "Iteration: 31 / 100\n",
      "Iteration: 32 / 100\n",
      "Iteration: 33 / 100\n",
      "Iteration: 34 / 100\n",
      "Iteration: 35 / 100\n",
      "Iteration: 36 / 100\n",
      "Iteration: 37 / 100\n",
      "Iteration: 38 / 100\n",
      "Iteration: 39 / 100\n",
      "Iteration: 40 / 100\n",
      "Iteration: 41 / 100\n",
      "Iteration: 42 / 100\n",
      "Iteration: 43 / 100\n",
      "Iteration: 44 / 100\n",
      "Iteration: 45 / 100\n",
      "Iteration: 46 / 100\n",
      "Iteration: 47 / 100\n",
      "Iteration: 48 / 100\n",
      "Iteration: 49 / 100\n",
      "Iteration: 50 / 100\n",
      "Iteration: 51 / 100\n",
      "Iteration: 52 / 100\n",
      "Iteration: 53 / 100\n",
      "Iteration: 54 / 100\n",
      "Iteration: 55 / 100\n",
      "Iteration: 56 / 100\n",
      "Iteration: 57 / 100\n",
      "Iteration: 58 / 100\n",
      "Iteration: 59 / 100\n",
      "Iteration: 60 / 100\n",
      "Iteration: 61 / 100\n",
      "Iteration: 62 / 100\n",
      "Iteration: 63 / 100\n",
      "Iteration: 64 / 100\n",
      "Iteration: 65 / 100\n",
      "Iteration: 66 / 100\n",
      "Iteration: 67 / 100\n",
      "Iteration: 68 / 100\n",
      "Iteration: 69 / 100\n",
      "Iteration: 70 / 100\n",
      "Iteration: 71 / 100\n",
      "Iteration: 72 / 100\n",
      "Iteration: 73 / 100\n",
      "Iteration: 74 / 100\n",
      "Iteration: 75 / 100\n",
      "Iteration: 76 / 100\n",
      "Iteration: 77 / 100\n",
      "Iteration: 78 / 100\n",
      "Iteration: 79 / 100\n",
      "Iteration: 80 / 100\n",
      "Iteration: 81 / 100\n",
      "Iteration: 82 / 100\n",
      "Iteration: 83 / 100\n",
      "Iteration: 84 / 100\n",
      "Iteration: 85 / 100\n",
      "Iteration: 86 / 100\n",
      "Iteration: 87 / 100\n",
      "Iteration: 88 / 100\n",
      "Iteration: 89 / 100\n",
      "Iteration: 90 / 100\n",
      "Iteration: 91 / 100\n",
      "Iteration: 92 / 100\n",
      "Iteration: 93 / 100\n",
      "Iteration: 94 / 100\n",
      "Iteration: 95 / 100\n",
      "Iteration: 96 / 100\n",
      "Iteration: 97 / 100\n",
      "Iteration: 98 / 100\n",
      "Iteration: 99 / 100\n",
      "\n",
      "\n",
      "BorutaPy finished running.\n",
      "\n",
      "Iteration: \t100 / 100\n",
      "Confirmed: \t147\n",
      "Tentative: \t62\n",
      "Rejected: \t3818\n"
     ]
    },
    {
     "data": {
      "text/plain": [
       "BorutaPy(estimator=RandomForestRegressor(n_estimators=225,\n",
       "                                         random_state=RandomState(MT19937) at 0x1CCAB98E640),\n",
       "         n_estimators='auto',\n",
       "         random_state=RandomState(MT19937) at 0x1CCAB98E640, verbose=1)"
      ]
     },
     "execution_count": 6,
     "metadata": {},
     "output_type": "execute_result"
    }
   ],
   "source": [
    "rfc = RandomForestRegressor(random_state=1)\n",
    "boruta_selector = BorutaPy(rfc, n_estimators= 'auto', verbose=1, random_state=1)\n",
    "boruta_selector.fit(np.array(X_train), np.array(y_train))  "
   ]
  },
  {
   "cell_type": "code",
   "execution_count": 7,
   "id": "51f874e0",
   "metadata": {
    "ExecuteTime": {
     "end_time": "2023-07-03T10:46:34.798865Z",
     "start_time": "2023-07-03T10:46:34.783238Z"
    }
   },
   "outputs": [
    {
     "name": "stdout",
     "output_type": "stream",
     "text": [
      "No. of significant features:  147\n"
     ]
    }
   ],
   "source": [
    "# print(\"Ranking: \",boruta_selector.ranking_)          \n",
    "print(\"No. of significant features: \", boruta_selector.n_features_)"
   ]
  },
  {
   "cell_type": "code",
   "execution_count": 8,
   "id": "61cadc89",
   "metadata": {
    "ExecuteTime": {
     "end_time": "2023-07-03T10:46:34.899136Z",
     "start_time": "2023-07-03T10:46:34.798865Z"
    }
   },
   "outputs": [],
   "source": [
    "selected_rf_features = pd.DataFrame({'CpG':list(X_train.columns),\n",
    "                                       'Ranking':boruta_selector.ranking_})\n",
    "selected_rf_features = selected_rf_features.sort_values(by='Ranking')"
   ]
  },
  {
   "cell_type": "code",
   "execution_count": 9,
   "id": "9605e163",
   "metadata": {
    "ExecuteTime": {
     "end_time": "2023-07-03T10:46:34.983785Z",
     "start_time": "2023-07-03T10:46:34.899136Z"
    }
   },
   "outputs": [],
   "source": [
    "selected_rf_features.to_csv ('CpG_BorutaPy_onAll_fl.csv', index = False)"
   ]
  },
  {
   "cell_type": "code",
   "execution_count": null,
   "id": "71786413",
   "metadata": {},
   "outputs": [],
   "source": []
  }
 ],
 "metadata": {
  "kernelspec": {
   "display_name": "Python 3 (ipykernel)",
   "language": "python",
   "name": "python3"
  },
  "language_info": {
   "codemirror_mode": {
    "name": "ipython",
    "version": 3
   },
   "file_extension": ".py",
   "mimetype": "text/x-python",
   "name": "python",
   "nbconvert_exporter": "python",
   "pygments_lexer": "ipython3",
   "version": "3.9.16"
  },
  "toc": {
   "base_numbering": 1,
   "nav_menu": {},
   "number_sections": true,
   "sideBar": true,
   "skip_h1_title": false,
   "title_cell": "Table of Contents",
   "title_sidebar": "Contents",
   "toc_cell": false,
   "toc_position": {},
   "toc_section_display": true,
   "toc_window_display": false
  },
  "varInspector": {
   "cols": {
    "lenName": 16,
    "lenType": 16,
    "lenVar": 40
   },
   "kernels_config": {
    "python": {
     "delete_cmd_postfix": "",
     "delete_cmd_prefix": "del ",
     "library": "var_list.py",
     "varRefreshCmd": "print(var_dic_list())"
    },
    "r": {
     "delete_cmd_postfix": ") ",
     "delete_cmd_prefix": "rm(",
     "library": "var_list.r",
     "varRefreshCmd": "cat(var_dic_list()) "
    }
   },
   "types_to_exclude": [
    "module",
    "function",
    "builtin_function_or_method",
    "instance",
    "_Feature"
   ],
   "window_display": false
  }
 },
 "nbformat": 4,
 "nbformat_minor": 5
}
