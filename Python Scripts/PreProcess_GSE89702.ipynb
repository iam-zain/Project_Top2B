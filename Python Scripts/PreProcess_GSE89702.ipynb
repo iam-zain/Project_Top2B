{
 "cells": [
  {
   "cell_type": "code",
   "execution_count": 2,
   "id": "1264ca3c",
   "metadata": {
    "ExecuteTime": {
     "end_time": "2023-04-27T07:16:10.253307Z",
     "start_time": "2023-04-27T07:16:07.630556Z"
    }
   },
   "outputs": [
    {
     "name": "stdout",
     "output_type": "stream",
     "text": [
      "Z:\\Project_Top2B\\April_2023\\GSE89702\n"
     ]
    },
    {
     "data": {
      "text/html": [
       "<div>\n",
       "<style scoped>\n",
       "    .dataframe tbody tr th:only-of-type {\n",
       "        vertical-align: middle;\n",
       "    }\n",
       "\n",
       "    .dataframe tbody tr th {\n",
       "        vertical-align: top;\n",
       "    }\n",
       "\n",
       "    .dataframe thead th {\n",
       "        text-align: right;\n",
       "    }\n",
       "</style>\n",
       "<table border=\"1\" class=\"dataframe\">\n",
       "  <thead>\n",
       "    <tr style=\"text-align: right;\">\n",
       "      <th></th>\n",
       "      <th>Sample_ID</th>\n",
       "      <th>Age</th>\n",
       "    </tr>\n",
       "  </thead>\n",
       "  <tbody>\n",
       "    <tr>\n",
       "      <th>0</th>\n",
       "      <td>GSM2387020</td>\n",
       "      <td>age: 37</td>\n",
       "    </tr>\n",
       "    <tr>\n",
       "      <th>1</th>\n",
       "      <td>GSM2387021</td>\n",
       "      <td>age: 33</td>\n",
       "    </tr>\n",
       "  </tbody>\n",
       "</table>\n",
       "</div>"
      ],
      "text/plain": [
       "    Sample_ID      Age\n",
       "0  GSM2387020  age: 37\n",
       "1  GSM2387021  age: 33"
      ]
     },
     "execution_count": 2,
     "metadata": {},
     "output_type": "execute_result"
    }
   ],
   "source": [
    "import pandas as pd\n",
    "\n",
    "%cd Z:\\Project_Top2B\\April_2023\\GSE89702\n",
    "\n",
    "df2 = pd.read_csv('GSE89702_Age.csv')\n",
    "df2.head(2)"
   ]
  },
  {
   "cell_type": "code",
   "execution_count": 3,
   "id": "270f8185",
   "metadata": {
    "ExecuteTime": {
     "end_time": "2023-04-27T07:16:20.115527Z",
     "start_time": "2023-04-27T07:16:17.129434Z"
    }
   },
   "outputs": [
    {
     "name": "stdout",
     "output_type": "stream",
     "text": [
      "(417039, 34)\n"
     ]
    },
    {
     "data": {
      "text/html": [
       "<div>\n",
       "<style scoped>\n",
       "    .dataframe tbody tr th:only-of-type {\n",
       "        vertical-align: middle;\n",
       "    }\n",
       "\n",
       "    .dataframe tbody tr th {\n",
       "        vertical-align: top;\n",
       "    }\n",
       "\n",
       "    .dataframe thead th {\n",
       "        text-align: right;\n",
       "    }\n",
       "</style>\n",
       "<table border=\"1\" class=\"dataframe\">\n",
       "  <thead>\n",
       "    <tr style=\"text-align: right;\">\n",
       "      <th></th>\n",
       "      <th>ID_REF</th>\n",
       "      <th>GSM2387020</th>\n",
       "      <th>GSM2387021</th>\n",
       "      <th>GSM2387022</th>\n",
       "      <th>GSM2387023</th>\n",
       "      <th>GSM2387024</th>\n",
       "      <th>GSM2387025</th>\n",
       "      <th>GSM2387026</th>\n",
       "      <th>GSM2387027</th>\n",
       "      <th>GSM2387028</th>\n",
       "      <th>...</th>\n",
       "      <th>GSM2387043</th>\n",
       "      <th>GSM2387044</th>\n",
       "      <th>GSM2387045</th>\n",
       "      <th>GSM2387046</th>\n",
       "      <th>GSM2387047</th>\n",
       "      <th>GSM2387048</th>\n",
       "      <th>GSM2387049</th>\n",
       "      <th>GSM2387050</th>\n",
       "      <th>GSM2387051</th>\n",
       "      <th>GSM2387052</th>\n",
       "    </tr>\n",
       "  </thead>\n",
       "  <tbody>\n",
       "    <tr>\n",
       "      <th>0</th>\n",
       "      <td>cg00000029</td>\n",
       "      <td>0.474240</td>\n",
       "      <td>0.682204</td>\n",
       "      <td>0.601313</td>\n",
       "      <td>0.641128</td>\n",
       "      <td>0.602039</td>\n",
       "      <td>0.624226</td>\n",
       "      <td>0.604055</td>\n",
       "      <td>0.616851</td>\n",
       "      <td>0.702519</td>\n",
       "      <td>...</td>\n",
       "      <td>0.596008</td>\n",
       "      <td>0.674298</td>\n",
       "      <td>0.606934</td>\n",
       "      <td>0.684806</td>\n",
       "      <td>0.607306</td>\n",
       "      <td>0.632163</td>\n",
       "      <td>0.610968</td>\n",
       "      <td>0.620260</td>\n",
       "      <td>0.558223</td>\n",
       "      <td>0.689555</td>\n",
       "    </tr>\n",
       "    <tr>\n",
       "      <th>1</th>\n",
       "      <td>cg00000108</td>\n",
       "      <td>0.358991</td>\n",
       "      <td>0.540388</td>\n",
       "      <td>0.522021</td>\n",
       "      <td>0.468465</td>\n",
       "      <td>0.543954</td>\n",
       "      <td>0.406051</td>\n",
       "      <td>0.469489</td>\n",
       "      <td>0.486060</td>\n",
       "      <td>0.453558</td>\n",
       "      <td>...</td>\n",
       "      <td>0.515183</td>\n",
       "      <td>0.455577</td>\n",
       "      <td>0.475106</td>\n",
       "      <td>0.616097</td>\n",
       "      <td>0.581547</td>\n",
       "      <td>0.340054</td>\n",
       "      <td>0.439655</td>\n",
       "      <td>0.498868</td>\n",
       "      <td>0.395469</td>\n",
       "      <td>0.514606</td>\n",
       "    </tr>\n",
       "  </tbody>\n",
       "</table>\n",
       "<p>2 rows × 34 columns</p>\n",
       "</div>"
      ],
      "text/plain": [
       "       ID_REF  GSM2387020  GSM2387021  GSM2387022  GSM2387023  GSM2387024  \\\n",
       "0  cg00000029    0.474240    0.682204    0.601313    0.641128    0.602039   \n",
       "1  cg00000108    0.358991    0.540388    0.522021    0.468465    0.543954   \n",
       "\n",
       "   GSM2387025  GSM2387026  GSM2387027  GSM2387028  ...  GSM2387043  \\\n",
       "0    0.624226    0.604055    0.616851    0.702519  ...    0.596008   \n",
       "1    0.406051    0.469489    0.486060    0.453558  ...    0.515183   \n",
       "\n",
       "   GSM2387044  GSM2387045  GSM2387046  GSM2387047  GSM2387048  GSM2387049  \\\n",
       "0    0.674298    0.606934    0.684806    0.607306    0.632163    0.610968   \n",
       "1    0.455577    0.475106    0.616097    0.581547    0.340054    0.439655   \n",
       "\n",
       "   GSM2387050  GSM2387051  GSM2387052  \n",
       "0    0.620260    0.558223    0.689555  \n",
       "1    0.498868    0.395469    0.514606  \n",
       "\n",
       "[2 rows x 34 columns]"
      ]
     },
     "execution_count": 3,
     "metadata": {},
     "output_type": "execute_result"
    }
   ],
   "source": [
    "df = pd.read_csv('GSE89702.csv')\n",
    "\n",
    "print(df.shape)\n",
    "df.head(2)"
   ]
  },
  {
   "cell_type": "code",
   "execution_count": 4,
   "id": "73b7767f",
   "metadata": {
    "ExecuteTime": {
     "end_time": "2023-04-27T07:16:50.747940Z",
     "start_time": "2023-04-27T07:16:42.941636Z"
    },
    "scrolled": true
   },
   "outputs": [
    {
     "name": "stdout",
     "output_type": "stream",
     "text": [
      "(417039, 18)\n"
     ]
    },
    {
     "data": {
      "text/html": [
       "<div>\n",
       "<style scoped>\n",
       "    .dataframe tbody tr th:only-of-type {\n",
       "        vertical-align: middle;\n",
       "    }\n",
       "\n",
       "    .dataframe tbody tr th {\n",
       "        vertical-align: top;\n",
       "    }\n",
       "\n",
       "    .dataframe thead th {\n",
       "        text-align: right;\n",
       "    }\n",
       "</style>\n",
       "<table border=\"1\" class=\"dataframe\">\n",
       "  <thead>\n",
       "    <tr style=\"text-align: right;\">\n",
       "      <th></th>\n",
       "      <th>ID_REF</th>\n",
       "      <th>GSM2387036</th>\n",
       "      <th>GSM2387045</th>\n",
       "      <th>GSM2387047</th>\n",
       "      <th>GSM2387023</th>\n",
       "      <th>GSM2387021</th>\n",
       "      <th>GSM2387052</th>\n",
       "      <th>GSM2387020</th>\n",
       "      <th>GSM2387025</th>\n",
       "      <th>GSM2387032</th>\n",
       "      <th>GSM2387040</th>\n",
       "      <th>GSM2387048</th>\n",
       "      <th>GSM2387037</th>\n",
       "      <th>GSM2387026</th>\n",
       "      <th>GSM2387046</th>\n",
       "      <th>GSM2387031</th>\n",
       "      <th>GSM2387042</th>\n",
       "      <th>GSM2387044</th>\n",
       "    </tr>\n",
       "  </thead>\n",
       "  <tbody>\n",
       "    <tr>\n",
       "      <th>0</th>\n",
       "      <td>cg00000029</td>\n",
       "      <td>0.658388</td>\n",
       "      <td>0.606934</td>\n",
       "      <td>0.607306</td>\n",
       "      <td>0.641128</td>\n",
       "      <td>0.682204</td>\n",
       "      <td>0.689555</td>\n",
       "      <td>0.474240</td>\n",
       "      <td>0.624226</td>\n",
       "      <td>0.514447</td>\n",
       "      <td>0.665942</td>\n",
       "      <td>0.632163</td>\n",
       "      <td>0.710336</td>\n",
       "      <td>0.604055</td>\n",
       "      <td>0.684806</td>\n",
       "      <td>0.641049</td>\n",
       "      <td>0.463167</td>\n",
       "      <td>0.674298</td>\n",
       "    </tr>\n",
       "    <tr>\n",
       "      <th>1</th>\n",
       "      <td>cg00000108</td>\n",
       "      <td>0.339716</td>\n",
       "      <td>0.475106</td>\n",
       "      <td>0.581547</td>\n",
       "      <td>0.468465</td>\n",
       "      <td>0.540388</td>\n",
       "      <td>0.514606</td>\n",
       "      <td>0.358991</td>\n",
       "      <td>0.406051</td>\n",
       "      <td>0.386745</td>\n",
       "      <td>0.472248</td>\n",
       "      <td>0.340054</td>\n",
       "      <td>0.435063</td>\n",
       "      <td>0.469489</td>\n",
       "      <td>0.616097</td>\n",
       "      <td>0.513566</td>\n",
       "      <td>0.271683</td>\n",
       "      <td>0.455577</td>\n",
       "    </tr>\n",
       "  </tbody>\n",
       "</table>\n",
       "</div>"
      ],
      "text/plain": [
       "       ID_REF  GSM2387036  GSM2387045  GSM2387047  GSM2387023  GSM2387021  \\\n",
       "0  cg00000029    0.658388    0.606934    0.607306    0.641128    0.682204   \n",
       "1  cg00000108    0.339716    0.475106    0.581547    0.468465    0.540388   \n",
       "\n",
       "   GSM2387052  GSM2387020  GSM2387025  GSM2387032  GSM2387040  GSM2387048  \\\n",
       "0    0.689555    0.474240    0.624226    0.514447    0.665942    0.632163   \n",
       "1    0.514606    0.358991    0.406051    0.386745    0.472248    0.340054   \n",
       "\n",
       "   GSM2387037  GSM2387026  GSM2387046  GSM2387031  GSM2387042  GSM2387044  \n",
       "0    0.710336    0.604055    0.684806    0.641049    0.463167    0.674298  \n",
       "1    0.435063    0.469489    0.616097    0.513566    0.271683    0.455577  "
      ]
     },
     "execution_count": 4,
     "metadata": {},
     "output_type": "execute_result"
    }
   ],
   "source": [
    "# Extract the names which are present in both df2 and df\n",
    "names = list(set(df2['Sample_ID']).intersection(set(df.columns)))\n",
    "\n",
    "# Subset df using the names extracted from df2\n",
    "df_subset = df[names]\n",
    "\n",
    "# Adding CpG column from df\n",
    "df_subset.insert(loc=0, column='ID_REF', value=df.iloc[:, 0])\n",
    "\n",
    "df_subset.to_csv('GSE89702_Control.csv', index=False)\n",
    "\n",
    "print(df_subset.shape)\n",
    "df_subset.head(2)\n"
   ]
  },
  {
   "cell_type": "code",
   "execution_count": 1,
   "id": "8e6b7851",
   "metadata": {
    "ExecuteTime": {
     "end_time": "2023-05-02T05:58:23.041524Z",
     "start_time": "2023-05-02T05:58:22.577985Z"
    }
   },
   "outputs": [],
   "source": [
    "import pandas as pd"
   ]
  },
  {
   "cell_type": "code",
   "execution_count": 2,
   "id": "ad2b8ffa",
   "metadata": {
    "ExecuteTime": {
     "end_time": "2023-05-02T05:58:27.142961Z",
     "start_time": "2023-05-02T05:58:23.210389Z"
    }
   },
   "outputs": [
    {
     "name": "stdout",
     "output_type": "stream",
     "text": [
      "Z:\\Project_Top2B\\April_2023\n",
      "Z:\\Project_Top2B\\April_2023\\GSE89702\n",
      "          CpG\n",
      "0  cg00005072\n",
      "1  cg00010266\n"
     ]
    },
    {
     "data": {
      "text/html": [
       "<div>\n",
       "<style scoped>\n",
       "    .dataframe tbody tr th:only-of-type {\n",
       "        vertical-align: middle;\n",
       "    }\n",
       "\n",
       "    .dataframe tbody tr th {\n",
       "        vertical-align: top;\n",
       "    }\n",
       "\n",
       "    .dataframe thead th {\n",
       "        text-align: right;\n",
       "    }\n",
       "</style>\n",
       "<table border=\"1\" class=\"dataframe\">\n",
       "  <thead>\n",
       "    <tr style=\"text-align: right;\">\n",
       "      <th></th>\n",
       "      <th>ID_REF</th>\n",
       "      <th>GSM2387036</th>\n",
       "      <th>GSM2387045</th>\n",
       "      <th>GSM2387047</th>\n",
       "      <th>GSM2387023</th>\n",
       "      <th>GSM2387021</th>\n",
       "      <th>GSM2387052</th>\n",
       "      <th>GSM2387020</th>\n",
       "      <th>GSM2387025</th>\n",
       "      <th>GSM2387032</th>\n",
       "      <th>GSM2387040</th>\n",
       "      <th>GSM2387048</th>\n",
       "      <th>GSM2387037</th>\n",
       "      <th>GSM2387026</th>\n",
       "      <th>GSM2387046</th>\n",
       "      <th>GSM2387031</th>\n",
       "      <th>GSM2387042</th>\n",
       "      <th>GSM2387044</th>\n",
       "    </tr>\n",
       "  </thead>\n",
       "  <tbody>\n",
       "    <tr>\n",
       "      <th>0</th>\n",
       "      <td>cg00000029</td>\n",
       "      <td>0.658388</td>\n",
       "      <td>0.606934</td>\n",
       "      <td>0.607306</td>\n",
       "      <td>0.641128</td>\n",
       "      <td>0.682204</td>\n",
       "      <td>0.689555</td>\n",
       "      <td>0.474240</td>\n",
       "      <td>0.624226</td>\n",
       "      <td>0.514447</td>\n",
       "      <td>0.665942</td>\n",
       "      <td>0.632163</td>\n",
       "      <td>0.710336</td>\n",
       "      <td>0.604055</td>\n",
       "      <td>0.684806</td>\n",
       "      <td>0.641049</td>\n",
       "      <td>0.463167</td>\n",
       "      <td>0.674298</td>\n",
       "    </tr>\n",
       "    <tr>\n",
       "      <th>1</th>\n",
       "      <td>cg00000108</td>\n",
       "      <td>0.339716</td>\n",
       "      <td>0.475106</td>\n",
       "      <td>0.581547</td>\n",
       "      <td>0.468465</td>\n",
       "      <td>0.540388</td>\n",
       "      <td>0.514606</td>\n",
       "      <td>0.358991</td>\n",
       "      <td>0.406051</td>\n",
       "      <td>0.386745</td>\n",
       "      <td>0.472248</td>\n",
       "      <td>0.340054</td>\n",
       "      <td>0.435063</td>\n",
       "      <td>0.469489</td>\n",
       "      <td>0.616097</td>\n",
       "      <td>0.513566</td>\n",
       "      <td>0.271683</td>\n",
       "      <td>0.455577</td>\n",
       "    </tr>\n",
       "  </tbody>\n",
       "</table>\n",
       "</div>"
      ],
      "text/plain": [
       "       ID_REF  GSM2387036  GSM2387045  GSM2387047  GSM2387023  GSM2387021  \\\n",
       "0  cg00000029    0.658388    0.606934    0.607306    0.641128    0.682204   \n",
       "1  cg00000108    0.339716    0.475106    0.581547    0.468465    0.540388   \n",
       "\n",
       "   GSM2387052  GSM2387020  GSM2387025  GSM2387032  GSM2387040  GSM2387048  \\\n",
       "0    0.689555    0.474240    0.624226    0.514447    0.665942    0.632163   \n",
       "1    0.514606    0.358991    0.406051    0.386745    0.472248    0.340054   \n",
       "\n",
       "   GSM2387037  GSM2387026  GSM2387046  GSM2387031  GSM2387042  GSM2387044  \n",
       "0    0.710336    0.604055    0.684806    0.641049    0.463167    0.674298  \n",
       "1    0.435063    0.469489    0.616097    0.513566    0.271683    0.455577  "
      ]
     },
     "execution_count": 2,
     "metadata": {},
     "output_type": "execute_result"
    }
   ],
   "source": [
    "%cd Z:\\Project_Top2B\\April_2023\n",
    "df1 = pd.read_csv('CpGLists_Top2B.csv')\n",
    "\n",
    "%cd Z:\\Project_Top2B\\April_2023\\GSE89702\n",
    "df2 = pd.read_csv('GSE89702_Control.csv')\n",
    "\n",
    "print(df1.head(2))\n",
    "df2.head(2)"
   ]
  },
  {
   "cell_type": "code",
   "execution_count": 3,
   "id": "e9877c15",
   "metadata": {
    "ExecuteTime": {
     "end_time": "2023-05-02T05:59:06.451939Z",
     "start_time": "2023-05-02T05:59:06.173233Z"
    }
   },
   "outputs": [
    {
     "name": "stdout",
     "output_type": "stream",
     "text": [
      "(4195, 18)\n"
     ]
    },
    {
     "data": {
      "text/html": [
       "<div>\n",
       "<style scoped>\n",
       "    .dataframe tbody tr th:only-of-type {\n",
       "        vertical-align: middle;\n",
       "    }\n",
       "\n",
       "    .dataframe tbody tr th {\n",
       "        vertical-align: top;\n",
       "    }\n",
       "\n",
       "    .dataframe thead th {\n",
       "        text-align: right;\n",
       "    }\n",
       "</style>\n",
       "<table border=\"1\" class=\"dataframe\">\n",
       "  <thead>\n",
       "    <tr style=\"text-align: right;\">\n",
       "      <th></th>\n",
       "      <th>CpG</th>\n",
       "      <th>GSM2387036</th>\n",
       "      <th>GSM2387045</th>\n",
       "      <th>GSM2387047</th>\n",
       "      <th>GSM2387023</th>\n",
       "      <th>GSM2387021</th>\n",
       "      <th>GSM2387052</th>\n",
       "      <th>GSM2387020</th>\n",
       "      <th>GSM2387025</th>\n",
       "      <th>GSM2387032</th>\n",
       "      <th>GSM2387040</th>\n",
       "      <th>GSM2387048</th>\n",
       "      <th>GSM2387037</th>\n",
       "      <th>GSM2387026</th>\n",
       "      <th>GSM2387046</th>\n",
       "      <th>GSM2387031</th>\n",
       "      <th>GSM2387042</th>\n",
       "      <th>GSM2387044</th>\n",
       "    </tr>\n",
       "  </thead>\n",
       "  <tbody>\n",
       "    <tr>\n",
       "      <th>0</th>\n",
       "      <td>cg00005072</td>\n",
       "      <td>0.804450</td>\n",
       "      <td>0.768928</td>\n",
       "      <td>0.81037</td>\n",
       "      <td>0.817590</td>\n",
       "      <td>0.738907</td>\n",
       "      <td>0.811635</td>\n",
       "      <td>0.690982</td>\n",
       "      <td>0.811695</td>\n",
       "      <td>0.818060</td>\n",
       "      <td>0.765141</td>\n",
       "      <td>0.797591</td>\n",
       "      <td>0.801034</td>\n",
       "      <td>0.796835</td>\n",
       "      <td>0.784757</td>\n",
       "      <td>0.786759</td>\n",
       "      <td>0.769407</td>\n",
       "      <td>0.800781</td>\n",
       "    </tr>\n",
       "    <tr>\n",
       "      <th>1</th>\n",
       "      <td>cg00010266</td>\n",
       "      <td>0.059486</td>\n",
       "      <td>0.059076</td>\n",
       "      <td>0.06216</td>\n",
       "      <td>0.070932</td>\n",
       "      <td>0.055882</td>\n",
       "      <td>0.055867</td>\n",
       "      <td>0.063456</td>\n",
       "      <td>0.063908</td>\n",
       "      <td>0.063836</td>\n",
       "      <td>0.048229</td>\n",
       "      <td>0.044721</td>\n",
       "      <td>0.066665</td>\n",
       "      <td>0.064728</td>\n",
       "      <td>0.058653</td>\n",
       "      <td>0.068344</td>\n",
       "      <td>0.066819</td>\n",
       "      <td>0.070943</td>\n",
       "    </tr>\n",
       "  </tbody>\n",
       "</table>\n",
       "</div>"
      ],
      "text/plain": [
       "          CpG  GSM2387036  GSM2387045  GSM2387047  GSM2387023  GSM2387021  \\\n",
       "0  cg00005072    0.804450    0.768928     0.81037    0.817590    0.738907   \n",
       "1  cg00010266    0.059486    0.059076     0.06216    0.070932    0.055882   \n",
       "\n",
       "   GSM2387052  GSM2387020  GSM2387025  GSM2387032  GSM2387040  GSM2387048  \\\n",
       "0    0.811635    0.690982    0.811695    0.818060    0.765141    0.797591   \n",
       "1    0.055867    0.063456    0.063908    0.063836    0.048229    0.044721   \n",
       "\n",
       "   GSM2387037  GSM2387026  GSM2387046  GSM2387031  GSM2387042  GSM2387044  \n",
       "0    0.801034    0.796835    0.784757    0.786759    0.769407    0.800781  \n",
       "1    0.066665    0.064728    0.058653    0.068344    0.066819    0.070943  "
      ]
     },
     "execution_count": 3,
     "metadata": {},
     "output_type": "execute_result"
    }
   ],
   "source": [
    "# Merge df1 and df2 on the common column 'col1'\n",
    "merged_df = pd.merge(df1, df2, how ='inner', left_on='CpG', right_on='ID_REF')\n",
    "\n",
    "# Drop the common column 'ID_REF'\n",
    "merged_df.drop('ID_REF', axis=1, inplace=True)\n",
    "merged_df.to_csv('GSE89702_Top2b.csv', index = 'False')\n",
    "print(merged_df.shape)\n",
    "merged_df.head(2)"
   ]
  },
  {
   "cell_type": "code",
   "execution_count": null,
   "id": "12998086",
   "metadata": {},
   "outputs": [],
   "source": []
  }
 ],
 "metadata": {
  "kernelspec": {
   "display_name": "Python 3 (ipykernel)",
   "language": "python",
   "name": "python3"
  },
  "language_info": {
   "codemirror_mode": {
    "name": "ipython",
    "version": 3
   },
   "file_extension": ".py",
   "mimetype": "text/x-python",
   "name": "python",
   "nbconvert_exporter": "python",
   "pygments_lexer": "ipython3",
   "version": "3.9.16"
  },
  "toc": {
   "base_numbering": 1,
   "nav_menu": {},
   "number_sections": true,
   "sideBar": true,
   "skip_h1_title": false,
   "title_cell": "Table of Contents",
   "title_sidebar": "Contents",
   "toc_cell": false,
   "toc_position": {},
   "toc_section_display": true,
   "toc_window_display": false
  },
  "varInspector": {
   "cols": {
    "lenName": 16,
    "lenType": 16,
    "lenVar": 40
   },
   "kernels_config": {
    "python": {
     "delete_cmd_postfix": "",
     "delete_cmd_prefix": "del ",
     "library": "var_list.py",
     "varRefreshCmd": "print(var_dic_list())"
    },
    "r": {
     "delete_cmd_postfix": ") ",
     "delete_cmd_prefix": "rm(",
     "library": "var_list.r",
     "varRefreshCmd": "cat(var_dic_list()) "
    }
   },
   "types_to_exclude": [
    "module",
    "function",
    "builtin_function_or_method",
    "instance",
    "_Feature"
   ],
   "window_display": false
  }
 },
 "nbformat": 4,
 "nbformat_minor": 5
}
